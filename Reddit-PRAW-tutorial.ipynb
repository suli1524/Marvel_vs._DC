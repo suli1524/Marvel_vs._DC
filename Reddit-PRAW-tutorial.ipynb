{
 "cells": [
  {
   "cell_type": "markdown",
   "id": "bc426077-0da2-49af-8e9f-e7a27ebaadd9",
   "metadata": {},
   "source": [
    "# **1. Install PRAW**"
   ]
  },
  {
   "cell_type": "code",
   "execution_count": null,
   "id": "6a3e56be-a4bf-43d4-8c57-7f9954b44b46",
   "metadata": {},
   "outputs": [],
   "source": [
    "#!pip install praw\n",
    "import praw"
   ]
  },
  {
   "cell_type": "markdown",
   "id": "78ecd0ed-d601-4b45-b545-639d4a1e7b49",
   "metadata": {},
   "source": [
    "# **2. Create a Reddit App**"
   ]
  },
  {
   "cell_type": "markdown",
   "id": "da49f3cc-1cec-4917-90f4-7b639d7a145a",
   "metadata": {},
   "source": [
    "To access the Reddit API, you'll need to create an application on Reddit and obtain your API credentials. Follow these steps:\n",
    "\n",
    "- Go to the Reddit website (https://www.reddit.com/) and log in to your account. Feel free to create a throwaway account for this project!\n",
    "- Navigate to the Reddit Apps page (https://www.reddit.com/prefs/apps).\n",
    "- Click the \"are you a developer? create an app...\" button in the top left.\n",
    "- Provide a name for your app (e.g., \"PRAW\"), select the app type ('script') , and optionally add a description. Use http://localhost:8080 as your redirect URI.\n",
    "- After submitting the form, you will reach a page that looks like the following image. You'll see your application's details, including the client ID and client secret. Keep these credentials handy for the next step.\n"
   ]
  },
  {
   "cell_type": "markdown",
   "id": "b3997780-adc4-4ee2-91e3-6a296587cdf8",
   "metadata": {},
   "source": [
    "![Praw](https://www.honchosearch.com/hubfs/Imported_Blog_Media/Client-ID-Client-Secret.png)"
   ]
  },
  {
   "cell_type": "markdown",
   "id": "2b71b52e-05db-4a47-8c8c-ec8f4fd9c283",
   "metadata": {},
   "source": [
    "# **3. Initialize PRAW**"
   ]
  },
  {
   "cell_type": "code",
   "execution_count": null,
   "id": "103d7151-cf2e-47cb-82c2-578faa763888",
   "metadata": {},
   "outputs": [],
   "source": [
    "reddit = praw.Reddit(\n",
    "    client_id='YOUR_CLIENT_ID',\n",
    "    client_secret='YOUR_CLIENT_SECRET',\n",
    "    user_agent='YOUR_USER_AGENT',\n",
    "    username='YOUR_REDDIT_USERNAME',\n",
    "    password='YOUR_REDDIT_PASSWORD'\n",
    ")"
   ]
  },
  {
   "cell_type": "markdown",
   "id": "204db51a-ee1d-4180-839b-67bdecea4fe5",
   "metadata": {},
   "source": [
    "Replace 'YOUR_CLIENT_ID', 'YOUR_CLIENT_SECRET', 'YOUR_USER_AGENT', 'YOUR_REDDIT_USERNAME', and 'YOUR_REDDIT_PASSWORD' with your actual Reddit API credentials."
   ]
  },
  {
   "cell_type": "markdown",
   "id": "95b298a6-1aa9-4690-8447-6f717c24e9cc",
   "metadata": {},
   "source": [
    "Your user agent is an identifier used by reddit to identify the source of requests. You can make it whatever you want, but you'll want to choose something descriptive and unique, and it's recommended that your username is included."
   ]
  },
  {
   "cell_type": "markdown",
   "id": "d9006de6-d5ce-4537-a9c7-ca5bdd4ee630",
   "metadata": {},
   "source": [
    "**I have removed my own credentials from this workbook. We can show you how to hide your credentials before submitting the project! The following code will need your own credentials in order to successfully work.**"
   ]
  },
  {
   "cell_type": "markdown",
   "id": "072ea3ea-ab20-4fe5-8711-dbe220400fa3",
   "metadata": {},
   "source": [
    "# 4. Take a look at the documentation [here](https://praw.readthedocs.io/)!"
   ]
  },
  {
   "cell_type": "code",
   "execution_count": null,
   "id": "17aa261b-f63a-4437-ac41-242982cb546c",
   "metadata": {},
   "outputs": [],
   "source": [
    "# Below is JUST an example of how you can use PRAW\n",
    "\n",
    "# Choose your subreddit\n",
    "subreddit = reddit.subreddit('boardgames')\n",
    "\n",
    "# Adjust the limit as needed -- Note that this will grab the 25 most recent posts\n",
    "posts = subreddit.new(limit=25)"
   ]
  },
  {
   "cell_type": "markdown",
   "id": "ad8eb1f6-449f-4bc9-9d56-1fe03739ff50",
   "metadata": {},
   "source": [
    "## NOTE\n",
    "- Reddit API Limitations: The Reddit API imposes limitations on the number of posts you can retrieve in a single request. The maximum number of posts per request is typically 100. Therefore, if you set the limit parameter to a value greater than 100, PRAW will make multiple requests behind the scenes to fetch the desired number of posts.\n",
    "- Rate Limiting: The Reddit API also enforces rate limits to prevent abuse and ensure fair usage. The specific rate limits can vary depending on factors such as your Reddit account's age and karma. As a standard user, you're typically allowed to make 60 requests per minute. If you exceed the rate limit, you may receive an error response until the rate limit resets.\n",
    "- TIP: You can use the created_utc attribute of a post to keep track of the timestamp and ensure non-overlapping pulls. The created_utc attribute represents the post's creation time in UTC."
   ]
  },
  {
   "cell_type": "code",
   "execution_count": null,
   "id": "a1b221e2-244d-42dc-9c89-1d04134fc7d2",
   "metadata": {
    "tags": []
   },
   "outputs": [],
   "source": [
    "import pandas as pd\n",
    "\n",
    "data = []\n",
    "for post in posts:\n",
    "    data.append([post.created_utc, post.title, post.selftext, post.subreddit])\n",
    "\n",
    "# Turn into a dataframe\n",
    "boardgames = pd.DataFrame(data, columns = ['created_utc', 'title', 'self_text', 'subreddit'])\n",
    "boardgames.head()"
   ]
  },
  {
   "cell_type": "markdown",
   "id": "2eb4c19d-f9d9-4be8-9ca5-5ecbbde48970",
   "metadata": {},
   "source": [
    "Remember, you will need to pull *at least* 1000 posts from each subreddit, not just 25. Like I mentioned above, you can use the created_utc attribute of a post to keep track of the timestamp and ensure non-overlapping pulls. We will leave this work for you all to complete.\n",
    "\n",
    "Once you have at least 1000 posts from each subreddit, you can do some EDA (perhaps maybe the most common words in each subreddit..?) Eventually, you will want to combine your two dataframes together to do modeling."
   ]
  },
  {
   "cell_type": "markdown",
   "id": "d0785dc1-075d-4bd4-8c34-4dd2978d7dfb",
   "metadata": {},
   "source": [
    "### Hopefully this is enough of a tutorial to help get you started! If you have any questions, let us know!"
   ]
  },
  {
   "cell_type": "markdown",
   "id": "8f942833-8fdb-46d1-9182-b672e49434a5",
   "metadata": {},
   "source": [
    "### Note: Rather than working in this template notebook, make a brand new \"scraping\" notebook (or script), with your own comments, so you can use this project in a portfolio!"
   ]
  }
 ],
 "metadata": {
  "kernelspec": {
   "display_name": "Python 3 (ipykernel)",
   "language": "python",
   "name": "python3"
  },
  "language_info": {
   "codemirror_mode": {
    "name": "ipython",
    "version": 3
   },
   "file_extension": ".py",
   "mimetype": "text/x-python",
   "name": "python",
   "nbconvert_exporter": "python",
   "pygments_lexer": "ipython3",
   "version": "3.11.4"
  }
 },
 "nbformat": 4,
 "nbformat_minor": 5
}
