{
 "cells": [
  {
   "cell_type": "markdown",
   "id": "bc426077-0da2-49af-8e9f-e7a27ebaadd9",
   "metadata": {},
   "source": [
    "# **1. Install PRAW**"
   ]
  },
  {
   "cell_type": "code",
   "execution_count": 1,
   "id": "6a3e56be-a4bf-43d4-8c57-7f9954b44b46",
   "metadata": {
    "tags": []
   },
   "outputs": [],
   "source": [
    "#!pip install praw\n",
    "import praw\n"
   ]
  },
  {
   "cell_type": "markdown",
   "id": "78ecd0ed-d601-4b45-b545-639d4a1e7b49",
   "metadata": {},
   "source": [
    "# **2. Create a Reddit App**"
   ]
  },
  {
   "cell_type": "markdown",
   "id": "da49f3cc-1cec-4917-90f4-7b639d7a145a",
   "metadata": {},
   "source": [
    "To access the Reddit API, you'll need to create an application on Reddit and obtain your API credentials. Follow these steps:\n",
    "\n",
    "- Go to the Reddit website (https://www.reddit.com/) and log in to your account. Feel free to create a throwaway account for this project!\n",
    "- Navigate to the Reddit Apps page (https://www.reddit.com/prefs/apps).\n",
    "- Click the \"are you a developer? create an app...\" button in the top left.\n",
    "- Provide a name for your app (e.g., \"PRAW\"), select the app type ('script') , and optionally add a description. Use http://localhost:8080 as your redirect URI.\n",
    "- After submitting the form, you will reach a page that looks like the following image. You'll see your application's details, including the client ID and client secret. Keep these credentials handy for the next step.\n"
   ]
  },
  {
   "cell_type": "markdown",
   "id": "b3997780-adc4-4ee2-91e3-6a296587cdf8",
   "metadata": {},
   "source": [
    "![Praw](https://www.honchosearch.com/hubfs/Imported_Blog_Media/Client-ID-Client-Secret.png)"
   ]
  },
  {
   "cell_type": "markdown",
   "id": "2b71b52e-05db-4a47-8c8c-ec8f4fd9c283",
   "metadata": {},
   "source": [
    "# **3. Initialize PRAW**"
   ]
  },
  {
   "cell_type": "code",
   "execution_count": 2,
   "id": "103d7151-cf2e-47cb-82c2-578faa763888",
   "metadata": {
    "tags": []
   },
   "outputs": [],
   "source": [
    "reddit = praw.Reddit(\n",
    "    client_id='jjMYUBu4dyHMdpIYkCrsOQ',\n",
    "    client_secret='Sj3IYg7ZTOaM0XthXLfBIPq6AgfAqw',\n",
    "    user_agent='project_3',\n",
    "    username='suli1524',\n",
    "    password='Suli.1524'\n",
    ")"
   ]
  },
  {
   "cell_type": "markdown",
   "id": "204db51a-ee1d-4180-839b-67bdecea4fe5",
   "metadata": {},
   "source": [
    "Replace 'YOUR_CLIENT_ID', 'YOUR_CLIENT_SECRET', 'YOUR_USER_AGENT', 'YOUR_REDDIT_USERNAME', and 'YOUR_REDDIT_PASSWORD' with your actual Reddit API credentials."
   ]
  },
  {
   "cell_type": "markdown",
   "id": "95b298a6-1aa9-4690-8447-6f717c24e9cc",
   "metadata": {},
   "source": [
    "Your user agent is an identifier used by reddit to identify the source of requests. You can make it whatever you want, but you'll want to choose something descriptive and unique, and it's recommended that your username is included."
   ]
  },
  {
   "cell_type": "markdown",
   "id": "d9006de6-d5ce-4537-a9c7-ca5bdd4ee630",
   "metadata": {},
   "source": [
    "**I have removed my own credentials from this workbook. We can show you how to hide your credentials before submitting the project! The following code will need your own credentials in order to successfully work.**"
   ]
  },
  {
   "cell_type": "markdown",
   "id": "072ea3ea-ab20-4fe5-8711-dbe220400fa3",
   "metadata": {},
   "source": [
    "# 4. Take a look at the documentation [here](https://praw.readthedocs.io/)!"
   ]
  },
  {
   "cell_type": "code",
   "execution_count": 3,
   "id": "17aa261b-f63a-4437-ac41-242982cb546c",
   "metadata": {
    "tags": []
   },
   "outputs": [],
   "source": [
    "# Below is JUST an example of how you can use PRAW\n",
    "\n",
    "# Choose your subreddit\n",
    "subreddit = reddit.subreddit('marvel')\n",
    "\n",
    "# Adjust the limit as needed -- Note that this will grab the 25 most recent posts\n",
    "posts = subreddit.new(limit=1000)"
   ]
  },
  {
   "cell_type": "code",
   "execution_count": 4,
   "id": "ac502106-0439-458b-9216-f041f9d71869",
   "metadata": {
    "tags": []
   },
   "outputs": [],
   "source": [
    " #Below is JUST an example of how you can use PRAW\n",
    "\n",
    "# Choose your subreddit\n",
    "subreddit_1 = reddit.subreddit('DC_Cinematic')\n",
    "\n",
    "# Adjust the limit as needed -- Note that this will grab the 25 most recent posts\n",
    "posts_1 = subreddit_1.new(limit=1000)"
   ]
  },
  {
   "cell_type": "markdown",
   "id": "ad8eb1f6-449f-4bc9-9d56-1fe03739ff50",
   "metadata": {},
   "source": [
    "## NOTE\n",
    "- Reddit API Limitations: The Reddit API imposes limitations on the number of posts you can retrieve in a single request. The maximum number of posts per request is typically 100. Therefore, if you set the limit parameter to a value greater than 100, PRAW will make multiple requests behind the scenes to fetch the desired number of posts.\n",
    "- Rate Limiting: The Reddit API also enforces rate limits to prevent abuse and ensure fair usage. The specific rate limits can vary depending on factors such as your Reddit account's age and karma. As a standard user, you're typically allowed to make 60 requests per minute. If you exceed the rate limit, you may receive an error response until the rate limit resets.\n",
    "- TIP: You can use the created_utc attribute of a post to keep track of the timestamp and ensure non-overlapping pulls. The created_utc attribute represents the post's creation time in UTC."
   ]
  },
  {
   "cell_type": "code",
   "execution_count": 5,
   "id": "a1b221e2-244d-42dc-9c89-1d04134fc7d2",
   "metadata": {
    "tags": []
   },
   "outputs": [
    {
     "data": {
      "text/html": [
       "<div>\n",
       "<style scoped>\n",
       "    .dataframe tbody tr th:only-of-type {\n",
       "        vertical-align: middle;\n",
       "    }\n",
       "\n",
       "    .dataframe tbody tr th {\n",
       "        vertical-align: top;\n",
       "    }\n",
       "\n",
       "    .dataframe thead th {\n",
       "        text-align: right;\n",
       "    }\n",
       "</style>\n",
       "<table border=\"1\" class=\"dataframe\">\n",
       "  <thead>\n",
       "    <tr style=\"text-align: right;\">\n",
       "      <th></th>\n",
       "      <th>created_utc</th>\n",
       "      <th>title</th>\n",
       "      <th>self_text</th>\n",
       "      <th>subreddit</th>\n",
       "    </tr>\n",
       "  </thead>\n",
       "  <tbody>\n",
       "    <tr>\n",
       "      <th>0</th>\n",
       "      <td>1.697581e+09</td>\n",
       "      <td>Well that was fun: Guardian at New York Comic ...</td>\n",
       "      <td>@marc.kandel (On IG)</td>\n",
       "      <td>Marvel</td>\n",
       "    </tr>\n",
       "    <tr>\n",
       "      <th>1</th>\n",
       "      <td>1.697581e+09</td>\n",
       "      <td>Thank you Kevin 5G for making this happen!</td>\n",
       "      <td></td>\n",
       "      <td>Marvel</td>\n",
       "    </tr>\n",
       "    <tr>\n",
       "      <th>2</th>\n",
       "      <td>1.697581e+09</td>\n",
       "      <td>New Mutant Monday 10/30/23</td>\n",
       "      <td>Been thinking of rewatching new mutants for th...</td>\n",
       "      <td>Marvel</td>\n",
       "    </tr>\n",
       "    <tr>\n",
       "      <th>3</th>\n",
       "      <td>1.697579e+09</td>\n",
       "      <td>We're in the Endgame now.</td>\n",
       "      <td></td>\n",
       "      <td>Marvel</td>\n",
       "    </tr>\n",
       "    <tr>\n",
       "      <th>4</th>\n",
       "      <td>1.697578e+09</td>\n",
       "      <td>Ghost rider delivers his vengeance (Spider-Man...</td>\n",
       "      <td></td>\n",
       "      <td>Marvel</td>\n",
       "    </tr>\n",
       "    <tr>\n",
       "      <th>...</th>\n",
       "      <td>...</td>\n",
       "      <td>...</td>\n",
       "      <td>...</td>\n",
       "      <td>...</td>\n",
       "    </tr>\n",
       "    <tr>\n",
       "      <th>984</th>\n",
       "      <td>1.695831e+09</td>\n",
       "      <td>How have the X-Men been lately? Took a break l...</td>\n",
       "      <td>As the title says, I stopped reading the curre...</td>\n",
       "      <td>Marvel</td>\n",
       "    </tr>\n",
       "    <tr>\n",
       "      <th>985</th>\n",
       "      <td>1.695830e+09</td>\n",
       "      <td>Sam Raimi</td>\n",
       "      <td>Hey everyone! Sam raimi is going to be at my l...</td>\n",
       "      <td>Marvel</td>\n",
       "    </tr>\n",
       "    <tr>\n",
       "      <th>986</th>\n",
       "      <td>1.695830e+09</td>\n",
       "      <td>Back when Bruce could control when to transfor...</td>\n",
       "      <td></td>\n",
       "      <td>Marvel</td>\n",
       "    </tr>\n",
       "    <tr>\n",
       "      <th>987</th>\n",
       "      <td>1.695830e+09</td>\n",
       "      <td>Tony learns how to be a dad to his crazy ai [I...</td>\n",
       "      <td></td>\n",
       "      <td>Marvel</td>\n",
       "    </tr>\n",
       "    <tr>\n",
       "      <th>988</th>\n",
       "      <td>1.695829e+09</td>\n",
       "      <td>Ultimate Spider-Man: 2005 Videogame vs Comic</td>\n",
       "      <td>So I just realized that although the comic ser...</td>\n",
       "      <td>Marvel</td>\n",
       "    </tr>\n",
       "  </tbody>\n",
       "</table>\n",
       "<p>989 rows × 4 columns</p>\n",
       "</div>"
      ],
      "text/plain": [
       "      created_utc                                              title  \\\n",
       "0    1.697581e+09  Well that was fun: Guardian at New York Comic ...   \n",
       "1    1.697581e+09         Thank you Kevin 5G for making this happen!   \n",
       "2    1.697581e+09                         New Mutant Monday 10/30/23   \n",
       "3    1.697579e+09                          We're in the Endgame now.   \n",
       "4    1.697578e+09  Ghost rider delivers his vengeance (Spider-Man...   \n",
       "..            ...                                                ...   \n",
       "984  1.695831e+09  How have the X-Men been lately? Took a break l...   \n",
       "985  1.695830e+09                                          Sam Raimi   \n",
       "986  1.695830e+09  Back when Bruce could control when to transfor...   \n",
       "987  1.695830e+09  Tony learns how to be a dad to his crazy ai [I...   \n",
       "988  1.695829e+09       Ultimate Spider-Man: 2005 Videogame vs Comic   \n",
       "\n",
       "                                             self_text subreddit  \n",
       "0                                 @marc.kandel (On IG)    Marvel  \n",
       "1                                                         Marvel  \n",
       "2    Been thinking of rewatching new mutants for th...    Marvel  \n",
       "3                                                         Marvel  \n",
       "4                                                         Marvel  \n",
       "..                                                 ...       ...  \n",
       "984  As the title says, I stopped reading the curre...    Marvel  \n",
       "985  Hey everyone! Sam raimi is going to be at my l...    Marvel  \n",
       "986                                                       Marvel  \n",
       "987                                                       Marvel  \n",
       "988  So I just realized that although the comic ser...    Marvel  \n",
       "\n",
       "[989 rows x 4 columns]"
      ]
     },
     "execution_count": 5,
     "metadata": {},
     "output_type": "execute_result"
    }
   ],
   "source": [
    "import pandas as pd\n",
    "\n",
    "data = []\n",
    "for post in posts:\n",
    "    data.append([post.created_utc, post.title, post.selftext, post.subreddit])\n",
    "\n",
    "# Turn into a dataframe\n",
    "marvel = pd.DataFrame(data, columns = ['created_utc', 'title', 'self_text', 'subreddit'])\n",
    "marvel"
   ]
  },
  {
   "cell_type": "code",
   "execution_count": 6,
   "id": "eb1100ac-4c73-4359-becc-52f33a71c59e",
   "metadata": {
    "tags": []
   },
   "outputs": [
    {
     "data": {
      "text/html": [
       "<div>\n",
       "<style scoped>\n",
       "    .dataframe tbody tr th:only-of-type {\n",
       "        vertical-align: middle;\n",
       "    }\n",
       "\n",
       "    .dataframe tbody tr th {\n",
       "        vertical-align: top;\n",
       "    }\n",
       "\n",
       "    .dataframe thead th {\n",
       "        text-align: right;\n",
       "    }\n",
       "</style>\n",
       "<table border=\"1\" class=\"dataframe\">\n",
       "  <thead>\n",
       "    <tr style=\"text-align: right;\">\n",
       "      <th></th>\n",
       "      <th>created_utc</th>\n",
       "      <th>title</th>\n",
       "      <th>self_text</th>\n",
       "      <th>subreddit</th>\n",
       "    </tr>\n",
       "  </thead>\n",
       "  <tbody>\n",
       "    <tr>\n",
       "      <th>0</th>\n",
       "      <td>1.697581e+09</td>\n",
       "      <td>Blue Beetle DCEU Connections/References</td>\n",
       "      <td>Haven't seen Blue Beetle but I wanna know does...</td>\n",
       "      <td>DC_Cinematic</td>\n",
       "    </tr>\n",
       "    <tr>\n",
       "      <th>1</th>\n",
       "      <td>1.697511e+09</td>\n",
       "      <td>Who should be the villain(s) in Superman: Legacy?</td>\n",
       "      <td></td>\n",
       "      <td>DC_Cinematic</td>\n",
       "    </tr>\n",
       "    <tr>\n",
       "      <th>2</th>\n",
       "      <td>1.697530e+09</td>\n",
       "      <td>DC asks you to write a pitch for the batman 2,...</td>\n",
       "      <td></td>\n",
       "      <td>DC_Cinematic</td>\n",
       "    </tr>\n",
       "    <tr>\n",
       "      <th>3</th>\n",
       "      <td>1.697564e+09</td>\n",
       "      <td>Unpopular Opinion: I think this is best flash ...</td>\n",
       "      <td></td>\n",
       "      <td>DC_Cinematic</td>\n",
       "    </tr>\n",
       "    <tr>\n",
       "      <th>4</th>\n",
       "      <td>1.697537e+09</td>\n",
       "      <td>Who are some unseen heroes of the DCEU</td>\n",
       "      <td>I just rewatched BVS (ultimate) I paused to ob...</td>\n",
       "      <td>DC_Cinematic</td>\n",
       "    </tr>\n",
       "    <tr>\n",
       "      <th>...</th>\n",
       "      <td>...</td>\n",
       "      <td>...</td>\n",
       "      <td>...</td>\n",
       "      <td>...</td>\n",
       "    </tr>\n",
       "    <tr>\n",
       "      <th>973</th>\n",
       "      <td>1.692023e+09</td>\n",
       "      <td>How would you feel if Superman Legacy gets \"Be...</td>\n",
       "      <td>I mean almost all past DC movies got \"Best DC ...</td>\n",
       "      <td>DC_Cinematic</td>\n",
       "    </tr>\n",
       "    <tr>\n",
       "      <th>974</th>\n",
       "      <td>1.692020e+09</td>\n",
       "      <td>In the the trailer, it looks like they're both...</td>\n",
       "      <td></td>\n",
       "      <td>DC_Cinematic</td>\n",
       "    </tr>\n",
       "    <tr>\n",
       "      <th>975</th>\n",
       "      <td>1.691997e+09</td>\n",
       "      <td>Oh the irony</td>\n",
       "      <td></td>\n",
       "      <td>DC_Cinematic</td>\n",
       "    </tr>\n",
       "    <tr>\n",
       "      <th>976</th>\n",
       "      <td>1.692013e+09</td>\n",
       "      <td>Should Batcow be in the DCU?</td>\n",
       "      <td></td>\n",
       "      <td>DC_Cinematic</td>\n",
       "    </tr>\n",
       "    <tr>\n",
       "      <th>977</th>\n",
       "      <td>1.691987e+09</td>\n",
       "      <td>Batman and Superman: Battle of the Super Sons ...</td>\n",
       "      <td>Jesus if it wasn't for the last 20 minutes thi...</td>\n",
       "      <td>DC_Cinematic</td>\n",
       "    </tr>\n",
       "  </tbody>\n",
       "</table>\n",
       "<p>978 rows × 4 columns</p>\n",
       "</div>"
      ],
      "text/plain": [
       "      created_utc                                              title  \\\n",
       "0    1.697581e+09            Blue Beetle DCEU Connections/References   \n",
       "1    1.697511e+09  Who should be the villain(s) in Superman: Legacy?   \n",
       "2    1.697530e+09  DC asks you to write a pitch for the batman 2,...   \n",
       "3    1.697564e+09  Unpopular Opinion: I think this is best flash ...   \n",
       "4    1.697537e+09             Who are some unseen heroes of the DCEU   \n",
       "..            ...                                                ...   \n",
       "973  1.692023e+09  How would you feel if Superman Legacy gets \"Be...   \n",
       "974  1.692020e+09  In the the trailer, it looks like they're both...   \n",
       "975  1.691997e+09                                       Oh the irony   \n",
       "976  1.692013e+09                       Should Batcow be in the DCU?   \n",
       "977  1.691987e+09  Batman and Superman: Battle of the Super Sons ...   \n",
       "\n",
       "                                             self_text     subreddit  \n",
       "0    Haven't seen Blue Beetle but I wanna know does...  DC_Cinematic  \n",
       "1                                                       DC_Cinematic  \n",
       "2                                                       DC_Cinematic  \n",
       "3                                                       DC_Cinematic  \n",
       "4    I just rewatched BVS (ultimate) I paused to ob...  DC_Cinematic  \n",
       "..                                                 ...           ...  \n",
       "973  I mean almost all past DC movies got \"Best DC ...  DC_Cinematic  \n",
       "974                                                     DC_Cinematic  \n",
       "975                                                     DC_Cinematic  \n",
       "976                                                     DC_Cinematic  \n",
       "977  Jesus if it wasn't for the last 20 minutes thi...  DC_Cinematic  \n",
       "\n",
       "[978 rows x 4 columns]"
      ]
     },
     "execution_count": 6,
     "metadata": {},
     "output_type": "execute_result"
    }
   ],
   "source": [
    "\n",
    "data = []\n",
    "for post in posts_1:\n",
    "    data.append([post.created_utc, post.title, post.selftext, post.subreddit])\n",
    "\n",
    "# Turn into a dataframe\n",
    "dc_cinematic = pd.DataFrame(data, columns = ['created_utc', 'title', 'self_text', 'subreddit'])\n",
    "dc_cinematic"
   ]
  },
  {
   "cell_type": "code",
   "execution_count": 7,
   "id": "36c5c1a9-de1d-48a6-9dc8-f21c2c15eeaf",
   "metadata": {
    "tags": []
   },
   "outputs": [
    {
     "name": "stdout",
     "output_type": "stream",
     "text": [
      "<class 'pandas.core.frame.DataFrame'>\n",
      "RangeIndex: 989 entries, 0 to 988\n",
      "Data columns (total 4 columns):\n",
      " #   Column       Non-Null Count  Dtype  \n",
      "---  ------       --------------  -----  \n",
      " 0   created_utc  989 non-null    float64\n",
      " 1   title        989 non-null    object \n",
      " 2   self_text    989 non-null    object \n",
      " 3   subreddit    989 non-null    object \n",
      "dtypes: float64(1), object(3)\n",
      "memory usage: 31.0+ KB\n"
     ]
    }
   ],
   "source": [
    "marvel.info()"
   ]
  },
  {
   "cell_type": "code",
   "execution_count": 8,
   "id": "375b445d-ed84-48c5-a302-98ce450f7b85",
   "metadata": {
    "tags": []
   },
   "outputs": [
    {
     "name": "stdout",
     "output_type": "stream",
     "text": [
      "<class 'pandas.core.frame.DataFrame'>\n",
      "RangeIndex: 978 entries, 0 to 977\n",
      "Data columns (total 4 columns):\n",
      " #   Column       Non-Null Count  Dtype  \n",
      "---  ------       --------------  -----  \n",
      " 0   created_utc  978 non-null    float64\n",
      " 1   title        978 non-null    object \n",
      " 2   self_text    978 non-null    object \n",
      " 3   subreddit    978 non-null    object \n",
      "dtypes: float64(1), object(3)\n",
      "memory usage: 30.7+ KB\n"
     ]
    }
   ],
   "source": [
    "dc_cinematic.info()"
   ]
  },
  {
   "cell_type": "code",
   "execution_count": 9,
   "id": "d28f5587-4c49-4156-a785-bea0698756a5",
   "metadata": {
    "tags": []
   },
   "outputs": [
    {
     "data": {
      "text/html": [
       "<div>\n",
       "<style scoped>\n",
       "    .dataframe tbody tr th:only-of-type {\n",
       "        vertical-align: middle;\n",
       "    }\n",
       "\n",
       "    .dataframe tbody tr th {\n",
       "        vertical-align: top;\n",
       "    }\n",
       "\n",
       "    .dataframe thead th {\n",
       "        text-align: right;\n",
       "    }\n",
       "</style>\n",
       "<table border=\"1\" class=\"dataframe\">\n",
       "  <thead>\n",
       "    <tr style=\"text-align: right;\">\n",
       "      <th></th>\n",
       "      <th>created_utc</th>\n",
       "      <th>title</th>\n",
       "      <th>self_text</th>\n",
       "      <th>subreddit</th>\n",
       "    </tr>\n",
       "  </thead>\n",
       "  <tbody>\n",
       "    <tr>\n",
       "      <th>0</th>\n",
       "      <td>1.697581e+09</td>\n",
       "      <td>Well that was fun: Guardian at New York Comic ...</td>\n",
       "      <td>@marc.kandel (On IG)</td>\n",
       "      <td>Marvel</td>\n",
       "    </tr>\n",
       "    <tr>\n",
       "      <th>1</th>\n",
       "      <td>1.697581e+09</td>\n",
       "      <td>Thank you Kevin 5G for making this happen!</td>\n",
       "      <td></td>\n",
       "      <td>Marvel</td>\n",
       "    </tr>\n",
       "    <tr>\n",
       "      <th>2</th>\n",
       "      <td>1.697581e+09</td>\n",
       "      <td>New Mutant Monday 10/30/23</td>\n",
       "      <td>Been thinking of rewatching new mutants for th...</td>\n",
       "      <td>Marvel</td>\n",
       "    </tr>\n",
       "    <tr>\n",
       "      <th>3</th>\n",
       "      <td>1.697579e+09</td>\n",
       "      <td>We're in the Endgame now.</td>\n",
       "      <td></td>\n",
       "      <td>Marvel</td>\n",
       "    </tr>\n",
       "    <tr>\n",
       "      <th>4</th>\n",
       "      <td>1.697578e+09</td>\n",
       "      <td>Ghost rider delivers his vengeance (Spider-Man...</td>\n",
       "      <td></td>\n",
       "      <td>Marvel</td>\n",
       "    </tr>\n",
       "  </tbody>\n",
       "</table>\n",
       "</div>"
      ],
      "text/plain": [
       "    created_utc                                              title  \\\n",
       "0  1.697581e+09  Well that was fun: Guardian at New York Comic ...   \n",
       "1  1.697581e+09         Thank you Kevin 5G for making this happen!   \n",
       "2  1.697581e+09                         New Mutant Monday 10/30/23   \n",
       "3  1.697579e+09                          We're in the Endgame now.   \n",
       "4  1.697578e+09  Ghost rider delivers his vengeance (Spider-Man...   \n",
       "\n",
       "                                           self_text subreddit  \n",
       "0                               @marc.kandel (On IG)    Marvel  \n",
       "1                                                       Marvel  \n",
       "2  Been thinking of rewatching new mutants for th...    Marvel  \n",
       "3                                                       Marvel  \n",
       "4                                                       Marvel  "
      ]
     },
     "execution_count": 9,
     "metadata": {},
     "output_type": "execute_result"
    }
   ],
   "source": [
    "marvel.head()"
   ]
  },
  {
   "cell_type": "code",
   "execution_count": 10,
   "id": "5abe899c-2bd6-41f7-b561-639a727eb80b",
   "metadata": {
    "tags": []
   },
   "outputs": [
    {
     "data": {
      "text/plain": [
       "created_utc    0\n",
       "title          0\n",
       "self_text      0\n",
       "subreddit      0\n",
       "dtype: int64"
      ]
     },
     "execution_count": 10,
     "metadata": {},
     "output_type": "execute_result"
    }
   ],
   "source": [
    "marvel.isna().sum()"
   ]
  },
  {
   "cell_type": "code",
   "execution_count": 11,
   "id": "42091fa6-4b15-49ec-91fd-a4cba90ecb0c",
   "metadata": {
    "tags": []
   },
   "outputs": [
    {
     "data": {
      "text/html": [
       "<div>\n",
       "<style scoped>\n",
       "    .dataframe tbody tr th:only-of-type {\n",
       "        vertical-align: middle;\n",
       "    }\n",
       "\n",
       "    .dataframe tbody tr th {\n",
       "        vertical-align: top;\n",
       "    }\n",
       "\n",
       "    .dataframe thead th {\n",
       "        text-align: right;\n",
       "    }\n",
       "</style>\n",
       "<table border=\"1\" class=\"dataframe\">\n",
       "  <thead>\n",
       "    <tr style=\"text-align: right;\">\n",
       "      <th></th>\n",
       "      <th>created_utc</th>\n",
       "      <th>title</th>\n",
       "      <th>self_text</th>\n",
       "      <th>subreddit</th>\n",
       "    </tr>\n",
       "  </thead>\n",
       "  <tbody>\n",
       "    <tr>\n",
       "      <th>0</th>\n",
       "      <td>1.697581e+09</td>\n",
       "      <td>Blue Beetle DCEU Connections/References</td>\n",
       "      <td>Haven't seen Blue Beetle but I wanna know does...</td>\n",
       "      <td>DC_Cinematic</td>\n",
       "    </tr>\n",
       "    <tr>\n",
       "      <th>1</th>\n",
       "      <td>1.697511e+09</td>\n",
       "      <td>Who should be the villain(s) in Superman: Legacy?</td>\n",
       "      <td></td>\n",
       "      <td>DC_Cinematic</td>\n",
       "    </tr>\n",
       "    <tr>\n",
       "      <th>2</th>\n",
       "      <td>1.697530e+09</td>\n",
       "      <td>DC asks you to write a pitch for the batman 2,...</td>\n",
       "      <td></td>\n",
       "      <td>DC_Cinematic</td>\n",
       "    </tr>\n",
       "    <tr>\n",
       "      <th>3</th>\n",
       "      <td>1.697564e+09</td>\n",
       "      <td>Unpopular Opinion: I think this is best flash ...</td>\n",
       "      <td></td>\n",
       "      <td>DC_Cinematic</td>\n",
       "    </tr>\n",
       "    <tr>\n",
       "      <th>4</th>\n",
       "      <td>1.697537e+09</td>\n",
       "      <td>Who are some unseen heroes of the DCEU</td>\n",
       "      <td>I just rewatched BVS (ultimate) I paused to ob...</td>\n",
       "      <td>DC_Cinematic</td>\n",
       "    </tr>\n",
       "  </tbody>\n",
       "</table>\n",
       "</div>"
      ],
      "text/plain": [
       "    created_utc                                              title  \\\n",
       "0  1.697581e+09            Blue Beetle DCEU Connections/References   \n",
       "1  1.697511e+09  Who should be the villain(s) in Superman: Legacy?   \n",
       "2  1.697530e+09  DC asks you to write a pitch for the batman 2,...   \n",
       "3  1.697564e+09  Unpopular Opinion: I think this is best flash ...   \n",
       "4  1.697537e+09             Who are some unseen heroes of the DCEU   \n",
       "\n",
       "                                           self_text     subreddit  \n",
       "0  Haven't seen Blue Beetle but I wanna know does...  DC_Cinematic  \n",
       "1                                                     DC_Cinematic  \n",
       "2                                                     DC_Cinematic  \n",
       "3                                                     DC_Cinematic  \n",
       "4  I just rewatched BVS (ultimate) I paused to ob...  DC_Cinematic  "
      ]
     },
     "execution_count": 11,
     "metadata": {},
     "output_type": "execute_result"
    }
   ],
   "source": [
    "dc_cinematic.head()"
   ]
  },
  {
   "cell_type": "code",
   "execution_count": 12,
   "id": "8c1cf495-4cb9-4559-a41a-157576ea8873",
   "metadata": {
    "tags": []
   },
   "outputs": [
    {
     "data": {
      "text/plain": [
       "created_utc    0\n",
       "title          0\n",
       "self_text      0\n",
       "subreddit      0\n",
       "dtype: int64"
      ]
     },
     "execution_count": 12,
     "metadata": {},
     "output_type": "execute_result"
    }
   ],
   "source": [
    "dc_cinematic.isna().sum()"
   ]
  },
  {
   "cell_type": "code",
   "execution_count": 13,
   "id": "9fabc3bd-0b89-498c-91e1-59265e98cd16",
   "metadata": {
    "tags": []
   },
   "outputs": [],
   "source": [
    "# make it to CSV\n",
    "marvel = marvel.to_csv('marvel_post.csv',index=False)"
   ]
  },
  {
   "cell_type": "code",
   "execution_count": 14,
   "id": "0a2ed34d-cb39-4c4f-9871-a2d0d7a9feb9",
   "metadata": {
    "tags": []
   },
   "outputs": [],
   "source": [
    "dc_cinematic = dc_cinematic.to_csv('dc_cinematic_post.csv',index=False)"
   ]
  },
  {
   "cell_type": "markdown",
   "id": "658affcf-13da-4e9e-aeca-14ea8b4b6dcc",
   "metadata": {},
   "source": [
    "## EDA"
   ]
  },
  {
   "cell_type": "code",
   "execution_count": 17,
   "id": "8fb4f2e5-c998-4a89-8432-f0a44f34b333",
   "metadata": {
    "tags": []
   },
   "outputs": [],
   "source": [
    "# imports\n",
    "import numpy as np\n",
    "import pandas as pd\n",
    "import matplotlib.pyplot as plt\n",
    "import requests\n",
    "import time \n",
    "\n",
    "from sklearn.feature_extraction.text import CountVectorizer\n",
    "\n"
   ]
  },
  {
   "cell_type": "markdown",
   "id": "6558a8b0-8a56-4010-a2f2-75c760bdb7e0",
   "metadata": {},
   "source": [
    "##### Read Data"
   ]
  },
  {
   "cell_type": "code",
   "execution_count": 19,
   "id": "b1bd7d5c-8b54-4005-bb5b-ea269c718cbf",
   "metadata": {
    "tags": []
   },
   "outputs": [],
   "source": [
    "#read Data\n",
    "marvel = pd.read_csv('marvel_post.csv')\n",
    "dc_cinematic = pd.read_csv('dc_cinematic_post.csv')"
   ]
  },
  {
   "cell_type": "code",
   "execution_count": 20,
   "id": "ebf0b46f-efaa-45a0-899d-e44f446a8f74",
   "metadata": {
    "tags": []
   },
   "outputs": [
    {
     "data": {
      "text/html": [
       "<div>\n",
       "<style scoped>\n",
       "    .dataframe tbody tr th:only-of-type {\n",
       "        vertical-align: middle;\n",
       "    }\n",
       "\n",
       "    .dataframe tbody tr th {\n",
       "        vertical-align: top;\n",
       "    }\n",
       "\n",
       "    .dataframe thead th {\n",
       "        text-align: right;\n",
       "    }\n",
       "</style>\n",
       "<table border=\"1\" class=\"dataframe\">\n",
       "  <thead>\n",
       "    <tr style=\"text-align: right;\">\n",
       "      <th></th>\n",
       "      <th>created_utc</th>\n",
       "      <th>title</th>\n",
       "      <th>self_text</th>\n",
       "      <th>subreddit</th>\n",
       "    </tr>\n",
       "  </thead>\n",
       "  <tbody>\n",
       "    <tr>\n",
       "      <th>0</th>\n",
       "      <td>1.697581e+09</td>\n",
       "      <td>Well that was fun: Guardian at New York Comic ...</td>\n",
       "      <td>@marc.kandel (On IG)</td>\n",
       "      <td>Marvel</td>\n",
       "    </tr>\n",
       "    <tr>\n",
       "      <th>1</th>\n",
       "      <td>1.697581e+09</td>\n",
       "      <td>Thank you Kevin 5G for making this happen!</td>\n",
       "      <td>NaN</td>\n",
       "      <td>Marvel</td>\n",
       "    </tr>\n",
       "    <tr>\n",
       "      <th>2</th>\n",
       "      <td>1.697581e+09</td>\n",
       "      <td>New Mutant Monday 10/30/23</td>\n",
       "      <td>Been thinking of rewatching new mutants for th...</td>\n",
       "      <td>Marvel</td>\n",
       "    </tr>\n",
       "    <tr>\n",
       "      <th>3</th>\n",
       "      <td>1.697579e+09</td>\n",
       "      <td>We're in the Endgame now.</td>\n",
       "      <td>NaN</td>\n",
       "      <td>Marvel</td>\n",
       "    </tr>\n",
       "    <tr>\n",
       "      <th>4</th>\n",
       "      <td>1.697578e+09</td>\n",
       "      <td>Ghost rider delivers his vengeance (Spider-Man...</td>\n",
       "      <td>NaN</td>\n",
       "      <td>Marvel</td>\n",
       "    </tr>\n",
       "  </tbody>\n",
       "</table>\n",
       "</div>"
      ],
      "text/plain": [
       "    created_utc                                              title  \\\n",
       "0  1.697581e+09  Well that was fun: Guardian at New York Comic ...   \n",
       "1  1.697581e+09         Thank you Kevin 5G for making this happen!   \n",
       "2  1.697581e+09                         New Mutant Monday 10/30/23   \n",
       "3  1.697579e+09                          We're in the Endgame now.   \n",
       "4  1.697578e+09  Ghost rider delivers his vengeance (Spider-Man...   \n",
       "\n",
       "                                           self_text subreddit  \n",
       "0                               @marc.kandel (On IG)    Marvel  \n",
       "1                                                NaN    Marvel  \n",
       "2  Been thinking of rewatching new mutants for th...    Marvel  \n",
       "3                                                NaN    Marvel  \n",
       "4                                                NaN    Marvel  "
      ]
     },
     "execution_count": 20,
     "metadata": {},
     "output_type": "execute_result"
    }
   ],
   "source": [
    "marvel.head()"
   ]
  },
  {
   "cell_type": "code",
   "execution_count": 22,
   "id": "67377d3a-d40f-4d82-aee0-b1c5f0fbe75e",
   "metadata": {
    "tags": []
   },
   "outputs": [
    {
     "data": {
      "text/html": [
       "<div>\n",
       "<style scoped>\n",
       "    .dataframe tbody tr th:only-of-type {\n",
       "        vertical-align: middle;\n",
       "    }\n",
       "\n",
       "    .dataframe tbody tr th {\n",
       "        vertical-align: top;\n",
       "    }\n",
       "\n",
       "    .dataframe thead th {\n",
       "        text-align: right;\n",
       "    }\n",
       "</style>\n",
       "<table border=\"1\" class=\"dataframe\">\n",
       "  <thead>\n",
       "    <tr style=\"text-align: right;\">\n",
       "      <th></th>\n",
       "      <th>created_utc</th>\n",
       "      <th>title</th>\n",
       "      <th>self_text</th>\n",
       "      <th>subreddit</th>\n",
       "    </tr>\n",
       "  </thead>\n",
       "  <tbody>\n",
       "    <tr>\n",
       "      <th>0</th>\n",
       "      <td>1.697581e+09</td>\n",
       "      <td>Blue Beetle DCEU Connections/References</td>\n",
       "      <td>Haven't seen Blue Beetle but I wanna know does...</td>\n",
       "      <td>DC_Cinematic</td>\n",
       "    </tr>\n",
       "    <tr>\n",
       "      <th>1</th>\n",
       "      <td>1.697511e+09</td>\n",
       "      <td>Who should be the villain(s) in Superman: Legacy?</td>\n",
       "      <td>NaN</td>\n",
       "      <td>DC_Cinematic</td>\n",
       "    </tr>\n",
       "    <tr>\n",
       "      <th>2</th>\n",
       "      <td>1.697530e+09</td>\n",
       "      <td>DC asks you to write a pitch for the batman 2,...</td>\n",
       "      <td>NaN</td>\n",
       "      <td>DC_Cinematic</td>\n",
       "    </tr>\n",
       "    <tr>\n",
       "      <th>3</th>\n",
       "      <td>1.697564e+09</td>\n",
       "      <td>Unpopular Opinion: I think this is best flash ...</td>\n",
       "      <td>NaN</td>\n",
       "      <td>DC_Cinematic</td>\n",
       "    </tr>\n",
       "    <tr>\n",
       "      <th>4</th>\n",
       "      <td>1.697537e+09</td>\n",
       "      <td>Who are some unseen heroes of the DCEU</td>\n",
       "      <td>I just rewatched BVS (ultimate) I paused to ob...</td>\n",
       "      <td>DC_Cinematic</td>\n",
       "    </tr>\n",
       "  </tbody>\n",
       "</table>\n",
       "</div>"
      ],
      "text/plain": [
       "    created_utc                                              title  \\\n",
       "0  1.697581e+09            Blue Beetle DCEU Connections/References   \n",
       "1  1.697511e+09  Who should be the villain(s) in Superman: Legacy?   \n",
       "2  1.697530e+09  DC asks you to write a pitch for the batman 2,...   \n",
       "3  1.697564e+09  Unpopular Opinion: I think this is best flash ...   \n",
       "4  1.697537e+09             Who are some unseen heroes of the DCEU   \n",
       "\n",
       "                                           self_text     subreddit  \n",
       "0  Haven't seen Blue Beetle but I wanna know does...  DC_Cinematic  \n",
       "1                                                NaN  DC_Cinematic  \n",
       "2                                                NaN  DC_Cinematic  \n",
       "3                                                NaN  DC_Cinematic  \n",
       "4  I just rewatched BVS (ultimate) I paused to ob...  DC_Cinematic  "
      ]
     },
     "execution_count": 22,
     "metadata": {},
     "output_type": "execute_result"
    }
   ],
   "source": [
    "dc_cinematic.head()"
   ]
  },
  {
   "cell_type": "markdown",
   "id": "f4eb337e-2517-4914-983f-b2bad18b934a",
   "metadata": {},
   "source": [
    "##### checking for missing values"
   ]
  },
  {
   "cell_type": "code",
   "execution_count": 24,
   "id": "25c48d96-97b9-4ce2-b8f3-187bdca6a367",
   "metadata": {
    "tags": []
   },
   "outputs": [
    {
     "data": {
      "text/plain": [
       "created_utc      0\n",
       "title            0\n",
       "self_text      532\n",
       "subreddit        0\n",
       "dtype: int64"
      ]
     },
     "execution_count": 24,
     "metadata": {},
     "output_type": "execute_result"
    }
   ],
   "source": [
    "# marvel\n",
    "marvel.isna().sum()"
   ]
  },
  {
   "cell_type": "code",
   "execution_count": 25,
   "id": "ae575549-5af8-4e59-952f-ef8aad1c2baa",
   "metadata": {
    "tags": []
   },
   "outputs": [
    {
     "data": {
      "text/plain": [
       "created_utc      0\n",
       "title            0\n",
       "self_text      577\n",
       "subreddit        0\n",
       "dtype: int64"
      ]
     },
     "execution_count": 25,
     "metadata": {},
     "output_type": "execute_result"
    }
   ],
   "source": [
    "#dc_cinematic\n",
    "dc_cinematic.isna().sum()"
   ]
  },
  {
   "cell_type": "code",
   "execution_count": 27,
   "id": "a93117fa-9e17-4980-9893-af3adf8dde63",
   "metadata": {
    "tags": []
   },
   "outputs": [
    {
     "data": {
      "text/html": [
       "<div>\n",
       "<style scoped>\n",
       "    .dataframe tbody tr th:only-of-type {\n",
       "        vertical-align: middle;\n",
       "    }\n",
       "\n",
       "    .dataframe tbody tr th {\n",
       "        vertical-align: top;\n",
       "    }\n",
       "\n",
       "    .dataframe thead th {\n",
       "        text-align: right;\n",
       "    }\n",
       "</style>\n",
       "<table border=\"1\" class=\"dataframe\">\n",
       "  <thead>\n",
       "    <tr style=\"text-align: right;\">\n",
       "      <th></th>\n",
       "      <th>title</th>\n",
       "      <th>self_text</th>\n",
       "      <th>subreddit</th>\n",
       "    </tr>\n",
       "  </thead>\n",
       "  <tbody>\n",
       "    <tr>\n",
       "      <th>count</th>\n",
       "      <td>989</td>\n",
       "      <td>457</td>\n",
       "      <td>989</td>\n",
       "    </tr>\n",
       "    <tr>\n",
       "      <th>unique</th>\n",
       "      <td>989</td>\n",
       "      <td>457</td>\n",
       "      <td>1</td>\n",
       "    </tr>\n",
       "    <tr>\n",
       "      <th>top</th>\n",
       "      <td>Well that was fun: Guardian at New York Comic ...</td>\n",
       "      <td>@marc.kandel (On IG)</td>\n",
       "      <td>Marvel</td>\n",
       "    </tr>\n",
       "    <tr>\n",
       "      <th>freq</th>\n",
       "      <td>1</td>\n",
       "      <td>1</td>\n",
       "      <td>989</td>\n",
       "    </tr>\n",
       "  </tbody>\n",
       "</table>\n",
       "</div>"
      ],
      "text/plain": [
       "                                                    title  \\\n",
       "count                                                 989   \n",
       "unique                                                989   \n",
       "top     Well that was fun: Guardian at New York Comic ...   \n",
       "freq                                                    1   \n",
       "\n",
       "                   self_text subreddit  \n",
       "count                    457       989  \n",
       "unique                   457         1  \n",
       "top     @marc.kandel (On IG)    Marvel  \n",
       "freq                       1       989  "
      ]
     },
     "execution_count": 27,
     "metadata": {},
     "output_type": "execute_result"
    }
   ],
   "source": [
    "marvel.describe(include='object')"
   ]
  },
  {
   "cell_type": "code",
   "execution_count": 28,
   "id": "f67b9d07-461a-4054-bb3c-4bdf16039df5",
   "metadata": {
    "tags": []
   },
   "outputs": [
    {
     "data": {
      "text/html": [
       "<div>\n",
       "<style scoped>\n",
       "    .dataframe tbody tr th:only-of-type {\n",
       "        vertical-align: middle;\n",
       "    }\n",
       "\n",
       "    .dataframe tbody tr th {\n",
       "        vertical-align: top;\n",
       "    }\n",
       "\n",
       "    .dataframe thead th {\n",
       "        text-align: right;\n",
       "    }\n",
       "</style>\n",
       "<table border=\"1\" class=\"dataframe\">\n",
       "  <thead>\n",
       "    <tr style=\"text-align: right;\">\n",
       "      <th></th>\n",
       "      <th>title</th>\n",
       "      <th>self_text</th>\n",
       "      <th>subreddit</th>\n",
       "    </tr>\n",
       "  </thead>\n",
       "  <tbody>\n",
       "    <tr>\n",
       "      <th>count</th>\n",
       "      <td>978</td>\n",
       "      <td>401</td>\n",
       "      <td>978</td>\n",
       "    </tr>\n",
       "    <tr>\n",
       "      <th>unique</th>\n",
       "      <td>977</td>\n",
       "      <td>401</td>\n",
       "      <td>1</td>\n",
       "    </tr>\n",
       "    <tr>\n",
       "      <th>top</th>\n",
       "      <td>Batman No Way Home fan edit where all 4 Batmen...</td>\n",
       "      <td>Haven't seen Blue Beetle but I wanna know does...</td>\n",
       "      <td>DC_Cinematic</td>\n",
       "    </tr>\n",
       "    <tr>\n",
       "      <th>freq</th>\n",
       "      <td>2</td>\n",
       "      <td>1</td>\n",
       "      <td>978</td>\n",
       "    </tr>\n",
       "  </tbody>\n",
       "</table>\n",
       "</div>"
      ],
      "text/plain": [
       "                                                    title  \\\n",
       "count                                                 978   \n",
       "unique                                                977   \n",
       "top     Batman No Way Home fan edit where all 4 Batmen...   \n",
       "freq                                                    2   \n",
       "\n",
       "                                                self_text     subreddit  \n",
       "count                                                 401           978  \n",
       "unique                                                401             1  \n",
       "top     Haven't seen Blue Beetle but I wanna know does...  DC_Cinematic  \n",
       "freq                                                    1           978  "
      ]
     },
     "execution_count": 28,
     "metadata": {},
     "output_type": "execute_result"
    }
   ],
   "source": [
    "dc_cinematic.describe(include='object')"
   ]
  },
  {
   "cell_type": "markdown",
   "id": "fdd36bd6-e391-495f-b1a1-c7072a4d5a2d",
   "metadata": {},
   "source": [
    "##### EDA on title "
   ]
  },
  {
   "cell_type": "code",
   "execution_count": 29,
   "id": "2cc95f50-aa09-418f-9a8e-c04b5f1dabc8",
   "metadata": {
    "tags": []
   },
   "outputs": [],
   "source": [
    "# create column for post_length\n",
    "marvel['post_length'] = marvel['title'].map(len)\n",
    "dc_cinematic['post_length'] = dc_cinematic['title'].map(len)"
   ]
  },
  {
   "cell_type": "code",
   "execution_count": 31,
   "id": "c30a630f-ca67-4b72-9db1-399831ec7a80",
   "metadata": {
    "tags": []
   },
   "outputs": [
    {
     "data": {
      "text/html": [
       "<div>\n",
       "<style scoped>\n",
       "    .dataframe tbody tr th:only-of-type {\n",
       "        vertical-align: middle;\n",
       "    }\n",
       "\n",
       "    .dataframe tbody tr th {\n",
       "        vertical-align: top;\n",
       "    }\n",
       "\n",
       "    .dataframe thead th {\n",
       "        text-align: right;\n",
       "    }\n",
       "</style>\n",
       "<table border=\"1\" class=\"dataframe\">\n",
       "  <thead>\n",
       "    <tr style=\"text-align: right;\">\n",
       "      <th></th>\n",
       "      <th>created_utc</th>\n",
       "      <th>title</th>\n",
       "      <th>self_text</th>\n",
       "      <th>subreddit</th>\n",
       "      <th>post_length</th>\n",
       "    </tr>\n",
       "  </thead>\n",
       "  <tbody>\n",
       "  </tbody>\n",
       "</table>\n",
       "</div>"
      ],
      "text/plain": [
       "Empty DataFrame\n",
       "Columns: [created_utc, title, self_text, subreddit, post_length]\n",
       "Index: []"
      ]
     },
     "execution_count": 31,
     "metadata": {},
     "output_type": "execute_result"
    }
   ],
   "source": [
    "marvel.head(0)"
   ]
  },
  {
   "cell_type": "code",
   "execution_count": 32,
   "id": "eac6d249-cf3b-41d6-8dd5-90c681a085cf",
   "metadata": {
    "tags": []
   },
   "outputs": [
    {
     "data": {
      "text/html": [
       "<div>\n",
       "<style scoped>\n",
       "    .dataframe tbody tr th:only-of-type {\n",
       "        vertical-align: middle;\n",
       "    }\n",
       "\n",
       "    .dataframe tbody tr th {\n",
       "        vertical-align: top;\n",
       "    }\n",
       "\n",
       "    .dataframe thead th {\n",
       "        text-align: right;\n",
       "    }\n",
       "</style>\n",
       "<table border=\"1\" class=\"dataframe\">\n",
       "  <thead>\n",
       "    <tr style=\"text-align: right;\">\n",
       "      <th></th>\n",
       "      <th>created_utc</th>\n",
       "      <th>title</th>\n",
       "      <th>self_text</th>\n",
       "      <th>subreddit</th>\n",
       "      <th>post_length</th>\n",
       "    </tr>\n",
       "  </thead>\n",
       "  <tbody>\n",
       "  </tbody>\n",
       "</table>\n",
       "</div>"
      ],
      "text/plain": [
       "Empty DataFrame\n",
       "Columns: [created_utc, title, self_text, subreddit, post_length]\n",
       "Index: []"
      ]
     },
     "execution_count": 32,
     "metadata": {},
     "output_type": "execute_result"
    }
   ],
   "source": [
    "dc_cinematic.head(0)"
   ]
  },
  {
   "cell_type": "code",
   "execution_count": 33,
   "id": "3283cdc9-3329-4952-afa7-96d4c4236e66",
   "metadata": {
    "tags": []
   },
   "outputs": [],
   "source": [
    "# create column for post_word_count\n",
    "marvel['post_word_count'] = marvel['title'].map(lambda x: len(x.split()))\n",
    "dc_cinematic['post_word_count'] = dc_cinematic['title'].map(lambda x: len(x.split()))"
   ]
  },
  {
   "cell_type": "code",
   "execution_count": 35,
   "id": "0db7560c-f659-4209-aa5c-6024a0c5e71c",
   "metadata": {
    "tags": []
   },
   "outputs": [
    {
     "data": {
      "text/html": [
       "<div>\n",
       "<style scoped>\n",
       "    .dataframe tbody tr th:only-of-type {\n",
       "        vertical-align: middle;\n",
       "    }\n",
       "\n",
       "    .dataframe tbody tr th {\n",
       "        vertical-align: top;\n",
       "    }\n",
       "\n",
       "    .dataframe thead th {\n",
       "        text-align: right;\n",
       "    }\n",
       "</style>\n",
       "<table border=\"1\" class=\"dataframe\">\n",
       "  <thead>\n",
       "    <tr style=\"text-align: right;\">\n",
       "      <th></th>\n",
       "      <th>created_utc</th>\n",
       "      <th>title</th>\n",
       "      <th>self_text</th>\n",
       "      <th>subreddit</th>\n",
       "      <th>post_length</th>\n",
       "      <th>post_word_count</th>\n",
       "    </tr>\n",
       "  </thead>\n",
       "  <tbody>\n",
       "  </tbody>\n",
       "</table>\n",
       "</div>"
      ],
      "text/plain": [
       "Empty DataFrame\n",
       "Columns: [created_utc, title, self_text, subreddit, post_length, post_word_count]\n",
       "Index: []"
      ]
     },
     "execution_count": 35,
     "metadata": {},
     "output_type": "execute_result"
    }
   ],
   "source": [
    "marvel.head(0)"
   ]
  },
  {
   "cell_type": "code",
   "execution_count": 37,
   "id": "ebf3ac16-44c0-4316-a74b-03829e651331",
   "metadata": {
    "tags": []
   },
   "outputs": [
    {
     "data": {
      "text/html": [
       "<div>\n",
       "<style scoped>\n",
       "    .dataframe tbody tr th:only-of-type {\n",
       "        vertical-align: middle;\n",
       "    }\n",
       "\n",
       "    .dataframe tbody tr th {\n",
       "        vertical-align: top;\n",
       "    }\n",
       "\n",
       "    .dataframe thead th {\n",
       "        text-align: right;\n",
       "    }\n",
       "</style>\n",
       "<table border=\"1\" class=\"dataframe\">\n",
       "  <thead>\n",
       "    <tr style=\"text-align: right;\">\n",
       "      <th></th>\n",
       "      <th>created_utc</th>\n",
       "      <th>title</th>\n",
       "      <th>self_text</th>\n",
       "      <th>subreddit</th>\n",
       "      <th>post_length</th>\n",
       "      <th>post_word_count</th>\n",
       "    </tr>\n",
       "  </thead>\n",
       "  <tbody>\n",
       "  </tbody>\n",
       "</table>\n",
       "</div>"
      ],
      "text/plain": [
       "Empty DataFrame\n",
       "Columns: [created_utc, title, self_text, subreddit, post_length, post_word_count]\n",
       "Index: []"
      ]
     },
     "execution_count": 37,
     "metadata": {},
     "output_type": "execute_result"
    }
   ],
   "source": [
    "dc_cinematic.head(0)"
   ]
  },
  {
   "cell_type": "code",
   "execution_count": 38,
   "id": "cc4a4bd3-b1d8-41f6-ba99-7f96e3b6b79d",
   "metadata": {
    "tags": []
   },
   "outputs": [],
   "source": [
    "# create a ratio\n",
    "marvel['ratio'] = marvel.post_length/marvel.post_word_count\n",
    "dc_cinematic['ratio'] = dc_cinematic.post_length/dc_cinematic.post_word_count"
   ]
  },
  {
   "cell_type": "code",
   "execution_count": 40,
   "id": "769c0d58-b5b5-4753-8215-259e90463387",
   "metadata": {
    "tags": []
   },
   "outputs": [
    {
     "data": {
      "text/html": [
       "<div>\n",
       "<style scoped>\n",
       "    .dataframe tbody tr th:only-of-type {\n",
       "        vertical-align: middle;\n",
       "    }\n",
       "\n",
       "    .dataframe tbody tr th {\n",
       "        vertical-align: top;\n",
       "    }\n",
       "\n",
       "    .dataframe thead th {\n",
       "        text-align: right;\n",
       "    }\n",
       "</style>\n",
       "<table border=\"1\" class=\"dataframe\">\n",
       "  <thead>\n",
       "    <tr style=\"text-align: right;\">\n",
       "      <th></th>\n",
       "      <th>created_utc</th>\n",
       "      <th>title</th>\n",
       "      <th>self_text</th>\n",
       "      <th>subreddit</th>\n",
       "      <th>post_length</th>\n",
       "      <th>post_word_count</th>\n",
       "      <th>ratio</th>\n",
       "    </tr>\n",
       "  </thead>\n",
       "  <tbody>\n",
       "  </tbody>\n",
       "</table>\n",
       "</div>"
      ],
      "text/plain": [
       "Empty DataFrame\n",
       "Columns: [created_utc, title, self_text, subreddit, post_length, post_word_count, ratio]\n",
       "Index: []"
      ]
     },
     "execution_count": 40,
     "metadata": {},
     "output_type": "execute_result"
    }
   ],
   "source": [
    "marvel.head(0)"
   ]
  },
  {
   "cell_type": "code",
   "execution_count": 42,
   "id": "c1c85027-1cbc-43d5-b589-4b2f7d88297c",
   "metadata": {
    "tags": []
   },
   "outputs": [
    {
     "data": {
      "text/html": [
       "<div>\n",
       "<style scoped>\n",
       "    .dataframe tbody tr th:only-of-type {\n",
       "        vertical-align: middle;\n",
       "    }\n",
       "\n",
       "    .dataframe tbody tr th {\n",
       "        vertical-align: top;\n",
       "    }\n",
       "\n",
       "    .dataframe thead th {\n",
       "        text-align: right;\n",
       "    }\n",
       "</style>\n",
       "<table border=\"1\" class=\"dataframe\">\n",
       "  <thead>\n",
       "    <tr style=\"text-align: right;\">\n",
       "      <th></th>\n",
       "      <th>created_utc</th>\n",
       "      <th>title</th>\n",
       "      <th>self_text</th>\n",
       "      <th>subreddit</th>\n",
       "      <th>post_length</th>\n",
       "      <th>post_word_count</th>\n",
       "      <th>ratio</th>\n",
       "    </tr>\n",
       "  </thead>\n",
       "  <tbody>\n",
       "    <tr>\n",
       "      <th>0</th>\n",
       "      <td>1.697581e+09</td>\n",
       "      <td>Blue Beetle DCEU Connections/References</td>\n",
       "      <td>Haven't seen Blue Beetle but I wanna know does...</td>\n",
       "      <td>DC_Cinematic</td>\n",
       "      <td>39</td>\n",
       "      <td>4</td>\n",
       "      <td>9.750</td>\n",
       "    </tr>\n",
       "    <tr>\n",
       "      <th>1</th>\n",
       "      <td>1.697511e+09</td>\n",
       "      <td>Who should be the villain(s) in Superman: Legacy?</td>\n",
       "      <td>NaN</td>\n",
       "      <td>DC_Cinematic</td>\n",
       "      <td>49</td>\n",
       "      <td>8</td>\n",
       "      <td>6.125</td>\n",
       "    </tr>\n",
       "  </tbody>\n",
       "</table>\n",
       "</div>"
      ],
      "text/plain": [
       "    created_utc                                              title  \\\n",
       "0  1.697581e+09            Blue Beetle DCEU Connections/References   \n",
       "1  1.697511e+09  Who should be the villain(s) in Superman: Legacy?   \n",
       "\n",
       "                                           self_text     subreddit  \\\n",
       "0  Haven't seen Blue Beetle but I wanna know does...  DC_Cinematic   \n",
       "1                                                NaN  DC_Cinematic   \n",
       "\n",
       "   post_length  post_word_count  ratio  \n",
       "0           39                4  9.750  \n",
       "1           49                8  6.125  "
      ]
     },
     "execution_count": 42,
     "metadata": {},
     "output_type": "execute_result"
    }
   ],
   "source": [
    "dc_cinematic.head(2)"
   ]
  },
  {
   "cell_type": "code",
   "execution_count": 46,
   "id": "c27092ff-b6fe-4427-a602-58da2ca2747b",
   "metadata": {
    "tags": []
   },
   "outputs": [
    {
     "data": {
      "text/html": [
       "<div>\n",
       "<style scoped>\n",
       "    .dataframe tbody tr th:only-of-type {\n",
       "        vertical-align: middle;\n",
       "    }\n",
       "\n",
       "    .dataframe tbody tr th {\n",
       "        vertical-align: top;\n",
       "    }\n",
       "\n",
       "    .dataframe thead th {\n",
       "        text-align: right;\n",
       "    }\n",
       "</style>\n",
       "<table border=\"1\" class=\"dataframe\">\n",
       "  <thead>\n",
       "    <tr style=\"text-align: right;\">\n",
       "      <th></th>\n",
       "      <th>created_utc</th>\n",
       "      <th>post_length</th>\n",
       "      <th>post_word_count</th>\n",
       "      <th>ratio</th>\n",
       "    </tr>\n",
       "  </thead>\n",
       "  <tbody>\n",
       "    <tr>\n",
       "      <th>count</th>\n",
       "      <td>9.890000e+02</td>\n",
       "      <td>989.000000</td>\n",
       "      <td>989.000000</td>\n",
       "      <td>989.000000</td>\n",
       "    </tr>\n",
       "    <tr>\n",
       "      <th>mean</th>\n",
       "      <td>1.696769e+09</td>\n",
       "      <td>61.637007</td>\n",
       "      <td>10.829120</td>\n",
       "      <td>5.895385</td>\n",
       "    </tr>\n",
       "    <tr>\n",
       "      <th>std</th>\n",
       "      <td>5.156672e+05</td>\n",
       "      <td>41.378581</td>\n",
       "      <td>7.624548</td>\n",
       "      <td>1.151312</td>\n",
       "    </tr>\n",
       "    <tr>\n",
       "      <th>min</th>\n",
       "      <td>1.695801e+09</td>\n",
       "      <td>3.000000</td>\n",
       "      <td>1.000000</td>\n",
       "      <td>3.000000</td>\n",
       "    </tr>\n",
       "    <tr>\n",
       "      <th>25%</th>\n",
       "      <td>1.696360e+09</td>\n",
       "      <td>34.000000</td>\n",
       "      <td>6.000000</td>\n",
       "      <td>5.218750</td>\n",
       "    </tr>\n",
       "    <tr>\n",
       "      <th>50%</th>\n",
       "      <td>1.696798e+09</td>\n",
       "      <td>52.000000</td>\n",
       "      <td>9.000000</td>\n",
       "      <td>5.700000</td>\n",
       "    </tr>\n",
       "    <tr>\n",
       "      <th>75%</th>\n",
       "      <td>1.697232e+09</td>\n",
       "      <td>76.000000</td>\n",
       "      <td>14.000000</td>\n",
       "      <td>6.333333</td>\n",
       "    </tr>\n",
       "    <tr>\n",
       "      <th>max</th>\n",
       "      <td>1.697581e+09</td>\n",
       "      <td>288.000000</td>\n",
       "      <td>55.000000</td>\n",
       "      <td>16.000000</td>\n",
       "    </tr>\n",
       "  </tbody>\n",
       "</table>\n",
       "</div>"
      ],
      "text/plain": [
       "        created_utc  post_length  post_word_count       ratio\n",
       "count  9.890000e+02   989.000000       989.000000  989.000000\n",
       "mean   1.696769e+09    61.637007        10.829120    5.895385\n",
       "std    5.156672e+05    41.378581         7.624548    1.151312\n",
       "min    1.695801e+09     3.000000         1.000000    3.000000\n",
       "25%    1.696360e+09    34.000000         6.000000    5.218750\n",
       "50%    1.696798e+09    52.000000         9.000000    5.700000\n",
       "75%    1.697232e+09    76.000000        14.000000    6.333333\n",
       "max    1.697581e+09   288.000000        55.000000   16.000000"
      ]
     },
     "execution_count": 46,
     "metadata": {},
     "output_type": "execute_result"
    }
   ],
   "source": [
    "marvel.describe()"
   ]
  },
  {
   "cell_type": "code",
   "execution_count": 47,
   "id": "e6debb3f-5884-41ee-8476-1886b759977c",
   "metadata": {
    "tags": []
   },
   "outputs": [
    {
     "data": {
      "text/html": [
       "<div>\n",
       "<style scoped>\n",
       "    .dataframe tbody tr th:only-of-type {\n",
       "        vertical-align: middle;\n",
       "    }\n",
       "\n",
       "    .dataframe tbody tr th {\n",
       "        vertical-align: top;\n",
       "    }\n",
       "\n",
       "    .dataframe thead th {\n",
       "        text-align: right;\n",
       "    }\n",
       "</style>\n",
       "<table border=\"1\" class=\"dataframe\">\n",
       "  <thead>\n",
       "    <tr style=\"text-align: right;\">\n",
       "      <th></th>\n",
       "      <th>created_utc</th>\n",
       "      <th>post_length</th>\n",
       "      <th>post_word_count</th>\n",
       "      <th>ratio</th>\n",
       "    </tr>\n",
       "  </thead>\n",
       "  <tbody>\n",
       "    <tr>\n",
       "      <th>count</th>\n",
       "      <td>9.780000e+02</td>\n",
       "      <td>978.00000</td>\n",
       "      <td>978.000000</td>\n",
       "      <td>978.000000</td>\n",
       "    </tr>\n",
       "    <tr>\n",
       "      <th>mean</th>\n",
       "      <td>1.694303e+09</td>\n",
       "      <td>73.54908</td>\n",
       "      <td>12.985685</td>\n",
       "      <td>5.720376</td>\n",
       "    </tr>\n",
       "    <tr>\n",
       "      <th>std</th>\n",
       "      <td>1.563411e+06</td>\n",
       "      <td>47.08389</td>\n",
       "      <td>8.203389</td>\n",
       "      <td>0.858811</td>\n",
       "    </tr>\n",
       "    <tr>\n",
       "      <th>min</th>\n",
       "      <td>1.691984e+09</td>\n",
       "      <td>5.00000</td>\n",
       "      <td>1.000000</td>\n",
       "      <td>3.000000</td>\n",
       "    </tr>\n",
       "    <tr>\n",
       "      <th>25%</th>\n",
       "      <td>1.692915e+09</td>\n",
       "      <td>42.25000</td>\n",
       "      <td>8.000000</td>\n",
       "      <td>5.166667</td>\n",
       "    </tr>\n",
       "    <tr>\n",
       "      <th>50%</th>\n",
       "      <td>1.694102e+09</td>\n",
       "      <td>62.00000</td>\n",
       "      <td>11.000000</td>\n",
       "      <td>5.660256</td>\n",
       "    </tr>\n",
       "    <tr>\n",
       "      <th>75%</th>\n",
       "      <td>1.695481e+09</td>\n",
       "      <td>90.00000</td>\n",
       "      <td>16.000000</td>\n",
       "      <td>6.123750</td>\n",
       "    </tr>\n",
       "    <tr>\n",
       "      <th>max</th>\n",
       "      <td>1.697581e+09</td>\n",
       "      <td>299.00000</td>\n",
       "      <td>57.000000</td>\n",
       "      <td>10.500000</td>\n",
       "    </tr>\n",
       "  </tbody>\n",
       "</table>\n",
       "</div>"
      ],
      "text/plain": [
       "        created_utc  post_length  post_word_count       ratio\n",
       "count  9.780000e+02    978.00000       978.000000  978.000000\n",
       "mean   1.694303e+09     73.54908        12.985685    5.720376\n",
       "std    1.563411e+06     47.08389         8.203389    0.858811\n",
       "min    1.691984e+09      5.00000         1.000000    3.000000\n",
       "25%    1.692915e+09     42.25000         8.000000    5.166667\n",
       "50%    1.694102e+09     62.00000        11.000000    5.660256\n",
       "75%    1.695481e+09     90.00000        16.000000    6.123750\n",
       "max    1.697581e+09    299.00000        57.000000   10.500000"
      ]
     },
     "execution_count": 47,
     "metadata": {},
     "output_type": "execute_result"
    }
   ],
   "source": [
    "dc_cinematic.describe()"
   ]
  },
  {
   "cell_type": "markdown",
   "id": "6d5dac5a-6c47-4fdb-9144-576fdf32678a",
   "metadata": {},
   "source": [
    "#### Top 10 post word count"
   ]
  },
  {
   "cell_type": "code",
   "execution_count": 51,
   "id": "7088250d-276e-47df-98a6-f2b333d53088",
   "metadata": {
    "tags": []
   },
   "outputs": [
    {
     "data": {
      "text/html": [
       "<div>\n",
       "<style scoped>\n",
       "    .dataframe tbody tr th:only-of-type {\n",
       "        vertical-align: middle;\n",
       "    }\n",
       "\n",
       "    .dataframe tbody tr th {\n",
       "        vertical-align: top;\n",
       "    }\n",
       "\n",
       "    .dataframe thead th {\n",
       "        text-align: right;\n",
       "    }\n",
       "</style>\n",
       "<table border=\"1\" class=\"dataframe\">\n",
       "  <thead>\n",
       "    <tr style=\"text-align: right;\">\n",
       "      <th></th>\n",
       "      <th>subreddit</th>\n",
       "      <th>post_word_count</th>\n",
       "      <th>post_length</th>\n",
       "      <th>ratio</th>\n",
       "      <th>title</th>\n",
       "    </tr>\n",
       "  </thead>\n",
       "  <tbody>\n",
       "    <tr>\n",
       "      <th>866</th>\n",
       "      <td>Marvel</td>\n",
       "      <td>55</td>\n",
       "      <td>278</td>\n",
       "      <td>5.054545</td>\n",
       "      <td>So I think we can all agree that Wanda’s not d...</td>\n",
       "    </tr>\n",
       "    <tr>\n",
       "      <th>944</th>\n",
       "      <td>Marvel</td>\n",
       "      <td>52</td>\n",
       "      <td>288</td>\n",
       "      <td>5.538462</td>\n",
       "      <td>Here’s a weird question for you all: How would...</td>\n",
       "    </tr>\n",
       "    <tr>\n",
       "      <th>151</th>\n",
       "      <td>Marvel</td>\n",
       "      <td>51</td>\n",
       "      <td>273</td>\n",
       "      <td>5.352941</td>\n",
       "      <td>if marvel were to animate a comic (the way jap...</td>\n",
       "    </tr>\n",
       "    <tr>\n",
       "      <th>262</th>\n",
       "      <td>Marvel</td>\n",
       "      <td>50</td>\n",
       "      <td>283</td>\n",
       "      <td>5.660000</td>\n",
       "      <td>I always thought it would be cool if Marvel ev...</td>\n",
       "    </tr>\n",
       "    <tr>\n",
       "      <th>918</th>\n",
       "      <td>Marvel</td>\n",
       "      <td>45</td>\n",
       "      <td>238</td>\n",
       "      <td>5.288889</td>\n",
       "      <td>Does anyone know what would have been Donny ca...</td>\n",
       "    </tr>\n",
       "    <tr>\n",
       "      <th>572</th>\n",
       "      <td>Marvel</td>\n",
       "      <td>43</td>\n",
       "      <td>204</td>\n",
       "      <td>4.744186</td>\n",
       "      <td>What do you think is the chance that the chara...</td>\n",
       "    </tr>\n",
       "    <tr>\n",
       "      <th>891</th>\n",
       "      <td>Marvel</td>\n",
       "      <td>43</td>\n",
       "      <td>226</td>\n",
       "      <td>5.255814</td>\n",
       "      <td>I've seen a lot of people at this point wantin...</td>\n",
       "    </tr>\n",
       "    <tr>\n",
       "      <th>438</th>\n",
       "      <td>Marvel</td>\n",
       "      <td>41</td>\n",
       "      <td>246</td>\n",
       "      <td>6.000000</td>\n",
       "      <td>I remember this art work being the staple of m...</td>\n",
       "    </tr>\n",
       "    <tr>\n",
       "      <th>622</th>\n",
       "      <td>Marvel</td>\n",
       "      <td>41</td>\n",
       "      <td>229</td>\n",
       "      <td>5.585366</td>\n",
       "      <td>At least the avengers bothered to show up at D...</td>\n",
       "    </tr>\n",
       "    <tr>\n",
       "      <th>6</th>\n",
       "      <td>Marvel</td>\n",
       "      <td>40</td>\n",
       "      <td>218</td>\n",
       "      <td>5.450000</td>\n",
       "      <td>In Avengers Infinity War, when Iron Man and Dr...</td>\n",
       "    </tr>\n",
       "  </tbody>\n",
       "</table>\n",
       "</div>"
      ],
      "text/plain": [
       "    subreddit  post_word_count  post_length     ratio  \\\n",
       "866    Marvel               55          278  5.054545   \n",
       "944    Marvel               52          288  5.538462   \n",
       "151    Marvel               51          273  5.352941   \n",
       "262    Marvel               50          283  5.660000   \n",
       "918    Marvel               45          238  5.288889   \n",
       "572    Marvel               43          204  4.744186   \n",
       "891    Marvel               43          226  5.255814   \n",
       "438    Marvel               41          246  6.000000   \n",
       "622    Marvel               41          229  5.585366   \n",
       "6      Marvel               40          218  5.450000   \n",
       "\n",
       "                                                 title  \n",
       "866  So I think we can all agree that Wanda’s not d...  \n",
       "944  Here’s a weird question for you all: How would...  \n",
       "151  if marvel were to animate a comic (the way jap...  \n",
       "262  I always thought it would be cool if Marvel ev...  \n",
       "918  Does anyone know what would have been Donny ca...  \n",
       "572  What do you think is the chance that the chara...  \n",
       "891  I've seen a lot of people at this point wantin...  \n",
       "438  I remember this art work being the staple of m...  \n",
       "622  At least the avengers bothered to show up at D...  \n",
       "6    In Avengers Infinity War, when Iron Man and Dr...  "
      ]
     },
     "execution_count": 51,
     "metadata": {},
     "output_type": "execute_result"
    }
   ],
   "source": [
    "# top 10 longest marvel_post\n",
    "marvel.sort_values(by='post_word_count', ascending=False)[['subreddit','post_word_count','post_length','ratio','title']].head(10)"
   ]
  },
  {
   "cell_type": "code",
   "execution_count": 53,
   "id": "41e8d85f-80f0-4e2f-8de0-f3a02b9cbe40",
   "metadata": {
    "tags": []
   },
   "outputs": [
    {
     "data": {
      "text/html": [
       "<div>\n",
       "<style scoped>\n",
       "    .dataframe tbody tr th:only-of-type {\n",
       "        vertical-align: middle;\n",
       "    }\n",
       "\n",
       "    .dataframe tbody tr th {\n",
       "        vertical-align: top;\n",
       "    }\n",
       "\n",
       "    .dataframe thead th {\n",
       "        text-align: right;\n",
       "    }\n",
       "</style>\n",
       "<table border=\"1\" class=\"dataframe\">\n",
       "  <thead>\n",
       "    <tr style=\"text-align: right;\">\n",
       "      <th></th>\n",
       "      <th>subreddit</th>\n",
       "      <th>post_word_count</th>\n",
       "      <th>post_length</th>\n",
       "      <th>ratio</th>\n",
       "      <th>title</th>\n",
       "    </tr>\n",
       "  </thead>\n",
       "  <tbody>\n",
       "    <tr>\n",
       "      <th>18</th>\n",
       "      <td>DC_Cinematic</td>\n",
       "      <td>57</td>\n",
       "      <td>299</td>\n",
       "      <td>5.245614</td>\n",
       "      <td>I have always wondered who it was Clark was pr...</td>\n",
       "    </tr>\n",
       "    <tr>\n",
       "      <th>974</th>\n",
       "      <td>DC_Cinematic</td>\n",
       "      <td>52</td>\n",
       "      <td>299</td>\n",
       "      <td>5.750000</td>\n",
       "      <td>In the the trailer, it looks like they're both...</td>\n",
       "    </tr>\n",
       "    <tr>\n",
       "      <th>358</th>\n",
       "      <td>DC_Cinematic</td>\n",
       "      <td>51</td>\n",
       "      <td>293</td>\n",
       "      <td>5.745098</td>\n",
       "      <td>Tim Burton breaks silence on The Flash using h...</td>\n",
       "    </tr>\n",
       "    <tr>\n",
       "      <th>503</th>\n",
       "      <td>DC_Cinematic</td>\n",
       "      <td>50</td>\n",
       "      <td>286</td>\n",
       "      <td>5.720000</td>\n",
       "      <td>Mr. Mind and the Monster Society of Evil shoul...</td>\n",
       "    </tr>\n",
       "    <tr>\n",
       "      <th>204</th>\n",
       "      <td>DC_Cinematic</td>\n",
       "      <td>49</td>\n",
       "      <td>273</td>\n",
       "      <td>5.571429</td>\n",
       "      <td>\"And, yes, some actors will be playing charact...</td>\n",
       "    </tr>\n",
       "    <tr>\n",
       "      <th>209</th>\n",
       "      <td>DC_Cinematic</td>\n",
       "      <td>48</td>\n",
       "      <td>299</td>\n",
       "      <td>6.229167</td>\n",
       "      <td>Fun Fact: Birdman, an Oscar-winning movie rele...</td>\n",
       "    </tr>\n",
       "    <tr>\n",
       "      <th>686</th>\n",
       "      <td>DC_Cinematic</td>\n",
       "      <td>48</td>\n",
       "      <td>275</td>\n",
       "      <td>5.729167</td>\n",
       "      <td>That’s it! #BlueBeetle had #5 best hold in DCE...</td>\n",
       "    </tr>\n",
       "    <tr>\n",
       "      <th>665</th>\n",
       "      <td>DC_Cinematic</td>\n",
       "      <td>46</td>\n",
       "      <td>278</td>\n",
       "      <td>6.043478</td>\n",
       "      <td>With actuals out, #BlueBeetle was the first ch...</td>\n",
       "    </tr>\n",
       "    <tr>\n",
       "      <th>930</th>\n",
       "      <td>DC_Cinematic</td>\n",
       "      <td>46</td>\n",
       "      <td>264</td>\n",
       "      <td>5.739130</td>\n",
       "      <td>James Gunn praises WONDER WOMAN HISTORIA as \"a...</td>\n",
       "    </tr>\n",
       "    <tr>\n",
       "      <th>805</th>\n",
       "      <td>DC_Cinematic</td>\n",
       "      <td>46</td>\n",
       "      <td>267</td>\n",
       "      <td>5.804348</td>\n",
       "      <td>When James Gunn cast David Dastmalchian as sup...</td>\n",
       "    </tr>\n",
       "  </tbody>\n",
       "</table>\n",
       "</div>"
      ],
      "text/plain": [
       "        subreddit  post_word_count  post_length     ratio  \\\n",
       "18   DC_Cinematic               57          299  5.245614   \n",
       "974  DC_Cinematic               52          299  5.750000   \n",
       "358  DC_Cinematic               51          293  5.745098   \n",
       "503  DC_Cinematic               50          286  5.720000   \n",
       "204  DC_Cinematic               49          273  5.571429   \n",
       "209  DC_Cinematic               48          299  6.229167   \n",
       "686  DC_Cinematic               48          275  5.729167   \n",
       "665  DC_Cinematic               46          278  6.043478   \n",
       "930  DC_Cinematic               46          264  5.739130   \n",
       "805  DC_Cinematic               46          267  5.804348   \n",
       "\n",
       "                                                 title  \n",
       "18   I have always wondered who it was Clark was pr...  \n",
       "974  In the the trailer, it looks like they're both...  \n",
       "358  Tim Burton breaks silence on The Flash using h...  \n",
       "503  Mr. Mind and the Monster Society of Evil shoul...  \n",
       "204  \"And, yes, some actors will be playing charact...  \n",
       "209  Fun Fact: Birdman, an Oscar-winning movie rele...  \n",
       "686  That’s it! #BlueBeetle had #5 best hold in DCE...  \n",
       "665  With actuals out, #BlueBeetle was the first ch...  \n",
       "930  James Gunn praises WONDER WOMAN HISTORIA as \"a...  \n",
       "805  When James Gunn cast David Dastmalchian as sup...  "
      ]
     },
     "execution_count": 53,
     "metadata": {},
     "output_type": "execute_result"
    }
   ],
   "source": [
    "# top 10 longest dc_cinematic_post\n",
    "dc_cinematic.sort_values(by='post_word_count', ascending=False)[['subreddit','post_word_count','post_length','ratio','title']].head(10)"
   ]
  },
  {
   "cell_type": "markdown",
   "id": "a5383635-cb3b-4897-be78-828106a567c0",
   "metadata": {},
   "source": [
    "#### Bottom 10 post word count"
   ]
  },
  {
   "cell_type": "code",
   "execution_count": 52,
   "id": "7eebff23-b7a2-4bff-81e8-c32d2033c316",
   "metadata": {
    "tags": []
   },
   "outputs": [
    {
     "data": {
      "text/html": [
       "<div>\n",
       "<style scoped>\n",
       "    .dataframe tbody tr th:only-of-type {\n",
       "        vertical-align: middle;\n",
       "    }\n",
       "\n",
       "    .dataframe tbody tr th {\n",
       "        vertical-align: top;\n",
       "    }\n",
       "\n",
       "    .dataframe thead th {\n",
       "        text-align: right;\n",
       "    }\n",
       "</style>\n",
       "<table border=\"1\" class=\"dataframe\">\n",
       "  <thead>\n",
       "    <tr style=\"text-align: right;\">\n",
       "      <th></th>\n",
       "      <th>subreddit</th>\n",
       "      <th>post_word_count</th>\n",
       "      <th>post_length</th>\n",
       "      <th>ratio</th>\n",
       "      <th>title</th>\n",
       "    </tr>\n",
       "  </thead>\n",
       "  <tbody>\n",
       "    <tr>\n",
       "      <th>703</th>\n",
       "      <td>Marvel</td>\n",
       "      <td>1</td>\n",
       "      <td>16</td>\n",
       "      <td>16.0</td>\n",
       "      <td>Self-Explanatory</td>\n",
       "    </tr>\n",
       "    <tr>\n",
       "      <th>824</th>\n",
       "      <td>Marvel</td>\n",
       "      <td>1</td>\n",
       "      <td>8</td>\n",
       "      <td>8.0</td>\n",
       "      <td>Galactus</td>\n",
       "    </tr>\n",
       "    <tr>\n",
       "      <th>485</th>\n",
       "      <td>Marvel</td>\n",
       "      <td>1</td>\n",
       "      <td>7</td>\n",
       "      <td>7.0</td>\n",
       "      <td>Sadness</td>\n",
       "    </tr>\n",
       "    <tr>\n",
       "      <th>278</th>\n",
       "      <td>Marvel</td>\n",
       "      <td>1</td>\n",
       "      <td>6</td>\n",
       "      <td>6.0</td>\n",
       "      <td>Ultron</td>\n",
       "    </tr>\n",
       "    <tr>\n",
       "      <th>202</th>\n",
       "      <td>Marvel</td>\n",
       "      <td>1</td>\n",
       "      <td>3</td>\n",
       "      <td>3.0</td>\n",
       "      <td>HoX</td>\n",
       "    </tr>\n",
       "    <tr>\n",
       "      <th>595</th>\n",
       "      <td>Marvel</td>\n",
       "      <td>1</td>\n",
       "      <td>9</td>\n",
       "      <td>9.0</td>\n",
       "      <td>Opiniyann</td>\n",
       "    </tr>\n",
       "    <tr>\n",
       "      <th>701</th>\n",
       "      <td>Marvel</td>\n",
       "      <td>1</td>\n",
       "      <td>11</td>\n",
       "      <td>11.0</td>\n",
       "      <td>Cancerverse</td>\n",
       "    </tr>\n",
       "    <tr>\n",
       "      <th>617</th>\n",
       "      <td>Marvel</td>\n",
       "      <td>1</td>\n",
       "      <td>8</td>\n",
       "      <td>8.0</td>\n",
       "      <td>Eternals</td>\n",
       "    </tr>\n",
       "    <tr>\n",
       "      <th>227</th>\n",
       "      <td>Marvel</td>\n",
       "      <td>1</td>\n",
       "      <td>13</td>\n",
       "      <td>13.0</td>\n",
       "      <td>Annihilation!</td>\n",
       "    </tr>\n",
       "    <tr>\n",
       "      <th>731</th>\n",
       "      <td>Marvel</td>\n",
       "      <td>1</td>\n",
       "      <td>8</td>\n",
       "      <td>8.0</td>\n",
       "      <td>Curious?</td>\n",
       "    </tr>\n",
       "  </tbody>\n",
       "</table>\n",
       "</div>"
      ],
      "text/plain": [
       "    subreddit  post_word_count  post_length  ratio             title\n",
       "703    Marvel                1           16   16.0  Self-Explanatory\n",
       "824    Marvel                1            8    8.0          Galactus\n",
       "485    Marvel                1            7    7.0           Sadness\n",
       "278    Marvel                1            6    6.0            Ultron\n",
       "202    Marvel                1            3    3.0               HoX\n",
       "595    Marvel                1            9    9.0         Opiniyann\n",
       "701    Marvel                1           11   11.0       Cancerverse\n",
       "617    Marvel                1            8    8.0          Eternals\n",
       "227    Marvel                1           13   13.0     Annihilation!\n",
       "731    Marvel                1            8    8.0          Curious?"
      ]
     },
     "execution_count": 52,
     "metadata": {},
     "output_type": "execute_result"
    }
   ],
   "source": [
    "# top 10 shortest marvel_post\n",
    "marvel.sort_values(by='post_word_count', ascending=True)[['subreddit','post_word_count','post_length','ratio','title']].head(10)"
   ]
  },
  {
   "cell_type": "code",
   "execution_count": 54,
   "id": "2aed87a9-40b3-4be3-9746-6e27c23e12f7",
   "metadata": {
    "tags": []
   },
   "outputs": [
    {
     "data": {
      "text/html": [
       "<div>\n",
       "<style scoped>\n",
       "    .dataframe tbody tr th:only-of-type {\n",
       "        vertical-align: middle;\n",
       "    }\n",
       "\n",
       "    .dataframe tbody tr th {\n",
       "        vertical-align: top;\n",
       "    }\n",
       "\n",
       "    .dataframe thead th {\n",
       "        text-align: right;\n",
       "    }\n",
       "</style>\n",
       "<table border=\"1\" class=\"dataframe\">\n",
       "  <thead>\n",
       "    <tr style=\"text-align: right;\">\n",
       "      <th></th>\n",
       "      <th>subreddit</th>\n",
       "      <th>post_word_count</th>\n",
       "      <th>post_length</th>\n",
       "      <th>ratio</th>\n",
       "      <th>title</th>\n",
       "    </tr>\n",
       "  </thead>\n",
       "  <tbody>\n",
       "    <tr>\n",
       "      <th>649</th>\n",
       "      <td>DC_Cinematic</td>\n",
       "      <td>1</td>\n",
       "      <td>5</td>\n",
       "      <td>5.0</td>\n",
       "      <td>Iykyk</td>\n",
       "    </tr>\n",
       "    <tr>\n",
       "      <th>44</th>\n",
       "      <td>DC_Cinematic</td>\n",
       "      <td>2</td>\n",
       "      <td>15</td>\n",
       "      <td>7.5</td>\n",
       "      <td>Source material</td>\n",
       "    </tr>\n",
       "    <tr>\n",
       "      <th>277</th>\n",
       "      <td>DC_Cinematic</td>\n",
       "      <td>2</td>\n",
       "      <td>20</td>\n",
       "      <td>10.0</td>\n",
       "      <td>Snyder’s controversy</td>\n",
       "    </tr>\n",
       "    <tr>\n",
       "      <th>286</th>\n",
       "      <td>DC_Cinematic</td>\n",
       "      <td>2</td>\n",
       "      <td>21</td>\n",
       "      <td>10.5</td>\n",
       "      <td>Batfleck appreciation</td>\n",
       "    </tr>\n",
       "    <tr>\n",
       "      <th>530</th>\n",
       "      <td>DC_Cinematic</td>\n",
       "      <td>2</td>\n",
       "      <td>15</td>\n",
       "      <td>7.5</td>\n",
       "      <td>Aquaman Trailer</td>\n",
       "    </tr>\n",
       "    <tr>\n",
       "      <th>427</th>\n",
       "      <td>DC_Cinematic</td>\n",
       "      <td>2</td>\n",
       "      <td>13</td>\n",
       "      <td>6.5</td>\n",
       "      <td>Belgium, 1918</td>\n",
       "    </tr>\n",
       "    <tr>\n",
       "      <th>753</th>\n",
       "      <td>DC_Cinematic</td>\n",
       "      <td>2</td>\n",
       "      <td>10</td>\n",
       "      <td>5.0</td>\n",
       "      <td>Her emails</td>\n",
       "    </tr>\n",
       "    <tr>\n",
       "      <th>870</th>\n",
       "      <td>DC_Cinematic</td>\n",
       "      <td>2</td>\n",
       "      <td>16</td>\n",
       "      <td>8.0</td>\n",
       "      <td>Gigachad move!!!</td>\n",
       "    </tr>\n",
       "    <tr>\n",
       "      <th>128</th>\n",
       "      <td>DC_Cinematic</td>\n",
       "      <td>2</td>\n",
       "      <td>8</td>\n",
       "      <td>4.0</td>\n",
       "      <td>DCU Poll</td>\n",
       "    </tr>\n",
       "    <tr>\n",
       "      <th>510</th>\n",
       "      <td>DC_Cinematic</td>\n",
       "      <td>2</td>\n",
       "      <td>12</td>\n",
       "      <td>6.0</td>\n",
       "      <td>Graphic data</td>\n",
       "    </tr>\n",
       "  </tbody>\n",
       "</table>\n",
       "</div>"
      ],
      "text/plain": [
       "        subreddit  post_word_count  post_length  ratio                  title\n",
       "649  DC_Cinematic                1            5    5.0                  Iykyk\n",
       "44   DC_Cinematic                2           15    7.5        Source material\n",
       "277  DC_Cinematic                2           20   10.0   Snyder’s controversy\n",
       "286  DC_Cinematic                2           21   10.5  Batfleck appreciation\n",
       "530  DC_Cinematic                2           15    7.5        Aquaman Trailer\n",
       "427  DC_Cinematic                2           13    6.5          Belgium, 1918\n",
       "753  DC_Cinematic                2           10    5.0             Her emails\n",
       "870  DC_Cinematic                2           16    8.0       Gigachad move!!!\n",
       "128  DC_Cinematic                2            8    4.0               DCU Poll\n",
       "510  DC_Cinematic                2           12    6.0           Graphic data"
      ]
     },
     "execution_count": 54,
     "metadata": {},
     "output_type": "execute_result"
    }
   ],
   "source": [
    "# top 10 shortest dc_cinematic_post\n",
    "dc_cinematic.sort_values(by='post_word_count', ascending=True)[['subreddit','post_word_count','post_length','ratio','title']].head(10)"
   ]
  },
  {
   "cell_type": "markdown",
   "id": "29a6d705-01c1-4b15-8f20-136c905203ff",
   "metadata": {},
   "source": [
    "#### CountVectorizing"
   ]
  },
  {
   "cell_type": "code",
   "execution_count": null,
   "id": "39634668-3d26-47e0-a6e9-9011907e0d5a",
   "metadata": {},
   "outputs": [],
   "source": [
    "# marvel top 20 common word\n",
    "cv = CountVectorizer(stop_words='english')\n",
    "cv.fit(marvel['title'])\n",
    "\n",
    "marvel_post_cv = cv.transform(marvel['title'])\n",
    "marvel_post_df = pd.DataFrame(marvel_post_cv.todense(), columns=cv.get_feature_names())"
   ]
  },
  {
   "cell_type": "code",
   "execution_count": null,
   "id": "780493b6-e4f5-4765-9a20-9831fcb6ae99",
   "metadata": {},
   "outputs": [],
   "source": [
    "marvel_top_words = pd.DataFrame(startrek_post_df.sum().sort_values(ascending=False).head(20), columns = ['Count'])\n",
    "marvel_top_words.T"
   ]
  },
  {
   "cell_type": "code",
   "execution_count": 15,
   "id": "205fbeae-6c8e-48c7-9ad7-f2e704d5f1e8",
   "metadata": {
    "tags": []
   },
   "outputs": [],
   "source": [
    "#get df for both subreddits\n",
    "#concat both df\n",
    "#EDA -lem,countvectori\n",
    " "
   ]
  },
  {
   "cell_type": "markdown",
   "id": "2eb4c19d-f9d9-4be8-9ca5-5ecbbde48970",
   "metadata": {},
   "source": [
    "Remember, you will need to pull *at least* 1000 posts from each subreddit, not just 25. Like I mentioned above, you can use the created_utc attribute of a post to keep track of the timestamp and ensure non-overlapping pulls. We will leave this work for you all to complete.\n",
    "\n",
    "Once you have at least 1000 posts from each subreddit, you can do some EDA (perhaps maybe the most common words in each subreddit..?) Eventually, you will want to combine your two dataframes together to do modeling."
   ]
  },
  {
   "cell_type": "markdown",
   "id": "d0785dc1-075d-4bd4-8c34-4dd2978d7dfb",
   "metadata": {},
   "source": [
    "### Hopefully this is enough of a tutorial to help get you started! If you have any questions, let us know!"
   ]
  },
  {
   "cell_type": "markdown",
   "id": "8f942833-8fdb-46d1-9182-b672e49434a5",
   "metadata": {},
   "source": [
    "### Note: Rather than working in this template notebook, make a brand new \"scraping\" notebook (or script), with your own comments, so you can use this project in a portfolio!"
   ]
  }
 ],
 "metadata": {
  "kernelspec": {
   "display_name": "Python 3 (ipykernel)",
   "language": "python",
   "name": "python3"
  },
  "language_info": {
   "codemirror_mode": {
    "name": "ipython",
    "version": 3
   },
   "file_extension": ".py",
   "mimetype": "text/x-python",
   "name": "python",
   "nbconvert_exporter": "python",
   "pygments_lexer": "ipython3",
   "version": "3.11.4"
  }
 },
 "nbformat": 4,
 "nbformat_minor": 5
}
