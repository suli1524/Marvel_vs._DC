{
 "cells": [
  {
   "cell_type": "markdown",
   "id": "bc426077-0da2-49af-8e9f-e7a27ebaadd9",
   "metadata": {},
   "source": [
    "# **1. Install PRAW**"
   ]
  },
  {
   "cell_type": "code",
   "execution_count": 1,
   "id": "6a3e56be-a4bf-43d4-8c57-7f9954b44b46",
   "metadata": {
    "tags": []
   },
   "outputs": [],
   "source": [
    "#!pip install praw\n",
    "import praw\n"
   ]
  },
  {
   "cell_type": "markdown",
   "id": "78ecd0ed-d601-4b45-b545-639d4a1e7b49",
   "metadata": {},
   "source": [
    "# **2. Create a Reddit App**"
   ]
  },
  {
   "cell_type": "markdown",
   "id": "da49f3cc-1cec-4917-90f4-7b639d7a145a",
   "metadata": {},
   "source": [
    "To access the Reddit API, you'll need to create an application on Reddit and obtain your API credentials. Follow these steps:\n",
    "\n",
    "- Go to the Reddit website (https://www.reddit.com/) and log in to your account. Feel free to create a throwaway account for this project!\n",
    "- Navigate to the Reddit Apps page (https://www.reddit.com/prefs/apps).\n",
    "- Click the \"are you a developer? create an app...\" button in the top left.\n",
    "- Provide a name for your app (e.g., \"PRAW\"), select the app type ('script') , and optionally add a description. Use http://localhost:8080 as your redirect URI.\n",
    "- After submitting the form, you will reach a page that looks like the following image. You'll see your application's details, including the client ID and client secret. Keep these credentials handy for the next step.\n"
   ]
  },
  {
   "cell_type": "markdown",
   "id": "b3997780-adc4-4ee2-91e3-6a296587cdf8",
   "metadata": {},
   "source": [
    "![Praw](https://www.honchosearch.com/hubfs/Imported_Blog_Media/Client-ID-Client-Secret.png)"
   ]
  },
  {
   "cell_type": "markdown",
   "id": "2b71b52e-05db-4a47-8c8c-ec8f4fd9c283",
   "metadata": {},
   "source": [
    "# **3. Initialize PRAW**"
   ]
  },
  {
   "cell_type": "code",
   "execution_count": 2,
   "id": "103d7151-cf2e-47cb-82c2-578faa763888",
   "metadata": {
    "tags": []
   },
   "outputs": [],
   "source": [
    "reddit = praw.Reddit(\n",
    "    client_id='jjMYUBu4dyHMdpIYkCrsOQ',\n",
    "    client_secret='Sj3IYg7ZTOaM0XthXLfBIPq6AgfAqw',\n",
    "    user_agent='project_3',\n",
    "    username='suli1524',\n",
    "    password='Suli.1524'\n",
    ")"
   ]
  },
  {
   "cell_type": "markdown",
   "id": "204db51a-ee1d-4180-839b-67bdecea4fe5",
   "metadata": {},
   "source": [
    "Replace 'YOUR_CLIENT_ID', 'YOUR_CLIENT_SECRET', 'YOUR_USER_AGENT', 'YOUR_REDDIT_USERNAME', and 'YOUR_REDDIT_PASSWORD' with your actual Reddit API credentials."
   ]
  },
  {
   "cell_type": "markdown",
   "id": "95b298a6-1aa9-4690-8447-6f717c24e9cc",
   "metadata": {},
   "source": [
    "Your user agent is an identifier used by reddit to identify the source of requests. You can make it whatever you want, but you'll want to choose something descriptive and unique, and it's recommended that your username is included."
   ]
  },
  {
   "cell_type": "markdown",
   "id": "d9006de6-d5ce-4537-a9c7-ca5bdd4ee630",
   "metadata": {},
   "source": [
    "**I have removed my own credentials from this workbook. We can show you how to hide your credentials before submitting the project! The following code will need your own credentials in order to successfully work.**"
   ]
  },
  {
   "cell_type": "markdown",
   "id": "072ea3ea-ab20-4fe5-8711-dbe220400fa3",
   "metadata": {},
   "source": [
    "# 4. Take a look at the documentation [here](https://praw.readthedocs.io/)!"
   ]
  },
  {
   "cell_type": "code",
   "execution_count": 3,
   "id": "17aa261b-f63a-4437-ac41-242982cb546c",
   "metadata": {
    "tags": []
   },
   "outputs": [],
   "source": [
    "# Below is JUST an example of how you can use PRAW\n",
    "\n",
    "# Choose your subreddit\n",
    "subreddit = reddit.subreddit('marvel')\n",
    "\n",
    "# Adjust the limit as needed -- Note that this will grab the 25 most recent posts\n",
    "posts = subreddit.new(limit=1000)"
   ]
  },
  {
   "cell_type": "code",
   "execution_count": 4,
   "id": "ac502106-0439-458b-9216-f041f9d71869",
   "metadata": {
    "tags": []
   },
   "outputs": [],
   "source": [
    " #Below is JUST an example of how you can use PRAW\n",
    "\n",
    "# Choose your subreddit\n",
    "subreddit_1 = reddit.subreddit('DC_Cinematic')\n",
    "\n",
    "# Adjust the limit as needed -- Note that this will grab the 25 most recent posts\n",
    "posts_1 = subreddit_1.new(limit=1000)"
   ]
  },
  {
   "cell_type": "markdown",
   "id": "ad8eb1f6-449f-4bc9-9d56-1fe03739ff50",
   "metadata": {},
   "source": [
    "## NOTE\n",
    "- Reddit API Limitations: The Reddit API imposes limitations on the number of posts you can retrieve in a single request. The maximum number of posts per request is typically 100. Therefore, if you set the limit parameter to a value greater than 100, PRAW will make multiple requests behind the scenes to fetch the desired number of posts.\n",
    "- Rate Limiting: The Reddit API also enforces rate limits to prevent abuse and ensure fair usage. The specific rate limits can vary depending on factors such as your Reddit account's age and karma. As a standard user, you're typically allowed to make 60 requests per minute. If you exceed the rate limit, you may receive an error response until the rate limit resets.\n",
    "- TIP: You can use the created_utc attribute of a post to keep track of the timestamp and ensure non-overlapping pulls. The created_utc attribute represents the post's creation time in UTC."
   ]
  },
  {
   "cell_type": "code",
   "execution_count": 5,
   "id": "a1b221e2-244d-42dc-9c89-1d04134fc7d2",
   "metadata": {
    "tags": []
   },
   "outputs": [
    {
     "data": {
      "text/html": [
       "<div>\n",
       "<style scoped>\n",
       "    .dataframe tbody tr th:only-of-type {\n",
       "        vertical-align: middle;\n",
       "    }\n",
       "\n",
       "    .dataframe tbody tr th {\n",
       "        vertical-align: top;\n",
       "    }\n",
       "\n",
       "    .dataframe thead th {\n",
       "        text-align: right;\n",
       "    }\n",
       "</style>\n",
       "<table border=\"1\" class=\"dataframe\">\n",
       "  <thead>\n",
       "    <tr style=\"text-align: right;\">\n",
       "      <th></th>\n",
       "      <th>created_utc</th>\n",
       "      <th>title</th>\n",
       "      <th>self_text</th>\n",
       "      <th>subreddit</th>\n",
       "    </tr>\n",
       "  </thead>\n",
       "  <tbody>\n",
       "    <tr>\n",
       "      <th>0</th>\n",
       "      <td>1.697424e+09</td>\n",
       "      <td>Marvel comic subscription</td>\n",
       "      <td>Friends, I've never been a comic reader but id...</td>\n",
       "      <td>Marvel</td>\n",
       "    </tr>\n",
       "    <tr>\n",
       "      <th>1</th>\n",
       "      <td>1.697424e+09</td>\n",
       "      <td>Emphasis on HOW</td>\n",
       "      <td></td>\n",
       "      <td>Marvel</td>\n",
       "    </tr>\n",
       "    <tr>\n",
       "      <th>2</th>\n",
       "      <td>1.697417e+09</td>\n",
       "      <td>Did Jessica Drew and Julia Carpenter aka Spide...</td>\n",
       "      <td>Besides when they make Jess part of Spider-man...</td>\n",
       "      <td>Marvel</td>\n",
       "    </tr>\n",
       "    <tr>\n",
       "      <th>3</th>\n",
       "      <td>1.697413e+09</td>\n",
       "      <td>Remember how much they hyped up Virus and then...</td>\n",
       "      <td>Just reread Cates’ Venom and it’s great run, b...</td>\n",
       "      <td>Marvel</td>\n",
       "    </tr>\n",
       "    <tr>\n",
       "      <th>4</th>\n",
       "      <td>1.697413e+09</td>\n",
       "      <td>Look at the dates MARVEL is in</td>\n",
       "      <td>Tommorow is the 17th of the 10th 2023, also th...</td>\n",
       "      <td>Marvel</td>\n",
       "    </tr>\n",
       "    <tr>\n",
       "      <th>...</th>\n",
       "      <td>...</td>\n",
       "      <td>...</td>\n",
       "      <td>...</td>\n",
       "      <td>...</td>\n",
       "    </tr>\n",
       "    <tr>\n",
       "      <th>983</th>\n",
       "      <td>1.695659e+09</td>\n",
       "      <td>Well well</td>\n",
       "      <td></td>\n",
       "      <td>Marvel</td>\n",
       "    </tr>\n",
       "    <tr>\n",
       "      <th>984</th>\n",
       "      <td>1.695657e+09</td>\n",
       "      <td>Kinda shocked how much love the Morales-Stacy ...</td>\n",
       "      <td></td>\n",
       "      <td>Marvel</td>\n",
       "    </tr>\n",
       "    <tr>\n",
       "      <th>985</th>\n",
       "      <td>1.695656e+09</td>\n",
       "      <td>saw these in the playstation avengers game and...</td>\n",
       "      <td></td>\n",
       "      <td>Marvel</td>\n",
       "    </tr>\n",
       "    <tr>\n",
       "      <th>986</th>\n",
       "      <td>1.695655e+09</td>\n",
       "      <td>I just thought this was funny so I took a pic</td>\n",
       "      <td>This was some work i had to do today</td>\n",
       "      <td>Marvel</td>\n",
       "    </tr>\n",
       "    <tr>\n",
       "      <th>987</th>\n",
       "      <td>1.695653e+09</td>\n",
       "      <td>Beast watches Wonder Man as \"Mr. Muscle\" in th...</td>\n",
       "      <td></td>\n",
       "      <td>Marvel</td>\n",
       "    </tr>\n",
       "  </tbody>\n",
       "</table>\n",
       "<p>988 rows × 4 columns</p>\n",
       "</div>"
      ],
      "text/plain": [
       "      created_utc                                              title  \\\n",
       "0    1.697424e+09                          Marvel comic subscription   \n",
       "1    1.697424e+09                                    Emphasis on HOW   \n",
       "2    1.697417e+09  Did Jessica Drew and Julia Carpenter aka Spide...   \n",
       "3    1.697413e+09  Remember how much they hyped up Virus and then...   \n",
       "4    1.697413e+09                     Look at the dates MARVEL is in   \n",
       "..            ...                                                ...   \n",
       "983  1.695659e+09                                          Well well   \n",
       "984  1.695657e+09  Kinda shocked how much love the Morales-Stacy ...   \n",
       "985  1.695656e+09  saw these in the playstation avengers game and...   \n",
       "986  1.695655e+09      I just thought this was funny so I took a pic   \n",
       "987  1.695653e+09  Beast watches Wonder Man as \"Mr. Muscle\" in th...   \n",
       "\n",
       "                                             self_text subreddit  \n",
       "0    Friends, I've never been a comic reader but id...    Marvel  \n",
       "1                                                         Marvel  \n",
       "2    Besides when they make Jess part of Spider-man...    Marvel  \n",
       "3    Just reread Cates’ Venom and it’s great run, b...    Marvel  \n",
       "4    Tommorow is the 17th of the 10th 2023, also th...    Marvel  \n",
       "..                                                 ...       ...  \n",
       "983                                                       Marvel  \n",
       "984                                                       Marvel  \n",
       "985                                                       Marvel  \n",
       "986               This was some work i had to do today    Marvel  \n",
       "987                                                       Marvel  \n",
       "\n",
       "[988 rows x 4 columns]"
      ]
     },
     "execution_count": 5,
     "metadata": {},
     "output_type": "execute_result"
    }
   ],
   "source": [
    "import pandas as pd\n",
    "\n",
    "data = []\n",
    "for post in posts:\n",
    "    data.append([post.created_utc, post.title, post.selftext, post.subreddit])\n",
    "\n",
    "# Turn into a dataframe\n",
    "marvel = pd.DataFrame(data, columns = ['created_utc', 'title', 'self_text', 'subreddit'])\n",
    "marvel"
   ]
  },
  {
   "cell_type": "code",
   "execution_count": 6,
   "id": "eb1100ac-4c73-4359-becc-52f33a71c59e",
   "metadata": {},
   "outputs": [
    {
     "data": {
      "text/html": [
       "<div>\n",
       "<style scoped>\n",
       "    .dataframe tbody tr th:only-of-type {\n",
       "        vertical-align: middle;\n",
       "    }\n",
       "\n",
       "    .dataframe tbody tr th {\n",
       "        vertical-align: top;\n",
       "    }\n",
       "\n",
       "    .dataframe thead th {\n",
       "        text-align: right;\n",
       "    }\n",
       "</style>\n",
       "<table border=\"1\" class=\"dataframe\">\n",
       "  <thead>\n",
       "    <tr style=\"text-align: right;\">\n",
       "      <th></th>\n",
       "      <th>created_utc</th>\n",
       "      <th>title</th>\n",
       "      <th>self_text</th>\n",
       "      <th>subreddit</th>\n",
       "    </tr>\n",
       "  </thead>\n",
       "  <tbody>\n",
       "    <tr>\n",
       "      <th>0</th>\n",
       "      <td>1.697353e+09</td>\n",
       "      <td>Does Batman need a cape?</td>\n",
       "      <td>So me and this random guy have been arguing in...</td>\n",
       "      <td>DC_Cinematic</td>\n",
       "    </tr>\n",
       "    <tr>\n",
       "      <th>1</th>\n",
       "      <td>1.697338e+09</td>\n",
       "      <td>How much of the Bat-family would you like to s...</td>\n",
       "      <td></td>\n",
       "      <td>DC_Cinematic</td>\n",
       "    </tr>\n",
       "    <tr>\n",
       "      <th>2</th>\n",
       "      <td>1.697309e+09</td>\n",
       "      <td>I have always wondered who it was Clark was pr...</td>\n",
       "      <td></td>\n",
       "      <td>DC_Cinematic</td>\n",
       "    </tr>\n",
       "    <tr>\n",
       "      <th>3</th>\n",
       "      <td>1.697297e+09</td>\n",
       "      <td>What do you think it's the reason why Batman w...</td>\n",
       "      <td>Cyborg I get it. There's a major feud between ...</td>\n",
       "      <td>DC_Cinematic</td>\n",
       "    </tr>\n",
       "    <tr>\n",
       "      <th>4</th>\n",
       "      <td>1.697279e+09</td>\n",
       "      <td>DC asks you to choose the villain for the Batm...</td>\n",
       "      <td>\\n\\n[View Poll](https://www.reddit.com/poll/17...</td>\n",
       "      <td>DC_Cinematic</td>\n",
       "    </tr>\n",
       "    <tr>\n",
       "      <th>...</th>\n",
       "      <td>...</td>\n",
       "      <td>...</td>\n",
       "      <td>...</td>\n",
       "      <td>...</td>\n",
       "    </tr>\n",
       "    <tr>\n",
       "      <th>968</th>\n",
       "      <td>1.691902e+09</td>\n",
       "      <td>What villains do you believe are long overdue ...</td>\n",
       "      <td></td>\n",
       "      <td>DC_Cinematic</td>\n",
       "    </tr>\n",
       "    <tr>\n",
       "      <th>969</th>\n",
       "      <td>1.691972e+09</td>\n",
       "      <td>Should Doomsday be in the DCU?</td>\n",
       "      <td></td>\n",
       "      <td>DC_Cinematic</td>\n",
       "    </tr>\n",
       "    <tr>\n",
       "      <th>970</th>\n",
       "      <td>1.691971e+09</td>\n",
       "      <td>At the end of Justice League Dark Apocalypse W...</td>\n",
       "      <td>I just finished the DCAMU and it was amazing ...</td>\n",
       "      <td>DC_Cinematic</td>\n",
       "    </tr>\n",
       "    <tr>\n",
       "      <th>971</th>\n",
       "      <td>1.691961e+09</td>\n",
       "      <td>Questions about MoS, BvS, haven’t followed the...</td>\n",
       "      <td>So I’ve not really followed DC stuff since the...</td>\n",
       "      <td>DC_Cinematic</td>\n",
       "    </tr>\n",
       "    <tr>\n",
       "      <th>972</th>\n",
       "      <td>1.691953e+09</td>\n",
       "      <td>Does anyone have a high quality version of thi...</td>\n",
       "      <td>I've only been able to find one half of the sp...</td>\n",
       "      <td>DC_Cinematic</td>\n",
       "    </tr>\n",
       "  </tbody>\n",
       "</table>\n",
       "<p>973 rows × 4 columns</p>\n",
       "</div>"
      ],
      "text/plain": [
       "      created_utc                                              title  \\\n",
       "0    1.697353e+09                           Does Batman need a cape?   \n",
       "1    1.697338e+09  How much of the Bat-family would you like to s...   \n",
       "2    1.697309e+09  I have always wondered who it was Clark was pr...   \n",
       "3    1.697297e+09  What do you think it's the reason why Batman w...   \n",
       "4    1.697279e+09  DC asks you to choose the villain for the Batm...   \n",
       "..            ...                                                ...   \n",
       "968  1.691902e+09  What villains do you believe are long overdue ...   \n",
       "969  1.691972e+09                     Should Doomsday be in the DCU?   \n",
       "970  1.691971e+09  At the end of Justice League Dark Apocalypse W...   \n",
       "971  1.691961e+09  Questions about MoS, BvS, haven’t followed the...   \n",
       "972  1.691953e+09  Does anyone have a high quality version of thi...   \n",
       "\n",
       "                                             self_text     subreddit  \n",
       "0    So me and this random guy have been arguing in...  DC_Cinematic  \n",
       "1                                                       DC_Cinematic  \n",
       "2                                                       DC_Cinematic  \n",
       "3    Cyborg I get it. There's a major feud between ...  DC_Cinematic  \n",
       "4    \\n\\n[View Poll](https://www.reddit.com/poll/17...  DC_Cinematic  \n",
       "..                                                 ...           ...  \n",
       "968                                                     DC_Cinematic  \n",
       "969                                                     DC_Cinematic  \n",
       "970   I just finished the DCAMU and it was amazing ...  DC_Cinematic  \n",
       "971  So I’ve not really followed DC stuff since the...  DC_Cinematic  \n",
       "972  I've only been able to find one half of the sp...  DC_Cinematic  \n",
       "\n",
       "[973 rows x 4 columns]"
      ]
     },
     "execution_count": 6,
     "metadata": {},
     "output_type": "execute_result"
    }
   ],
   "source": [
    "\n",
    "data = []\n",
    "for post in posts_1:\n",
    "    data.append([post.created_utc, post.title, post.selftext, post.subreddit])\n",
    "\n",
    "# Turn into a dataframe\n",
    "dc_cinematic = pd.DataFrame(data, columns = ['created_utc', 'title', 'self_text', 'subreddit'])\n",
    "dc_cinematic"
   ]
  },
  {
   "cell_type": "code",
   "execution_count": 7,
   "id": "205fbeae-6c8e-48c7-9ad7-f2e704d5f1e8",
   "metadata": {},
   "outputs": [],
   "source": [
    "#get df for both subreddits\n",
    "#concat both df\n",
    "#EDA -lem,countvectori\n",
    " "
   ]
  },
  {
   "cell_type": "markdown",
   "id": "2eb4c19d-f9d9-4be8-9ca5-5ecbbde48970",
   "metadata": {},
   "source": [
    "Remember, you will need to pull *at least* 1000 posts from each subreddit, not just 25. Like I mentioned above, you can use the created_utc attribute of a post to keep track of the timestamp and ensure non-overlapping pulls. We will leave this work for you all to complete.\n",
    "\n",
    "Once you have at least 1000 posts from each subreddit, you can do some EDA (perhaps maybe the most common words in each subreddit..?) Eventually, you will want to combine your two dataframes together to do modeling."
   ]
  },
  {
   "cell_type": "markdown",
   "id": "d0785dc1-075d-4bd4-8c34-4dd2978d7dfb",
   "metadata": {},
   "source": [
    "### Hopefully this is enough of a tutorial to help get you started! If you have any questions, let us know!"
   ]
  },
  {
   "cell_type": "markdown",
   "id": "8f942833-8fdb-46d1-9182-b672e49434a5",
   "metadata": {},
   "source": [
    "### Note: Rather than working in this template notebook, make a brand new \"scraping\" notebook (or script), with your own comments, so you can use this project in a portfolio!"
   ]
  }
 ],
 "metadata": {
  "kernelspec": {
   "display_name": "Python 3 (ipykernel)",
   "language": "python",
   "name": "python3"
  },
  "language_info": {
   "codemirror_mode": {
    "name": "ipython",
    "version": 3
   },
   "file_extension": ".py",
   "mimetype": "text/x-python",
   "name": "python",
   "nbconvert_exporter": "python",
   "pygments_lexer": "ipython3",
   "version": "3.11.4"
  }
 },
 "nbformat": 4,
 "nbformat_minor": 5
}
