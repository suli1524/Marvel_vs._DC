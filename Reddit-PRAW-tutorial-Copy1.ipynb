{
 "cells": [
  {
   "cell_type": "markdown",
   "id": "bc426077-0da2-49af-8e9f-e7a27ebaadd9",
   "metadata": {},
   "source": [
    "# **1. Install PRAW**"
   ]
  },
  {
   "cell_type": "code",
   "execution_count": 1,
   "id": "6a3e56be-a4bf-43d4-8c57-7f9954b44b46",
   "metadata": {
    "tags": []
   },
   "outputs": [],
   "source": [
    "#!pip install praw\n",
    "import praw\n"
   ]
  },
  {
   "cell_type": "markdown",
   "id": "78ecd0ed-d601-4b45-b545-639d4a1e7b49",
   "metadata": {},
   "source": [
    "# **2. Create a Reddit App**"
   ]
  },
  {
   "cell_type": "markdown",
   "id": "da49f3cc-1cec-4917-90f4-7b639d7a145a",
   "metadata": {},
   "source": [
    "To access the Reddit API, you'll need to create an application on Reddit and obtain your API credentials. Follow these steps:\n",
    "\n",
    "- Go to the Reddit website (https://www.reddit.com/) and log in to your account. Feel free to create a throwaway account for this project!\n",
    "- Navigate to the Reddit Apps page (https://www.reddit.com/prefs/apps).\n",
    "- Click the \"are you a developer? create an app...\" button in the top left.\n",
    "- Provide a name for your app (e.g., \"PRAW\"), select the app type ('script') , and optionally add a description. Use http://localhost:8080 as your redirect URI.\n",
    "- After submitting the form, you will reach a page that looks like the following image. You'll see your application's details, including the client ID and client secret. Keep these credentials handy for the next step.\n"
   ]
  },
  {
   "cell_type": "markdown",
   "id": "b3997780-adc4-4ee2-91e3-6a296587cdf8",
   "metadata": {},
   "source": [
    "![Praw](https://www.honchosearch.com/hubfs/Imported_Blog_Media/Client-ID-Client-Secret.png)"
   ]
  },
  {
   "cell_type": "markdown",
   "id": "2b71b52e-05db-4a47-8c8c-ec8f4fd9c283",
   "metadata": {},
   "source": [
    "# **3. Initialize PRAW**"
   ]
  },
  {
   "cell_type": "code",
   "execution_count": 2,
   "id": "103d7151-cf2e-47cb-82c2-578faa763888",
   "metadata": {
    "tags": []
   },
   "outputs": [],
   "source": [
    "reddit = praw.Reddit(\n",
    "    client_id='jjMYUBu4dyHMdpIYkCrsOQ',\n",
    "    client_secret='Sj3IYg7ZTOaM0XthXLfBIPq6AgfAqw',\n",
    "    user_agent='project_3',\n",
    "    username='suli1524',\n",
    "    password='Suli.1524'\n",
    ")"
   ]
  },
  {
   "cell_type": "markdown",
   "id": "204db51a-ee1d-4180-839b-67bdecea4fe5",
   "metadata": {},
   "source": [
    "Replace 'YOUR_CLIENT_ID', 'YOUR_CLIENT_SECRET', 'YOUR_USER_AGENT', 'YOUR_REDDIT_USERNAME', and 'YOUR_REDDIT_PASSWORD' with your actual Reddit API credentials."
   ]
  },
  {
   "cell_type": "markdown",
   "id": "95b298a6-1aa9-4690-8447-6f717c24e9cc",
   "metadata": {},
   "source": [
    "Your user agent is an identifier used by reddit to identify the source of requests. You can make it whatever you want, but you'll want to choose something descriptive and unique, and it's recommended that your username is included."
   ]
  },
  {
   "cell_type": "markdown",
   "id": "d9006de6-d5ce-4537-a9c7-ca5bdd4ee630",
   "metadata": {},
   "source": [
    "**I have removed my own credentials from this workbook. We can show you how to hide your credentials before submitting the project! The following code will need your own credentials in order to successfully work.**"
   ]
  },
  {
   "cell_type": "markdown",
   "id": "072ea3ea-ab20-4fe5-8711-dbe220400fa3",
   "metadata": {},
   "source": [
    "# 4. Take a look at the documentation [here](https://praw.readthedocs.io/)!"
   ]
  },
  {
   "cell_type": "code",
   "execution_count": 3,
   "id": "17aa261b-f63a-4437-ac41-242982cb546c",
   "metadata": {
    "tags": []
   },
   "outputs": [],
   "source": [
    "# Below is JUST an example of how you can use PRAW\n",
    "\n",
    "# Choose your subreddit\n",
    "subreddit = reddit.subreddit('marvel')\n",
    "\n",
    "# Adjust the limit as needed -- Note that this will grab the 25 most recent posts\n",
    "posts = subreddit.new(limit=1000)"
   ]
  },
  {
   "cell_type": "code",
   "execution_count": 4,
   "id": "ac502106-0439-458b-9216-f041f9d71869",
   "metadata": {
    "tags": []
   },
   "outputs": [],
   "source": [
    " #Below is JUST an example of how you can use PRAW\n",
    "\n",
    "# Choose your subreddit\n",
    "subreddit_1 = reddit.subreddit('DC_Cinematic')\n",
    "\n",
    "# Adjust the limit as needed -- Note that this will grab the 25 most recent posts\n",
    "posts_1 = subreddit_1.new(limit=1000)"
   ]
  },
  {
   "cell_type": "markdown",
   "id": "ad8eb1f6-449f-4bc9-9d56-1fe03739ff50",
   "metadata": {},
   "source": [
    "## NOTE\n",
    "- Reddit API Limitations: The Reddit API imposes limitations on the number of posts you can retrieve in a single request. The maximum number of posts per request is typically 100. Therefore, if you set the limit parameter to a value greater than 100, PRAW will make multiple requests behind the scenes to fetch the desired number of posts.\n",
    "- Rate Limiting: The Reddit API also enforces rate limits to prevent abuse and ensure fair usage. The specific rate limits can vary depending on factors such as your Reddit account's age and karma. As a standard user, you're typically allowed to make 60 requests per minute. If you exceed the rate limit, you may receive an error response until the rate limit resets.\n",
    "- TIP: You can use the created_utc attribute of a post to keep track of the timestamp and ensure non-overlapping pulls. The created_utc attribute represents the post's creation time in UTC."
   ]
  },
  {
   "cell_type": "code",
   "execution_count": 5,
   "id": "a1b221e2-244d-42dc-9c89-1d04134fc7d2",
   "metadata": {
    "tags": []
   },
   "outputs": [
    {
     "data": {
      "text/html": [
       "<div>\n",
       "<style scoped>\n",
       "    .dataframe tbody tr th:only-of-type {\n",
       "        vertical-align: middle;\n",
       "    }\n",
       "\n",
       "    .dataframe tbody tr th {\n",
       "        vertical-align: top;\n",
       "    }\n",
       "\n",
       "    .dataframe thead th {\n",
       "        text-align: right;\n",
       "    }\n",
       "</style>\n",
       "<table border=\"1\" class=\"dataframe\">\n",
       "  <thead>\n",
       "    <tr style=\"text-align: right;\">\n",
       "      <th></th>\n",
       "      <th>created_utc</th>\n",
       "      <th>title</th>\n",
       "      <th>self_text</th>\n",
       "      <th>subreddit</th>\n",
       "    </tr>\n",
       "  </thead>\n",
       "  <tbody>\n",
       "    <tr>\n",
       "      <th>0</th>\n",
       "      <td>1.697679e+09</td>\n",
       "      <td>If I were to make a season of “What If…?”.</td>\n",
       "      <td>**E1: The Ravagers attacked Asgard**\\n\\nPeter ...</td>\n",
       "      <td>Marvel</td>\n",
       "    </tr>\n",
       "    <tr>\n",
       "      <th>1</th>\n",
       "      <td>1.697677e+09</td>\n",
       "      <td>Dyed my hair red… anyone see the resemblance😂</td>\n",
       "      <td>I’m literally a Walmart version</td>\n",
       "      <td>Marvel</td>\n",
       "    </tr>\n",
       "    <tr>\n",
       "      <th>2</th>\n",
       "      <td>1.697675e+09</td>\n",
       "      <td>Has this been paid off yet? MIRACLE MAN (Timel...</td>\n",
       "      <td></td>\n",
       "      <td>Marvel</td>\n",
       "    </tr>\n",
       "    <tr>\n",
       "      <th>3</th>\n",
       "      <td>1.697675e+09</td>\n",
       "      <td>You have a choice to make: Doom is dead and yo...</td>\n",
       "      <td>I'd pick Robbie Reyes. The idea of someone goi...</td>\n",
       "      <td>Marvel</td>\n",
       "    </tr>\n",
       "    <tr>\n",
       "      <th>4</th>\n",
       "      <td>1.697675e+09</td>\n",
       "      <td>Loki and Sylvie Tribute</td>\n",
       "      <td>[https://youtu.be/\\_WQJhQLse7Q](https://youtu....</td>\n",
       "      <td>Marvel</td>\n",
       "    </tr>\n",
       "    <tr>\n",
       "      <th>...</th>\n",
       "      <td>...</td>\n",
       "      <td>...</td>\n",
       "      <td>...</td>\n",
       "      <td>...</td>\n",
       "    </tr>\n",
       "    <tr>\n",
       "      <th>985</th>\n",
       "      <td>1.695983e+09</td>\n",
       "      <td>What being an Avenger means [Avengers #5]</td>\n",
       "      <td></td>\n",
       "      <td>Marvel</td>\n",
       "    </tr>\n",
       "    <tr>\n",
       "      <th>986</th>\n",
       "      <td>1.695977e+09</td>\n",
       "      <td>The Wildly Expensive '90s Fantastic Four Film ...</td>\n",
       "      <td></td>\n",
       "      <td>Marvel</td>\n",
       "    </tr>\n",
       "    <tr>\n",
       "      <th>987</th>\n",
       "      <td>1.695973e+09</td>\n",
       "      <td>What are the biggest changes to the Marvel Uni...</td>\n",
       "      <td>As someone who used to read Marvel comics reli...</td>\n",
       "      <td>Marvel</td>\n",
       "    </tr>\n",
       "    <tr>\n",
       "      <th>988</th>\n",
       "      <td>1.695969e+09</td>\n",
       "      <td>Honest question, who’d win in a fight between ...</td>\n",
       "      <td>Art by Gabriele Dell'Otto</td>\n",
       "      <td>Marvel</td>\n",
       "    </tr>\n",
       "    <tr>\n",
       "      <th>989</th>\n",
       "      <td>1.695964e+09</td>\n",
       "      <td>Who Should Iron Man Have Ended Up With In The ...</td>\n",
       "      <td>Which one of these two professional female wor...</td>\n",
       "      <td>Marvel</td>\n",
       "    </tr>\n",
       "  </tbody>\n",
       "</table>\n",
       "<p>990 rows × 4 columns</p>\n",
       "</div>"
      ],
      "text/plain": [
       "      created_utc                                              title  \\\n",
       "0    1.697679e+09         If I were to make a season of “What If…?”.   \n",
       "1    1.697677e+09      Dyed my hair red… anyone see the resemblance😂   \n",
       "2    1.697675e+09  Has this been paid off yet? MIRACLE MAN (Timel...   \n",
       "3    1.697675e+09  You have a choice to make: Doom is dead and yo...   \n",
       "4    1.697675e+09                            Loki and Sylvie Tribute   \n",
       "..            ...                                                ...   \n",
       "985  1.695983e+09          What being an Avenger means [Avengers #5]   \n",
       "986  1.695977e+09  The Wildly Expensive '90s Fantastic Four Film ...   \n",
       "987  1.695973e+09  What are the biggest changes to the Marvel Uni...   \n",
       "988  1.695969e+09  Honest question, who’d win in a fight between ...   \n",
       "989  1.695964e+09  Who Should Iron Man Have Ended Up With In The ...   \n",
       "\n",
       "                                             self_text subreddit  \n",
       "0    **E1: The Ravagers attacked Asgard**\\n\\nPeter ...    Marvel  \n",
       "1                      I’m literally a Walmart version    Marvel  \n",
       "2                                                         Marvel  \n",
       "3    I'd pick Robbie Reyes. The idea of someone goi...    Marvel  \n",
       "4    [https://youtu.be/\\_WQJhQLse7Q](https://youtu....    Marvel  \n",
       "..                                                 ...       ...  \n",
       "985                                                       Marvel  \n",
       "986                                                       Marvel  \n",
       "987  As someone who used to read Marvel comics reli...    Marvel  \n",
       "988                          Art by Gabriele Dell'Otto    Marvel  \n",
       "989  Which one of these two professional female wor...    Marvel  \n",
       "\n",
       "[990 rows x 4 columns]"
      ]
     },
     "execution_count": 5,
     "metadata": {},
     "output_type": "execute_result"
    }
   ],
   "source": [
    "import pandas as pd\n",
    "\n",
    "data = []\n",
    "for post in posts:\n",
    "    data.append([post.created_utc, post.title, post.selftext, post.subreddit])\n",
    "\n",
    "# Turn into a dataframe\n",
    "marvel = pd.DataFrame(data, columns = ['created_utc', 'title', 'self_text', 'subreddit'])\n",
    "marvel"
   ]
  },
  {
   "cell_type": "code",
   "execution_count": 6,
   "id": "eb1100ac-4c73-4359-becc-52f33a71c59e",
   "metadata": {
    "tags": []
   },
   "outputs": [
    {
     "data": {
      "text/html": [
       "<div>\n",
       "<style scoped>\n",
       "    .dataframe tbody tr th:only-of-type {\n",
       "        vertical-align: middle;\n",
       "    }\n",
       "\n",
       "    .dataframe tbody tr th {\n",
       "        vertical-align: top;\n",
       "    }\n",
       "\n",
       "    .dataframe thead th {\n",
       "        text-align: right;\n",
       "    }\n",
       "</style>\n",
       "<table border=\"1\" class=\"dataframe\">\n",
       "  <thead>\n",
       "    <tr style=\"text-align: right;\">\n",
       "      <th></th>\n",
       "      <th>created_utc</th>\n",
       "      <th>title</th>\n",
       "      <th>self_text</th>\n",
       "      <th>subreddit</th>\n",
       "    </tr>\n",
       "  </thead>\n",
       "  <tbody>\n",
       "    <tr>\n",
       "      <th>0</th>\n",
       "      <td>1.697678e+09</td>\n",
       "      <td>After the Crisis scene, and the events of the ...</td>\n",
       "      <td>How do you think a team up would play out, esp...</td>\n",
       "      <td>DC_Cinematic</td>\n",
       "    </tr>\n",
       "    <tr>\n",
       "      <th>1</th>\n",
       "      <td>1.697677e+09</td>\n",
       "      <td>Remember when Batman didn’t kill Two-face? Gra...</td>\n",
       "      <td></td>\n",
       "      <td>DC_Cinematic</td>\n",
       "    </tr>\n",
       "    <tr>\n",
       "      <th>2</th>\n",
       "      <td>1.697659e+09</td>\n",
       "      <td>In what year do you realistically see a new Ju...</td>\n",
       "      <td>I think Gunn's announced slate chapter one Wil...</td>\n",
       "      <td>DC_Cinematic</td>\n",
       "    </tr>\n",
       "    <tr>\n",
       "      <th>3</th>\n",
       "      <td>1.697671e+09</td>\n",
       "      <td>Lex Luthor should've had Batman's role in BvS,...</td>\n",
       "      <td>I've read a coment in a thread that said about...</td>\n",
       "      <td>DC_Cinematic</td>\n",
       "    </tr>\n",
       "    <tr>\n",
       "      <th>4</th>\n",
       "      <td>1.697662e+09</td>\n",
       "      <td>Alan Heinberg Talking About Writing Wonder Woman</td>\n",
       "      <td></td>\n",
       "      <td>DC_Cinematic</td>\n",
       "    </tr>\n",
       "    <tr>\n",
       "      <th>...</th>\n",
       "      <td>...</td>\n",
       "      <td>...</td>\n",
       "      <td>...</td>\n",
       "      <td>...</td>\n",
       "    </tr>\n",
       "    <tr>\n",
       "      <th>972</th>\n",
       "      <td>1.692057e+09</td>\n",
       "      <td>Blue Beetle Director Interview: Angel Manuel S...</td>\n",
       "      <td></td>\n",
       "      <td>DC_Cinematic</td>\n",
       "    </tr>\n",
       "    <tr>\n",
       "      <th>973</th>\n",
       "      <td>1.692057e+09</td>\n",
       "      <td>Should Gorilla Gregg be in the DCU?</td>\n",
       "      <td></td>\n",
       "      <td>DC_Cinematic</td>\n",
       "    </tr>\n",
       "    <tr>\n",
       "      <th>974</th>\n",
       "      <td>1.692044e+09</td>\n",
       "      <td>Forget about trunks vs no trunks. We need to t...</td>\n",
       "      <td></td>\n",
       "      <td>DC_Cinematic</td>\n",
       "    </tr>\n",
       "    <tr>\n",
       "      <th>975</th>\n",
       "      <td>1.692046e+09</td>\n",
       "      <td>Reliable leaker says Margot Robbie will be bac...</td>\n",
       "      <td></td>\n",
       "      <td>DC_Cinematic</td>\n",
       "    </tr>\n",
       "    <tr>\n",
       "      <th>976</th>\n",
       "      <td>1.692049e+09</td>\n",
       "      <td>Superman vs. Wonder Woman • Superhero fight by...</td>\n",
       "      <td></td>\n",
       "      <td>DC_Cinematic</td>\n",
       "    </tr>\n",
       "  </tbody>\n",
       "</table>\n",
       "<p>977 rows × 4 columns</p>\n",
       "</div>"
      ],
      "text/plain": [
       "      created_utc                                              title  \\\n",
       "0    1.697678e+09  After the Crisis scene, and the events of the ...   \n",
       "1    1.697677e+09  Remember when Batman didn’t kill Two-face? Gra...   \n",
       "2    1.697659e+09  In what year do you realistically see a new Ju...   \n",
       "3    1.697671e+09  Lex Luthor should've had Batman's role in BvS,...   \n",
       "4    1.697662e+09   Alan Heinberg Talking About Writing Wonder Woman   \n",
       "..            ...                                                ...   \n",
       "972  1.692057e+09  Blue Beetle Director Interview: Angel Manuel S...   \n",
       "973  1.692057e+09                Should Gorilla Gregg be in the DCU?   \n",
       "974  1.692044e+09  Forget about trunks vs no trunks. We need to t...   \n",
       "975  1.692046e+09  Reliable leaker says Margot Robbie will be bac...   \n",
       "976  1.692049e+09  Superman vs. Wonder Woman • Superhero fight by...   \n",
       "\n",
       "                                             self_text     subreddit  \n",
       "0    How do you think a team up would play out, esp...  DC_Cinematic  \n",
       "1                                                       DC_Cinematic  \n",
       "2    I think Gunn's announced slate chapter one Wil...  DC_Cinematic  \n",
       "3    I've read a coment in a thread that said about...  DC_Cinematic  \n",
       "4                                                       DC_Cinematic  \n",
       "..                                                 ...           ...  \n",
       "972                                                     DC_Cinematic  \n",
       "973                                                     DC_Cinematic  \n",
       "974                                                     DC_Cinematic  \n",
       "975                                                     DC_Cinematic  \n",
       "976                                                     DC_Cinematic  \n",
       "\n",
       "[977 rows x 4 columns]"
      ]
     },
     "execution_count": 6,
     "metadata": {},
     "output_type": "execute_result"
    }
   ],
   "source": [
    "\n",
    "data = []\n",
    "for post in posts_1:\n",
    "    data.append([post.created_utc, post.title, post.selftext, post.subreddit])\n",
    "\n",
    "# Turn into a dataframe\n",
    "dc_cinematic = pd.DataFrame(data, columns = ['created_utc', 'title', 'self_text', 'subreddit'])\n",
    "dc_cinematic"
   ]
  },
  {
   "cell_type": "code",
   "execution_count": 7,
   "id": "36c5c1a9-de1d-48a6-9dc8-f21c2c15eeaf",
   "metadata": {
    "tags": []
   },
   "outputs": [
    {
     "name": "stdout",
     "output_type": "stream",
     "text": [
      "<class 'pandas.core.frame.DataFrame'>\n",
      "RangeIndex: 990 entries, 0 to 989\n",
      "Data columns (total 4 columns):\n",
      " #   Column       Non-Null Count  Dtype  \n",
      "---  ------       --------------  -----  \n",
      " 0   created_utc  990 non-null    float64\n",
      " 1   title        990 non-null    object \n",
      " 2   self_text    990 non-null    object \n",
      " 3   subreddit    990 non-null    object \n",
      "dtypes: float64(1), object(3)\n",
      "memory usage: 31.1+ KB\n"
     ]
    }
   ],
   "source": [
    "marvel.info()"
   ]
  },
  {
   "cell_type": "code",
   "execution_count": 8,
   "id": "375b445d-ed84-48c5-a302-98ce450f7b85",
   "metadata": {
    "tags": []
   },
   "outputs": [
    {
     "name": "stdout",
     "output_type": "stream",
     "text": [
      "<class 'pandas.core.frame.DataFrame'>\n",
      "RangeIndex: 977 entries, 0 to 976\n",
      "Data columns (total 4 columns):\n",
      " #   Column       Non-Null Count  Dtype  \n",
      "---  ------       --------------  -----  \n",
      " 0   created_utc  977 non-null    float64\n",
      " 1   title        977 non-null    object \n",
      " 2   self_text    977 non-null    object \n",
      " 3   subreddit    977 non-null    object \n",
      "dtypes: float64(1), object(3)\n",
      "memory usage: 30.7+ KB\n"
     ]
    }
   ],
   "source": [
    "dc_cinematic.info()"
   ]
  },
  {
   "cell_type": "code",
   "execution_count": 9,
   "id": "d28f5587-4c49-4156-a785-bea0698756a5",
   "metadata": {
    "tags": []
   },
   "outputs": [
    {
     "data": {
      "text/html": [
       "<div>\n",
       "<style scoped>\n",
       "    .dataframe tbody tr th:only-of-type {\n",
       "        vertical-align: middle;\n",
       "    }\n",
       "\n",
       "    .dataframe tbody tr th {\n",
       "        vertical-align: top;\n",
       "    }\n",
       "\n",
       "    .dataframe thead th {\n",
       "        text-align: right;\n",
       "    }\n",
       "</style>\n",
       "<table border=\"1\" class=\"dataframe\">\n",
       "  <thead>\n",
       "    <tr style=\"text-align: right;\">\n",
       "      <th></th>\n",
       "      <th>created_utc</th>\n",
       "      <th>title</th>\n",
       "      <th>self_text</th>\n",
       "      <th>subreddit</th>\n",
       "    </tr>\n",
       "  </thead>\n",
       "  <tbody>\n",
       "    <tr>\n",
       "      <th>0</th>\n",
       "      <td>1.697679e+09</td>\n",
       "      <td>If I were to make a season of “What If…?”.</td>\n",
       "      <td>**E1: The Ravagers attacked Asgard**\\n\\nPeter ...</td>\n",
       "      <td>Marvel</td>\n",
       "    </tr>\n",
       "    <tr>\n",
       "      <th>1</th>\n",
       "      <td>1.697677e+09</td>\n",
       "      <td>Dyed my hair red… anyone see the resemblance😂</td>\n",
       "      <td>I’m literally a Walmart version</td>\n",
       "      <td>Marvel</td>\n",
       "    </tr>\n",
       "    <tr>\n",
       "      <th>2</th>\n",
       "      <td>1.697675e+09</td>\n",
       "      <td>Has this been paid off yet? MIRACLE MAN (Timel...</td>\n",
       "      <td></td>\n",
       "      <td>Marvel</td>\n",
       "    </tr>\n",
       "    <tr>\n",
       "      <th>3</th>\n",
       "      <td>1.697675e+09</td>\n",
       "      <td>You have a choice to make: Doom is dead and yo...</td>\n",
       "      <td>I'd pick Robbie Reyes. The idea of someone goi...</td>\n",
       "      <td>Marvel</td>\n",
       "    </tr>\n",
       "    <tr>\n",
       "      <th>4</th>\n",
       "      <td>1.697675e+09</td>\n",
       "      <td>Loki and Sylvie Tribute</td>\n",
       "      <td>[https://youtu.be/\\_WQJhQLse7Q](https://youtu....</td>\n",
       "      <td>Marvel</td>\n",
       "    </tr>\n",
       "  </tbody>\n",
       "</table>\n",
       "</div>"
      ],
      "text/plain": [
       "    created_utc                                              title  \\\n",
       "0  1.697679e+09         If I were to make a season of “What If…?”.   \n",
       "1  1.697677e+09      Dyed my hair red… anyone see the resemblance😂   \n",
       "2  1.697675e+09  Has this been paid off yet? MIRACLE MAN (Timel...   \n",
       "3  1.697675e+09  You have a choice to make: Doom is dead and yo...   \n",
       "4  1.697675e+09                            Loki and Sylvie Tribute   \n",
       "\n",
       "                                           self_text subreddit  \n",
       "0  **E1: The Ravagers attacked Asgard**\\n\\nPeter ...    Marvel  \n",
       "1                    I’m literally a Walmart version    Marvel  \n",
       "2                                                       Marvel  \n",
       "3  I'd pick Robbie Reyes. The idea of someone goi...    Marvel  \n",
       "4  [https://youtu.be/\\_WQJhQLse7Q](https://youtu....    Marvel  "
      ]
     },
     "execution_count": 9,
     "metadata": {},
     "output_type": "execute_result"
    }
   ],
   "source": [
    "marvel.head()"
   ]
  },
  {
   "cell_type": "code",
   "execution_count": 10,
   "id": "5abe899c-2bd6-41f7-b561-639a727eb80b",
   "metadata": {
    "tags": []
   },
   "outputs": [
    {
     "data": {
      "text/plain": [
       "created_utc    0\n",
       "title          0\n",
       "self_text      0\n",
       "subreddit      0\n",
       "dtype: int64"
      ]
     },
     "execution_count": 10,
     "metadata": {},
     "output_type": "execute_result"
    }
   ],
   "source": [
    "marvel.isna().sum()"
   ]
  },
  {
   "cell_type": "code",
   "execution_count": 11,
   "id": "42091fa6-4b15-49ec-91fd-a4cba90ecb0c",
   "metadata": {
    "tags": []
   },
   "outputs": [
    {
     "data": {
      "text/html": [
       "<div>\n",
       "<style scoped>\n",
       "    .dataframe tbody tr th:only-of-type {\n",
       "        vertical-align: middle;\n",
       "    }\n",
       "\n",
       "    .dataframe tbody tr th {\n",
       "        vertical-align: top;\n",
       "    }\n",
       "\n",
       "    .dataframe thead th {\n",
       "        text-align: right;\n",
       "    }\n",
       "</style>\n",
       "<table border=\"1\" class=\"dataframe\">\n",
       "  <thead>\n",
       "    <tr style=\"text-align: right;\">\n",
       "      <th></th>\n",
       "      <th>created_utc</th>\n",
       "      <th>title</th>\n",
       "      <th>self_text</th>\n",
       "      <th>subreddit</th>\n",
       "    </tr>\n",
       "  </thead>\n",
       "  <tbody>\n",
       "    <tr>\n",
       "      <th>0</th>\n",
       "      <td>1.697678e+09</td>\n",
       "      <td>After the Crisis scene, and the events of the ...</td>\n",
       "      <td>How do you think a team up would play out, esp...</td>\n",
       "      <td>DC_Cinematic</td>\n",
       "    </tr>\n",
       "    <tr>\n",
       "      <th>1</th>\n",
       "      <td>1.697677e+09</td>\n",
       "      <td>Remember when Batman didn’t kill Two-face? Gra...</td>\n",
       "      <td></td>\n",
       "      <td>DC_Cinematic</td>\n",
       "    </tr>\n",
       "    <tr>\n",
       "      <th>2</th>\n",
       "      <td>1.697659e+09</td>\n",
       "      <td>In what year do you realistically see a new Ju...</td>\n",
       "      <td>I think Gunn's announced slate chapter one Wil...</td>\n",
       "      <td>DC_Cinematic</td>\n",
       "    </tr>\n",
       "    <tr>\n",
       "      <th>3</th>\n",
       "      <td>1.697671e+09</td>\n",
       "      <td>Lex Luthor should've had Batman's role in BvS,...</td>\n",
       "      <td>I've read a coment in a thread that said about...</td>\n",
       "      <td>DC_Cinematic</td>\n",
       "    </tr>\n",
       "    <tr>\n",
       "      <th>4</th>\n",
       "      <td>1.697662e+09</td>\n",
       "      <td>Alan Heinberg Talking About Writing Wonder Woman</td>\n",
       "      <td></td>\n",
       "      <td>DC_Cinematic</td>\n",
       "    </tr>\n",
       "  </tbody>\n",
       "</table>\n",
       "</div>"
      ],
      "text/plain": [
       "    created_utc                                              title  \\\n",
       "0  1.697678e+09  After the Crisis scene, and the events of the ...   \n",
       "1  1.697677e+09  Remember when Batman didn’t kill Two-face? Gra...   \n",
       "2  1.697659e+09  In what year do you realistically see a new Ju...   \n",
       "3  1.697671e+09  Lex Luthor should've had Batman's role in BvS,...   \n",
       "4  1.697662e+09   Alan Heinberg Talking About Writing Wonder Woman   \n",
       "\n",
       "                                           self_text     subreddit  \n",
       "0  How do you think a team up would play out, esp...  DC_Cinematic  \n",
       "1                                                     DC_Cinematic  \n",
       "2  I think Gunn's announced slate chapter one Wil...  DC_Cinematic  \n",
       "3  I've read a coment in a thread that said about...  DC_Cinematic  \n",
       "4                                                     DC_Cinematic  "
      ]
     },
     "execution_count": 11,
     "metadata": {},
     "output_type": "execute_result"
    }
   ],
   "source": [
    "dc_cinematic.head()"
   ]
  },
  {
   "cell_type": "code",
   "execution_count": 12,
   "id": "8c1cf495-4cb9-4559-a41a-157576ea8873",
   "metadata": {
    "tags": []
   },
   "outputs": [
    {
     "data": {
      "text/plain": [
       "created_utc    0\n",
       "title          0\n",
       "self_text      0\n",
       "subreddit      0\n",
       "dtype: int64"
      ]
     },
     "execution_count": 12,
     "metadata": {},
     "output_type": "execute_result"
    }
   ],
   "source": [
    "dc_cinematic.isna().sum()"
   ]
  },
  {
   "cell_type": "code",
   "execution_count": 13,
   "id": "9fabc3bd-0b89-498c-91e1-59265e98cd16",
   "metadata": {
    "tags": []
   },
   "outputs": [],
   "source": [
    "# make it to CSV\n",
    "marvel = marvel.to_csv('marvel_post.csv',index=False)"
   ]
  },
  {
   "cell_type": "code",
   "execution_count": 14,
   "id": "0a2ed34d-cb39-4c4f-9871-a2d0d7a9feb9",
   "metadata": {
    "tags": []
   },
   "outputs": [],
   "source": [
    "dc_cinematic = dc_cinematic.to_csv('dc_cinematic_post.csv',index=False)"
   ]
  },
  {
   "cell_type": "markdown",
   "id": "658affcf-13da-4e9e-aeca-14ea8b4b6dcc",
   "metadata": {},
   "source": [
    "## EDA"
   ]
  },
  {
   "cell_type": "code",
   "execution_count": 50,
   "id": "8fb4f2e5-c998-4a89-8432-f0a44f34b333",
   "metadata": {
    "tags": []
   },
   "outputs": [],
   "source": [
    "# imports\n",
    "import numpy as np\n",
    "import pandas as pd\n",
    "import matplotlib.pyplot as plt\n",
    "import requests\n",
    "import time \n",
    "import seaborn as sns\n",
    "import nltk\n",
    "\n",
    "from sklearn.feature_extraction.text import CountVectorizer\n",
    "from nltk.sentiment.vader import SentimentIntensityAnalyzer"
   ]
  },
  {
   "cell_type": "markdown",
   "id": "6558a8b0-8a56-4010-a2f2-75c760bdb7e0",
   "metadata": {},
   "source": [
    "##### Read Data"
   ]
  },
  {
   "cell_type": "code",
   "execution_count": 51,
   "id": "b1bd7d5c-8b54-4005-bb5b-ea269c718cbf",
   "metadata": {
    "jupyter": {
     "source_hidden": true
    },
    "tags": []
   },
   "outputs": [],
   "source": [
    "#read Data\n",
    "marvel = pd.read_csv('marvel_post.csv')\n",
    "dc_cinematic = pd.read_csv('dc_cinematic_post.csv')"
   ]
  },
  {
   "cell_type": "code",
   "execution_count": 52,
   "id": "ebf0b46f-efaa-45a0-899d-e44f446a8f74",
   "metadata": {
    "tags": []
   },
   "outputs": [
    {
     "data": {
      "text/html": [
       "<div>\n",
       "<style scoped>\n",
       "    .dataframe tbody tr th:only-of-type {\n",
       "        vertical-align: middle;\n",
       "    }\n",
       "\n",
       "    .dataframe tbody tr th {\n",
       "        vertical-align: top;\n",
       "    }\n",
       "\n",
       "    .dataframe thead th {\n",
       "        text-align: right;\n",
       "    }\n",
       "</style>\n",
       "<table border=\"1\" class=\"dataframe\">\n",
       "  <thead>\n",
       "    <tr style=\"text-align: right;\">\n",
       "      <th></th>\n",
       "      <th>created_utc</th>\n",
       "      <th>title</th>\n",
       "      <th>self_text</th>\n",
       "      <th>subreddit</th>\n",
       "    </tr>\n",
       "  </thead>\n",
       "  <tbody>\n",
       "    <tr>\n",
       "      <th>0</th>\n",
       "      <td>1.697679e+09</td>\n",
       "      <td>If I were to make a season of “What If…?”.</td>\n",
       "      <td>**E1: The Ravagers attacked Asgard**\\n\\nPeter ...</td>\n",
       "      <td>Marvel</td>\n",
       "    </tr>\n",
       "    <tr>\n",
       "      <th>1</th>\n",
       "      <td>1.697677e+09</td>\n",
       "      <td>Dyed my hair red… anyone see the resemblance😂</td>\n",
       "      <td>I’m literally a Walmart version</td>\n",
       "      <td>Marvel</td>\n",
       "    </tr>\n",
       "    <tr>\n",
       "      <th>2</th>\n",
       "      <td>1.697675e+09</td>\n",
       "      <td>Has this been paid off yet? MIRACLE MAN (Timel...</td>\n",
       "      <td>NaN</td>\n",
       "      <td>Marvel</td>\n",
       "    </tr>\n",
       "    <tr>\n",
       "      <th>3</th>\n",
       "      <td>1.697675e+09</td>\n",
       "      <td>You have a choice to make: Doom is dead and yo...</td>\n",
       "      <td>I'd pick Robbie Reyes. The idea of someone goi...</td>\n",
       "      <td>Marvel</td>\n",
       "    </tr>\n",
       "    <tr>\n",
       "      <th>4</th>\n",
       "      <td>1.697675e+09</td>\n",
       "      <td>Loki and Sylvie Tribute</td>\n",
       "      <td>[https://youtu.be/\\_WQJhQLse7Q](https://youtu....</td>\n",
       "      <td>Marvel</td>\n",
       "    </tr>\n",
       "  </tbody>\n",
       "</table>\n",
       "</div>"
      ],
      "text/plain": [
       "    created_utc                                              title  \\\n",
       "0  1.697679e+09         If I were to make a season of “What If…?”.   \n",
       "1  1.697677e+09      Dyed my hair red… anyone see the resemblance😂   \n",
       "2  1.697675e+09  Has this been paid off yet? MIRACLE MAN (Timel...   \n",
       "3  1.697675e+09  You have a choice to make: Doom is dead and yo...   \n",
       "4  1.697675e+09                            Loki and Sylvie Tribute   \n",
       "\n",
       "                                           self_text subreddit  \n",
       "0  **E1: The Ravagers attacked Asgard**\\n\\nPeter ...    Marvel  \n",
       "1                    I’m literally a Walmart version    Marvel  \n",
       "2                                                NaN    Marvel  \n",
       "3  I'd pick Robbie Reyes. The idea of someone goi...    Marvel  \n",
       "4  [https://youtu.be/\\_WQJhQLse7Q](https://youtu....    Marvel  "
      ]
     },
     "execution_count": 52,
     "metadata": {},
     "output_type": "execute_result"
    }
   ],
   "source": [
    "marvel.head()"
   ]
  },
  {
   "cell_type": "code",
   "execution_count": 53,
   "id": "67377d3a-d40f-4d82-aee0-b1c5f0fbe75e",
   "metadata": {
    "tags": []
   },
   "outputs": [
    {
     "data": {
      "text/html": [
       "<div>\n",
       "<style scoped>\n",
       "    .dataframe tbody tr th:only-of-type {\n",
       "        vertical-align: middle;\n",
       "    }\n",
       "\n",
       "    .dataframe tbody tr th {\n",
       "        vertical-align: top;\n",
       "    }\n",
       "\n",
       "    .dataframe thead th {\n",
       "        text-align: right;\n",
       "    }\n",
       "</style>\n",
       "<table border=\"1\" class=\"dataframe\">\n",
       "  <thead>\n",
       "    <tr style=\"text-align: right;\">\n",
       "      <th></th>\n",
       "      <th>created_utc</th>\n",
       "      <th>title</th>\n",
       "      <th>self_text</th>\n",
       "      <th>subreddit</th>\n",
       "    </tr>\n",
       "  </thead>\n",
       "  <tbody>\n",
       "    <tr>\n",
       "      <th>0</th>\n",
       "      <td>1.697678e+09</td>\n",
       "      <td>After the Crisis scene, and the events of the ...</td>\n",
       "      <td>How do you think a team up would play out, esp...</td>\n",
       "      <td>DC_Cinematic</td>\n",
       "    </tr>\n",
       "    <tr>\n",
       "      <th>1</th>\n",
       "      <td>1.697677e+09</td>\n",
       "      <td>Remember when Batman didn’t kill Two-face? Gra...</td>\n",
       "      <td>NaN</td>\n",
       "      <td>DC_Cinematic</td>\n",
       "    </tr>\n",
       "    <tr>\n",
       "      <th>2</th>\n",
       "      <td>1.697659e+09</td>\n",
       "      <td>In what year do you realistically see a new Ju...</td>\n",
       "      <td>I think Gunn's announced slate chapter one Wil...</td>\n",
       "      <td>DC_Cinematic</td>\n",
       "    </tr>\n",
       "    <tr>\n",
       "      <th>3</th>\n",
       "      <td>1.697671e+09</td>\n",
       "      <td>Lex Luthor should've had Batman's role in BvS,...</td>\n",
       "      <td>I've read a coment in a thread that said about...</td>\n",
       "      <td>DC_Cinematic</td>\n",
       "    </tr>\n",
       "    <tr>\n",
       "      <th>4</th>\n",
       "      <td>1.697662e+09</td>\n",
       "      <td>Alan Heinberg Talking About Writing Wonder Woman</td>\n",
       "      <td>NaN</td>\n",
       "      <td>DC_Cinematic</td>\n",
       "    </tr>\n",
       "  </tbody>\n",
       "</table>\n",
       "</div>"
      ],
      "text/plain": [
       "    created_utc                                              title  \\\n",
       "0  1.697678e+09  After the Crisis scene, and the events of the ...   \n",
       "1  1.697677e+09  Remember when Batman didn’t kill Two-face? Gra...   \n",
       "2  1.697659e+09  In what year do you realistically see a new Ju...   \n",
       "3  1.697671e+09  Lex Luthor should've had Batman's role in BvS,...   \n",
       "4  1.697662e+09   Alan Heinberg Talking About Writing Wonder Woman   \n",
       "\n",
       "                                           self_text     subreddit  \n",
       "0  How do you think a team up would play out, esp...  DC_Cinematic  \n",
       "1                                                NaN  DC_Cinematic  \n",
       "2  I think Gunn's announced slate chapter one Wil...  DC_Cinematic  \n",
       "3  I've read a coment in a thread that said about...  DC_Cinematic  \n",
       "4                                                NaN  DC_Cinematic  "
      ]
     },
     "execution_count": 53,
     "metadata": {},
     "output_type": "execute_result"
    }
   ],
   "source": [
    "dc_cinematic.head()"
   ]
  },
  {
   "cell_type": "markdown",
   "id": "f4eb337e-2517-4914-983f-b2bad18b934a",
   "metadata": {},
   "source": [
    "##### checking for missing values"
   ]
  },
  {
   "cell_type": "code",
   "execution_count": 54,
   "id": "25c48d96-97b9-4ce2-b8f3-187bdca6a367",
   "metadata": {
    "tags": []
   },
   "outputs": [
    {
     "data": {
      "text/plain": [
       "created_utc      0\n",
       "title            0\n",
       "self_text      536\n",
       "subreddit        0\n",
       "dtype: int64"
      ]
     },
     "execution_count": 54,
     "metadata": {},
     "output_type": "execute_result"
    }
   ],
   "source": [
    "# marvel\n",
    "marvel.isna().sum()"
   ]
  },
  {
   "cell_type": "code",
   "execution_count": 55,
   "id": "ae575549-5af8-4e59-952f-ef8aad1c2baa",
   "metadata": {
    "tags": []
   },
   "outputs": [
    {
     "data": {
      "text/plain": [
       "created_utc      0\n",
       "title            0\n",
       "self_text      576\n",
       "subreddit        0\n",
       "dtype: int64"
      ]
     },
     "execution_count": 55,
     "metadata": {},
     "output_type": "execute_result"
    }
   ],
   "source": [
    "#dc_cinematic\n",
    "dc_cinematic.isna().sum()"
   ]
  },
  {
   "cell_type": "code",
   "execution_count": 56,
   "id": "a93117fa-9e17-4980-9893-af3adf8dde63",
   "metadata": {
    "tags": []
   },
   "outputs": [
    {
     "data": {
      "text/html": [
       "<div>\n",
       "<style scoped>\n",
       "    .dataframe tbody tr th:only-of-type {\n",
       "        vertical-align: middle;\n",
       "    }\n",
       "\n",
       "    .dataframe tbody tr th {\n",
       "        vertical-align: top;\n",
       "    }\n",
       "\n",
       "    .dataframe thead th {\n",
       "        text-align: right;\n",
       "    }\n",
       "</style>\n",
       "<table border=\"1\" class=\"dataframe\">\n",
       "  <thead>\n",
       "    <tr style=\"text-align: right;\">\n",
       "      <th></th>\n",
       "      <th>title</th>\n",
       "      <th>self_text</th>\n",
       "      <th>subreddit</th>\n",
       "    </tr>\n",
       "  </thead>\n",
       "  <tbody>\n",
       "    <tr>\n",
       "      <th>count</th>\n",
       "      <td>990</td>\n",
       "      <td>454</td>\n",
       "      <td>990</td>\n",
       "    </tr>\n",
       "    <tr>\n",
       "      <th>unique</th>\n",
       "      <td>990</td>\n",
       "      <td>454</td>\n",
       "      <td>1</td>\n",
       "    </tr>\n",
       "    <tr>\n",
       "      <th>top</th>\n",
       "      <td>If I were to make a season of “What If…?”.</td>\n",
       "      <td>**E1: The Ravagers attacked Asgard**\\n\\nPeter ...</td>\n",
       "      <td>Marvel</td>\n",
       "    </tr>\n",
       "    <tr>\n",
       "      <th>freq</th>\n",
       "      <td>1</td>\n",
       "      <td>1</td>\n",
       "      <td>990</td>\n",
       "    </tr>\n",
       "  </tbody>\n",
       "</table>\n",
       "</div>"
      ],
      "text/plain": [
       "                                             title  \\\n",
       "count                                          990   \n",
       "unique                                         990   \n",
       "top     If I were to make a season of “What If…?”.   \n",
       "freq                                             1   \n",
       "\n",
       "                                                self_text subreddit  \n",
       "count                                                 454       990  \n",
       "unique                                                454         1  \n",
       "top     **E1: The Ravagers attacked Asgard**\\n\\nPeter ...    Marvel  \n",
       "freq                                                    1       990  "
      ]
     },
     "execution_count": 56,
     "metadata": {},
     "output_type": "execute_result"
    }
   ],
   "source": [
    "marvel.describe(include='object')"
   ]
  },
  {
   "cell_type": "code",
   "execution_count": 57,
   "id": "f67b9d07-461a-4054-bb3c-4bdf16039df5",
   "metadata": {
    "tags": []
   },
   "outputs": [
    {
     "data": {
      "text/html": [
       "<div>\n",
       "<style scoped>\n",
       "    .dataframe tbody tr th:only-of-type {\n",
       "        vertical-align: middle;\n",
       "    }\n",
       "\n",
       "    .dataframe tbody tr th {\n",
       "        vertical-align: top;\n",
       "    }\n",
       "\n",
       "    .dataframe thead th {\n",
       "        text-align: right;\n",
       "    }\n",
       "</style>\n",
       "<table border=\"1\" class=\"dataframe\">\n",
       "  <thead>\n",
       "    <tr style=\"text-align: right;\">\n",
       "      <th></th>\n",
       "      <th>title</th>\n",
       "      <th>self_text</th>\n",
       "      <th>subreddit</th>\n",
       "    </tr>\n",
       "  </thead>\n",
       "  <tbody>\n",
       "    <tr>\n",
       "      <th>count</th>\n",
       "      <td>977</td>\n",
       "      <td>401</td>\n",
       "      <td>977</td>\n",
       "    </tr>\n",
       "    <tr>\n",
       "      <th>unique</th>\n",
       "      <td>976</td>\n",
       "      <td>401</td>\n",
       "      <td>1</td>\n",
       "    </tr>\n",
       "    <tr>\n",
       "      <th>top</th>\n",
       "      <td>Batman No Way Home fan edit where all 4 Batmen...</td>\n",
       "      <td>How do you think a team up would play out, esp...</td>\n",
       "      <td>DC_Cinematic</td>\n",
       "    </tr>\n",
       "    <tr>\n",
       "      <th>freq</th>\n",
       "      <td>2</td>\n",
       "      <td>1</td>\n",
       "      <td>977</td>\n",
       "    </tr>\n",
       "  </tbody>\n",
       "</table>\n",
       "</div>"
      ],
      "text/plain": [
       "                                                    title  \\\n",
       "count                                                 977   \n",
       "unique                                                976   \n",
       "top     Batman No Way Home fan edit where all 4 Batmen...   \n",
       "freq                                                    2   \n",
       "\n",
       "                                                self_text     subreddit  \n",
       "count                                                 401           977  \n",
       "unique                                                401             1  \n",
       "top     How do you think a team up would play out, esp...  DC_Cinematic  \n",
       "freq                                                    1           977  "
      ]
     },
     "execution_count": 57,
     "metadata": {},
     "output_type": "execute_result"
    }
   ],
   "source": [
    "dc_cinematic.describe(include='object')"
   ]
  },
  {
   "cell_type": "markdown",
   "id": "fdd36bd6-e391-495f-b1a1-c7072a4d5a2d",
   "metadata": {},
   "source": [
    "##### EDA on title "
   ]
  },
  {
   "cell_type": "code",
   "execution_count": 58,
   "id": "2cc95f50-aa09-418f-9a8e-c04b5f1dabc8",
   "metadata": {
    "tags": []
   },
   "outputs": [],
   "source": [
    "# create column for post_length\n",
    "marvel['post_length'] = marvel['title'].map(len)\n",
    "dc_cinematic['post_length'] = dc_cinematic['title'].map(len)"
   ]
  },
  {
   "cell_type": "code",
   "execution_count": 59,
   "id": "c30a630f-ca67-4b72-9db1-399831ec7a80",
   "metadata": {
    "tags": []
   },
   "outputs": [
    {
     "data": {
      "text/html": [
       "<div>\n",
       "<style scoped>\n",
       "    .dataframe tbody tr th:only-of-type {\n",
       "        vertical-align: middle;\n",
       "    }\n",
       "\n",
       "    .dataframe tbody tr th {\n",
       "        vertical-align: top;\n",
       "    }\n",
       "\n",
       "    .dataframe thead th {\n",
       "        text-align: right;\n",
       "    }\n",
       "</style>\n",
       "<table border=\"1\" class=\"dataframe\">\n",
       "  <thead>\n",
       "    <tr style=\"text-align: right;\">\n",
       "      <th></th>\n",
       "      <th>created_utc</th>\n",
       "      <th>title</th>\n",
       "      <th>self_text</th>\n",
       "      <th>subreddit</th>\n",
       "      <th>post_length</th>\n",
       "    </tr>\n",
       "  </thead>\n",
       "  <tbody>\n",
       "  </tbody>\n",
       "</table>\n",
       "</div>"
      ],
      "text/plain": [
       "Empty DataFrame\n",
       "Columns: [created_utc, title, self_text, subreddit, post_length]\n",
       "Index: []"
      ]
     },
     "execution_count": 59,
     "metadata": {},
     "output_type": "execute_result"
    }
   ],
   "source": [
    "marvel.head(0)"
   ]
  },
  {
   "cell_type": "code",
   "execution_count": 60,
   "id": "eac6d249-cf3b-41d6-8dd5-90c681a085cf",
   "metadata": {
    "tags": []
   },
   "outputs": [
    {
     "data": {
      "text/html": [
       "<div>\n",
       "<style scoped>\n",
       "    .dataframe tbody tr th:only-of-type {\n",
       "        vertical-align: middle;\n",
       "    }\n",
       "\n",
       "    .dataframe tbody tr th {\n",
       "        vertical-align: top;\n",
       "    }\n",
       "\n",
       "    .dataframe thead th {\n",
       "        text-align: right;\n",
       "    }\n",
       "</style>\n",
       "<table border=\"1\" class=\"dataframe\">\n",
       "  <thead>\n",
       "    <tr style=\"text-align: right;\">\n",
       "      <th></th>\n",
       "      <th>created_utc</th>\n",
       "      <th>title</th>\n",
       "      <th>self_text</th>\n",
       "      <th>subreddit</th>\n",
       "      <th>post_length</th>\n",
       "    </tr>\n",
       "  </thead>\n",
       "  <tbody>\n",
       "  </tbody>\n",
       "</table>\n",
       "</div>"
      ],
      "text/plain": [
       "Empty DataFrame\n",
       "Columns: [created_utc, title, self_text, subreddit, post_length]\n",
       "Index: []"
      ]
     },
     "execution_count": 60,
     "metadata": {},
     "output_type": "execute_result"
    }
   ],
   "source": [
    "dc_cinematic.head(0)"
   ]
  },
  {
   "cell_type": "code",
   "execution_count": 61,
   "id": "3283cdc9-3329-4952-afa7-96d4c4236e66",
   "metadata": {
    "tags": []
   },
   "outputs": [],
   "source": [
    "# create column for post_word_count\n",
    "marvel['post_word_count'] = marvel['title'].map(lambda x: len(x.split()))\n",
    "dc_cinematic['post_word_count'] = dc_cinematic['title'].map(lambda x: len(x.split()))"
   ]
  },
  {
   "cell_type": "code",
   "execution_count": 62,
   "id": "0db7560c-f659-4209-aa5c-6024a0c5e71c",
   "metadata": {
    "tags": []
   },
   "outputs": [
    {
     "data": {
      "text/html": [
       "<div>\n",
       "<style scoped>\n",
       "    .dataframe tbody tr th:only-of-type {\n",
       "        vertical-align: middle;\n",
       "    }\n",
       "\n",
       "    .dataframe tbody tr th {\n",
       "        vertical-align: top;\n",
       "    }\n",
       "\n",
       "    .dataframe thead th {\n",
       "        text-align: right;\n",
       "    }\n",
       "</style>\n",
       "<table border=\"1\" class=\"dataframe\">\n",
       "  <thead>\n",
       "    <tr style=\"text-align: right;\">\n",
       "      <th></th>\n",
       "      <th>created_utc</th>\n",
       "      <th>title</th>\n",
       "      <th>self_text</th>\n",
       "      <th>subreddit</th>\n",
       "      <th>post_length</th>\n",
       "      <th>post_word_count</th>\n",
       "    </tr>\n",
       "  </thead>\n",
       "  <tbody>\n",
       "  </tbody>\n",
       "</table>\n",
       "</div>"
      ],
      "text/plain": [
       "Empty DataFrame\n",
       "Columns: [created_utc, title, self_text, subreddit, post_length, post_word_count]\n",
       "Index: []"
      ]
     },
     "execution_count": 62,
     "metadata": {},
     "output_type": "execute_result"
    }
   ],
   "source": [
    "marvel.head(0)"
   ]
  },
  {
   "cell_type": "code",
   "execution_count": 63,
   "id": "ebf3ac16-44c0-4316-a74b-03829e651331",
   "metadata": {
    "tags": []
   },
   "outputs": [
    {
     "data": {
      "text/html": [
       "<div>\n",
       "<style scoped>\n",
       "    .dataframe tbody tr th:only-of-type {\n",
       "        vertical-align: middle;\n",
       "    }\n",
       "\n",
       "    .dataframe tbody tr th {\n",
       "        vertical-align: top;\n",
       "    }\n",
       "\n",
       "    .dataframe thead th {\n",
       "        text-align: right;\n",
       "    }\n",
       "</style>\n",
       "<table border=\"1\" class=\"dataframe\">\n",
       "  <thead>\n",
       "    <tr style=\"text-align: right;\">\n",
       "      <th></th>\n",
       "      <th>created_utc</th>\n",
       "      <th>title</th>\n",
       "      <th>self_text</th>\n",
       "      <th>subreddit</th>\n",
       "      <th>post_length</th>\n",
       "      <th>post_word_count</th>\n",
       "    </tr>\n",
       "  </thead>\n",
       "  <tbody>\n",
       "  </tbody>\n",
       "</table>\n",
       "</div>"
      ],
      "text/plain": [
       "Empty DataFrame\n",
       "Columns: [created_utc, title, self_text, subreddit, post_length, post_word_count]\n",
       "Index: []"
      ]
     },
     "execution_count": 63,
     "metadata": {},
     "output_type": "execute_result"
    }
   ],
   "source": [
    "dc_cinematic.head(0)"
   ]
  },
  {
   "cell_type": "code",
   "execution_count": 64,
   "id": "cc4a4bd3-b1d8-41f6-ba99-7f96e3b6b79d",
   "metadata": {
    "tags": []
   },
   "outputs": [],
   "source": [
    "# create a ratio\n",
    "marvel['ratio'] = marvel.post_length/marvel.post_word_count\n",
    "dc_cinematic['ratio'] = dc_cinematic.post_length/dc_cinematic.post_word_count"
   ]
  },
  {
   "cell_type": "code",
   "execution_count": 65,
   "id": "769c0d58-b5b5-4753-8215-259e90463387",
   "metadata": {
    "tags": []
   },
   "outputs": [
    {
     "data": {
      "text/html": [
       "<div>\n",
       "<style scoped>\n",
       "    .dataframe tbody tr th:only-of-type {\n",
       "        vertical-align: middle;\n",
       "    }\n",
       "\n",
       "    .dataframe tbody tr th {\n",
       "        vertical-align: top;\n",
       "    }\n",
       "\n",
       "    .dataframe thead th {\n",
       "        text-align: right;\n",
       "    }\n",
       "</style>\n",
       "<table border=\"1\" class=\"dataframe\">\n",
       "  <thead>\n",
       "    <tr style=\"text-align: right;\">\n",
       "      <th></th>\n",
       "      <th>created_utc</th>\n",
       "      <th>title</th>\n",
       "      <th>self_text</th>\n",
       "      <th>subreddit</th>\n",
       "      <th>post_length</th>\n",
       "      <th>post_word_count</th>\n",
       "      <th>ratio</th>\n",
       "    </tr>\n",
       "  </thead>\n",
       "  <tbody>\n",
       "  </tbody>\n",
       "</table>\n",
       "</div>"
      ],
      "text/plain": [
       "Empty DataFrame\n",
       "Columns: [created_utc, title, self_text, subreddit, post_length, post_word_count, ratio]\n",
       "Index: []"
      ]
     },
     "execution_count": 65,
     "metadata": {},
     "output_type": "execute_result"
    }
   ],
   "source": [
    "marvel.head(0)"
   ]
  },
  {
   "cell_type": "code",
   "execution_count": 66,
   "id": "c1c85027-1cbc-43d5-b589-4b2f7d88297c",
   "metadata": {
    "tags": []
   },
   "outputs": [
    {
     "data": {
      "text/html": [
       "<div>\n",
       "<style scoped>\n",
       "    .dataframe tbody tr th:only-of-type {\n",
       "        vertical-align: middle;\n",
       "    }\n",
       "\n",
       "    .dataframe tbody tr th {\n",
       "        vertical-align: top;\n",
       "    }\n",
       "\n",
       "    .dataframe thead th {\n",
       "        text-align: right;\n",
       "    }\n",
       "</style>\n",
       "<table border=\"1\" class=\"dataframe\">\n",
       "  <thead>\n",
       "    <tr style=\"text-align: right;\">\n",
       "      <th></th>\n",
       "      <th>created_utc</th>\n",
       "      <th>title</th>\n",
       "      <th>self_text</th>\n",
       "      <th>subreddit</th>\n",
       "      <th>post_length</th>\n",
       "      <th>post_word_count</th>\n",
       "      <th>ratio</th>\n",
       "    </tr>\n",
       "  </thead>\n",
       "  <tbody>\n",
       "    <tr>\n",
       "      <th>0</th>\n",
       "      <td>1.697678e+09</td>\n",
       "      <td>After the Crisis scene, and the events of the ...</td>\n",
       "      <td>How do you think a team up would play out, esp...</td>\n",
       "      <td>DC_Cinematic</td>\n",
       "      <td>145</td>\n",
       "      <td>27</td>\n",
       "      <td>5.370370</td>\n",
       "    </tr>\n",
       "    <tr>\n",
       "      <th>1</th>\n",
       "      <td>1.697677e+09</td>\n",
       "      <td>Remember when Batman didn’t kill Two-face? Gra...</td>\n",
       "      <td>NaN</td>\n",
       "      <td>DC_Cinematic</td>\n",
       "      <td>62</td>\n",
       "      <td>9</td>\n",
       "      <td>6.888889</td>\n",
       "    </tr>\n",
       "  </tbody>\n",
       "</table>\n",
       "</div>"
      ],
      "text/plain": [
       "    created_utc                                              title  \\\n",
       "0  1.697678e+09  After the Crisis scene, and the events of the ...   \n",
       "1  1.697677e+09  Remember when Batman didn’t kill Two-face? Gra...   \n",
       "\n",
       "                                           self_text     subreddit  \\\n",
       "0  How do you think a team up would play out, esp...  DC_Cinematic   \n",
       "1                                                NaN  DC_Cinematic   \n",
       "\n",
       "   post_length  post_word_count     ratio  \n",
       "0          145               27  5.370370  \n",
       "1           62                9  6.888889  "
      ]
     },
     "execution_count": 66,
     "metadata": {},
     "output_type": "execute_result"
    }
   ],
   "source": [
    "dc_cinematic.head(2)"
   ]
  },
  {
   "cell_type": "code",
   "execution_count": 67,
   "id": "c27092ff-b6fe-4427-a602-58da2ca2747b",
   "metadata": {
    "tags": []
   },
   "outputs": [
    {
     "data": {
      "text/html": [
       "<div>\n",
       "<style scoped>\n",
       "    .dataframe tbody tr th:only-of-type {\n",
       "        vertical-align: middle;\n",
       "    }\n",
       "\n",
       "    .dataframe tbody tr th {\n",
       "        vertical-align: top;\n",
       "    }\n",
       "\n",
       "    .dataframe thead th {\n",
       "        text-align: right;\n",
       "    }\n",
       "</style>\n",
       "<table border=\"1\" class=\"dataframe\">\n",
       "  <thead>\n",
       "    <tr style=\"text-align: right;\">\n",
       "      <th></th>\n",
       "      <th>created_utc</th>\n",
       "      <th>post_length</th>\n",
       "      <th>post_word_count</th>\n",
       "      <th>ratio</th>\n",
       "    </tr>\n",
       "  </thead>\n",
       "  <tbody>\n",
       "    <tr>\n",
       "      <th>count</th>\n",
       "      <td>9.900000e+02</td>\n",
       "      <td>990.000000</td>\n",
       "      <td>990.000000</td>\n",
       "      <td>990.000000</td>\n",
       "    </tr>\n",
       "    <tr>\n",
       "      <th>mean</th>\n",
       "      <td>1.696896e+09</td>\n",
       "      <td>61.884848</td>\n",
       "      <td>10.884848</td>\n",
       "      <td>5.880494</td>\n",
       "    </tr>\n",
       "    <tr>\n",
       "      <th>std</th>\n",
       "      <td>4.986344e+05</td>\n",
       "      <td>41.600936</td>\n",
       "      <td>7.630554</td>\n",
       "      <td>1.147980</td>\n",
       "    </tr>\n",
       "    <tr>\n",
       "      <th>min</th>\n",
       "      <td>1.695950e+09</td>\n",
       "      <td>3.000000</td>\n",
       "      <td>1.000000</td>\n",
       "      <td>3.000000</td>\n",
       "    </tr>\n",
       "    <tr>\n",
       "      <th>25%</th>\n",
       "      <td>1.696463e+09</td>\n",
       "      <td>34.000000</td>\n",
       "      <td>6.000000</td>\n",
       "      <td>5.215402</td>\n",
       "    </tr>\n",
       "    <tr>\n",
       "      <th>50%</th>\n",
       "      <td>1.696931e+09</td>\n",
       "      <td>52.000000</td>\n",
       "      <td>9.000000</td>\n",
       "      <td>5.674242</td>\n",
       "    </tr>\n",
       "    <tr>\n",
       "      <th>75%</th>\n",
       "      <td>1.697335e+09</td>\n",
       "      <td>76.750000</td>\n",
       "      <td>14.000000</td>\n",
       "      <td>6.333333</td>\n",
       "    </tr>\n",
       "    <tr>\n",
       "      <th>max</th>\n",
       "      <td>1.697679e+09</td>\n",
       "      <td>300.000000</td>\n",
       "      <td>55.000000</td>\n",
       "      <td>16.000000</td>\n",
       "    </tr>\n",
       "  </tbody>\n",
       "</table>\n",
       "</div>"
      ],
      "text/plain": [
       "        created_utc  post_length  post_word_count       ratio\n",
       "count  9.900000e+02   990.000000       990.000000  990.000000\n",
       "mean   1.696896e+09    61.884848        10.884848    5.880494\n",
       "std    4.986344e+05    41.600936         7.630554    1.147980\n",
       "min    1.695950e+09     3.000000         1.000000    3.000000\n",
       "25%    1.696463e+09    34.000000         6.000000    5.215402\n",
       "50%    1.696931e+09    52.000000         9.000000    5.674242\n",
       "75%    1.697335e+09    76.750000        14.000000    6.333333\n",
       "max    1.697679e+09   300.000000        55.000000   16.000000"
      ]
     },
     "execution_count": 67,
     "metadata": {},
     "output_type": "execute_result"
    }
   ],
   "source": [
    "marvel.describe()"
   ]
  },
  {
   "cell_type": "code",
   "execution_count": 68,
   "id": "e6debb3f-5884-41ee-8476-1886b759977c",
   "metadata": {
    "tags": []
   },
   "outputs": [
    {
     "data": {
      "text/html": [
       "<div>\n",
       "<style scoped>\n",
       "    .dataframe tbody tr th:only-of-type {\n",
       "        vertical-align: middle;\n",
       "    }\n",
       "\n",
       "    .dataframe tbody tr th {\n",
       "        vertical-align: top;\n",
       "    }\n",
       "\n",
       "    .dataframe thead th {\n",
       "        text-align: right;\n",
       "    }\n",
       "</style>\n",
       "<table border=\"1\" class=\"dataframe\">\n",
       "  <thead>\n",
       "    <tr style=\"text-align: right;\">\n",
       "      <th></th>\n",
       "      <th>created_utc</th>\n",
       "      <th>post_length</th>\n",
       "      <th>post_word_count</th>\n",
       "      <th>ratio</th>\n",
       "    </tr>\n",
       "  </thead>\n",
       "  <tbody>\n",
       "    <tr>\n",
       "      <th>count</th>\n",
       "      <td>9.770000e+02</td>\n",
       "      <td>977.000000</td>\n",
       "      <td>977.000000</td>\n",
       "      <td>977.000000</td>\n",
       "    </tr>\n",
       "    <tr>\n",
       "      <th>mean</th>\n",
       "      <td>1.694369e+09</td>\n",
       "      <td>73.115660</td>\n",
       "      <td>12.920164</td>\n",
       "      <td>5.721492</td>\n",
       "    </tr>\n",
       "    <tr>\n",
       "      <th>std</th>\n",
       "      <td>1.582152e+06</td>\n",
       "      <td>46.026787</td>\n",
       "      <td>8.044432</td>\n",
       "      <td>0.861243</td>\n",
       "    </tr>\n",
       "    <tr>\n",
       "      <th>min</th>\n",
       "      <td>1.692038e+09</td>\n",
       "      <td>5.000000</td>\n",
       "      <td>1.000000</td>\n",
       "      <td>3.000000</td>\n",
       "    </tr>\n",
       "    <tr>\n",
       "      <th>25%</th>\n",
       "      <td>1.692966e+09</td>\n",
       "      <td>43.000000</td>\n",
       "      <td>8.000000</td>\n",
       "      <td>5.166667</td>\n",
       "    </tr>\n",
       "    <tr>\n",
       "      <th>50%</th>\n",
       "      <td>1.694142e+09</td>\n",
       "      <td>62.000000</td>\n",
       "      <td>11.000000</td>\n",
       "      <td>5.642857</td>\n",
       "    </tr>\n",
       "    <tr>\n",
       "      <th>75%</th>\n",
       "      <td>1.695600e+09</td>\n",
       "      <td>90.000000</td>\n",
       "      <td>16.000000</td>\n",
       "      <td>6.125000</td>\n",
       "    </tr>\n",
       "    <tr>\n",
       "      <th>max</th>\n",
       "      <td>1.697678e+09</td>\n",
       "      <td>299.000000</td>\n",
       "      <td>57.000000</td>\n",
       "      <td>10.500000</td>\n",
       "    </tr>\n",
       "  </tbody>\n",
       "</table>\n",
       "</div>"
      ],
      "text/plain": [
       "        created_utc  post_length  post_word_count       ratio\n",
       "count  9.770000e+02   977.000000       977.000000  977.000000\n",
       "mean   1.694369e+09    73.115660        12.920164    5.721492\n",
       "std    1.582152e+06    46.026787         8.044432    0.861243\n",
       "min    1.692038e+09     5.000000         1.000000    3.000000\n",
       "25%    1.692966e+09    43.000000         8.000000    5.166667\n",
       "50%    1.694142e+09    62.000000        11.000000    5.642857\n",
       "75%    1.695600e+09    90.000000        16.000000    6.125000\n",
       "max    1.697678e+09   299.000000        57.000000   10.500000"
      ]
     },
     "execution_count": 68,
     "metadata": {},
     "output_type": "execute_result"
    }
   ],
   "source": [
    "dc_cinematic.describe()"
   ]
  },
  {
   "cell_type": "markdown",
   "id": "6d5dac5a-6c47-4fdb-9144-576fdf32678a",
   "metadata": {},
   "source": [
    "#### Top 10 post word count"
   ]
  },
  {
   "cell_type": "code",
   "execution_count": 69,
   "id": "7088250d-276e-47df-98a6-f2b333d53088",
   "metadata": {
    "tags": []
   },
   "outputs": [
    {
     "data": {
      "text/html": [
       "<div>\n",
       "<style scoped>\n",
       "    .dataframe tbody tr th:only-of-type {\n",
       "        vertical-align: middle;\n",
       "    }\n",
       "\n",
       "    .dataframe tbody tr th {\n",
       "        vertical-align: top;\n",
       "    }\n",
       "\n",
       "    .dataframe thead th {\n",
       "        text-align: right;\n",
       "    }\n",
       "</style>\n",
       "<table border=\"1\" class=\"dataframe\">\n",
       "  <thead>\n",
       "    <tr style=\"text-align: right;\">\n",
       "      <th></th>\n",
       "      <th>subreddit</th>\n",
       "      <th>post_word_count</th>\n",
       "      <th>post_length</th>\n",
       "      <th>ratio</th>\n",
       "      <th>title</th>\n",
       "    </tr>\n",
       "  </thead>\n",
       "  <tbody>\n",
       "    <tr>\n",
       "      <th>938</th>\n",
       "      <td>Marvel</td>\n",
       "      <td>55</td>\n",
       "      <td>278</td>\n",
       "      <td>5.054545</td>\n",
       "      <td>So I think we can all agree that Wanda’s not d...</td>\n",
       "    </tr>\n",
       "    <tr>\n",
       "      <th>224</th>\n",
       "      <td>Marvel</td>\n",
       "      <td>51</td>\n",
       "      <td>273</td>\n",
       "      <td>5.352941</td>\n",
       "      <td>if marvel were to animate a comic (the way jap...</td>\n",
       "    </tr>\n",
       "    <tr>\n",
       "      <th>335</th>\n",
       "      <td>Marvel</td>\n",
       "      <td>50</td>\n",
       "      <td>283</td>\n",
       "      <td>5.660000</td>\n",
       "      <td>I always thought it would be cool if Marvel ev...</td>\n",
       "    </tr>\n",
       "    <tr>\n",
       "      <th>31</th>\n",
       "      <td>Marvel</td>\n",
       "      <td>48</td>\n",
       "      <td>300</td>\n",
       "      <td>6.250000</td>\n",
       "      <td>[Artwork]. Scarlet Witch #9. Seriously, they'v...</td>\n",
       "    </tr>\n",
       "    <tr>\n",
       "      <th>3</th>\n",
       "      <td>Marvel</td>\n",
       "      <td>44</td>\n",
       "      <td>234</td>\n",
       "      <td>5.318182</td>\n",
       "      <td>You have a choice to make: Doom is dead and yo...</td>\n",
       "    </tr>\n",
       "    <tr>\n",
       "      <th>645</th>\n",
       "      <td>Marvel</td>\n",
       "      <td>43</td>\n",
       "      <td>204</td>\n",
       "      <td>4.744186</td>\n",
       "      <td>What do you think is the chance that the chara...</td>\n",
       "    </tr>\n",
       "    <tr>\n",
       "      <th>963</th>\n",
       "      <td>Marvel</td>\n",
       "      <td>43</td>\n",
       "      <td>226</td>\n",
       "      <td>5.255814</td>\n",
       "      <td>I've seen a lot of people at this point wantin...</td>\n",
       "    </tr>\n",
       "    <tr>\n",
       "      <th>511</th>\n",
       "      <td>Marvel</td>\n",
       "      <td>41</td>\n",
       "      <td>246</td>\n",
       "      <td>6.000000</td>\n",
       "      <td>I remember this art work being the staple of m...</td>\n",
       "    </tr>\n",
       "    <tr>\n",
       "      <th>695</th>\n",
       "      <td>Marvel</td>\n",
       "      <td>41</td>\n",
       "      <td>229</td>\n",
       "      <td>5.585366</td>\n",
       "      <td>At least the avengers bothered to show up at D...</td>\n",
       "    </tr>\n",
       "    <tr>\n",
       "      <th>742</th>\n",
       "      <td>Marvel</td>\n",
       "      <td>40</td>\n",
       "      <td>197</td>\n",
       "      <td>4.925000</td>\n",
       "      <td>I’m curious. How tough are the Yancy Street Ga...</td>\n",
       "    </tr>\n",
       "  </tbody>\n",
       "</table>\n",
       "</div>"
      ],
      "text/plain": [
       "    subreddit  post_word_count  post_length     ratio  \\\n",
       "938    Marvel               55          278  5.054545   \n",
       "224    Marvel               51          273  5.352941   \n",
       "335    Marvel               50          283  5.660000   \n",
       "31     Marvel               48          300  6.250000   \n",
       "3      Marvel               44          234  5.318182   \n",
       "645    Marvel               43          204  4.744186   \n",
       "963    Marvel               43          226  5.255814   \n",
       "511    Marvel               41          246  6.000000   \n",
       "695    Marvel               41          229  5.585366   \n",
       "742    Marvel               40          197  4.925000   \n",
       "\n",
       "                                                 title  \n",
       "938  So I think we can all agree that Wanda’s not d...  \n",
       "224  if marvel were to animate a comic (the way jap...  \n",
       "335  I always thought it would be cool if Marvel ev...  \n",
       "31   [Artwork]. Scarlet Witch #9. Seriously, they'v...  \n",
       "3    You have a choice to make: Doom is dead and yo...  \n",
       "645  What do you think is the chance that the chara...  \n",
       "963  I've seen a lot of people at this point wantin...  \n",
       "511  I remember this art work being the staple of m...  \n",
       "695  At least the avengers bothered to show up at D...  \n",
       "742  I’m curious. How tough are the Yancy Street Ga...  "
      ]
     },
     "execution_count": 69,
     "metadata": {},
     "output_type": "execute_result"
    }
   ],
   "source": [
    "# top 10 longest marvel_post\n",
    "marvel.sort_values(by='post_word_count', ascending=False)[['subreddit','post_word_count','post_length','ratio','title']].head(10)"
   ]
  },
  {
   "cell_type": "code",
   "execution_count": 70,
   "id": "41e8d85f-80f0-4e2f-8de0-f3a02b9cbe40",
   "metadata": {
    "tags": []
   },
   "outputs": [
    {
     "data": {
      "text/html": [
       "<div>\n",
       "<style scoped>\n",
       "    .dataframe tbody tr th:only-of-type {\n",
       "        vertical-align: middle;\n",
       "    }\n",
       "\n",
       "    .dataframe tbody tr th {\n",
       "        vertical-align: top;\n",
       "    }\n",
       "\n",
       "    .dataframe thead th {\n",
       "        text-align: right;\n",
       "    }\n",
       "</style>\n",
       "<table border=\"1\" class=\"dataframe\">\n",
       "  <thead>\n",
       "    <tr style=\"text-align: right;\">\n",
       "      <th></th>\n",
       "      <th>subreddit</th>\n",
       "      <th>post_word_count</th>\n",
       "      <th>post_length</th>\n",
       "      <th>ratio</th>\n",
       "      <th>title</th>\n",
       "    </tr>\n",
       "  </thead>\n",
       "  <tbody>\n",
       "    <tr>\n",
       "      <th>29</th>\n",
       "      <td>DC_Cinematic</td>\n",
       "      <td>57</td>\n",
       "      <td>299</td>\n",
       "      <td>5.245614</td>\n",
       "      <td>I have always wondered who it was Clark was pr...</td>\n",
       "    </tr>\n",
       "    <tr>\n",
       "      <th>369</th>\n",
       "      <td>DC_Cinematic</td>\n",
       "      <td>51</td>\n",
       "      <td>293</td>\n",
       "      <td>5.745098</td>\n",
       "      <td>Tim Burton breaks silence on The Flash using h...</td>\n",
       "    </tr>\n",
       "    <tr>\n",
       "      <th>514</th>\n",
       "      <td>DC_Cinematic</td>\n",
       "      <td>50</td>\n",
       "      <td>286</td>\n",
       "      <td>5.720000</td>\n",
       "      <td>Mr. Mind and the Monster Society of Evil shoul...</td>\n",
       "    </tr>\n",
       "    <tr>\n",
       "      <th>215</th>\n",
       "      <td>DC_Cinematic</td>\n",
       "      <td>49</td>\n",
       "      <td>273</td>\n",
       "      <td>5.571429</td>\n",
       "      <td>\"And, yes, some actors will be playing charact...</td>\n",
       "    </tr>\n",
       "    <tr>\n",
       "      <th>697</th>\n",
       "      <td>DC_Cinematic</td>\n",
       "      <td>48</td>\n",
       "      <td>275</td>\n",
       "      <td>5.729167</td>\n",
       "      <td>That’s it! #BlueBeetle had #5 best hold in DCE...</td>\n",
       "    </tr>\n",
       "    <tr>\n",
       "      <th>220</th>\n",
       "      <td>DC_Cinematic</td>\n",
       "      <td>48</td>\n",
       "      <td>299</td>\n",
       "      <td>6.229167</td>\n",
       "      <td>Fun Fact: Birdman, an Oscar-winning movie rele...</td>\n",
       "    </tr>\n",
       "    <tr>\n",
       "      <th>676</th>\n",
       "      <td>DC_Cinematic</td>\n",
       "      <td>46</td>\n",
       "      <td>278</td>\n",
       "      <td>6.043478</td>\n",
       "      <td>With actuals out, #BlueBeetle was the first ch...</td>\n",
       "    </tr>\n",
       "    <tr>\n",
       "      <th>816</th>\n",
       "      <td>DC_Cinematic</td>\n",
       "      <td>46</td>\n",
       "      <td>267</td>\n",
       "      <td>5.804348</td>\n",
       "      <td>When James Gunn cast David Dastmalchian as sup...</td>\n",
       "    </tr>\n",
       "    <tr>\n",
       "      <th>941</th>\n",
       "      <td>DC_Cinematic</td>\n",
       "      <td>46</td>\n",
       "      <td>264</td>\n",
       "      <td>5.739130</td>\n",
       "      <td>James Gunn praises WONDER WOMAN HISTORIA as \"a...</td>\n",
       "    </tr>\n",
       "    <tr>\n",
       "      <th>654</th>\n",
       "      <td>DC_Cinematic</td>\n",
       "      <td>46</td>\n",
       "      <td>246</td>\n",
       "      <td>5.347826</td>\n",
       "      <td>I am very curious, for people living in foreig...</td>\n",
       "    </tr>\n",
       "  </tbody>\n",
       "</table>\n",
       "</div>"
      ],
      "text/plain": [
       "        subreddit  post_word_count  post_length     ratio  \\\n",
       "29   DC_Cinematic               57          299  5.245614   \n",
       "369  DC_Cinematic               51          293  5.745098   \n",
       "514  DC_Cinematic               50          286  5.720000   \n",
       "215  DC_Cinematic               49          273  5.571429   \n",
       "697  DC_Cinematic               48          275  5.729167   \n",
       "220  DC_Cinematic               48          299  6.229167   \n",
       "676  DC_Cinematic               46          278  6.043478   \n",
       "816  DC_Cinematic               46          267  5.804348   \n",
       "941  DC_Cinematic               46          264  5.739130   \n",
       "654  DC_Cinematic               46          246  5.347826   \n",
       "\n",
       "                                                 title  \n",
       "29   I have always wondered who it was Clark was pr...  \n",
       "369  Tim Burton breaks silence on The Flash using h...  \n",
       "514  Mr. Mind and the Monster Society of Evil shoul...  \n",
       "215  \"And, yes, some actors will be playing charact...  \n",
       "697  That’s it! #BlueBeetle had #5 best hold in DCE...  \n",
       "220  Fun Fact: Birdman, an Oscar-winning movie rele...  \n",
       "676  With actuals out, #BlueBeetle was the first ch...  \n",
       "816  When James Gunn cast David Dastmalchian as sup...  \n",
       "941  James Gunn praises WONDER WOMAN HISTORIA as \"a...  \n",
       "654  I am very curious, for people living in foreig...  "
      ]
     },
     "execution_count": 70,
     "metadata": {},
     "output_type": "execute_result"
    }
   ],
   "source": [
    "# top 10 longest dc_cinematic_post\n",
    "dc_cinematic.sort_values(by='post_word_count', ascending=False)[['subreddit','post_word_count','post_length','ratio','title']].head(10)"
   ]
  },
  {
   "cell_type": "markdown",
   "id": "a5383635-cb3b-4897-be78-828106a567c0",
   "metadata": {},
   "source": [
    "#### Bottom 10 post word count"
   ]
  },
  {
   "cell_type": "code",
   "execution_count": 71,
   "id": "7eebff23-b7a2-4bff-81e8-c32d2033c316",
   "metadata": {
    "tags": []
   },
   "outputs": [
    {
     "data": {
      "text/html": [
       "<div>\n",
       "<style scoped>\n",
       "    .dataframe tbody tr th:only-of-type {\n",
       "        vertical-align: middle;\n",
       "    }\n",
       "\n",
       "    .dataframe tbody tr th {\n",
       "        vertical-align: top;\n",
       "    }\n",
       "\n",
       "    .dataframe thead th {\n",
       "        text-align: right;\n",
       "    }\n",
       "</style>\n",
       "<table border=\"1\" class=\"dataframe\">\n",
       "  <thead>\n",
       "    <tr style=\"text-align: right;\">\n",
       "      <th></th>\n",
       "      <th>subreddit</th>\n",
       "      <th>post_word_count</th>\n",
       "      <th>post_length</th>\n",
       "      <th>ratio</th>\n",
       "      <th>title</th>\n",
       "    </tr>\n",
       "  </thead>\n",
       "  <tbody>\n",
       "    <tr>\n",
       "      <th>775</th>\n",
       "      <td>Marvel</td>\n",
       "      <td>1</td>\n",
       "      <td>16</td>\n",
       "      <td>16.0</td>\n",
       "      <td>Self-Explanatory</td>\n",
       "    </tr>\n",
       "    <tr>\n",
       "      <th>59</th>\n",
       "      <td>Marvel</td>\n",
       "      <td>1</td>\n",
       "      <td>11</td>\n",
       "      <td>11.0</td>\n",
       "      <td>Interesting</td>\n",
       "    </tr>\n",
       "    <tr>\n",
       "      <th>300</th>\n",
       "      <td>Marvel</td>\n",
       "      <td>1</td>\n",
       "      <td>13</td>\n",
       "      <td>13.0</td>\n",
       "      <td>Annihilation!</td>\n",
       "    </tr>\n",
       "    <tr>\n",
       "      <th>803</th>\n",
       "      <td>Marvel</td>\n",
       "      <td>1</td>\n",
       "      <td>8</td>\n",
       "      <td>8.0</td>\n",
       "      <td>Curious?</td>\n",
       "    </tr>\n",
       "    <tr>\n",
       "      <th>750</th>\n",
       "      <td>Marvel</td>\n",
       "      <td>1</td>\n",
       "      <td>4</td>\n",
       "      <td>4.0</td>\n",
       "      <td>Halp</td>\n",
       "    </tr>\n",
       "    <tr>\n",
       "      <th>275</th>\n",
       "      <td>Marvel</td>\n",
       "      <td>1</td>\n",
       "      <td>3</td>\n",
       "      <td>3.0</td>\n",
       "      <td>HoX</td>\n",
       "    </tr>\n",
       "    <tr>\n",
       "      <th>668</th>\n",
       "      <td>Marvel</td>\n",
       "      <td>1</td>\n",
       "      <td>9</td>\n",
       "      <td>9.0</td>\n",
       "      <td>Opiniyann</td>\n",
       "    </tr>\n",
       "    <tr>\n",
       "      <th>351</th>\n",
       "      <td>Marvel</td>\n",
       "      <td>1</td>\n",
       "      <td>6</td>\n",
       "      <td>6.0</td>\n",
       "      <td>Ultron</td>\n",
       "    </tr>\n",
       "    <tr>\n",
       "      <th>353</th>\n",
       "      <td>Marvel</td>\n",
       "      <td>1</td>\n",
       "      <td>5</td>\n",
       "      <td>5.0</td>\n",
       "      <td>Title</td>\n",
       "    </tr>\n",
       "    <tr>\n",
       "      <th>594</th>\n",
       "      <td>Marvel</td>\n",
       "      <td>1</td>\n",
       "      <td>15</td>\n",
       "      <td>15.0</td>\n",
       "      <td>Miles-o-lantern</td>\n",
       "    </tr>\n",
       "  </tbody>\n",
       "</table>\n",
       "</div>"
      ],
      "text/plain": [
       "    subreddit  post_word_count  post_length  ratio             title\n",
       "775    Marvel                1           16   16.0  Self-Explanatory\n",
       "59     Marvel                1           11   11.0       Interesting\n",
       "300    Marvel                1           13   13.0     Annihilation!\n",
       "803    Marvel                1            8    8.0          Curious?\n",
       "750    Marvel                1            4    4.0              Halp\n",
       "275    Marvel                1            3    3.0               HoX\n",
       "668    Marvel                1            9    9.0         Opiniyann\n",
       "351    Marvel                1            6    6.0            Ultron\n",
       "353    Marvel                1            5    5.0             Title\n",
       "594    Marvel                1           15   15.0   Miles-o-lantern"
      ]
     },
     "execution_count": 71,
     "metadata": {},
     "output_type": "execute_result"
    }
   ],
   "source": [
    "# top 10 shortest marvel_post\n",
    "marvel.sort_values(by='post_word_count', ascending=True)[['subreddit','post_word_count','post_length','ratio','title']].head(10)"
   ]
  },
  {
   "cell_type": "code",
   "execution_count": 72,
   "id": "2aed87a9-40b3-4be3-9746-6e27c23e12f7",
   "metadata": {
    "tags": []
   },
   "outputs": [
    {
     "data": {
      "text/html": [
       "<div>\n",
       "<style scoped>\n",
       "    .dataframe tbody tr th:only-of-type {\n",
       "        vertical-align: middle;\n",
       "    }\n",
       "\n",
       "    .dataframe tbody tr th {\n",
       "        vertical-align: top;\n",
       "    }\n",
       "\n",
       "    .dataframe thead th {\n",
       "        text-align: right;\n",
       "    }\n",
       "</style>\n",
       "<table border=\"1\" class=\"dataframe\">\n",
       "  <thead>\n",
       "    <tr style=\"text-align: right;\">\n",
       "      <th></th>\n",
       "      <th>subreddit</th>\n",
       "      <th>post_word_count</th>\n",
       "      <th>post_length</th>\n",
       "      <th>ratio</th>\n",
       "      <th>title</th>\n",
       "    </tr>\n",
       "  </thead>\n",
       "  <tbody>\n",
       "    <tr>\n",
       "      <th>660</th>\n",
       "      <td>DC_Cinematic</td>\n",
       "      <td>1</td>\n",
       "      <td>5</td>\n",
       "      <td>5.0</td>\n",
       "      <td>Iykyk</td>\n",
       "    </tr>\n",
       "    <tr>\n",
       "      <th>288</th>\n",
       "      <td>DC_Cinematic</td>\n",
       "      <td>2</td>\n",
       "      <td>20</td>\n",
       "      <td>10.0</td>\n",
       "      <td>Snyder’s controversy</td>\n",
       "    </tr>\n",
       "    <tr>\n",
       "      <th>438</th>\n",
       "      <td>DC_Cinematic</td>\n",
       "      <td>2</td>\n",
       "      <td>13</td>\n",
       "      <td>6.5</td>\n",
       "      <td>Belgium, 1918</td>\n",
       "    </tr>\n",
       "    <tr>\n",
       "      <th>541</th>\n",
       "      <td>DC_Cinematic</td>\n",
       "      <td>2</td>\n",
       "      <td>15</td>\n",
       "      <td>7.5</td>\n",
       "      <td>Aquaman Trailer</td>\n",
       "    </tr>\n",
       "    <tr>\n",
       "      <th>764</th>\n",
       "      <td>DC_Cinematic</td>\n",
       "      <td>2</td>\n",
       "      <td>10</td>\n",
       "      <td>5.0</td>\n",
       "      <td>Her emails</td>\n",
       "    </tr>\n",
       "    <tr>\n",
       "      <th>645</th>\n",
       "      <td>DC_Cinematic</td>\n",
       "      <td>2</td>\n",
       "      <td>14</td>\n",
       "      <td>7.0</td>\n",
       "      <td>Lego Rorschach</td>\n",
       "    </tr>\n",
       "    <tr>\n",
       "      <th>55</th>\n",
       "      <td>DC_Cinematic</td>\n",
       "      <td>2</td>\n",
       "      <td>15</td>\n",
       "      <td>7.5</td>\n",
       "      <td>Source material</td>\n",
       "    </tr>\n",
       "    <tr>\n",
       "      <th>297</th>\n",
       "      <td>DC_Cinematic</td>\n",
       "      <td>2</td>\n",
       "      <td>21</td>\n",
       "      <td>10.5</td>\n",
       "      <td>Batfleck appreciation</td>\n",
       "    </tr>\n",
       "    <tr>\n",
       "      <th>583</th>\n",
       "      <td>DC_Cinematic</td>\n",
       "      <td>2</td>\n",
       "      <td>12</td>\n",
       "      <td>6.0</td>\n",
       "      <td>DC Showcases</td>\n",
       "    </tr>\n",
       "    <tr>\n",
       "      <th>139</th>\n",
       "      <td>DC_Cinematic</td>\n",
       "      <td>2</td>\n",
       "      <td>8</td>\n",
       "      <td>4.0</td>\n",
       "      <td>DCU Poll</td>\n",
       "    </tr>\n",
       "  </tbody>\n",
       "</table>\n",
       "</div>"
      ],
      "text/plain": [
       "        subreddit  post_word_count  post_length  ratio                  title\n",
       "660  DC_Cinematic                1            5    5.0                  Iykyk\n",
       "288  DC_Cinematic                2           20   10.0   Snyder’s controversy\n",
       "438  DC_Cinematic                2           13    6.5          Belgium, 1918\n",
       "541  DC_Cinematic                2           15    7.5        Aquaman Trailer\n",
       "764  DC_Cinematic                2           10    5.0             Her emails\n",
       "645  DC_Cinematic                2           14    7.0         Lego Rorschach\n",
       "55   DC_Cinematic                2           15    7.5        Source material\n",
       "297  DC_Cinematic                2           21   10.5  Batfleck appreciation\n",
       "583  DC_Cinematic                2           12    6.0           DC Showcases\n",
       "139  DC_Cinematic                2            8    4.0               DCU Poll"
      ]
     },
     "execution_count": 72,
     "metadata": {},
     "output_type": "execute_result"
    }
   ],
   "source": [
    "# top 10 shortest dc_cinematic_post\n",
    "dc_cinematic.sort_values(by='post_word_count', ascending=True)[['subreddit','post_word_count','post_length','ratio','title']].head(10)"
   ]
  },
  {
   "cell_type": "markdown",
   "id": "29a6d705-01c1-4b15-8f20-136c905203ff",
   "metadata": {},
   "source": [
    "#### CountVectorizing"
   ]
  },
  {
   "cell_type": "code",
   "execution_count": 73,
   "id": "39634668-3d26-47e0-a6e9-9011907e0d5a",
   "metadata": {},
   "outputs": [],
   "source": [
    "# marvel top 20 common word\n",
    "cv = CountVectorizer(stop_words='english')\n",
    "cv.fit(marvel['title'])\n",
    "\n",
    "marvel_post_cv = cv.transform(marvel['title'])\n",
    "marvel_post_df = pd.DataFrame(marvel_post_cv.todense(), columns=cv.get_feature_names_out())"
   ]
  },
  {
   "cell_type": "code",
   "execution_count": 74,
   "id": "780493b6-e4f5-4765-9a20-9831fcb6ae99",
   "metadata": {},
   "outputs": [
    {
     "data": {
      "text/html": [
       "<div>\n",
       "<style scoped>\n",
       "    .dataframe tbody tr th:only-of-type {\n",
       "        vertical-align: middle;\n",
       "    }\n",
       "\n",
       "    .dataframe tbody tr th {\n",
       "        vertical-align: top;\n",
       "    }\n",
       "\n",
       "    .dataframe thead th {\n",
       "        text-align: right;\n",
       "    }\n",
       "</style>\n",
       "<table border=\"1\" class=\"dataframe\">\n",
       "  <thead>\n",
       "    <tr style=\"text-align: right;\">\n",
       "      <th></th>\n",
       "      <th>marvel</th>\n",
       "      <th>man</th>\n",
       "      <th>spider</th>\n",
       "      <th>avengers</th>\n",
       "      <th>men</th>\n",
       "      <th>comics</th>\n",
       "      <th>new</th>\n",
       "      <th>ultimate</th>\n",
       "      <th>comic</th>\n",
       "      <th>mcu</th>\n",
       "      <th>think</th>\n",
       "      <th>like</th>\n",
       "      <th>universe</th>\n",
       "      <th>just</th>\n",
       "      <th>hulk</th>\n",
       "      <th>2023</th>\n",
       "      <th>iron</th>\n",
       "      <th>series</th>\n",
       "      <th>miles</th>\n",
       "      <th>best</th>\n",
       "    </tr>\n",
       "  </thead>\n",
       "  <tbody>\n",
       "    <tr>\n",
       "      <th>Count</th>\n",
       "      <td>159</td>\n",
       "      <td>139</td>\n",
       "      <td>115</td>\n",
       "      <td>61</td>\n",
       "      <td>57</td>\n",
       "      <td>53</td>\n",
       "      <td>50</td>\n",
       "      <td>44</td>\n",
       "      <td>43</td>\n",
       "      <td>38</td>\n",
       "      <td>38</td>\n",
       "      <td>36</td>\n",
       "      <td>36</td>\n",
       "      <td>34</td>\n",
       "      <td>34</td>\n",
       "      <td>31</td>\n",
       "      <td>30</td>\n",
       "      <td>30</td>\n",
       "      <td>28</td>\n",
       "      <td>28</td>\n",
       "    </tr>\n",
       "  </tbody>\n",
       "</table>\n",
       "</div>"
      ],
      "text/plain": [
       "       marvel  man  spider  avengers  men  comics  new  ultimate  comic  mcu  \\\n",
       "Count     159  139     115        61   57      53   50        44     43   38   \n",
       "\n",
       "       think  like  universe  just  hulk  2023  iron  series  miles  best  \n",
       "Count     38    36        36    34    34    31    30      30     28    28  "
      ]
     },
     "execution_count": 74,
     "metadata": {},
     "output_type": "execute_result"
    }
   ],
   "source": [
    "marvel_top_words = pd.DataFrame(marvel_post_df.sum().sort_values(ascending=False).head(20), columns = ['Count'])\n",
    "marvel_top_words.T"
   ]
  },
  {
   "cell_type": "code",
   "execution_count": 75,
   "id": "ca3cf493-7328-4c19-805a-69b51f550f00",
   "metadata": {
    "tags": []
   },
   "outputs": [
    {
     "data": {
      "image/png": "[encoded data removed]",
      "text/plain": [
       "<Figure size 1200x800 with 1 Axes>"
      ]
     },
     "metadata": {},
     "output_type": "display_data"
    }
   ],
   "source": [
    "fig, ax = plt.subplots(figsize=(12,8))\n",
    "sns.barplot(x='Count', y=marvel_top_words.index , data=marvel_top_words, palette = \"flare\")\n",
    "plt.title('Marvel: Top 20 common words',fontsize=20)\n",
    "plt.xlabel('Word Count', fontsize=12)\n",
    "plt.yticks(fontsize=15)\n",
    "plt.tight_layout()"
   ]
  },
  {
   "cell_type": "code",
   "execution_count": 76,
   "id": "73529eb1-ddc2-4ee4-bc1f-408c6038690b",
   "metadata": {
    "tags": []
   },
   "outputs": [],
   "source": [
    "# dc_cinematic top 20 common word\n",
    "cv = CountVectorizer(stop_words='english')\n",
    "cv.fit(dc_cinematic['title'])\n",
    "\n",
    "dc_cinematic_post_cv = cv.transform(dc_cinematic['title'])\n",
    "dc_cinematic_post_df = pd.DataFrame(dc_cinematic_post_cv.todense(), columns=cv.get_feature_names_out())"
   ]
  },
  {
   "cell_type": "code",
   "execution_count": 77,
   "id": "f5cbd7dc-b16e-4ae9-84bd-969a9c9f722b",
   "metadata": {
    "tags": []
   },
   "outputs": [
    {
     "data": {
      "text/html": [
       "<div>\n",
       "<style scoped>\n",
       "    .dataframe tbody tr th:only-of-type {\n",
       "        vertical-align: middle;\n",
       "    }\n",
       "\n",
       "    .dataframe tbody tr th {\n",
       "        vertical-align: top;\n",
       "    }\n",
       "\n",
       "    .dataframe thead th {\n",
       "        text-align: right;\n",
       "    }\n",
       "</style>\n",
       "<table border=\"1\" class=\"dataframe\">\n",
       "  <thead>\n",
       "    <tr style=\"text-align: right;\">\n",
       "      <th></th>\n",
       "      <th>batman</th>\n",
       "      <th>blue</th>\n",
       "      <th>beetle</th>\n",
       "      <th>dcu</th>\n",
       "      <th>movie</th>\n",
       "      <th>dc</th>\n",
       "      <th>flash</th>\n",
       "      <th>superman</th>\n",
       "      <th>gunn</th>\n",
       "      <th>aquaman</th>\n",
       "      <th>james</th>\n",
       "      <th>dceu</th>\n",
       "      <th>like</th>\n",
       "      <th>think</th>\n",
       "      <th>new</th>\n",
       "      <th>movies</th>\n",
       "      <th>art</th>\n",
       "      <th>man</th>\n",
       "      <th>did</th>\n",
       "      <th>just</th>\n",
       "    </tr>\n",
       "  </thead>\n",
       "  <tbody>\n",
       "    <tr>\n",
       "      <th>Count</th>\n",
       "      <td>141</td>\n",
       "      <td>130</td>\n",
       "      <td>125</td>\n",
       "      <td>106</td>\n",
       "      <td>102</td>\n",
       "      <td>94</td>\n",
       "      <td>88</td>\n",
       "      <td>84</td>\n",
       "      <td>68</td>\n",
       "      <td>65</td>\n",
       "      <td>63</td>\n",
       "      <td>62</td>\n",
       "      <td>60</td>\n",
       "      <td>59</td>\n",
       "      <td>45</td>\n",
       "      <td>38</td>\n",
       "      <td>34</td>\n",
       "      <td>34</td>\n",
       "      <td>33</td>\n",
       "      <td>32</td>\n",
       "    </tr>\n",
       "  </tbody>\n",
       "</table>\n",
       "</div>"
      ],
      "text/plain": [
       "       batman  blue  beetle  dcu  movie  dc  flash  superman  gunn  aquaman  \\\n",
       "Count     141   130     125  106    102  94     88        84    68       65   \n",
       "\n",
       "       james  dceu  like  think  new  movies  art  man  did  just  \n",
       "Count     63    62    60     59   45      38   34   34   33    32  "
      ]
     },
     "execution_count": 77,
     "metadata": {},
     "output_type": "execute_result"
    }
   ],
   "source": [
    "dc_cinematic_top_words = pd.DataFrame(dc_cinematic_post_df.sum().sort_values(ascending=False).head(20), columns = ['Count'])\n",
    "dc_cinematic_top_words.T"
   ]
  },
  {
   "cell_type": "code",
   "execution_count": 78,
   "id": "4b719909-6854-4f6e-8f6d-c374854edb18",
   "metadata": {
    "tags": []
   },
   "outputs": [
    {
     "data": {
      "image/png": "[encoded data removed]",
      "text/plain": [
       "<Figure size 1200x800 with 1 Axes>"
      ]
     },
     "metadata": {},
     "output_type": "display_data"
    }
   ],
   "source": [
    "fig, ax = plt.subplots(figsize=(12,8))\n",
    "sns.barplot(x='Count', y=dc_cinematic_top_words.index , data=dc_cinematic_top_words, palette = \"flare\")\n",
    "plt.title('DC_Cinematic: Top 20 common words',fontsize=20)\n",
    "plt.xlabel('Word Count', fontsize=12)\n",
    "plt.yticks(fontsize=15)\n",
    "plt.tight_layout()"
   ]
  },
  {
   "cell_type": "markdown",
   "id": "0713506c-6b24-4962-9e91-d8a49002cef0",
   "metadata": {},
   "source": [
    "#### Top 20 Tri-gram"
   ]
  },
  {
   "cell_type": "code",
   "execution_count": 79,
   "id": "14ff3676-82bb-4819-a83c-b31fdb800647",
   "metadata": {
    "tags": []
   },
   "outputs": [
    {
     "data": {
      "text/html": [
       "<div>\n",
       "<style scoped>\n",
       "    .dataframe tbody tr th:only-of-type {\n",
       "        vertical-align: middle;\n",
       "    }\n",
       "\n",
       "    .dataframe tbody tr th {\n",
       "        vertical-align: top;\n",
       "    }\n",
       "\n",
       "    .dataframe thead th {\n",
       "        text-align: right;\n",
       "    }\n",
       "</style>\n",
       "<table border=\"1\" class=\"dataframe\">\n",
       "  <thead>\n",
       "    <tr style=\"text-align: right;\">\n",
       "      <th></th>\n",
       "      <th>Count</th>\n",
       "    </tr>\n",
       "  </thead>\n",
       "  <tbody>\n",
       "    <tr>\n",
       "      <th>miles morales spider</th>\n",
       "      <td>17</td>\n",
       "    </tr>\n",
       "    <tr>\n",
       "      <th>morales spider man</th>\n",
       "      <td>17</td>\n",
       "    </tr>\n",
       "    <tr>\n",
       "      <th>spider man 2018</th>\n",
       "      <td>9</td>\n",
       "    </tr>\n",
       "    <tr>\n",
       "      <th>spider man 2022</th>\n",
       "      <td>7</td>\n",
       "    </tr>\n",
       "    <tr>\n",
       "      <th>new ultimate universe</th>\n",
       "      <td>6</td>\n",
       "    </tr>\n",
       "    <tr>\n",
       "      <th>oct 11 2023</th>\n",
       "      <td>6</td>\n",
       "    </tr>\n",
       "    <tr>\n",
       "      <th>oct 18 2023</th>\n",
       "      <td>5</td>\n",
       "    </tr>\n",
       "    <tr>\n",
       "      <th>spider man vs</th>\n",
       "      <td>5</td>\n",
       "    </tr>\n",
       "    <tr>\n",
       "      <th>evolution steven gordon</th>\n",
       "      <td>5</td>\n",
       "    </tr>\n",
       "    <tr>\n",
       "      <th>superior spider man</th>\n",
       "      <td>5</td>\n",
       "    </tr>\n",
       "    <tr>\n",
       "      <th>men evolution steven</th>\n",
       "      <td>5</td>\n",
       "    </tr>\n",
       "    <tr>\n",
       "      <th>comics premiere oct</th>\n",
       "      <td>4</td>\n",
       "    </tr>\n",
       "    <tr>\n",
       "      <th>spider man 2099</th>\n",
       "      <td>4</td>\n",
       "    </tr>\n",
       "    <tr>\n",
       "      <th>marvel cinematic universe</th>\n",
       "      <td>4</td>\n",
       "    </tr>\n",
       "    <tr>\n",
       "      <th>marvel comics premiere</th>\n",
       "      <td>4</td>\n",
       "    </tr>\n",
       "    <tr>\n",
       "      <th>earth mightiest heroes</th>\n",
       "      <td>4</td>\n",
       "    </tr>\n",
       "    <tr>\n",
       "      <th>amazing spider man</th>\n",
       "      <td>4</td>\n",
       "    </tr>\n",
       "    <tr>\n",
       "      <th>ultimate spider man</th>\n",
       "      <td>4</td>\n",
       "    </tr>\n",
       "    <tr>\n",
       "      <th>men red 16</th>\n",
       "      <td>4</td>\n",
       "    </tr>\n",
       "    <tr>\n",
       "      <th>spider man spider</th>\n",
       "      <td>3</td>\n",
       "    </tr>\n",
       "  </tbody>\n",
       "</table>\n",
       "</div>"
      ],
      "text/plain": [
       "                           Count\n",
       "miles morales spider          17\n",
       "morales spider man            17\n",
       "spider man 2018                9\n",
       "spider man 2022                7\n",
       "new ultimate universe          6\n",
       "oct 11 2023                    6\n",
       "oct 18 2023                    5\n",
       "spider man vs                  5\n",
       "evolution steven gordon        5\n",
       "superior spider man            5\n",
       "men evolution steven           5\n",
       "comics premiere oct            4\n",
       "spider man 2099                4\n",
       "marvel cinematic universe      4\n",
       "marvel comics premiere         4\n",
       "earth mightiest heroes         4\n",
       "amazing spider man             4\n",
       "ultimate spider man            4\n",
       "men red 16                     4\n",
       "spider man spider              3"
      ]
     },
     "execution_count": 79,
     "metadata": {},
     "output_type": "execute_result"
    }
   ],
   "source": [
    "# Marvel top 20: trigrams\n",
    "cv_trigrams = CountVectorizer(ngram_range=(3, 3), stop_words='english')\n",
    "cv_trigrams.fit(marvel['title'])\n",
    "\n",
    "trigrams_cv = cv_trigrams.transform(marvel['title'])\n",
    "trigrams_df = pd.DataFrame(trigrams_cv.todense(), columns=cv_trigrams.get_feature_names_out())\n",
    "\n",
    "marvel_top_triwords = pd.DataFrame(trigrams_df.sum().sort_values(ascending=False).head(20), columns = ['Count'])\n",
    "marvel_top_triwords"
   ]
  },
  {
   "cell_type": "code",
   "execution_count": 80,
   "id": "ba94fa5e-fa6c-40ef-9a1e-ec6a51bd2a48",
   "metadata": {
    "tags": []
   },
   "outputs": [
    {
     "data": {
      "text/html": [
       "<div>\n",
       "<style scoped>\n",
       "    .dataframe tbody tr th:only-of-type {\n",
       "        vertical-align: middle;\n",
       "    }\n",
       "\n",
       "    .dataframe tbody tr th {\n",
       "        vertical-align: top;\n",
       "    }\n",
       "\n",
       "    .dataframe thead th {\n",
       "        text-align: right;\n",
       "    }\n",
       "</style>\n",
       "<table border=\"1\" class=\"dataframe\">\n",
       "  <thead>\n",
       "    <tr style=\"text-align: right;\">\n",
       "      <th></th>\n",
       "      <th>Count</th>\n",
       "    </tr>\n",
       "  </thead>\n",
       "  <tbody>\n",
       "    <tr>\n",
       "      <th>aquaman lost kingdom</th>\n",
       "      <td>28</td>\n",
       "    </tr>\n",
       "    <tr>\n",
       "      <th>blue beetle movie</th>\n",
       "      <td>9</td>\n",
       "    </tr>\n",
       "    <tr>\n",
       "      <th>blue beetle director</th>\n",
       "      <td>8</td>\n",
       "    </tr>\n",
       "    <tr>\n",
       "      <th>james gunn dcu</th>\n",
       "      <td>8</td>\n",
       "    </tr>\n",
       "    <tr>\n",
       "      <th>office blue beetle</th>\n",
       "      <td>7</td>\n",
       "    </tr>\n",
       "    <tr>\n",
       "      <th>box office blue</th>\n",
       "      <td>7</td>\n",
       "    </tr>\n",
       "    <tr>\n",
       "      <th>rated pg 13</th>\n",
       "      <td>6</td>\n",
       "    </tr>\n",
       "    <tr>\n",
       "      <th>pg 13 allowed</th>\n",
       "      <td>6</td>\n",
       "    </tr>\n",
       "    <tr>\n",
       "      <th>13 allowed bomb</th>\n",
       "      <td>6</td>\n",
       "    </tr>\n",
       "    <tr>\n",
       "      <th>blue beetle makes</th>\n",
       "      <td>5</td>\n",
       "    </tr>\n",
       "    <tr>\n",
       "      <th>suicide squad 2021</th>\n",
       "      <td>4</td>\n",
       "    </tr>\n",
       "    <tr>\n",
       "      <th>dark knight trilogy</th>\n",
       "      <td>4</td>\n",
       "    </tr>\n",
       "    <tr>\n",
       "      <th>look aquaman lost</th>\n",
       "      <td>4</td>\n",
       "    </tr>\n",
       "    <tr>\n",
       "      <th>angel manuel soto</th>\n",
       "      <td>4</td>\n",
       "    </tr>\n",
       "    <tr>\n",
       "      <th>concept art samples</th>\n",
       "      <td>4</td>\n",
       "    </tr>\n",
       "    <tr>\n",
       "      <th>live action batman</th>\n",
       "      <td>3</td>\n",
       "    </tr>\n",
       "    <tr>\n",
       "      <th>beetle makes million</th>\n",
       "      <td>3</td>\n",
       "    </tr>\n",
       "    <tr>\n",
       "      <th>art aquaman lost</th>\n",
       "      <td>3</td>\n",
       "    </tr>\n",
       "    <tr>\n",
       "      <th>michael keaton batman</th>\n",
       "      <td>3</td>\n",
       "    </tr>\n",
       "    <tr>\n",
       "      <th>justice league international</th>\n",
       "      <td>3</td>\n",
       "    </tr>\n",
       "  </tbody>\n",
       "</table>\n",
       "</div>"
      ],
      "text/plain": [
       "                              Count\n",
       "aquaman lost kingdom             28\n",
       "blue beetle movie                 9\n",
       "blue beetle director              8\n",
       "james gunn dcu                    8\n",
       "office blue beetle                7\n",
       "box office blue                   7\n",
       "rated pg 13                       6\n",
       "pg 13 allowed                     6\n",
       "13 allowed bomb                   6\n",
       "blue beetle makes                 5\n",
       "suicide squad 2021                4\n",
       "dark knight trilogy               4\n",
       "look aquaman lost                 4\n",
       "angel manuel soto                 4\n",
       "concept art samples               4\n",
       "live action batman                3\n",
       "beetle makes million              3\n",
       "art aquaman lost                  3\n",
       "michael keaton batman             3\n",
       "justice league international      3"
      ]
     },
     "execution_count": 80,
     "metadata": {},
     "output_type": "execute_result"
    }
   ],
   "source": [
    "# dc_cinematic top 20: trigrams\n",
    "cv_trigrams = CountVectorizer(ngram_range=(3, 3), stop_words='english')\n",
    "cv_trigrams.fit(dc_cinematic['title'])\n",
    "\n",
    "trigrams_cv = cv_trigrams.transform(dc_cinematic['title'])\n",
    "trigrams_df = pd.DataFrame(trigrams_cv.todense(), columns=cv_trigrams.get_feature_names_out())\n",
    "\n",
    "dc_cinematic_top_triwords = pd.DataFrame(trigrams_df.sum().sort_values(ascending=False).head(20), columns = ['Count'])\n",
    "dc_cinematic_top_triwords"
   ]
  },
  {
   "cell_type": "markdown",
   "id": "13a988ce-15d9-45a2-af6b-fda9b4e550d9",
   "metadata": {},
   "source": [
    "#### Sentiment Analysis"
   ]
  },
  {
   "cell_type": "code",
   "execution_count": 81,
   "id": "8861f76b-2f28-4532-a07f-ec0b0e545bdd",
   "metadata": {
    "tags": []
   },
   "outputs": [],
   "source": [
    "marvel_nlp = ['subreddit', 'title']\n",
    "sent_marvel = pd.concat([marvel[marvel_nlp],marvel[marvel_nlp]], axis=0)\n",
    "sent_marvel.reset_index(drop=True, inplace=True)"
   ]
  },
  {
   "cell_type": "code",
   "execution_count": 82,
   "id": "f9c74312-861f-41ca-aae1-f4a4ca4d16e5",
   "metadata": {
    "tags": []
   },
   "outputs": [
    {
     "data": {
      "text/html": [
       "<div>\n",
       "<style scoped>\n",
       "    .dataframe tbody tr th:only-of-type {\n",
       "        vertical-align: middle;\n",
       "    }\n",
       "\n",
       "    .dataframe tbody tr th {\n",
       "        vertical-align: top;\n",
       "    }\n",
       "\n",
       "    .dataframe thead th {\n",
       "        text-align: right;\n",
       "    }\n",
       "</style>\n",
       "<table border=\"1\" class=\"dataframe\">\n",
       "  <thead>\n",
       "    <tr style=\"text-align: right;\">\n",
       "      <th></th>\n",
       "      <th>subreddit</th>\n",
       "      <th>title</th>\n",
       "    </tr>\n",
       "  </thead>\n",
       "  <tbody>\n",
       "    <tr>\n",
       "      <th>0</th>\n",
       "      <td>Marvel</td>\n",
       "      <td>If I were to make a season of “What If…?”.</td>\n",
       "    </tr>\n",
       "    <tr>\n",
       "      <th>1</th>\n",
       "      <td>Marvel</td>\n",
       "      <td>Dyed my hair red… anyone see the resemblance😂</td>\n",
       "    </tr>\n",
       "    <tr>\n",
       "      <th>2</th>\n",
       "      <td>Marvel</td>\n",
       "      <td>Has this been paid off yet? MIRACLE MAN (Timel...</td>\n",
       "    </tr>\n",
       "    <tr>\n",
       "      <th>3</th>\n",
       "      <td>Marvel</td>\n",
       "      <td>You have a choice to make: Doom is dead and yo...</td>\n",
       "    </tr>\n",
       "    <tr>\n",
       "      <th>4</th>\n",
       "      <td>Marvel</td>\n",
       "      <td>Loki and Sylvie Tribute</td>\n",
       "    </tr>\n",
       "  </tbody>\n",
       "</table>\n",
       "</div>"
      ],
      "text/plain": [
       "  subreddit                                              title\n",
       "0    Marvel         If I were to make a season of “What If…?”.\n",
       "1    Marvel      Dyed my hair red… anyone see the resemblance😂\n",
       "2    Marvel  Has this been paid off yet? MIRACLE MAN (Timel...\n",
       "3    Marvel  You have a choice to make: Doom is dead and yo...\n",
       "4    Marvel                            Loki and Sylvie Tribute"
      ]
     },
     "execution_count": 82,
     "metadata": {},
     "output_type": "execute_result"
    }
   ],
   "source": [
    "sent_marvel.head()"
   ]
  },
  {
   "cell_type": "code",
   "execution_count": 83,
   "id": "f450def2-57e0-467f-807c-b949afd0d0be",
   "metadata": {
    "tags": []
   },
   "outputs": [
    {
     "ename": "LookupError",
     "evalue": "\n**********************************************************************\n  Resource \u001b[93mvader_lexicon\u001b[0m not found.\n  Please use the NLTK Downloader to obtain the resource:\n\n  \u001b[31m>>> import nltk\n  >>> nltk.download('vader_lexicon')\n  \u001b[0m\n  For more information see: https://www.nltk.org/data.html\n\n  Attempted to load \u001b[93msentiment/vader_lexicon.zip/vader_lexicon/vader_lexicon.txt\u001b[0m\n\n  Searched in:\n    - 'C:\\\\Users\\\\0/nltk_data'\n    - 'C:\\\\Users\\\\0\\\\OneDrive\\\\conda installer\\\\nltk_data'\n    - 'C:\\\\Users\\\\0\\\\OneDrive\\\\conda installer\\\\share\\\\nltk_data'\n    - 'C:\\\\Users\\\\0\\\\OneDrive\\\\conda installer\\\\lib\\\\nltk_data'\n    - 'C:\\\\Users\\\\0\\\\AppData\\\\Roaming\\\\nltk_data'\n    - 'C:\\\\nltk_data'\n    - 'D:\\\\nltk_data'\n    - 'E:\\\\nltk_data'\n    - ''\n**********************************************************************\n",
     "output_type": "error",
     "traceback": [
      "\u001b[1;31m---------------------------------------------------------------------------\u001b[0m",
      "\u001b[1;31mLookupError\u001b[0m                               Traceback (most recent call last)",
      "Cell \u001b[1;32mIn[83], line 1\u001b[0m\n\u001b[1;32m----> 1\u001b[0m sent \u001b[38;5;241m=\u001b[39m \u001b[43mSentimentIntensityAnalyzer\u001b[49m\u001b[43m(\u001b[49m\u001b[43m)\u001b[49m\n",
      "File \u001b[1;32m~\\OneDrive\\conda installer\\Lib\\site-packages\\nltk\\sentiment\\vader.py:340\u001b[0m, in \u001b[0;36mSentimentIntensityAnalyzer.__init__\u001b[1;34m(self, lexicon_file)\u001b[0m\n\u001b[0;32m    336\u001b[0m \u001b[38;5;28;01mdef\u001b[39;00m \u001b[38;5;21m__init__\u001b[39m(\n\u001b[0;32m    337\u001b[0m     \u001b[38;5;28mself\u001b[39m,\n\u001b[0;32m    338\u001b[0m     lexicon_file\u001b[38;5;241m=\u001b[39m\u001b[38;5;124m\"\u001b[39m\u001b[38;5;124msentiment/vader_lexicon.zip/vader_lexicon/vader_lexicon.txt\u001b[39m\u001b[38;5;124m\"\u001b[39m,\n\u001b[0;32m    339\u001b[0m ):\n\u001b[1;32m--> 340\u001b[0m     \u001b[38;5;28mself\u001b[39m\u001b[38;5;241m.\u001b[39mlexicon_file \u001b[38;5;241m=\u001b[39m \u001b[43mnltk\u001b[49m\u001b[38;5;241;43m.\u001b[39;49m\u001b[43mdata\u001b[49m\u001b[38;5;241;43m.\u001b[39;49m\u001b[43mload\u001b[49m\u001b[43m(\u001b[49m\u001b[43mlexicon_file\u001b[49m\u001b[43m)\u001b[49m\n\u001b[0;32m    341\u001b[0m     \u001b[38;5;28mself\u001b[39m\u001b[38;5;241m.\u001b[39mlexicon \u001b[38;5;241m=\u001b[39m \u001b[38;5;28mself\u001b[39m\u001b[38;5;241m.\u001b[39mmake_lex_dict()\n\u001b[0;32m    342\u001b[0m     \u001b[38;5;28mself\u001b[39m\u001b[38;5;241m.\u001b[39mconstants \u001b[38;5;241m=\u001b[39m VaderConstants()\n",
      "File \u001b[1;32m~\\OneDrive\\conda installer\\Lib\\site-packages\\nltk\\data.py:750\u001b[0m, in \u001b[0;36mload\u001b[1;34m(resource_url, format, cache, verbose, logic_parser, fstruct_reader, encoding)\u001b[0m\n\u001b[0;32m    747\u001b[0m     \u001b[38;5;28mprint\u001b[39m(\u001b[38;5;124mf\u001b[39m\u001b[38;5;124m\"\u001b[39m\u001b[38;5;124m<<Loading \u001b[39m\u001b[38;5;132;01m{\u001b[39;00mresource_url\u001b[38;5;132;01m}\u001b[39;00m\u001b[38;5;124m>>\u001b[39m\u001b[38;5;124m\"\u001b[39m)\n\u001b[0;32m    749\u001b[0m \u001b[38;5;66;03m# Load the resource.\u001b[39;00m\n\u001b[1;32m--> 750\u001b[0m opened_resource \u001b[38;5;241m=\u001b[39m \u001b[43m_open\u001b[49m\u001b[43m(\u001b[49m\u001b[43mresource_url\u001b[49m\u001b[43m)\u001b[49m\n\u001b[0;32m    752\u001b[0m \u001b[38;5;28;01mif\u001b[39;00m \u001b[38;5;28mformat\u001b[39m \u001b[38;5;241m==\u001b[39m \u001b[38;5;124m\"\u001b[39m\u001b[38;5;124mraw\u001b[39m\u001b[38;5;124m\"\u001b[39m:\n\u001b[0;32m    753\u001b[0m     resource_val \u001b[38;5;241m=\u001b[39m opened_resource\u001b[38;5;241m.\u001b[39mread()\n",
      "File \u001b[1;32m~\\OneDrive\\conda installer\\Lib\\site-packages\\nltk\\data.py:876\u001b[0m, in \u001b[0;36m_open\u001b[1;34m(resource_url)\u001b[0m\n\u001b[0;32m    873\u001b[0m protocol, path_ \u001b[38;5;241m=\u001b[39m split_resource_url(resource_url)\n\u001b[0;32m    875\u001b[0m \u001b[38;5;28;01mif\u001b[39;00m protocol \u001b[38;5;129;01mis\u001b[39;00m \u001b[38;5;28;01mNone\u001b[39;00m \u001b[38;5;129;01mor\u001b[39;00m protocol\u001b[38;5;241m.\u001b[39mlower() \u001b[38;5;241m==\u001b[39m \u001b[38;5;124m\"\u001b[39m\u001b[38;5;124mnltk\u001b[39m\u001b[38;5;124m\"\u001b[39m:\n\u001b[1;32m--> 876\u001b[0m     \u001b[38;5;28;01mreturn\u001b[39;00m \u001b[43mfind\u001b[49m\u001b[43m(\u001b[49m\u001b[43mpath_\u001b[49m\u001b[43m,\u001b[49m\u001b[43m \u001b[49m\u001b[43mpath\u001b[49m\u001b[43m \u001b[49m\u001b[38;5;241;43m+\u001b[39;49m\u001b[43m \u001b[49m\u001b[43m[\u001b[49m\u001b[38;5;124;43m\"\u001b[39;49m\u001b[38;5;124;43m\"\u001b[39;49m\u001b[43m]\u001b[49m\u001b[43m)\u001b[49m\u001b[38;5;241m.\u001b[39mopen()\n\u001b[0;32m    877\u001b[0m \u001b[38;5;28;01melif\u001b[39;00m protocol\u001b[38;5;241m.\u001b[39mlower() \u001b[38;5;241m==\u001b[39m \u001b[38;5;124m\"\u001b[39m\u001b[38;5;124mfile\u001b[39m\u001b[38;5;124m\"\u001b[39m:\n\u001b[0;32m    878\u001b[0m     \u001b[38;5;66;03m# urllib might not use mode='rb', so handle this one ourselves:\u001b[39;00m\n\u001b[0;32m    879\u001b[0m     \u001b[38;5;28;01mreturn\u001b[39;00m find(path_, [\u001b[38;5;124m\"\u001b[39m\u001b[38;5;124m\"\u001b[39m])\u001b[38;5;241m.\u001b[39mopen()\n",
      "File \u001b[1;32m~\\OneDrive\\conda installer\\Lib\\site-packages\\nltk\\data.py:583\u001b[0m, in \u001b[0;36mfind\u001b[1;34m(resource_name, paths)\u001b[0m\n\u001b[0;32m    581\u001b[0m sep \u001b[38;5;241m=\u001b[39m \u001b[38;5;124m\"\u001b[39m\u001b[38;5;124m*\u001b[39m\u001b[38;5;124m\"\u001b[39m \u001b[38;5;241m*\u001b[39m \u001b[38;5;241m70\u001b[39m\n\u001b[0;32m    582\u001b[0m resource_not_found \u001b[38;5;241m=\u001b[39m \u001b[38;5;124mf\u001b[39m\u001b[38;5;124m\"\u001b[39m\u001b[38;5;130;01m\\n\u001b[39;00m\u001b[38;5;132;01m{\u001b[39;00msep\u001b[38;5;132;01m}\u001b[39;00m\u001b[38;5;130;01m\\n\u001b[39;00m\u001b[38;5;132;01m{\u001b[39;00mmsg\u001b[38;5;132;01m}\u001b[39;00m\u001b[38;5;130;01m\\n\u001b[39;00m\u001b[38;5;132;01m{\u001b[39;00msep\u001b[38;5;132;01m}\u001b[39;00m\u001b[38;5;130;01m\\n\u001b[39;00m\u001b[38;5;124m\"\u001b[39m\n\u001b[1;32m--> 583\u001b[0m \u001b[38;5;28;01mraise\u001b[39;00m \u001b[38;5;167;01mLookupError\u001b[39;00m(resource_not_found)\n",
      "\u001b[1;31mLookupError\u001b[0m: \n**********************************************************************\n  Resource \u001b[93mvader_lexicon\u001b[0m not found.\n  Please use the NLTK Downloader to obtain the resource:\n\n  \u001b[31m>>> import nltk\n  >>> nltk.download('vader_lexicon')\n  \u001b[0m\n  For more information see: https://www.nltk.org/data.html\n\n  Attempted to load \u001b[93msentiment/vader_lexicon.zip/vader_lexicon/vader_lexicon.txt\u001b[0m\n\n  Searched in:\n    - 'C:\\\\Users\\\\0/nltk_data'\n    - 'C:\\\\Users\\\\0\\\\OneDrive\\\\conda installer\\\\nltk_data'\n    - 'C:\\\\Users\\\\0\\\\OneDrive\\\\conda installer\\\\share\\\\nltk_data'\n    - 'C:\\\\Users\\\\0\\\\OneDrive\\\\conda installer\\\\lib\\\\nltk_data'\n    - 'C:\\\\Users\\\\0\\\\AppData\\\\Roaming\\\\nltk_data'\n    - 'C:\\\\nltk_data'\n    - 'D:\\\\nltk_data'\n    - 'E:\\\\nltk_data'\n    - ''\n**********************************************************************\n"
     ]
    }
   ],
   "source": [
    "sent = SentimentIntensityAnalyzer()"
   ]
  },
  {
   "cell_type": "code",
   "execution_count": null,
   "id": "f5699007-deb7-46dd-b546-bc7fa0407abb",
   "metadata": {
    "tags": []
   },
   "outputs": [],
   "source": [
    "sentiment = [sent.polarity_scores(i) for i in sent_marvel['title']]"
   ]
  },
  {
   "cell_type": "code",
   "execution_count": null,
   "id": "52ae7bd4-e3d7-40fa-baa2-851782691146",
   "metadata": {},
   "outputs": [],
   "source": []
  },
  {
   "cell_type": "code",
   "execution_count": null,
   "id": "e2faeac2-137a-4ad3-972d-f4d6c1789a9f",
   "metadata": {},
   "outputs": [],
   "source": []
  },
  {
   "cell_type": "code",
   "execution_count": null,
   "id": "7ad6a3ab-d7a7-423b-856c-26e44bd4a6d5",
   "metadata": {},
   "outputs": [],
   "source": []
  },
  {
   "cell_type": "code",
   "execution_count": 84,
   "id": "205fbeae-6c8e-48c7-9ad7-f2e704d5f1e8",
   "metadata": {
    "tags": []
   },
   "outputs": [],
   "source": [
    "#get df for both subreddits\n",
    "#concat both df\n",
    "#EDA -lem,countvectori\n",
    " "
   ]
  },
  {
   "cell_type": "markdown",
   "id": "2eb4c19d-f9d9-4be8-9ca5-5ecbbde48970",
   "metadata": {},
   "source": [
    "Remember, you will need to pull *at least* 1000 posts from each subreddit, not just 25. Like I mentioned above, you can use the created_utc attribute of a post to keep track of the timestamp and ensure non-overlapping pulls. We will leave this work for you all to complete.\n",
    "\n",
    "Once you have at least 1000 posts from each subreddit, you can do some EDA (perhaps maybe the most common words in each subreddit..?) Eventually, you will want to combine your two dataframes together to do modeling."
   ]
  },
  {
   "cell_type": "markdown",
   "id": "d0785dc1-075d-4bd4-8c34-4dd2978d7dfb",
   "metadata": {},
   "source": [
    "### Hopefully this is enough of a tutorial to help get you started! If you have any questions, let us know!"
   ]
  },
  {
   "cell_type": "markdown",
   "id": "8f942833-8fdb-46d1-9182-b672e49434a5",
   "metadata": {},
   "source": [
    "### Note: Rather than working in this template notebook, make a brand new \"scraping\" notebook (or script), with your own comments, so you can use this project in a portfolio!"
   ]
  }
 ],
 "metadata": {
  "kernelspec": {
   "display_name": "Python 3 (ipykernel)",
   "language": "python",
   "name": "python3"
  },
  "language_info": {
   "codemirror_mode": {
    "name": "ipython",
    "version": 3
   },
   "file_extension": ".py",
   "mimetype": "text/x-python",
   "name": "python",
   "nbconvert_exporter": "python",
   "pygments_lexer": "ipython3",
   "version": "3.11.4"
  },
  "toc-autonumbering": false
 },
 "nbformat": 4,
 "nbformat_minor": 5
}
