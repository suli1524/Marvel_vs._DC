{
 "cells": [
  {
   "cell_type": "markdown",
   "id": "28f376ed-ddd5-4260-aaa7-2af74c7f9633",
   "metadata": {},
   "source": [
    "#### EDA, Preprocessing, and Modeling"
   ]
  },
  {
   "cell_type": "markdown",
   "id": "a3ceb609-d9ad-4b63-8b07-9b06e76bc1fa",
   "metadata": {},
   "source": [
    "##### Imported Libraries"
   ]
  },
  {
   "cell_type": "code",
   "execution_count": 1,
   "id": "28542f80-7f50-46b3-bde5-71bb395e5060",
   "metadata": {
    "tags": []
   },
   "outputs": [],
   "source": [
    "import numpy as np\n",
    "import pandas as pd\n",
    "import matplotlib.pyplot as plt\n",
    "import seaborn as sns\n",
    "\n",
    "# NLP Libraries\n",
    "from sklearn.feature_extraction.text import CountVectorizer, TfidfVectorizer\n",
    "from nltk.sentiment.vader import SentimentIntensityAnalyzer\n",
    "from nltk.tokenize import RegexpTokenizer\n",
    "from nltk.stem import WordNetLemmatizer\n",
    "from nltk.stem.porter import PorterStemmer\n",
    "from nltk.corpus import stopwords \n",
    "\n",
    "# Modeling Libraries\n",
    "from sklearn.model_selection import train_test_split, GridSearchCV, cross_val_score\n",
    "from sklearn.pipeline import Pipeline\n",
    "from sklearn.linear_model import LogisticRegression\n",
    "from sklearn.naive_bayes import BernoulliNB\n",
    "from sklearn.ensemble import BaggingClassifier, RandomForestClassifier\n",
    "from sklearn import metrics\n",
    "from sklearn.metrics import confusion_matrix, mean_squared_error \n"
   ]
  },
  {
   "cell_type": "markdown",
   "id": "d10ae5d1-90e4-498e-9599-ba033dda0c4c",
   "metadata": {},
   "source": [
    "### Exploratory Data Analysis"
   ]
  },
  {
   "cell_type": "markdown",
   "id": "a2d3badc-1949-4126-b582-894352b763cc",
   "metadata": {},
   "source": [
    "##### Read in DataFrame"
   ]
  },
  {
   "cell_type": "code",
   "execution_count": 2,
   "id": "271ef13a-5ed7-4370-bd02-1f4a2376ba87",
   "metadata": {
    "tags": []
   },
   "outputs": [],
   "source": [
    "# subreddit 1: Marvel \n",
    "marvel = pd.read_csv('marvel_post.csv')\n",
    "# subreddit 2: dc_cinematic\n",
    "dc_cinematic = pd.read_csv('dc_cinematic_post.csv')"
   ]
  },
  {
   "cell_type": "markdown",
   "id": "b5ba8c82-7238-4909-9bbc-07b62a743b52",
   "metadata": {},
   "source": [
    "###### subreddit 1: Marvel"
   ]
  },
  {
   "cell_type": "code",
   "execution_count": 3,
   "id": "17456b34-6ee7-4881-8f01-48eb23102184",
   "metadata": {
    "tags": []
   },
   "outputs": [
    {
     "data": {
      "text/html": [
       "<div>\n",
       "<style scoped>\n",
       "    .dataframe tbody tr th:only-of-type {\n",
       "        vertical-align: middle;\n",
       "    }\n",
       "\n",
       "    .dataframe tbody tr th {\n",
       "        vertical-align: top;\n",
       "    }\n",
       "\n",
       "    .dataframe thead th {\n",
       "        text-align: right;\n",
       "    }\n",
       "</style>\n",
       "<table border=\"1\" class=\"dataframe\">\n",
       "  <thead>\n",
       "    <tr style=\"text-align: right;\">\n",
       "      <th></th>\n",
       "      <th>created_utc</th>\n",
       "      <th>title</th>\n",
       "      <th>self_text</th>\n",
       "      <th>subreddit</th>\n",
       "    </tr>\n",
       "  </thead>\n",
       "  <tbody>\n",
       "    <tr>\n",
       "      <th>0</th>\n",
       "      <td>1.697693e+09</td>\n",
       "      <td>Do the MCU movies still have a continuous story?</td>\n",
       "      <td>I watched all of the movies up to Endgame and ...</td>\n",
       "      <td>Marvel</td>\n",
       "    </tr>\n",
       "    <tr>\n",
       "      <th>1</th>\n",
       "      <td>1.697693e+09</td>\n",
       "      <td>Stumbled across this sealed box while cleaning...</td>\n",
       "      <td>NaN</td>\n",
       "      <td>Marvel</td>\n",
       "    </tr>\n",
       "    <tr>\n",
       "      <th>2</th>\n",
       "      <td>1.697692e+09</td>\n",
       "      <td>Here's the first part of the roster for my Ave...</td>\n",
       "      <td>NaN</td>\n",
       "      <td>Marvel</td>\n",
       "    </tr>\n",
       "    <tr>\n",
       "      <th>3</th>\n",
       "      <td>1.697691e+09</td>\n",
       "      <td>Supreme Iron man / art by ktrew</td>\n",
       "      <td>NaN</td>\n",
       "      <td>Marvel</td>\n",
       "    </tr>\n",
       "    <tr>\n",
       "      <th>4</th>\n",
       "      <td>1.697688e+09</td>\n",
       "      <td>Why tf is he alive still?</td>\n",
       "      <td>Just saw the marvels trailer pop up on TV. Has...</td>\n",
       "      <td>Marvel</td>\n",
       "    </tr>\n",
       "  </tbody>\n",
       "</table>\n",
       "</div>"
      ],
      "text/plain": [
       "    created_utc                                              title  \\\n",
       "0  1.697693e+09   Do the MCU movies still have a continuous story?   \n",
       "1  1.697693e+09  Stumbled across this sealed box while cleaning...   \n",
       "2  1.697692e+09  Here's the first part of the roster for my Ave...   \n",
       "3  1.697691e+09                    Supreme Iron man / art by ktrew   \n",
       "4  1.697688e+09                          Why tf is he alive still?   \n",
       "\n",
       "                                           self_text subreddit  \n",
       "0  I watched all of the movies up to Endgame and ...    Marvel  \n",
       "1                                                NaN    Marvel  \n",
       "2                                                NaN    Marvel  \n",
       "3                                                NaN    Marvel  \n",
       "4  Just saw the marvels trailer pop up on TV. Has...    Marvel  "
      ]
     },
     "execution_count": 3,
     "metadata": {},
     "output_type": "execute_result"
    }
   ],
   "source": [
    "marvel.head()"
   ]
  },
  {
   "cell_type": "markdown",
   "id": "694736c8-d446-4aca-9dfd-50fb1b657c62",
   "metadata": {},
   "source": [
    "###### subreddit 2: dc_cinematic"
   ]
  },
  {
   "cell_type": "code",
   "execution_count": 4,
   "id": "97a13c07-e9c1-42f5-b924-5b6ec4e4e076",
   "metadata": {
    "tags": []
   },
   "outputs": [
    {
     "data": {
      "text/html": [
       "<div>\n",
       "<style scoped>\n",
       "    .dataframe tbody tr th:only-of-type {\n",
       "        vertical-align: middle;\n",
       "    }\n",
       "\n",
       "    .dataframe tbody tr th {\n",
       "        vertical-align: top;\n",
       "    }\n",
       "\n",
       "    .dataframe thead th {\n",
       "        text-align: right;\n",
       "    }\n",
       "</style>\n",
       "<table border=\"1\" class=\"dataframe\">\n",
       "  <thead>\n",
       "    <tr style=\"text-align: right;\">\n",
       "      <th></th>\n",
       "      <th>created_utc</th>\n",
       "      <th>title</th>\n",
       "      <th>self_text</th>\n",
       "      <th>subreddit</th>\n",
       "    </tr>\n",
       "  </thead>\n",
       "  <tbody>\n",
       "    <tr>\n",
       "      <th>0</th>\n",
       "      <td>1.697693e+09</td>\n",
       "      <td>Early idea for The Flash helmet. Art by Ed Nat...</td>\n",
       "      <td>NaN</td>\n",
       "      <td>DC_Cinematic</td>\n",
       "    </tr>\n",
       "    <tr>\n",
       "      <th>1</th>\n",
       "      <td>1.697690e+09</td>\n",
       "      <td>McFarlane Toys DC Multiverse Batman &amp; Robin wa...</td>\n",
       "      <td>NaN</td>\n",
       "      <td>DC_Cinematic</td>\n",
       "    </tr>\n",
       "    <tr>\n",
       "      <th>2</th>\n",
       "      <td>1.697684e+09</td>\n",
       "      <td>What style of suit should Corenswet have in Su...</td>\n",
       "      <td>NaN</td>\n",
       "      <td>DC_Cinematic</td>\n",
       "    </tr>\n",
       "    <tr>\n",
       "      <th>3</th>\n",
       "      <td>1.697678e+09</td>\n",
       "      <td>After the Crisis scene, and the events of the ...</td>\n",
       "      <td>How do you think a team up would play out, esp...</td>\n",
       "      <td>DC_Cinematic</td>\n",
       "    </tr>\n",
       "    <tr>\n",
       "      <th>4</th>\n",
       "      <td>1.697677e+09</td>\n",
       "      <td>Remember when Batman didn’t kill Two-face? Gra...</td>\n",
       "      <td>NaN</td>\n",
       "      <td>DC_Cinematic</td>\n",
       "    </tr>\n",
       "  </tbody>\n",
       "</table>\n",
       "</div>"
      ],
      "text/plain": [
       "    created_utc                                              title  \\\n",
       "0  1.697693e+09  Early idea for The Flash helmet. Art by Ed Nat...   \n",
       "1  1.697690e+09  McFarlane Toys DC Multiverse Batman & Robin wa...   \n",
       "2  1.697684e+09  What style of suit should Corenswet have in Su...   \n",
       "3  1.697678e+09  After the Crisis scene, and the events of the ...   \n",
       "4  1.697677e+09  Remember when Batman didn’t kill Two-face? Gra...   \n",
       "\n",
       "                                           self_text     subreddit  \n",
       "0                                                NaN  DC_Cinematic  \n",
       "1                                                NaN  DC_Cinematic  \n",
       "2                                                NaN  DC_Cinematic  \n",
       "3  How do you think a team up would play out, esp...  DC_Cinematic  \n",
       "4                                                NaN  DC_Cinematic  "
      ]
     },
     "execution_count": 4,
     "metadata": {},
     "output_type": "execute_result"
    }
   ],
   "source": [
    "dc_cinematic.head()"
   ]
  },
  {
   "cell_type": "markdown",
   "id": "d9fa09f4-eefb-47b0-9c00-d96dff1d2bfb",
   "metadata": {},
   "source": [
    "##### Summary Statistic"
   ]
  },
  {
   "cell_type": "code",
   "execution_count": 5,
   "id": "d311e056-5d0c-46d5-a669-a7dfcc93a767",
   "metadata": {
    "tags": []
   },
   "outputs": [
    {
     "data": {
      "text/html": [
       "<div>\n",
       "<style scoped>\n",
       "    .dataframe tbody tr th:only-of-type {\n",
       "        vertical-align: middle;\n",
       "    }\n",
       "\n",
       "    .dataframe tbody tr th {\n",
       "        vertical-align: top;\n",
       "    }\n",
       "\n",
       "    .dataframe thead th {\n",
       "        text-align: right;\n",
       "    }\n",
       "</style>\n",
       "<table border=\"1\" class=\"dataframe\">\n",
       "  <thead>\n",
       "    <tr style=\"text-align: right;\">\n",
       "      <th></th>\n",
       "      <th>title</th>\n",
       "      <th>self_text</th>\n",
       "      <th>subreddit</th>\n",
       "    </tr>\n",
       "  </thead>\n",
       "  <tbody>\n",
       "    <tr>\n",
       "      <th>count</th>\n",
       "      <td>990</td>\n",
       "      <td>453</td>\n",
       "      <td>990</td>\n",
       "    </tr>\n",
       "    <tr>\n",
       "      <th>unique</th>\n",
       "      <td>990</td>\n",
       "      <td>453</td>\n",
       "      <td>1</td>\n",
       "    </tr>\n",
       "    <tr>\n",
       "      <th>top</th>\n",
       "      <td>Do the MCU movies still have a continuous story?</td>\n",
       "      <td>I watched all of the movies up to Endgame and ...</td>\n",
       "      <td>Marvel</td>\n",
       "    </tr>\n",
       "    <tr>\n",
       "      <th>freq</th>\n",
       "      <td>1</td>\n",
       "      <td>1</td>\n",
       "      <td>990</td>\n",
       "    </tr>\n",
       "  </tbody>\n",
       "</table>\n",
       "</div>"
      ],
      "text/plain": [
       "                                                   title  \\\n",
       "count                                                990   \n",
       "unique                                               990   \n",
       "top     Do the MCU movies still have a continuous story?   \n",
       "freq                                                   1   \n",
       "\n",
       "                                                self_text subreddit  \n",
       "count                                                 453       990  \n",
       "unique                                                453         1  \n",
       "top     I watched all of the movies up to Endgame and ...    Marvel  \n",
       "freq                                                    1       990  "
      ]
     },
     "execution_count": 5,
     "metadata": {},
     "output_type": "execute_result"
    }
   ],
   "source": [
    "# subreddit 1: Marvel\n",
    "marvel.describe(include='object')"
   ]
  },
  {
   "cell_type": "code",
   "execution_count": 6,
   "id": "b9c71f9e-fd99-4666-96d4-bd85d22a87e9",
   "metadata": {
    "tags": []
   },
   "outputs": [
    {
     "data": {
      "text/plain": [
       "created_utc      0\n",
       "title            0\n",
       "self_text      537\n",
       "subreddit        0\n",
       "dtype: int64"
      ]
     },
     "execution_count": 6,
     "metadata": {},
     "output_type": "execute_result"
    }
   ],
   "source": [
    "marvel.isna().sum()"
   ]
  },
  {
   "cell_type": "code",
   "execution_count": 7,
   "id": "389751f2-a12d-47c6-99d1-adf9d31ace51",
   "metadata": {
    "tags": []
   },
   "outputs": [
    {
     "data": {
      "text/html": [
       "<div>\n",
       "<style scoped>\n",
       "    .dataframe tbody tr th:only-of-type {\n",
       "        vertical-align: middle;\n",
       "    }\n",
       "\n",
       "    .dataframe tbody tr th {\n",
       "        vertical-align: top;\n",
       "    }\n",
       "\n",
       "    .dataframe thead th {\n",
       "        text-align: right;\n",
       "    }\n",
       "</style>\n",
       "<table border=\"1\" class=\"dataframe\">\n",
       "  <thead>\n",
       "    <tr style=\"text-align: right;\">\n",
       "      <th></th>\n",
       "      <th>title</th>\n",
       "      <th>self_text</th>\n",
       "      <th>subreddit</th>\n",
       "    </tr>\n",
       "  </thead>\n",
       "  <tbody>\n",
       "    <tr>\n",
       "      <th>count</th>\n",
       "      <td>977</td>\n",
       "      <td>402</td>\n",
       "      <td>977</td>\n",
       "    </tr>\n",
       "    <tr>\n",
       "      <th>unique</th>\n",
       "      <td>976</td>\n",
       "      <td>402</td>\n",
       "      <td>1</td>\n",
       "    </tr>\n",
       "    <tr>\n",
       "      <th>top</th>\n",
       "      <td>Batman No Way Home fan edit where all 4 Batmen...</td>\n",
       "      <td>How do you think a team up would play out, esp...</td>\n",
       "      <td>DC_Cinematic</td>\n",
       "    </tr>\n",
       "    <tr>\n",
       "      <th>freq</th>\n",
       "      <td>2</td>\n",
       "      <td>1</td>\n",
       "      <td>977</td>\n",
       "    </tr>\n",
       "  </tbody>\n",
       "</table>\n",
       "</div>"
      ],
      "text/plain": [
       "                                                    title  \\\n",
       "count                                                 977   \n",
       "unique                                                976   \n",
       "top     Batman No Way Home fan edit where all 4 Batmen...   \n",
       "freq                                                    2   \n",
       "\n",
       "                                                self_text     subreddit  \n",
       "count                                                 402           977  \n",
       "unique                                                402             1  \n",
       "top     How do you think a team up would play out, esp...  DC_Cinematic  \n",
       "freq                                                    1           977  "
      ]
     },
     "execution_count": 7,
     "metadata": {},
     "output_type": "execute_result"
    }
   ],
   "source": [
    "#subreddit 2: dc_cinematic\n",
    "dc_cinematic.describe(include='object')"
   ]
  },
  {
   "cell_type": "code",
   "execution_count": 8,
   "id": "d9d7e9c8-286d-42a8-86d8-4ed67f890ba6",
   "metadata": {
    "tags": []
   },
   "outputs": [
    {
     "data": {
      "text/plain": [
       "created_utc      0\n",
       "title            0\n",
       "self_text      575\n",
       "subreddit        0\n",
       "dtype: int64"
      ]
     },
     "execution_count": 8,
     "metadata": {},
     "output_type": "execute_result"
    }
   ],
   "source": [
    "dc_cinematic.isna().sum()"
   ]
  },
  {
   "cell_type": "markdown",
   "id": "5e4bd350-e8ab-4fed-ab04-a9694863fcfc",
   "metadata": {
    "tags": []
   },
   "source": [
    "> Looking at both subreddits, we see that from the self_text column, we have about half of the data missing. so will decide to work on the titles of the posts since we do have enough valuable data. "
   ]
  },
  {
   "cell_type": "markdown",
   "id": "a145f445-3908-4047-ba52-d58752e78b42",
   "metadata": {},
   "source": [
    "##### Running Analysis on 'title' feature"
   ]
  },
  {
   "cell_type": "markdown",
   "id": "fd0706f5-2066-40ec-8c81-47dcbd819820",
   "metadata": {
    "tags": []
   },
   "source": [
    "###### Checking for length of post"
   ]
  },
  {
   "cell_type": "code",
   "execution_count": 9,
   "id": "f19e8897-8efd-4ecc-84ed-790cd7a380a5",
   "metadata": {
    "tags": []
   },
   "outputs": [],
   "source": [
    "# make column for post_length\n",
    "dc_cinematic['post_length'] = dc_cinematic['title'].map(len)\n",
    "marvel['post_length'] = marvel['title'].map(len)"
   ]
  },
  {
   "cell_type": "markdown",
   "id": "ecbff6a8-5c9a-4f3e-84f2-198a9cb6988d",
   "metadata": {},
   "source": [
    "###### Checking for word count per post"
   ]
  },
  {
   "cell_type": "code",
   "execution_count": 10,
   "id": "07bda73d-1754-4d55-a40e-8cf407dae64b",
   "metadata": {
    "tags": []
   },
   "outputs": [],
   "source": [
    "# make column for post_word_count\n",
    "marvel['post_word_count'] = marvel['title'].map(lambda x: len(x.split()))\n",
    "dc_cinematic['post_word_count'] = dc_cinematic['title'].map(lambda x: len(x.split()))"
   ]
  },
  {
   "cell_type": "markdown",
   "id": "eb809844-cf3c-4e83-8498-b5fbe7c0bedf",
   "metadata": {},
   "source": [
    "###### Ratio of post length to word count"
   ]
  },
  {
   "cell_type": "code",
   "execution_count": 11,
   "id": "88202a3b-837a-43e3-b61d-c308acf4210b",
   "metadata": {
    "tags": []
   },
   "outputs": [],
   "source": [
    "# create a ratio\n",
    "marvel['ratio'] = marvel.post_length/marvel.post_word_count\n",
    "dc_cinematic['ratio'] = dc_cinematic.post_length/dc_cinematic.post_word_count"
   ]
  },
  {
   "cell_type": "code",
   "execution_count": 12,
   "id": "b0daf9ee-25a1-40c6-b690-615917d58623",
   "metadata": {
    "tags": []
   },
   "outputs": [
    {
     "data": {
      "text/html": [
       "<div>\n",
       "<style scoped>\n",
       "    .dataframe tbody tr th:only-of-type {\n",
       "        vertical-align: middle;\n",
       "    }\n",
       "\n",
       "    .dataframe tbody tr th {\n",
       "        vertical-align: top;\n",
       "    }\n",
       "\n",
       "    .dataframe thead th {\n",
       "        text-align: right;\n",
       "    }\n",
       "</style>\n",
       "<table border=\"1\" class=\"dataframe\">\n",
       "  <thead>\n",
       "    <tr style=\"text-align: right;\">\n",
       "      <th></th>\n",
       "      <th>created_utc</th>\n",
       "      <th>title</th>\n",
       "      <th>self_text</th>\n",
       "      <th>subreddit</th>\n",
       "      <th>post_length</th>\n",
       "      <th>post_word_count</th>\n",
       "      <th>ratio</th>\n",
       "    </tr>\n",
       "  </thead>\n",
       "  <tbody>\n",
       "    <tr>\n",
       "      <th>0</th>\n",
       "      <td>1.697693e+09</td>\n",
       "      <td>Do the MCU movies still have a continuous story?</td>\n",
       "      <td>I watched all of the movies up to Endgame and ...</td>\n",
       "      <td>Marvel</td>\n",
       "      <td>48</td>\n",
       "      <td>9</td>\n",
       "      <td>5.333333</td>\n",
       "    </tr>\n",
       "  </tbody>\n",
       "</table>\n",
       "</div>"
      ],
      "text/plain": [
       "    created_utc                                             title  \\\n",
       "0  1.697693e+09  Do the MCU movies still have a continuous story?   \n",
       "\n",
       "                                           self_text subreddit  post_length  \\\n",
       "0  I watched all of the movies up to Endgame and ...    Marvel           48   \n",
       "\n",
       "   post_word_count     ratio  \n",
       "0                9  5.333333  "
      ]
     },
     "execution_count": 12,
     "metadata": {},
     "output_type": "execute_result"
    }
   ],
   "source": [
    "marvel.head(1)"
   ]
  },
  {
   "cell_type": "code",
   "execution_count": 13,
   "id": "b661ba43-db24-417e-ad1e-69c014c18190",
   "metadata": {
    "tags": []
   },
   "outputs": [
    {
     "data": {
      "text/html": [
       "<div>\n",
       "<style scoped>\n",
       "    .dataframe tbody tr th:only-of-type {\n",
       "        vertical-align: middle;\n",
       "    }\n",
       "\n",
       "    .dataframe tbody tr th {\n",
       "        vertical-align: top;\n",
       "    }\n",
       "\n",
       "    .dataframe thead th {\n",
       "        text-align: right;\n",
       "    }\n",
       "</style>\n",
       "<table border=\"1\" class=\"dataframe\">\n",
       "  <thead>\n",
       "    <tr style=\"text-align: right;\">\n",
       "      <th></th>\n",
       "      <th>created_utc</th>\n",
       "      <th>title</th>\n",
       "      <th>self_text</th>\n",
       "      <th>subreddit</th>\n",
       "      <th>post_length</th>\n",
       "      <th>post_word_count</th>\n",
       "      <th>ratio</th>\n",
       "    </tr>\n",
       "  </thead>\n",
       "  <tbody>\n",
       "    <tr>\n",
       "      <th>0</th>\n",
       "      <td>1.697693e+09</td>\n",
       "      <td>Early idea for The Flash helmet. Art by Ed Nat...</td>\n",
       "      <td>NaN</td>\n",
       "      <td>DC_Cinematic</td>\n",
       "      <td>52</td>\n",
       "      <td>10</td>\n",
       "      <td>5.2</td>\n",
       "    </tr>\n",
       "  </tbody>\n",
       "</table>\n",
       "</div>"
      ],
      "text/plain": [
       "    created_utc                                              title self_text  \\\n",
       "0  1.697693e+09  Early idea for The Flash helmet. Art by Ed Nat...       NaN   \n",
       "\n",
       "      subreddit  post_length  post_word_count  ratio  \n",
       "0  DC_Cinematic           52               10    5.2  "
      ]
     },
     "execution_count": 13,
     "metadata": {},
     "output_type": "execute_result"
    }
   ],
   "source": [
    "dc_cinematic.head(1)"
   ]
  },
  {
   "cell_type": "code",
   "execution_count": 14,
   "id": "e4434c56-4a2f-4c06-a2cf-dbf662cf0595",
   "metadata": {
    "tags": []
   },
   "outputs": [
    {
     "data": {
      "text/html": [
       "<div>\n",
       "<style scoped>\n",
       "    .dataframe tbody tr th:only-of-type {\n",
       "        vertical-align: middle;\n",
       "    }\n",
       "\n",
       "    .dataframe tbody tr th {\n",
       "        vertical-align: top;\n",
       "    }\n",
       "\n",
       "    .dataframe thead th {\n",
       "        text-align: right;\n",
       "    }\n",
       "</style>\n",
       "<table border=\"1\" class=\"dataframe\">\n",
       "  <thead>\n",
       "    <tr style=\"text-align: right;\">\n",
       "      <th></th>\n",
       "      <th>count</th>\n",
       "      <th>mean</th>\n",
       "      <th>std</th>\n",
       "      <th>min</th>\n",
       "      <th>25%</th>\n",
       "      <th>50%</th>\n",
       "      <th>75%</th>\n",
       "      <th>max</th>\n",
       "    </tr>\n",
       "  </thead>\n",
       "  <tbody>\n",
       "    <tr>\n",
       "      <th>created_utc</th>\n",
       "      <td>990.0</td>\n",
       "      <td>1.696913e+09</td>\n",
       "      <td>496569.702743</td>\n",
       "      <td>1.695950e+09</td>\n",
       "      <td>1.696486e+09</td>\n",
       "      <td>1.696960e+09</td>\n",
       "      <td>1.697342e+09</td>\n",
       "      <td>1.697693e+09</td>\n",
       "    </tr>\n",
       "    <tr>\n",
       "      <th>post_length</th>\n",
       "      <td>990.0</td>\n",
       "      <td>6.184545e+01</td>\n",
       "      <td>41.660957</td>\n",
       "      <td>3.000000e+00</td>\n",
       "      <td>3.400000e+01</td>\n",
       "      <td>5.200000e+01</td>\n",
       "      <td>7.600000e+01</td>\n",
       "      <td>3.000000e+02</td>\n",
       "    </tr>\n",
       "    <tr>\n",
       "      <th>post_word_count</th>\n",
       "      <td>990.0</td>\n",
       "      <td>1.087980e+01</td>\n",
       "      <td>7.638753</td>\n",
       "      <td>1.000000e+00</td>\n",
       "      <td>6.000000e+00</td>\n",
       "      <td>9.000000e+00</td>\n",
       "      <td>1.400000e+01</td>\n",
       "      <td>5.500000e+01</td>\n",
       "    </tr>\n",
       "    <tr>\n",
       "      <th>ratio</th>\n",
       "      <td>990.0</td>\n",
       "      <td>5.879527e+00</td>\n",
       "      <td>1.148842</td>\n",
       "      <td>3.000000e+00</td>\n",
       "      <td>5.214286e+00</td>\n",
       "      <td>5.666667e+00</td>\n",
       "      <td>6.333333e+00</td>\n",
       "      <td>1.600000e+01</td>\n",
       "    </tr>\n",
       "  </tbody>\n",
       "</table>\n",
       "</div>"
      ],
      "text/plain": [
       "                 count          mean            std           min  \\\n",
       "created_utc      990.0  1.696913e+09  496569.702743  1.695950e+09   \n",
       "post_length      990.0  6.184545e+01      41.660957  3.000000e+00   \n",
       "post_word_count  990.0  1.087980e+01       7.638753  1.000000e+00   \n",
       "ratio            990.0  5.879527e+00       1.148842  3.000000e+00   \n",
       "\n",
       "                          25%           50%           75%           max  \n",
       "created_utc      1.696486e+09  1.696960e+09  1.697342e+09  1.697693e+09  \n",
       "post_length      3.400000e+01  5.200000e+01  7.600000e+01  3.000000e+02  \n",
       "post_word_count  6.000000e+00  9.000000e+00  1.400000e+01  5.500000e+01  \n",
       "ratio            5.214286e+00  5.666667e+00  6.333333e+00  1.600000e+01  "
      ]
     },
     "execution_count": 14,
     "metadata": {},
     "output_type": "execute_result"
    }
   ],
   "source": [
    "marvel.describe().T"
   ]
  },
  {
   "cell_type": "code",
   "execution_count": 15,
   "id": "ed071fae-8004-44eb-9ba7-c70f0ed68332",
   "metadata": {
    "tags": []
   },
   "outputs": [
    {
     "data": {
      "text/html": [
       "<div>\n",
       "<style scoped>\n",
       "    .dataframe tbody tr th:only-of-type {\n",
       "        vertical-align: middle;\n",
       "    }\n",
       "\n",
       "    .dataframe tbody tr th {\n",
       "        vertical-align: top;\n",
       "    }\n",
       "\n",
       "    .dataframe thead th {\n",
       "        text-align: right;\n",
       "    }\n",
       "</style>\n",
       "<table border=\"1\" class=\"dataframe\">\n",
       "  <thead>\n",
       "    <tr style=\"text-align: right;\">\n",
       "      <th></th>\n",
       "      <th>count</th>\n",
       "      <th>mean</th>\n",
       "      <th>std</th>\n",
       "      <th>min</th>\n",
       "      <th>25%</th>\n",
       "      <th>50%</th>\n",
       "      <th>75%</th>\n",
       "      <th>max</th>\n",
       "    </tr>\n",
       "  </thead>\n",
       "  <tbody>\n",
       "    <tr>\n",
       "      <th>created_utc</th>\n",
       "      <td>977.0</td>\n",
       "      <td>1.694392e+09</td>\n",
       "      <td>1.588542e+06</td>\n",
       "      <td>1.692038e+09</td>\n",
       "      <td>1.692982e+09</td>\n",
       "      <td>1.694154e+09</td>\n",
       "      <td>1.695619e+09</td>\n",
       "      <td>1.697693e+09</td>\n",
       "    </tr>\n",
       "    <tr>\n",
       "      <th>post_length</th>\n",
       "      <td>977.0</td>\n",
       "      <td>7.319857e+01</td>\n",
       "      <td>4.606659e+01</td>\n",
       "      <td>5.000000e+00</td>\n",
       "      <td>4.300000e+01</td>\n",
       "      <td>6.200000e+01</td>\n",
       "      <td>9.000000e+01</td>\n",
       "      <td>2.990000e+02</td>\n",
       "    </tr>\n",
       "    <tr>\n",
       "      <th>post_word_count</th>\n",
       "      <td>977.0</td>\n",
       "      <td>1.292938e+01</td>\n",
       "      <td>8.052220e+00</td>\n",
       "      <td>1.000000e+00</td>\n",
       "      <td>8.000000e+00</td>\n",
       "      <td>1.100000e+01</td>\n",
       "      <td>1.600000e+01</td>\n",
       "      <td>5.700000e+01</td>\n",
       "    </tr>\n",
       "    <tr>\n",
       "      <th>ratio</th>\n",
       "      <td>977.0</td>\n",
       "      <td>5.724209e+00</td>\n",
       "      <td>8.611122e-01</td>\n",
       "      <td>3.000000e+00</td>\n",
       "      <td>5.166667e+00</td>\n",
       "      <td>5.642857e+00</td>\n",
       "      <td>6.125000e+00</td>\n",
       "      <td>1.050000e+01</td>\n",
       "    </tr>\n",
       "  </tbody>\n",
       "</table>\n",
       "</div>"
      ],
      "text/plain": [
       "                 count          mean           std           min  \\\n",
       "created_utc      977.0  1.694392e+09  1.588542e+06  1.692038e+09   \n",
       "post_length      977.0  7.319857e+01  4.606659e+01  5.000000e+00   \n",
       "post_word_count  977.0  1.292938e+01  8.052220e+00  1.000000e+00   \n",
       "ratio            977.0  5.724209e+00  8.611122e-01  3.000000e+00   \n",
       "\n",
       "                          25%           50%           75%           max  \n",
       "created_utc      1.692982e+09  1.694154e+09  1.695619e+09  1.697693e+09  \n",
       "post_length      4.300000e+01  6.200000e+01  9.000000e+01  2.990000e+02  \n",
       "post_word_count  8.000000e+00  1.100000e+01  1.600000e+01  5.700000e+01  \n",
       "ratio            5.166667e+00  5.642857e+00  6.125000e+00  1.050000e+01  "
      ]
     },
     "execution_count": 15,
     "metadata": {},
     "output_type": "execute_result"
    }
   ],
   "source": [
    "dc_cinematic.describe().T"
   ]
  },
  {
   "cell_type": "markdown",
   "id": "4b7dbc32-46c5-40d8-bb5d-eae178711ffa",
   "metadata": {},
   "source": [
    "###### Top 10: post word count"
   ]
  },
  {
   "cell_type": "code",
   "execution_count": 16,
   "id": "91e93a48-dfc0-4a58-9c68-e2d22db8c029",
   "metadata": {
    "tags": []
   },
   "outputs": [
    {
     "data": {
      "text/html": [
       "<div>\n",
       "<style scoped>\n",
       "    .dataframe tbody tr th:only-of-type {\n",
       "        vertical-align: middle;\n",
       "    }\n",
       "\n",
       "    .dataframe tbody tr th {\n",
       "        vertical-align: top;\n",
       "    }\n",
       "\n",
       "    .dataframe thead th {\n",
       "        text-align: right;\n",
       "    }\n",
       "</style>\n",
       "<table border=\"1\" class=\"dataframe\">\n",
       "  <thead>\n",
       "    <tr style=\"text-align: right;\">\n",
       "      <th></th>\n",
       "      <th>subreddit</th>\n",
       "      <th>title</th>\n",
       "      <th>post_word_count</th>\n",
       "      <th>post_length</th>\n",
       "      <th>ratio</th>\n",
       "    </tr>\n",
       "  </thead>\n",
       "  <tbody>\n",
       "    <tr>\n",
       "      <th>948</th>\n",
       "      <td>Marvel</td>\n",
       "      <td>So I think we can all agree that Wanda’s not d...</td>\n",
       "      <td>55</td>\n",
       "      <td>278</td>\n",
       "      <td>5.054545</td>\n",
       "    </tr>\n",
       "    <tr>\n",
       "      <th>234</th>\n",
       "      <td>Marvel</td>\n",
       "      <td>if marvel were to animate a comic (the way jap...</td>\n",
       "      <td>51</td>\n",
       "      <td>273</td>\n",
       "      <td>5.352941</td>\n",
       "    </tr>\n",
       "    <tr>\n",
       "      <th>345</th>\n",
       "      <td>Marvel</td>\n",
       "      <td>I always thought it would be cool if Marvel ev...</td>\n",
       "      <td>50</td>\n",
       "      <td>283</td>\n",
       "      <td>5.660000</td>\n",
       "    </tr>\n",
       "    <tr>\n",
       "      <th>42</th>\n",
       "      <td>Marvel</td>\n",
       "      <td>[Artwork]. Scarlet Witch #9. Seriously, they'v...</td>\n",
       "      <td>48</td>\n",
       "      <td>300</td>\n",
       "      <td>6.250000</td>\n",
       "    </tr>\n",
       "    <tr>\n",
       "      <th>14</th>\n",
       "      <td>Marvel</td>\n",
       "      <td>You have a choice to make: Doom is dead and yo...</td>\n",
       "      <td>44</td>\n",
       "      <td>234</td>\n",
       "      <td>5.318182</td>\n",
       "    </tr>\n",
       "    <tr>\n",
       "      <th>655</th>\n",
       "      <td>Marvel</td>\n",
       "      <td>What do you think is the chance that the chara...</td>\n",
       "      <td>43</td>\n",
       "      <td>204</td>\n",
       "      <td>4.744186</td>\n",
       "    </tr>\n",
       "    <tr>\n",
       "      <th>973</th>\n",
       "      <td>Marvel</td>\n",
       "      <td>I've seen a lot of people at this point wantin...</td>\n",
       "      <td>43</td>\n",
       "      <td>226</td>\n",
       "      <td>5.255814</td>\n",
       "    </tr>\n",
       "    <tr>\n",
       "      <th>521</th>\n",
       "      <td>Marvel</td>\n",
       "      <td>I remember this art work being the staple of m...</td>\n",
       "      <td>41</td>\n",
       "      <td>246</td>\n",
       "      <td>6.000000</td>\n",
       "    </tr>\n",
       "    <tr>\n",
       "      <th>705</th>\n",
       "      <td>Marvel</td>\n",
       "      <td>At least the avengers bothered to show up at D...</td>\n",
       "      <td>41</td>\n",
       "      <td>229</td>\n",
       "      <td>5.585366</td>\n",
       "    </tr>\n",
       "    <tr>\n",
       "      <th>752</th>\n",
       "      <td>Marvel</td>\n",
       "      <td>I’m curious. How tough are the Yancy Street Ga...</td>\n",
       "      <td>40</td>\n",
       "      <td>197</td>\n",
       "      <td>4.925000</td>\n",
       "    </tr>\n",
       "  </tbody>\n",
       "</table>\n",
       "</div>"
      ],
      "text/plain": [
       "    subreddit                                              title  \\\n",
       "948    Marvel  So I think we can all agree that Wanda’s not d...   \n",
       "234    Marvel  if marvel were to animate a comic (the way jap...   \n",
       "345    Marvel  I always thought it would be cool if Marvel ev...   \n",
       "42     Marvel  [Artwork]. Scarlet Witch #9. Seriously, they'v...   \n",
       "14     Marvel  You have a choice to make: Doom is dead and yo...   \n",
       "655    Marvel  What do you think is the chance that the chara...   \n",
       "973    Marvel  I've seen a lot of people at this point wantin...   \n",
       "521    Marvel  I remember this art work being the staple of m...   \n",
       "705    Marvel  At least the avengers bothered to show up at D...   \n",
       "752    Marvel  I’m curious. How tough are the Yancy Street Ga...   \n",
       "\n",
       "     post_word_count  post_length     ratio  \n",
       "948               55          278  5.054545  \n",
       "234               51          273  5.352941  \n",
       "345               50          283  5.660000  \n",
       "42                48          300  6.250000  \n",
       "14                44          234  5.318182  \n",
       "655               43          204  4.744186  \n",
       "973               43          226  5.255814  \n",
       "521               41          246  6.000000  \n",
       "705               41          229  5.585366  \n",
       "752               40          197  4.925000  "
      ]
     },
     "execution_count": 16,
     "metadata": {},
     "output_type": "execute_result"
    }
   ],
   "source": [
    "# Top 10: marvel longest post\n",
    "marvel.sort_values(by='post_word_count', ascending=False)[['subreddit','title','post_word_count','post_length','ratio']].head(10)"
   ]
  },
  {
   "cell_type": "code",
   "execution_count": 17,
   "id": "ba7fe69d-758f-4bf1-a5f1-f3439f495f55",
   "metadata": {
    "tags": []
   },
   "outputs": [
    {
     "data": {
      "text/html": [
       "<div>\n",
       "<style scoped>\n",
       "    .dataframe tbody tr th:only-of-type {\n",
       "        vertical-align: middle;\n",
       "    }\n",
       "\n",
       "    .dataframe tbody tr th {\n",
       "        vertical-align: top;\n",
       "    }\n",
       "\n",
       "    .dataframe thead th {\n",
       "        text-align: right;\n",
       "    }\n",
       "</style>\n",
       "<table border=\"1\" class=\"dataframe\">\n",
       "  <thead>\n",
       "    <tr style=\"text-align: right;\">\n",
       "      <th></th>\n",
       "      <th>subreddit</th>\n",
       "      <th>title</th>\n",
       "      <th>post_word_count</th>\n",
       "      <th>post_length</th>\n",
       "      <th>ratio</th>\n",
       "    </tr>\n",
       "  </thead>\n",
       "  <tbody>\n",
       "    <tr>\n",
       "      <th>33</th>\n",
       "      <td>DC_Cinematic</td>\n",
       "      <td>I have always wondered who it was Clark was pr...</td>\n",
       "      <td>57</td>\n",
       "      <td>299</td>\n",
       "      <td>5.245614</td>\n",
       "    </tr>\n",
       "    <tr>\n",
       "      <th>373</th>\n",
       "      <td>DC_Cinematic</td>\n",
       "      <td>Tim Burton breaks silence on The Flash using h...</td>\n",
       "      <td>51</td>\n",
       "      <td>293</td>\n",
       "      <td>5.745098</td>\n",
       "    </tr>\n",
       "    <tr>\n",
       "      <th>518</th>\n",
       "      <td>DC_Cinematic</td>\n",
       "      <td>Mr. Mind and the Monster Society of Evil shoul...</td>\n",
       "      <td>50</td>\n",
       "      <td>286</td>\n",
       "      <td>5.720000</td>\n",
       "    </tr>\n",
       "    <tr>\n",
       "      <th>219</th>\n",
       "      <td>DC_Cinematic</td>\n",
       "      <td>\"And, yes, some actors will be playing charact...</td>\n",
       "      <td>49</td>\n",
       "      <td>273</td>\n",
       "      <td>5.571429</td>\n",
       "    </tr>\n",
       "    <tr>\n",
       "      <th>701</th>\n",
       "      <td>DC_Cinematic</td>\n",
       "      <td>That’s it! #BlueBeetle had #5 best hold in DCE...</td>\n",
       "      <td>48</td>\n",
       "      <td>275</td>\n",
       "      <td>5.729167</td>\n",
       "    </tr>\n",
       "    <tr>\n",
       "      <th>224</th>\n",
       "      <td>DC_Cinematic</td>\n",
       "      <td>Fun Fact: Birdman, an Oscar-winning movie rele...</td>\n",
       "      <td>48</td>\n",
       "      <td>299</td>\n",
       "      <td>6.229167</td>\n",
       "    </tr>\n",
       "    <tr>\n",
       "      <th>820</th>\n",
       "      <td>DC_Cinematic</td>\n",
       "      <td>When James Gunn cast David Dastmalchian as sup...</td>\n",
       "      <td>46</td>\n",
       "      <td>267</td>\n",
       "      <td>5.804348</td>\n",
       "    </tr>\n",
       "    <tr>\n",
       "      <th>680</th>\n",
       "      <td>DC_Cinematic</td>\n",
       "      <td>With actuals out, #BlueBeetle was the first ch...</td>\n",
       "      <td>46</td>\n",
       "      <td>278</td>\n",
       "      <td>6.043478</td>\n",
       "    </tr>\n",
       "    <tr>\n",
       "      <th>945</th>\n",
       "      <td>DC_Cinematic</td>\n",
       "      <td>James Gunn praises WONDER WOMAN HISTORIA as \"a...</td>\n",
       "      <td>46</td>\n",
       "      <td>264</td>\n",
       "      <td>5.739130</td>\n",
       "    </tr>\n",
       "    <tr>\n",
       "      <th>658</th>\n",
       "      <td>DC_Cinematic</td>\n",
       "      <td>I am very curious, for people living in foreig...</td>\n",
       "      <td>46</td>\n",
       "      <td>246</td>\n",
       "      <td>5.347826</td>\n",
       "    </tr>\n",
       "  </tbody>\n",
       "</table>\n",
       "</div>"
      ],
      "text/plain": [
       "        subreddit                                              title  \\\n",
       "33   DC_Cinematic  I have always wondered who it was Clark was pr...   \n",
       "373  DC_Cinematic  Tim Burton breaks silence on The Flash using h...   \n",
       "518  DC_Cinematic  Mr. Mind and the Monster Society of Evil shoul...   \n",
       "219  DC_Cinematic  \"And, yes, some actors will be playing charact...   \n",
       "701  DC_Cinematic  That’s it! #BlueBeetle had #5 best hold in DCE...   \n",
       "224  DC_Cinematic  Fun Fact: Birdman, an Oscar-winning movie rele...   \n",
       "820  DC_Cinematic  When James Gunn cast David Dastmalchian as sup...   \n",
       "680  DC_Cinematic  With actuals out, #BlueBeetle was the first ch...   \n",
       "945  DC_Cinematic  James Gunn praises WONDER WOMAN HISTORIA as \"a...   \n",
       "658  DC_Cinematic  I am very curious, for people living in foreig...   \n",
       "\n",
       "     post_word_count  post_length     ratio  \n",
       "33                57          299  5.245614  \n",
       "373               51          293  5.745098  \n",
       "518               50          286  5.720000  \n",
       "219               49          273  5.571429  \n",
       "701               48          275  5.729167  \n",
       "224               48          299  6.229167  \n",
       "820               46          267  5.804348  \n",
       "680               46          278  6.043478  \n",
       "945               46          264  5.739130  \n",
       "658               46          246  5.347826  "
      ]
     },
     "execution_count": 17,
     "metadata": {},
     "output_type": "execute_result"
    }
   ],
   "source": [
    "# Top 10: dc_cinematic longest post\n",
    "dc_cinematic.sort_values(by='post_word_count', ascending=False)[['subreddit','title','post_word_count','post_length','ratio']].head(10)"
   ]
  },
  {
   "cell_type": "markdown",
   "id": "d6f89745-a04b-4917-82f5-9c744d093112",
   "metadata": {},
   "source": [
    "##### Top 20: common words"
   ]
  },
  {
   "cell_type": "markdown",
   "id": "f2eb83d7-43f7-466b-9f13-16a111079394",
   "metadata": {},
   "source": [
    "###### CountVectorizing subreddits"
   ]
  },
  {
   "cell_type": "code",
   "execution_count": 18,
   "id": "e8a6f22f-628e-4a6e-91d7-4c8da2753bce",
   "metadata": {
    "tags": []
   },
   "outputs": [],
   "source": [
    "# Top 20: marvel common words\n",
    "cv = CountVectorizer(stop_words='english')\n",
    "cv.fit(marvel['title'])\n",
    "\n",
    "marvel_post_cv = cv.transform(marvel['title'])\n",
    "marvel_post_df = pd.DataFrame(marvel_post_cv.todense(), columns=cv.get_feature_names_out())"
   ]
  },
  {
   "cell_type": "code",
   "execution_count": 19,
   "id": "196303e0-b933-470b-8c5d-148bd30caa38",
   "metadata": {
    "tags": []
   },
   "outputs": [],
   "source": [
    "marvel_top_words = pd.DataFrame(marvel_post_df.sum().sort_values(ascending=False).head(20), columns = ['Count'])\n",
    "marvel_top_words.T;"
   ]
  },
  {
   "cell_type": "code",
   "execution_count": 20,
   "id": "8dea8754-4b8c-4348-9ef9-5788eccc2b1b",
   "metadata": {
    "tags": []
   },
   "outputs": [
    {
     "data": {
      "image/png": "[encoded data removed]",
      "text/plain": [
       "<Figure size 1200x800 with 1 Axes>"
      ]
     },
     "metadata": {},
     "output_type": "display_data"
    }
   ],
   "source": [
    "# top 20: marvel common words graph\n",
    "fig, ax = plt.subplots(figsize=(12,8))\n",
    "sns.barplot(x='Count', y=marvel_top_words.index , data=marvel_top_words, palette = \"flare\")\n",
    "plt.title('Marvel: Top 20 common words',fontsize=20)\n",
    "plt.xlabel('Word Count', fontsize=15)\n",
    "plt.yticks(fontsize=15)\n",
    "plt.tight_layout()"
   ]
  },
  {
   "cell_type": "code",
   "execution_count": 21,
   "id": "417ebfcd-401d-41c7-9f23-1af666639a71",
   "metadata": {
    "tags": []
   },
   "outputs": [],
   "source": [
    "# dc_cinematic top 20 common word\n",
    "cv = CountVectorizer(stop_words='english')\n",
    "cv.fit(dc_cinematic['title'])\n",
    "\n",
    "dc_cinematic_post_cv = cv.transform(dc_cinematic['title'])\n",
    "dc_cinematic_post_df = pd.DataFrame(dc_cinematic_post_cv.todense(), columns=cv.get_feature_names_out())"
   ]
  },
  {
   "cell_type": "code",
   "execution_count": 22,
   "id": "e6888f4b-a9eb-400a-9cb7-16e940638aa5",
   "metadata": {
    "tags": []
   },
   "outputs": [],
   "source": [
    "dc_cinematic_top_words = pd.DataFrame(dc_cinematic_post_df.sum().sort_values(ascending=False).head(20), columns = ['Count'])\n",
    "dc_cinematic_top_words.T;"
   ]
  },
  {
   "cell_type": "code",
   "execution_count": 23,
   "id": "88a1823f-16c9-475e-a411-bcf09f0c26cf",
   "metadata": {
    "tags": []
   },
   "outputs": [
    {
     "data": {
      "image/png": "[encoded data removed]",
      "text/plain": [
       "<Figure size 1200x800 with 1 Axes>"
      ]
     },
     "metadata": {},
     "output_type": "display_data"
    }
   ],
   "source": [
    "# top 20: marvel common words graph\n",
    "fig, ax = plt.subplots(figsize=(12,8))\n",
    "sns.barplot(x='Count', y=dc_cinematic_top_words.index , data=dc_cinematic_top_words, palette = \"flare\")\n",
    "plt.title('DC_Cinematic: Top 20 common words',fontsize=20)\n",
    "plt.xlabel('Word Count', fontsize=15)\n",
    "plt.yticks(fontsize=15)\n",
    "plt.tight_layout()"
   ]
  },
  {
   "cell_type": "markdown",
   "id": "43f382ff-16df-4a68-a8b3-96f6d7c584a7",
   "metadata": {},
   "source": [
    "##### Top 20: subreddits Trigram"
   ]
  },
  {
   "cell_type": "code",
   "execution_count": 24,
   "id": "8fe9c91c-025c-4e7c-8957-6ca7a45f19a4",
   "metadata": {
    "tags": []
   },
   "outputs": [],
   "source": [
    "# Marvel top 20: trigrams\n",
    "cv_trigrams = CountVectorizer(ngram_range=(3, 3), stop_words='english')\n",
    "cv_trigrams.fit(marvel['title'])\n",
    "\n",
    "trigrams_cv = cv_trigrams.transform(marvel['title'])\n",
    "trigrams_df = pd.DataFrame(trigrams_cv.todense(), columns=cv_trigrams.get_feature_names_out())\n",
    "\n",
    "marvel_top_triwords = pd.DataFrame(trigrams_df.sum().sort_values(ascending=False).head(20), columns = ['Count'])\n",
    "marvel_top_triwords;"
   ]
  },
  {
   "cell_type": "code",
   "execution_count": 25,
   "id": "29572c34-2efd-4f5a-a1d0-85383f3c5490",
   "metadata": {
    "tags": []
   },
   "outputs": [
    {
     "data": {
      "image/png": "[encoded data removed]",
      "text/plain": [
       "<Figure size 1200x800 with 1 Axes>"
      ]
     },
     "metadata": {},
     "output_type": "display_data"
    }
   ],
   "source": [
    "fig, ax = plt.subplots(figsize=(12,8))\n",
    "sns.barplot(x='Count', y=marvel_top_triwords.index , data=marvel_top_words, color='purple')\n",
    "plt.title('Top 20: marvel trigram',fontsize=20)\n",
    "plt.xlabel('Word Count', fontsize=12)\n",
    "plt.yticks(fontsize=15)\n",
    "plt.tight_layout()"
   ]
  },
  {
   "cell_type": "code",
   "execution_count": 26,
   "id": "f73a9b18-8df0-4b51-adef-784d8dd792b8",
   "metadata": {
    "tags": []
   },
   "outputs": [],
   "source": [
    "# dc_cinematic top 20: trigrams\n",
    "cv_trigrams = CountVectorizer(ngram_range=(3, 3), stop_words='english')\n",
    "cv_trigrams.fit(dc_cinematic['title'])\n",
    "\n",
    "trigrams_cv = cv_trigrams.transform(dc_cinematic['title'])\n",
    "trigrams_df = pd.DataFrame(trigrams_cv.todense(), columns=cv_trigrams.get_feature_names_out())\n",
    "\n",
    "dc_cinematic_top_triwords = pd.DataFrame(trigrams_df.sum().sort_values(ascending=False).head(20), columns = ['Count'])\n",
    "dc_cinematic_top_triwords;"
   ]
  },
  {
   "cell_type": "code",
   "execution_count": 27,
   "id": "f5592e52-6c38-4cf8-a7ac-845a4cfba534",
   "metadata": {
    "tags": []
   },
   "outputs": [
    {
     "data": {
      "image/png": "[encoded data removed]",
      "text/plain": [
       "<Figure size 1200x800 with 1 Axes>"
      ]
     },
     "metadata": {},
     "output_type": "display_data"
    }
   ],
   "source": [
    "fig, ax = plt.subplots(figsize=(12,8))\n",
    "sns.barplot(x='Count', y=dc_cinematic_top_triwords.index , data=dc_cinematic_top_words, color='green')\n",
    "plt.title('Top 20: dc_cinematic trigram',fontsize=20)\n",
    "plt.xlabel('Word Count', fontsize=12)\n",
    "plt.yticks(fontsize=15)\n",
    "plt.tight_layout()"
   ]
  },
  {
   "cell_type": "markdown",
   "id": "925fce5c-fcd2-498b-9907-333845360f73",
   "metadata": {},
   "source": [
    "### Preprocessing  "
   ]
  },
  {
   "cell_type": "markdown",
   "id": "f27ad238-f601-47bc-948e-0cce0e6f3324",
   "metadata": {},
   "source": [
    "###### Merging DataFrames"
   ]
  },
  {
   "cell_type": "markdown",
   "id": "c16d774e-100d-4158-ac97-240f824ce6fa",
   "metadata": {},
   "source": [
    "> Dropping all columns, leaving only necessary features. As a result, our title feature will be our X fetaure and the subreddit feature will be our y target variable."
   ]
  },
  {
   "cell_type": "code",
   "execution_count": 28,
   "id": "6c716170-2eb9-42ae-b48e-841c348d1b5c",
   "metadata": {
    "tags": []
   },
   "outputs": [
    {
     "data": {
      "text/html": [
       "<div>\n",
       "<style scoped>\n",
       "    .dataframe tbody tr th:only-of-type {\n",
       "        vertical-align: middle;\n",
       "    }\n",
       "\n",
       "    .dataframe tbody tr th {\n",
       "        vertical-align: top;\n",
       "    }\n",
       "\n",
       "    .dataframe thead th {\n",
       "        text-align: right;\n",
       "    }\n",
       "</style>\n",
       "<table border=\"1\" class=\"dataframe\">\n",
       "  <thead>\n",
       "    <tr style=\"text-align: right;\">\n",
       "      <th></th>\n",
       "      <th>title</th>\n",
       "      <th>subreddit</th>\n",
       "    </tr>\n",
       "  </thead>\n",
       "  <tbody>\n",
       "    <tr>\n",
       "      <th>0</th>\n",
       "      <td>Do the MCU movies still have a continuous story?</td>\n",
       "      <td>Marvel</td>\n",
       "    </tr>\n",
       "    <tr>\n",
       "      <th>1</th>\n",
       "      <td>Stumbled across this sealed box while cleaning...</td>\n",
       "      <td>Marvel</td>\n",
       "    </tr>\n",
       "    <tr>\n",
       "      <th>2</th>\n",
       "      <td>Here's the first part of the roster for my Ave...</td>\n",
       "      <td>Marvel</td>\n",
       "    </tr>\n",
       "    <tr>\n",
       "      <th>3</th>\n",
       "      <td>Supreme Iron man / art by ktrew</td>\n",
       "      <td>Marvel</td>\n",
       "    </tr>\n",
       "    <tr>\n",
       "      <th>4</th>\n",
       "      <td>Why tf is he alive still?</td>\n",
       "      <td>Marvel</td>\n",
       "    </tr>\n",
       "  </tbody>\n",
       "</table>\n",
       "</div>"
      ],
      "text/plain": [
       "                                               title subreddit\n",
       "0   Do the MCU movies still have a continuous story?    Marvel\n",
       "1  Stumbled across this sealed box while cleaning...    Marvel\n",
       "2  Here's the first part of the roster for my Ave...    Marvel\n",
       "3                    Supreme Iron man / art by ktrew    Marvel\n",
       "4                          Why tf is he alive still?    Marvel"
      ]
     },
     "execution_count": 28,
     "metadata": {},
     "output_type": "execute_result"
    }
   ],
   "source": [
    "marvel.drop(marvel.columns[[0,2,4,5,6]], axis=1, inplace=True)\n",
    "marvel.head()"
   ]
  },
  {
   "cell_type": "code",
   "execution_count": 29,
   "id": "fc11fef2-4a37-4953-8ca6-698015f6961b",
   "metadata": {
    "tags": []
   },
   "outputs": [
    {
     "data": {
      "text/html": [
       "<div>\n",
       "<style scoped>\n",
       "    .dataframe tbody tr th:only-of-type {\n",
       "        vertical-align: middle;\n",
       "    }\n",
       "\n",
       "    .dataframe tbody tr th {\n",
       "        vertical-align: top;\n",
       "    }\n",
       "\n",
       "    .dataframe thead th {\n",
       "        text-align: right;\n",
       "    }\n",
       "</style>\n",
       "<table border=\"1\" class=\"dataframe\">\n",
       "  <thead>\n",
       "    <tr style=\"text-align: right;\">\n",
       "      <th></th>\n",
       "      <th>title</th>\n",
       "      <th>subreddit</th>\n",
       "    </tr>\n",
       "  </thead>\n",
       "  <tbody>\n",
       "    <tr>\n",
       "      <th>0</th>\n",
       "      <td>Early idea for The Flash helmet. Art by Ed Nat...</td>\n",
       "      <td>DC_Cinematic</td>\n",
       "    </tr>\n",
       "    <tr>\n",
       "      <th>1</th>\n",
       "      <td>McFarlane Toys DC Multiverse Batman &amp; Robin wa...</td>\n",
       "      <td>DC_Cinematic</td>\n",
       "    </tr>\n",
       "    <tr>\n",
       "      <th>2</th>\n",
       "      <td>What style of suit should Corenswet have in Su...</td>\n",
       "      <td>DC_Cinematic</td>\n",
       "    </tr>\n",
       "    <tr>\n",
       "      <th>3</th>\n",
       "      <td>After the Crisis scene, and the events of the ...</td>\n",
       "      <td>DC_Cinematic</td>\n",
       "    </tr>\n",
       "    <tr>\n",
       "      <th>4</th>\n",
       "      <td>Remember when Batman didn’t kill Two-face? Gra...</td>\n",
       "      <td>DC_Cinematic</td>\n",
       "    </tr>\n",
       "  </tbody>\n",
       "</table>\n",
       "</div>"
      ],
      "text/plain": [
       "                                               title     subreddit\n",
       "0  Early idea for The Flash helmet. Art by Ed Nat...  DC_Cinematic\n",
       "1  McFarlane Toys DC Multiverse Batman & Robin wa...  DC_Cinematic\n",
       "2  What style of suit should Corenswet have in Su...  DC_Cinematic\n",
       "3  After the Crisis scene, and the events of the ...  DC_Cinematic\n",
       "4  Remember when Batman didn’t kill Two-face? Gra...  DC_Cinematic"
      ]
     },
     "execution_count": 29,
     "metadata": {},
     "output_type": "execute_result"
    }
   ],
   "source": [
    "dc_cinematic.drop(dc_cinematic.columns[[0,2,4,5,6]], axis=1, inplace=True)\n",
    "dc_cinematic.head()"
   ]
  },
  {
   "cell_type": "code",
   "execution_count": 30,
   "id": "777a0e5a-a0c8-47e7-a8fd-d0b6f2812971",
   "metadata": {
    "tags": []
   },
   "outputs": [],
   "source": [
    "# merging DataFrames\n",
    "subreddits = pd.concat([marvel, dc_cinematic], ignore_index = True)"
   ]
  },
  {
   "cell_type": "code",
   "execution_count": 31,
   "id": "62e3d088-c6c6-4fdb-98c0-f35a8f36e66c",
   "metadata": {
    "tags": []
   },
   "outputs": [
    {
     "data": {
      "text/plain": [
       "(1967, 2)"
      ]
     },
     "execution_count": 31,
     "metadata": {},
     "output_type": "execute_result"
    }
   ],
   "source": [
    "subreddits.shape"
   ]
  },
  {
   "cell_type": "code",
   "execution_count": 32,
   "id": "1ee30e97-09f6-41d0-8196-cb5500ccd056",
   "metadata": {
    "tags": []
   },
   "outputs": [
    {
     "data": {
      "text/html": [
       "<div>\n",
       "<style scoped>\n",
       "    .dataframe tbody tr th:only-of-type {\n",
       "        vertical-align: middle;\n",
       "    }\n",
       "\n",
       "    .dataframe tbody tr th {\n",
       "        vertical-align: top;\n",
       "    }\n",
       "\n",
       "    .dataframe thead th {\n",
       "        text-align: right;\n",
       "    }\n",
       "</style>\n",
       "<table border=\"1\" class=\"dataframe\">\n",
       "  <thead>\n",
       "    <tr style=\"text-align: right;\">\n",
       "      <th></th>\n",
       "      <th>title</th>\n",
       "      <th>subreddit</th>\n",
       "    </tr>\n",
       "  </thead>\n",
       "  <tbody>\n",
       "    <tr>\n",
       "      <th>0</th>\n",
       "      <td>Do the MCU movies still have a continuous story?</td>\n",
       "      <td>Marvel</td>\n",
       "    </tr>\n",
       "    <tr>\n",
       "      <th>1</th>\n",
       "      <td>Stumbled across this sealed box while cleaning...</td>\n",
       "      <td>Marvel</td>\n",
       "    </tr>\n",
       "    <tr>\n",
       "      <th>2</th>\n",
       "      <td>Here's the first part of the roster for my Ave...</td>\n",
       "      <td>Marvel</td>\n",
       "    </tr>\n",
       "    <tr>\n",
       "      <th>3</th>\n",
       "      <td>Supreme Iron man / art by ktrew</td>\n",
       "      <td>Marvel</td>\n",
       "    </tr>\n",
       "    <tr>\n",
       "      <th>4</th>\n",
       "      <td>Why tf is he alive still?</td>\n",
       "      <td>Marvel</td>\n",
       "    </tr>\n",
       "  </tbody>\n",
       "</table>\n",
       "</div>"
      ],
      "text/plain": [
       "                                               title subreddit\n",
       "0   Do the MCU movies still have a continuous story?    Marvel\n",
       "1  Stumbled across this sealed box while cleaning...    Marvel\n",
       "2  Here's the first part of the roster for my Ave...    Marvel\n",
       "3                    Supreme Iron man / art by ktrew    Marvel\n",
       "4                          Why tf is he alive still?    Marvel"
      ]
     },
     "execution_count": 32,
     "metadata": {},
     "output_type": "execute_result"
    }
   ],
   "source": [
    "subreddits.head()"
   ]
  },
  {
   "cell_type": "markdown",
   "id": "be4fcdd1-ff79-4aac-8515-3572736fa2cc",
   "metadata": {},
   "source": [
    "##### Mapping X and y variables"
   ]
  },
  {
   "cell_type": "code",
   "execution_count": 33,
   "id": "98749ff8-fd6c-4976-ae03-2421d2ffd70c",
   "metadata": {},
   "outputs": [],
   "source": [
    "#binarize the subreddit column\n",
    "subreddits['subreddit'].replace({'Marvel': 1, 'DC_Cinematic': 0}, inplace =True)"
   ]
  },
  {
   "cell_type": "code",
   "execution_count": 34,
   "id": "1e8d27f2-a16a-40ad-b3d2-82d941cc062b",
   "metadata": {
    "tags": []
   },
   "outputs": [],
   "source": [
    "X = subreddits['title']\n",
    "y = subreddits['subreddit']"
   ]
  },
  {
   "cell_type": "code",
   "execution_count": 35,
   "id": "9e3618e6-a6e1-482e-bb36-5830a284255c",
   "metadata": {
    "tags": []
   },
   "outputs": [
    {
     "data": {
      "text/html": [
       "<div>\n",
       "<style scoped>\n",
       "    .dataframe tbody tr th:only-of-type {\n",
       "        vertical-align: middle;\n",
       "    }\n",
       "\n",
       "    .dataframe tbody tr th {\n",
       "        vertical-align: top;\n",
       "    }\n",
       "\n",
       "    .dataframe thead th {\n",
       "        text-align: right;\n",
       "    }\n",
       "</style>\n",
       "<table border=\"1\" class=\"dataframe\">\n",
       "  <thead>\n",
       "    <tr style=\"text-align: right;\">\n",
       "      <th></th>\n",
       "      <th>title</th>\n",
       "      <th>subreddit</th>\n",
       "    </tr>\n",
       "  </thead>\n",
       "  <tbody>\n",
       "    <tr>\n",
       "      <th>0</th>\n",
       "      <td>Do the MCU movies still have a continuous story?</td>\n",
       "      <td>1</td>\n",
       "    </tr>\n",
       "    <tr>\n",
       "      <th>1</th>\n",
       "      <td>Stumbled across this sealed box while cleaning...</td>\n",
       "      <td>1</td>\n",
       "    </tr>\n",
       "    <tr>\n",
       "      <th>2</th>\n",
       "      <td>Here's the first part of the roster for my Ave...</td>\n",
       "      <td>1</td>\n",
       "    </tr>\n",
       "    <tr>\n",
       "      <th>3</th>\n",
       "      <td>Supreme Iron man / art by ktrew</td>\n",
       "      <td>1</td>\n",
       "    </tr>\n",
       "    <tr>\n",
       "      <th>4</th>\n",
       "      <td>Why tf is he alive still?</td>\n",
       "      <td>1</td>\n",
       "    </tr>\n",
       "  </tbody>\n",
       "</table>\n",
       "</div>"
      ],
      "text/plain": [
       "                                               title  subreddit\n",
       "0   Do the MCU movies still have a continuous story?          1\n",
       "1  Stumbled across this sealed box while cleaning...          1\n",
       "2  Here's the first part of the roster for my Ave...          1\n",
       "3                    Supreme Iron man / art by ktrew          1\n",
       "4                          Why tf is he alive still?          1"
      ]
     },
     "execution_count": 35,
     "metadata": {},
     "output_type": "execute_result"
    }
   ],
   "source": [
    "subreddits.head()"
   ]
  },
  {
   "cell_type": "code",
   "execution_count": 36,
   "id": "0c7d6ba8-8697-4b67-9ffc-7dd040c5cc3a",
   "metadata": {
    "tags": []
   },
   "outputs": [],
   "source": [
    "#saving combined DataFrame to csv\n",
    "subreddits.to_csv('combined_subreddits.csv', index = False)"
   ]
  },
  {
   "cell_type": "markdown",
   "id": "c93bee74-c19b-4424-986c-4561cb20a75d",
   "metadata": {},
   "source": [
    "##### Tokenizing "
   ]
  },
  {
   "cell_type": "code",
   "execution_count": 37,
   "id": "2c823e78-63c7-4a2e-be2d-1098bc908421",
   "metadata": {
    "tags": []
   },
   "outputs": [],
   "source": [
    "#Instantiate tokenizer\n",
    "tokenizer = RegexpTokenizer(r'[A-z]+')"
   ]
  },
  {
   "cell_type": "code",
   "execution_count": 38,
   "id": "cc36d405-15c5-4823-9359-59b3b46553f7",
   "metadata": {
    "tags": []
   },
   "outputs": [],
   "source": [
    "token = subreddits['title'].copy()"
   ]
  },
  {
   "cell_type": "code",
   "execution_count": 39,
   "id": "bc8a4d8a-e5e7-45d3-8e5f-dc9d02a2b09c",
   "metadata": {
    "tags": []
   },
   "outputs": [
    {
     "data": {
      "text/plain": [
       "0     Do the MCU movies still have a continuous story?\n",
       "1    Stumbled across this sealed box while cleaning...\n",
       "2    Here's the first part of the roster for my Ave...\n",
       "3                      Supreme Iron man / art by ktrew\n",
       "4                            Why tf is he alive still?\n",
       "Name: title, dtype: object"
      ]
     },
     "execution_count": 39,
     "metadata": {},
     "output_type": "execute_result"
    }
   ],
   "source": [
    "token.head()"
   ]
  },
  {
   "cell_type": "code",
   "execution_count": 40,
   "id": "af2db32f-3e54-4530-b38c-692cf4eaa551",
   "metadata": {
    "tags": []
   },
   "outputs": [],
   "source": [
    "tokens = [\" \".join(tokenizer.tokenize(post.lower())) for post in token]"
   ]
  },
  {
   "cell_type": "code",
   "execution_count": 41,
   "id": "c1e6cff2-62e7-448c-b964-5b90f812957f",
   "metadata": {
    "tags": []
   },
   "outputs": [
    {
     "data": {
      "text/plain": [
       "['do the mcu movies still have a continuous story',\n",
       " 'stumbled across this sealed box while cleaning the garage the other day box has seen better day but still cool nonetheless',\n",
       " 'here s the first part of the roster for my avengers redesign']"
      ]
     },
     "execution_count": 41,
     "metadata": {},
     "output_type": "execute_result"
    }
   ],
   "source": [
    "tokens[:3]"
   ]
  },
  {
   "cell_type": "markdown",
   "id": "87efb617-6989-4442-80a6-401a633d5e49",
   "metadata": {},
   "source": [
    "##### Lemmatize"
   ]
  },
  {
   "cell_type": "code",
   "execution_count": 42,
   "id": "38ff23a2-1df0-4d18-8503-1b8df4773f41",
   "metadata": {
    "tags": []
   },
   "outputs": [],
   "source": [
    "#Instantiate lemmatizer\n",
    "lemmatizer = WordNetLemmatizer()"
   ]
  },
  {
   "cell_type": "code",
   "execution_count": 43,
   "id": "fad069fa-5c34-4a78-befc-af3978404edc",
   "metadata": {
    "tags": []
   },
   "outputs": [],
   "source": [
    "lemma_token = [[lemmatizer.lemmatize(word) for word in post.split(' ')] for post in tokens]"
   ]
  },
  {
   "cell_type": "code",
   "execution_count": 44,
   "id": "b2427731-a028-4302-a53d-84c08f8a72aa",
   "metadata": {
    "tags": []
   },
   "outputs": [
    {
     "data": {
      "text/plain": [
       "[('do the mcu movies still have a continuous story',\n",
       "  ['do', 'the', 'mcu', 'movie', 'still', 'have', 'a', 'continuous', 'story']),\n",
       " ('stumbled across this sealed box while cleaning the garage the other day box has seen better day but still cool nonetheless',\n",
       "  ['stumbled',\n",
       "   'across',\n",
       "   'this',\n",
       "   'sealed',\n",
       "   'box',\n",
       "   'while',\n",
       "   'cleaning',\n",
       "   'the',\n",
       "   'garage',\n",
       "   'the',\n",
       "   'other',\n",
       "   'day',\n",
       "   'box',\n",
       "   'ha',\n",
       "   'seen',\n",
       "   'better',\n",
       "   'day',\n",
       "   'but',\n",
       "   'still',\n",
       "   'cool',\n",
       "   'nonetheless']),\n",
       " ('here s the first part of the roster for my avengers redesign',\n",
       "  ['here',\n",
       "   's',\n",
       "   'the',\n",
       "   'first',\n",
       "   'part',\n",
       "   'of',\n",
       "   'the',\n",
       "   'roster',\n",
       "   'for',\n",
       "   'my',\n",
       "   'avenger',\n",
       "   'redesign'])]"
      ]
     },
     "execution_count": 44,
     "metadata": {},
     "output_type": "execute_result"
    }
   ],
   "source": [
    "#looking at both token and lemmatized token\n",
    "list(zip(tokens, lemma_token))[:3]"
   ]
  },
  {
   "cell_type": "code",
   "execution_count": 45,
   "id": "d63483c4-f17f-44a9-befa-0ff7cf7adc4b",
   "metadata": {
    "tags": []
   },
   "outputs": [],
   "source": [
    "lemma_tokens = [\" \".join(post) for post in lemma_token]"
   ]
  },
  {
   "cell_type": "code",
   "execution_count": 46,
   "id": "5f9af849-ba8a-4239-9c5e-58ffbcd3ba14",
   "metadata": {
    "tags": []
   },
   "outputs": [
    {
     "data": {
      "text/plain": [
       "['do the mcu movie still have a continuous story',\n",
       " 'stumbled across this sealed box while cleaning the garage the other day box ha seen better day but still cool nonetheless',\n",
       " 'here s the first part of the roster for my avenger redesign']"
      ]
     },
     "execution_count": 46,
     "metadata": {},
     "output_type": "execute_result"
    }
   ],
   "source": [
    "lemma_tokens[:3]"
   ]
  },
  {
   "cell_type": "markdown",
   "id": "33af9d93-50d4-4d19-9d4c-dcb435388781",
   "metadata": {},
   "source": [
    "##### Stemming"
   ]
  },
  {
   "cell_type": "code",
   "execution_count": 47,
   "id": "c6ba013f-7f47-43e8-95fe-362260e9fae1",
   "metadata": {
    "tags": []
   },
   "outputs": [],
   "source": [
    "#Instantiate PorterStemmer.\n",
    "p_stemmer = PorterStemmer()"
   ]
  },
  {
   "cell_type": "code",
   "execution_count": 48,
   "id": "4c414a39-057f-44cc-b553-0e5086233cd3",
   "metadata": {
    "tags": []
   },
   "outputs": [],
   "source": [
    "# stem tokens, use spit to do each word separatly\n",
    "tokens_stem = [[p_stemmer.stem(word) for word in post.split(' ')] for post in tokens]"
   ]
  },
  {
   "cell_type": "code",
   "execution_count": 49,
   "id": "8966963e-5513-413f-8311-1ea95eaaa60c",
   "metadata": {
    "tags": []
   },
   "outputs": [],
   "source": [
    "#change post to stemmed tokens\n",
    "stemmed_tokens = [\" \".join(post) for post in tokens_stem]"
   ]
  },
  {
   "cell_type": "code",
   "execution_count": null,
   "id": "b794d7c7-4478-40ae-b7ad-35c8ca791fd7",
   "metadata": {
    "tags": []
   },
   "outputs": [],
   "source": []
  },
  {
   "cell_type": "code",
   "execution_count": 50,
   "id": "5049bf23-3651-4529-86bc-3728d5bbc110",
   "metadata": {
    "tags": []
   },
   "outputs": [
    {
     "data": {
      "text/html": [
       "<div>\n",
       "<style scoped>\n",
       "    .dataframe tbody tr th:only-of-type {\n",
       "        vertical-align: middle;\n",
       "    }\n",
       "\n",
       "    .dataframe tbody tr th {\n",
       "        vertical-align: top;\n",
       "    }\n",
       "\n",
       "    .dataframe thead th {\n",
       "        text-align: right;\n",
       "    }\n",
       "</style>\n",
       "<table border=\"1\" class=\"dataframe\">\n",
       "  <thead>\n",
       "    <tr style=\"text-align: right;\">\n",
       "      <th></th>\n",
       "      <th>title</th>\n",
       "      <th>subreddit</th>\n",
       "    </tr>\n",
       "  </thead>\n",
       "  <tbody>\n",
       "    <tr>\n",
       "      <th>0</th>\n",
       "      <td>Do the MCU movies still have a continuous story?</td>\n",
       "      <td>1</td>\n",
       "    </tr>\n",
       "    <tr>\n",
       "      <th>1</th>\n",
       "      <td>Stumbled across this sealed box while cleaning...</td>\n",
       "      <td>1</td>\n",
       "    </tr>\n",
       "    <tr>\n",
       "      <th>2</th>\n",
       "      <td>Here's the first part of the roster for my Ave...</td>\n",
       "      <td>1</td>\n",
       "    </tr>\n",
       "    <tr>\n",
       "      <th>3</th>\n",
       "      <td>Supreme Iron man / art by ktrew</td>\n",
       "      <td>1</td>\n",
       "    </tr>\n",
       "    <tr>\n",
       "      <th>4</th>\n",
       "      <td>Why tf is he alive still?</td>\n",
       "      <td>1</td>\n",
       "    </tr>\n",
       "  </tbody>\n",
       "</table>\n",
       "</div>"
      ],
      "text/plain": [
       "                                               title  subreddit\n",
       "0   Do the MCU movies still have a continuous story?          1\n",
       "1  Stumbled across this sealed box while cleaning...          1\n",
       "2  Here's the first part of the roster for my Ave...          1\n",
       "3                    Supreme Iron man / art by ktrew          1\n",
       "4                          Why tf is he alive still?          1"
      ]
     },
     "execution_count": 50,
     "metadata": {},
     "output_type": "execute_result"
    }
   ],
   "source": [
    "subreddits.head()"
   ]
  },
  {
   "cell_type": "markdown",
   "id": "3392cdec-1856-4cbf-b69f-de9be0da6026",
   "metadata": {},
   "source": [
    "##### Token Model "
   ]
  },
  {
   "cell_type": "code",
   "execution_count": 51,
   "id": "4a5eb74a-6a21-4ede-a0f2-2966aec54093",
   "metadata": {
    "tags": []
   },
   "outputs": [],
   "source": [
    "token_model = subreddits['title']"
   ]
  },
  {
   "cell_type": "code",
   "execution_count": 52,
   "id": "368997a6-f445-4c56-9edd-782b194a98be",
   "metadata": {
    "tags": []
   },
   "outputs": [],
   "source": [
    "#Instantiate tokenizer\n",
    "tokenizer_model = RegexpTokenizer(r'[A-z]+')"
   ]
  },
  {
   "cell_type": "code",
   "execution_count": 53,
   "id": "1c1bf1aa-ccc2-45b0-9908-1e3a73d841bd",
   "metadata": {
    "tags": []
   },
   "outputs": [],
   "source": [
    "# Run tokenizer, use join method  \n",
    "tokens_model = [\" \".join(tokenizer_model.tokenize(post.lower())) for post in token_model]"
   ]
  },
  {
   "cell_type": "code",
   "execution_count": 54,
   "id": "61619270-9849-4321-a8cc-9f5eb4b83798",
   "metadata": {
    "tags": []
   },
   "outputs": [],
   "source": [
    "#Instantiate PorterStemmer.\n",
    "p_stemmer_model = PorterStemmer()"
   ]
  },
  {
   "cell_type": "code",
   "execution_count": 55,
   "id": "d82b3d6d-a5c8-472b-b855-cbb996994fc3",
   "metadata": {
    "tags": []
   },
   "outputs": [],
   "source": [
    "# stem token\n",
    "stem_model = [[p_stemmer_model.stem(word) for word in post.split(' ')] for post in tokens_model]"
   ]
  },
  {
   "cell_type": "code",
   "execution_count": 56,
   "id": "2ad4ca68-937d-4dee-ac97-65b0bfa40b1d",
   "metadata": {
    "tags": []
   },
   "outputs": [],
   "source": [
    "stemmed_tokens_model = [\" \".join(post) for post in stem_model]"
   ]
  },
  {
   "cell_type": "code",
   "execution_count": 57,
   "id": "91659dcb-d656-45c1-9e8c-f3de11b9395a",
   "metadata": {
    "tags": []
   },
   "outputs": [],
   "source": [
    "# replacing title data to stemmed model\n",
    "subreddits['title'] = stemmed_tokens_model"
   ]
  },
  {
   "cell_type": "code",
   "execution_count": 58,
   "id": "d8290a05-527f-4af9-8a56-f837b4997da2",
   "metadata": {
    "tags": []
   },
   "outputs": [
    {
     "data": {
      "text/html": [
       "<div>\n",
       "<style scoped>\n",
       "    .dataframe tbody tr th:only-of-type {\n",
       "        vertical-align: middle;\n",
       "    }\n",
       "\n",
       "    .dataframe tbody tr th {\n",
       "        vertical-align: top;\n",
       "    }\n",
       "\n",
       "    .dataframe thead th {\n",
       "        text-align: right;\n",
       "    }\n",
       "</style>\n",
       "<table border=\"1\" class=\"dataframe\">\n",
       "  <thead>\n",
       "    <tr style=\"text-align: right;\">\n",
       "      <th></th>\n",
       "      <th>title</th>\n",
       "      <th>subreddit</th>\n",
       "    </tr>\n",
       "  </thead>\n",
       "  <tbody>\n",
       "    <tr>\n",
       "      <th>0</th>\n",
       "      <td>do the mcu movi still have a continu stori</td>\n",
       "      <td>1</td>\n",
       "    </tr>\n",
       "    <tr>\n",
       "      <th>1</th>\n",
       "      <td>stumbl across thi seal box while clean the gar...</td>\n",
       "      <td>1</td>\n",
       "    </tr>\n",
       "    <tr>\n",
       "      <th>2</th>\n",
       "      <td>here s the first part of the roster for my ave...</td>\n",
       "      <td>1</td>\n",
       "    </tr>\n",
       "    <tr>\n",
       "      <th>3</th>\n",
       "      <td>suprem iron man art by ktrew</td>\n",
       "      <td>1</td>\n",
       "    </tr>\n",
       "    <tr>\n",
       "      <th>4</th>\n",
       "      <td>whi tf is he aliv still</td>\n",
       "      <td>1</td>\n",
       "    </tr>\n",
       "    <tr>\n",
       "      <th>5</th>\n",
       "      <td>doe anyon know who the hero on the top left th...</td>\n",
       "      <td>1</td>\n",
       "    </tr>\n",
       "    <tr>\n",
       "      <th>6</th>\n",
       "      <td>doe anyon have ani graphic novel recommend foc...</td>\n",
       "      <td>1</td>\n",
       "    </tr>\n",
       "    <tr>\n",
       "      <th>7</th>\n",
       "      <td>what s your favorit hellfir gala look</td>\n",
       "      <td>1</td>\n",
       "    </tr>\n",
       "    <tr>\n",
       "      <th>8</th>\n",
       "      <td>loki s episod discuss spoiler</td>\n",
       "      <td>1</td>\n",
       "    </tr>\n",
       "    <tr>\n",
       "      <th>9</th>\n",
       "      <td>oc get readi for friday</td>\n",
       "      <td>1</td>\n",
       "    </tr>\n",
       "  </tbody>\n",
       "</table>\n",
       "</div>"
      ],
      "text/plain": [
       "                                               title  subreddit\n",
       "0         do the mcu movi still have a continu stori          1\n",
       "1  stumbl across thi seal box while clean the gar...          1\n",
       "2  here s the first part of the roster for my ave...          1\n",
       "3                       suprem iron man art by ktrew          1\n",
       "4                            whi tf is he aliv still          1\n",
       "5  doe anyon know who the hero on the top left th...          1\n",
       "6  doe anyon have ani graphic novel recommend foc...          1\n",
       "7              what s your favorit hellfir gala look          1\n",
       "8                      loki s episod discuss spoiler          1\n",
       "9                            oc get readi for friday          1"
      ]
     },
     "execution_count": 58,
     "metadata": {},
     "output_type": "execute_result"
    }
   ],
   "source": [
    "subreddits.head(10)"
   ]
  },
  {
   "cell_type": "markdown",
   "id": "31c65f8d-0568-4038-81eb-06a9cf0b37dc",
   "metadata": {},
   "source": [
    "#### Baseline Scoring"
   ]
  },
  {
   "cell_type": "markdown",
   "id": "d8c37e21-fd99-4713-bc5c-874b80cb2ea1",
   "metadata": {},
   "source": [
    "###### create X and y features"
   ]
  },
  {
   "cell_type": "code",
   "execution_count": 59,
   "id": "ed90ac00-3c0f-4465-b57b-e225edcbae49",
   "metadata": {
    "tags": []
   },
   "outputs": [],
   "source": [
    "X = subreddits['title']\n",
    "y = subreddits['subreddit']"
   ]
  },
  {
   "cell_type": "markdown",
   "id": "c1140ecd-8e31-48a4-aba1-9e190eb75e89",
   "metadata": {},
   "source": [
    "###### Train-test Split"
   ]
  },
  {
   "cell_type": "code",
   "execution_count": 60,
   "id": "b56b00c1-b721-4e79-b86e-306689edcc94",
   "metadata": {
    "tags": []
   },
   "outputs": [],
   "source": [
    "X_train, X_test, y_train, y_test = train_test_split(X,y,test_size=0.20,stratify=y,random_state=42)          "
   ]
  },
  {
   "cell_type": "code",
   "execution_count": 61,
   "id": "dc89dc10-5df3-49d6-84b0-9b6015199957",
   "metadata": {
    "tags": []
   },
   "outputs": [
    {
     "data": {
      "text/plain": [
       "1916                                beetl bro it s happen\n",
       "873                                spider man draw i made\n",
       "1420      mytimetoshinehello flash s rogu come to the dcu\n",
       "882     in your opinion who is the most underr marvel ...\n",
       "491                                 wolverin fanart by me\n",
       "Name: title, dtype: object"
      ]
     },
     "execution_count": 61,
     "metadata": {},
     "output_type": "execute_result"
    }
   ],
   "source": [
    "X_train.head()"
   ]
  },
  {
   "cell_type": "code",
   "execution_count": 62,
   "id": "5b338ea0-dddc-434c-aec2-0820d2c08a08",
   "metadata": {
    "tags": []
   },
   "outputs": [
    {
     "data": {
      "text/plain": [
       "1    0.502538\n",
       "0    0.497462\n",
       "Name: subreddit, dtype: float64"
      ]
     },
     "execution_count": 62,
     "metadata": {},
     "output_type": "execute_result"
    }
   ],
   "source": [
    "y_test.value_counts(normalize = True)"
   ]
  },
  {
   "cell_type": "markdown",
   "id": "1fb7e3bc-7b48-4290-babc-fc87ed304083",
   "metadata": {},
   "source": [
    "> The baseline accuracy is about 50/50  "
   ]
  },
  {
   "cell_type": "markdown",
   "id": "1fb49c61-4eeb-4c8c-9afb-f0ffbd7c1def",
   "metadata": {},
   "source": [
    "#### Logistic Regression Model"
   ]
  },
  {
   "cell_type": "code",
   "execution_count": 63,
   "id": "79251f9d-1d2b-47b2-9755-e281928301e5",
   "metadata": {
    "tags": []
   },
   "outputs": [],
   "source": [
    "# Instantiatie Pipeline with TfidfVectorizer() & LogisticRegression()\n",
    "pipe = Pipeline([\n",
    "    ('vectorizer', TfidfVectorizer()), \n",
    "    ('lr', LogisticRegression(solver = 'liblinear', random_state = 42))])"
   ]
  },
  {
   "cell_type": "code",
   "execution_count": 64,
   "id": "a83a221a-44a6-4c79-b6ee-d7926fadc9d2",
   "metadata": {
    "tags": []
   },
   "outputs": [
    {
     "data": {
      "text/plain": [
       "<bound method Pipeline.get_params of Pipeline(steps=[('vectorizer', TfidfVectorizer()),\n",
       "                ('lr',\n",
       "                 LogisticRegression(random_state=42, solver='liblinear'))])>"
      ]
     },
     "execution_count": 64,
     "metadata": {},
     "output_type": "execute_result"
    }
   ],
   "source": [
    "pipe.get_params"
   ]
  },
  {
   "cell_type": "code",
   "execution_count": 65,
   "id": "87baf316-306d-48dc-8820-7a5855c8e26a",
   "metadata": {
    "tags": []
   },
   "outputs": [],
   "source": [
    "#got our parameters \n",
    "pipe_params = {\n",
    "    'vectorizer__max_features': [1000, 2000,], \n",
    "    'vectorizer__ngram_range': [(1,1), (1,2)],\n",
    "    \"vectorizer__norm\":         ['l1', 'l2'], \n",
    "    \"vectorizer__stop_words\":   ['english'],\n",
    "    'lr__penalty':              ['l1', 'l2'],\n",
    "    'lr__C':                    [2.0],\n",
    "    \n",
    "}"
   ]
  },
  {
   "cell_type": "code",
   "execution_count": 66,
   "id": "d68a1d6c-d8a3-45a8-b4d7-eabc2dc95d1d",
   "metadata": {
    "tags": []
   },
   "outputs": [],
   "source": [
    "# Transform to GridSearchCV\n",
    "gs = GridSearchCV(pipe, param_grid = pipe_params,cv = 5)"
   ]
  },
  {
   "cell_type": "code",
   "execution_count": 67,
   "id": "1929b101-0ac2-4d3e-8292-f977adf5a938",
   "metadata": {
    "tags": []
   },
   "outputs": [],
   "source": [
    "# fit model\n",
    "gs.fit(X_train, y_train);"
   ]
  },
  {
   "cell_type": "code",
   "execution_count": 68,
   "id": "03cb94e7-c6e1-45ab-9271-b9cdbb071329",
   "metadata": {
    "tags": []
   },
   "outputs": [
    {
     "data": {
      "text/plain": [
       "0.9021130320493377"
      ]
     },
     "execution_count": 68,
     "metadata": {},
     "output_type": "execute_result"
    }
   ],
   "source": [
    "gs.best_score_"
   ]
  },
  {
   "cell_type": "code",
   "execution_count": 69,
   "id": "fbf799a9-5fdb-42cf-8086-009917564a87",
   "metadata": {
    "tags": []
   },
   "outputs": [
    {
     "data": {
      "text/plain": [
       "{'lr__C': 2.0,\n",
       " 'lr__penalty': 'l2',\n",
       " 'vectorizer__max_features': 1000,\n",
       " 'vectorizer__ngram_range': (1, 1),\n",
       " 'vectorizer__norm': 'l2',\n",
       " 'vectorizer__stop_words': 'english'}"
      ]
     },
     "execution_count": 69,
     "metadata": {},
     "output_type": "execute_result"
    }
   ],
   "source": [
    "gs.best_params_"
   ]
  },
  {
   "cell_type": "code",
   "execution_count": 70,
   "id": "0065ba66-ccae-4a3d-a161-f821840b3f83",
   "metadata": {
    "tags": []
   },
   "outputs": [],
   "source": [
    "#Save best model as gs_model.\n",
    "gs_model = gs.best_estimator_"
   ]
  },
  {
   "cell_type": "code",
   "execution_count": 71,
   "id": "34cf41b0-d9d1-4e4c-a8de-41192724ec44",
   "metadata": {
    "tags": []
   },
   "outputs": [
    {
     "data": {
      "text/plain": [
       "0.9732994278448824"
      ]
     },
     "execution_count": 71,
     "metadata": {},
     "output_type": "execute_result"
    }
   ],
   "source": [
    "# Accuracy training score\n",
    "gs_model.score(X_train, y_train)"
   ]
  },
  {
   "cell_type": "code",
   "execution_count": 72,
   "id": "1113aa83-1805-4d61-9e24-e8b3f86b0404",
   "metadata": {
    "tags": []
   },
   "outputs": [
    {
     "data": {
      "text/plain": [
       "0.934010152284264"
      ]
     },
     "execution_count": 72,
     "metadata": {},
     "output_type": "execute_result"
    }
   ],
   "source": [
    "# Accuracy testing score\n",
    "gs_model.score(X_test, y_test)"
   ]
  },
  {
   "cell_type": "markdown",
   "id": "062aa22a-95b9-43f3-aa5d-fee0393f78b6",
   "metadata": {},
   "source": [
    "> The LogRegression model accuracy score on our testing data set is about 0.934."
   ]
  },
  {
   "cell_type": "markdown",
   "id": "f8804f49-87c6-4a0b-a21c-d4af5ed34699",
   "metadata": {},
   "source": [
    "#### LogRegression: Confusion Matrix"
   ]
  },
  {
   "cell_type": "code",
   "execution_count": 73,
   "id": "b79fede5-0479-4440-a5d9-1350650b98d6",
   "metadata": {
    "tags": []
   },
   "outputs": [],
   "source": [
    "# test predictions\n",
    "preds_test = gs.predict(X_test)"
   ]
  },
  {
   "cell_type": "code",
   "execution_count": 74,
   "id": "87125300-7edc-4883-8973-cd68918fb068",
   "metadata": {
    "tags": []
   },
   "outputs": [],
   "source": [
    "# create matrix\n",
    "cm = confusion_matrix(y_test, preds_test) "
   ]
  },
  {
   "cell_type": "code",
   "execution_count": 75,
   "id": "7d3b7d23-831d-482c-ac69-fc55eebc1892",
   "metadata": {
    "tags": []
   },
   "outputs": [
    {
     "data": {
      "text/html": [
       "<div>\n",
       "<style scoped>\n",
       "    .dataframe tbody tr th:only-of-type {\n",
       "        vertical-align: middle;\n",
       "    }\n",
       "\n",
       "    .dataframe tbody tr th {\n",
       "        vertical-align: top;\n",
       "    }\n",
       "\n",
       "    .dataframe thead th {\n",
       "        text-align: right;\n",
       "    }\n",
       "</style>\n",
       "<table border=\"1\" class=\"dataframe\">\n",
       "  <thead>\n",
       "    <tr style=\"text-align: right;\">\n",
       "      <th></th>\n",
       "      <th>Predicted dc_cinematic</th>\n",
       "      <th>Predicted marvel</th>\n",
       "    </tr>\n",
       "  </thead>\n",
       "  <tbody>\n",
       "    <tr>\n",
       "      <th>Actual dc_cinematic</th>\n",
       "      <td>180</td>\n",
       "      <td>16</td>\n",
       "    </tr>\n",
       "    <tr>\n",
       "      <th>Actual marvel</th>\n",
       "      <td>10</td>\n",
       "      <td>188</td>\n",
       "    </tr>\n",
       "  </tbody>\n",
       "</table>\n",
       "</div>"
      ],
      "text/plain": [
       "                     Predicted dc_cinematic  Predicted marvel\n",
       "Actual dc_cinematic                     180                16\n",
       "Actual marvel                            10               188"
      ]
     },
     "execution_count": 75,
     "metadata": {},
     "output_type": "execute_result"
    }
   ],
   "source": [
    "# Creating a dataframe for our matrix\n",
    "pd.DataFrame(data = cm, \n",
    "             columns = ['Predicted dc_cinematic','Predicted marvel'],\n",
    "             index = ['Actual dc_cinematic','Actual marvel'])"
   ]
  },
  {
   "cell_type": "markdown",
   "id": "7fe17915-d323-4472-9bb9-a9c928f9531c",
   "metadata": {},
   "source": [
    "#### Bernoulli NB Model"
   ]
  },
  {
   "cell_type": "code",
   "execution_count": 76,
   "id": "209e66f7-0e03-4939-8f37-d8a6aea0a85b",
   "metadata": {
    "tags": []
   },
   "outputs": [],
   "source": [
    "# Transformer is TfidfVectorizer\n",
    "tvec = TfidfVectorizer()\n"
   ]
  },
  {
   "cell_type": "code",
   "execution_count": 77,
   "id": "3e770d6b-9ac7-4f1e-acef-8aa50d5a3b7c",
   "metadata": {
    "tags": []
   },
   "outputs": [],
   "source": [
    "#creating bag of words with dataframe \n",
    "data = pd.DataFrame(tvec.fit_transform(X_train).toarray(), \n",
    "                  columns=tvec.get_feature_names_out())"
   ]
  },
  {
   "cell_type": "code",
   "execution_count": 78,
   "id": "d648a4ba-6e31-4f64-bb35-5a257a66d075",
   "metadata": {
    "tags": []
   },
   "outputs": [],
   "source": [
    "# Transformer training and testing feature\n",
    "X_train = tvec.transform(X_train)\n",
    "X_test = tvec.transform(X_test)"
   ]
  },
  {
   "cell_type": "code",
   "execution_count": 79,
   "id": "febb4607-37de-46e5-98e3-afbdc291b364",
   "metadata": {
    "tags": []
   },
   "outputs": [],
   "source": [
    "# Instantiatie the model\n",
    "br = BernoulliNB()"
   ]
  },
  {
   "cell_type": "code",
   "execution_count": 80,
   "id": "ac7039eb-1e56-4b09-9327-9b50e2ec2853",
   "metadata": {
    "tags": []
   },
   "outputs": [],
   "source": [
    "# Fit the model\n",
    "br.fit(X_train, y_train);"
   ]
  },
  {
   "cell_type": "code",
   "execution_count": 81,
   "id": "15ba37ba-46cb-4d14-8e81-015a480c7640",
   "metadata": {
    "tags": []
   },
   "outputs": [
    {
     "data": {
      "text/plain": [
       "0.9574062301335029"
      ]
     },
     "execution_count": 81,
     "metadata": {},
     "output_type": "execute_result"
    }
   ],
   "source": [
    "# Accuracy training score\n",
    "br.score(X_train, y_train)"
   ]
  },
  {
   "cell_type": "code",
   "execution_count": 82,
   "id": "497ad369-07f2-4130-93b2-fab2dcade9de",
   "metadata": {
    "tags": []
   },
   "outputs": [
    {
     "data": {
      "text/plain": [
       "0.9213197969543148"
      ]
     },
     "execution_count": 82,
     "metadata": {},
     "output_type": "execute_result"
    }
   ],
   "source": [
    "# Accuracy testing score\n",
    "br.score(X_test, y_test)"
   ]
  },
  {
   "cell_type": "markdown",
   "id": "49a1a8e6-f3ae-4fe9-a22c-ba2d28d54d9b",
   "metadata": {},
   "source": [
    "> The accuracy score on our testing data set is about 0.921."
   ]
  },
  {
   "cell_type": "markdown",
   "id": "28eefdda-f0a9-4384-94a7-ee0004492863",
   "metadata": {},
   "source": [
    "#### Bernoulli NB: Confusion Matrix"
   ]
  },
  {
   "cell_type": "code",
   "execution_count": 83,
   "id": "58a8e37c-6187-4baf-b0be-87929556b6a0",
   "metadata": {
    "tags": []
   },
   "outputs": [],
   "source": [
    "# test predictions\n",
    "preds_test_1 = br.predict(X_test)"
   ]
  },
  {
   "cell_type": "code",
   "execution_count": 84,
   "id": "37e76a80-a65e-4183-a770-93d14f94bbc8",
   "metadata": {
    "tags": []
   },
   "outputs": [],
   "source": [
    "# Creating our matrix\n",
    "cm_1 = confusion_matrix(y_test, preds_test_1)  "
   ]
  },
  {
   "cell_type": "code",
   "execution_count": 85,
   "id": "20e50e03-5c33-49ab-a1d9-f56451bbe359",
   "metadata": {
    "tags": []
   },
   "outputs": [
    {
     "data": {
      "text/html": [
       "<div>\n",
       "<style scoped>\n",
       "    .dataframe tbody tr th:only-of-type {\n",
       "        vertical-align: middle;\n",
       "    }\n",
       "\n",
       "    .dataframe tbody tr th {\n",
       "        vertical-align: top;\n",
       "    }\n",
       "\n",
       "    .dataframe thead th {\n",
       "        text-align: right;\n",
       "    }\n",
       "</style>\n",
       "<table border=\"1\" class=\"dataframe\">\n",
       "  <thead>\n",
       "    <tr style=\"text-align: right;\">\n",
       "      <th></th>\n",
       "      <th>Predicted dc_cinematic</th>\n",
       "      <th>Predicted marvel</th>\n",
       "    </tr>\n",
       "  </thead>\n",
       "  <tbody>\n",
       "    <tr>\n",
       "      <th>Actual dc_cinematic</th>\n",
       "      <td>174</td>\n",
       "      <td>22</td>\n",
       "    </tr>\n",
       "    <tr>\n",
       "      <th>Actual marvel</th>\n",
       "      <td>9</td>\n",
       "      <td>189</td>\n",
       "    </tr>\n",
       "  </tbody>\n",
       "</table>\n",
       "</div>"
      ],
      "text/plain": [
       "                     Predicted dc_cinematic  Predicted marvel\n",
       "Actual dc_cinematic                     174                22\n",
       "Actual marvel                             9               189"
      ]
     },
     "execution_count": 85,
     "metadata": {},
     "output_type": "execute_result"
    }
   ],
   "source": [
    "# Creating a dataframe for our matrix\n",
    "pd.DataFrame(data = cm_1, \n",
    "             columns = ['Predicted dc_cinematic','Predicted marvel'],\n",
    "             index = ['Actual dc_cinematic','Actual marvel'])"
   ]
  },
  {
   "cell_type": "markdown",
   "id": "0554387b-76c2-4704-ac1e-300632603933",
   "metadata": {},
   "source": [
    "#### Bagged Decision Tree"
   ]
  },
  {
   "cell_type": "code",
   "execution_count": 86,
   "id": "53aaf178-d8e4-4d92-9740-6af1804254e0",
   "metadata": {
    "tags": []
   },
   "outputs": [],
   "source": [
    "# Instantiate BaggingClassifier\n",
    "bag = BaggingClassifier(random_state = 42)"
   ]
  },
  {
   "cell_type": "code",
   "execution_count": 87,
   "id": "0c6e57e7-ba19-45f6-b65c-fb88c4e3b2f2",
   "metadata": {
    "tags": []
   },
   "outputs": [],
   "source": [
    "# Fit the model\n",
    "bag.fit(X_train, y_train);"
   ]
  },
  {
   "cell_type": "code",
   "execution_count": 88,
   "id": "545b58b3-9d2a-4c40-ae01-f5e7265189fb",
   "metadata": {
    "tags": []
   },
   "outputs": [
    {
     "data": {
      "text/plain": [
       "0.9936427209154481"
      ]
     },
     "execution_count": 88,
     "metadata": {},
     "output_type": "execute_result"
    }
   ],
   "source": [
    "# Accuracy training score\n",
    "bag.score(X_train, y_train)"
   ]
  },
  {
   "cell_type": "code",
   "execution_count": 89,
   "id": "6215c999-06e0-422a-bfd9-398bbd1bb4fa",
   "metadata": {
    "tags": []
   },
   "outputs": [
    {
     "data": {
      "text/plain": [
       "0.8934010152284264"
      ]
     },
     "execution_count": 89,
     "metadata": {},
     "output_type": "execute_result"
    }
   ],
   "source": [
    "# Accuracy testing score\n",
    "bag.score(X_test, y_test)"
   ]
  },
  {
   "cell_type": "markdown",
   "id": "c1103898-64b0-4399-b342-039783c515aa",
   "metadata": {},
   "source": [
    "> The accuracy score on our testing data set is about 0.893."
   ]
  },
  {
   "cell_type": "markdown",
   "id": "2de395ad-f70c-43cc-83ce-4db17e55c2f2",
   "metadata": {},
   "source": [
    "#### BDT: Confusion Matrix"
   ]
  },
  {
   "cell_type": "code",
   "execution_count": 94,
   "id": "65c68344-884e-47ea-b223-22e1a29d238b",
   "metadata": {
    "tags": []
   },
   "outputs": [],
   "source": [
    "# test predictions\n",
    "preds_test_2 = br.predict(X_test)"
   ]
  },
  {
   "cell_type": "code",
   "execution_count": 95,
   "id": "aa8d84f9-e9c7-4cc6-af37-39209cede036",
   "metadata": {
    "tags": []
   },
   "outputs": [],
   "source": [
    "# Creating our matrix\n",
    "cm_2 = confusion_matrix(y_test, preds_test_1) "
   ]
  },
  {
   "cell_type": "code",
   "execution_count": 96,
   "id": "38dbcfaa-fb3d-4c89-895b-299f7ed67ed1",
   "metadata": {
    "tags": []
   },
   "outputs": [
    {
     "data": {
      "text/html": [
       "<div>\n",
       "<style scoped>\n",
       "    .dataframe tbody tr th:only-of-type {\n",
       "        vertical-align: middle;\n",
       "    }\n",
       "\n",
       "    .dataframe tbody tr th {\n",
       "        vertical-align: top;\n",
       "    }\n",
       "\n",
       "    .dataframe thead th {\n",
       "        text-align: right;\n",
       "    }\n",
       "</style>\n",
       "<table border=\"1\" class=\"dataframe\">\n",
       "  <thead>\n",
       "    <tr style=\"text-align: right;\">\n",
       "      <th></th>\n",
       "      <th>Predicted dc_cinematic</th>\n",
       "      <th>Predicted marvel</th>\n",
       "    </tr>\n",
       "  </thead>\n",
       "  <tbody>\n",
       "    <tr>\n",
       "      <th>Actual dc_cinematic</th>\n",
       "      <td>174</td>\n",
       "      <td>22</td>\n",
       "    </tr>\n",
       "    <tr>\n",
       "      <th>Actual marvel</th>\n",
       "      <td>9</td>\n",
       "      <td>189</td>\n",
       "    </tr>\n",
       "  </tbody>\n",
       "</table>\n",
       "</div>"
      ],
      "text/plain": [
       "                     Predicted dc_cinematic  Predicted marvel\n",
       "Actual dc_cinematic                     174                22\n",
       "Actual marvel                             9               189"
      ]
     },
     "execution_count": 96,
     "metadata": {},
     "output_type": "execute_result"
    }
   ],
   "source": [
    "# Creating a dataframe for our matrix\n",
    "pd.DataFrame(data = cm_2, \n",
    "             columns = ['Predicted dc_cinematic','Predicted marvel'],\n",
    "             index = ['Actual dc_cinematic','Actual marvel'])"
   ]
  },
  {
   "cell_type": "markdown",
   "id": "bd037627-f46a-41aa-b8b7-f4452269fd1f",
   "metadata": {},
   "source": [
    "#### Random Forest Model"
   ]
  },
  {
   "cell_type": "code",
   "execution_count": 97,
   "id": "c250cc55-4b4d-4d61-9581-2f639f9be9ab",
   "metadata": {
    "tags": []
   },
   "outputs": [],
   "source": [
    "# Instantiatie RandomForestClassifier\n",
    "rf = RandomForestClassifier(random_state = 42)"
   ]
  },
  {
   "cell_type": "code",
   "execution_count": 98,
   "id": "40ebcbb9-e1c1-4f5a-85c2-e8d9a1f4a5d4",
   "metadata": {
    "tags": []
   },
   "outputs": [],
   "source": [
    "#parameters \n",
    "rf_params = {\n",
    "    'n_estimators': [110, 150],\n",
    "    'max_depth': [None, 4, 6],\n",
    "    'criterion': ['gini']\n",
    "}"
   ]
  },
  {
   "cell_type": "code",
   "execution_count": 99,
   "id": "68b84625-607e-4c58-9411-e30cb4c4e26c",
   "metadata": {
    "tags": []
   },
   "outputs": [],
   "source": [
    "# Transform to GridSearchCV\n",
    "gs_2 = GridSearchCV(rf, param_grid=rf_params, cv=5)"
   ]
  },
  {
   "cell_type": "code",
   "execution_count": 100,
   "id": "a776632b-2bfb-4e0a-8138-044b7b9df201",
   "metadata": {
    "tags": []
   },
   "outputs": [],
   "source": [
    "# Fit the model\n",
    "gs_2.fit(X_train, y_train);"
   ]
  },
  {
   "cell_type": "code",
   "execution_count": 101,
   "id": "f107f105-78f9-40cb-812e-123873be2350",
   "metadata": {
    "tags": []
   },
   "outputs": [
    {
     "data": {
      "text/plain": [
       "{'criterion': 'gini', 'max_depth': None, 'n_estimators': 150}"
      ]
     },
     "execution_count": 101,
     "metadata": {},
     "output_type": "execute_result"
    }
   ],
   "source": [
    "gs_2.best_params_"
   ]
  },
  {
   "cell_type": "code",
   "execution_count": 102,
   "id": "9ff744fe-647a-4560-a7dd-5818ce2493b9",
   "metadata": {
    "tags": []
   },
   "outputs": [],
   "source": [
    "# Save best model as gs_model.\n",
    "gs_model_2 = gs_2.best_estimator_"
   ]
  },
  {
   "cell_type": "code",
   "execution_count": 103,
   "id": "871c6139-6ddf-46a6-af72-8d9a0ef9a8aa",
   "metadata": {
    "tags": []
   },
   "outputs": [
    {
     "data": {
      "text/plain": [
       "1.0"
      ]
     },
     "execution_count": 103,
     "metadata": {},
     "output_type": "execute_result"
    }
   ],
   "source": [
    "# Accuracy training score\n",
    "gs_model_2.score(X_train, y_train)"
   ]
  },
  {
   "cell_type": "code",
   "execution_count": 104,
   "id": "cc547ac5-3f44-4770-8c48-04cf830e1002",
   "metadata": {
    "tags": []
   },
   "outputs": [
    {
     "data": {
      "text/plain": [
       "0.8908629441624365"
      ]
     },
     "execution_count": 104,
     "metadata": {},
     "output_type": "execute_result"
    }
   ],
   "source": [
    "# Accuracy testing score\n",
    "gs_model_2.score(X_test, y_test)"
   ]
  },
  {
   "cell_type": "markdown",
   "id": "97d49f90-2b7a-4977-9009-ff6e51d8914b",
   "metadata": {},
   "source": [
    "> The accuracy score on our testing data set is about 0.891."
   ]
  },
  {
   "cell_type": "markdown",
   "id": "d3547624-3ffb-4019-860e-e7ed00ac0037",
   "metadata": {},
   "source": [
    "#### RFM: Confusion Matrix"
   ]
  },
  {
   "cell_type": "code",
   "execution_count": 105,
   "id": "caf5b163-432b-4cd0-ba73-34ab6e10209e",
   "metadata": {
    "tags": []
   },
   "outputs": [],
   "source": [
    "#test prediction\n",
    "preds_test_3 = gs_2.predict(X_test)"
   ]
  },
  {
   "cell_type": "code",
   "execution_count": 106,
   "id": "06ada593-ccbc-4e9f-8e26-dc91731f96a1",
   "metadata": {
    "tags": []
   },
   "outputs": [],
   "source": [
    "# Creating our matrix\n",
    "cm_3 = confusion_matrix(y_test, preds_test_3) "
   ]
  },
  {
   "cell_type": "code",
   "execution_count": 107,
   "id": "9ab67ad4-0a07-45d1-a47c-7f968c0654be",
   "metadata": {
    "tags": []
   },
   "outputs": [
    {
     "data": {
      "text/html": [
       "<div>\n",
       "<style scoped>\n",
       "    .dataframe tbody tr th:only-of-type {\n",
       "        vertical-align: middle;\n",
       "    }\n",
       "\n",
       "    .dataframe tbody tr th {\n",
       "        vertical-align: top;\n",
       "    }\n",
       "\n",
       "    .dataframe thead th {\n",
       "        text-align: right;\n",
       "    }\n",
       "</style>\n",
       "<table border=\"1\" class=\"dataframe\">\n",
       "  <thead>\n",
       "    <tr style=\"text-align: right;\">\n",
       "      <th></th>\n",
       "      <th>Predicted Books</th>\n",
       "      <th>Predicted Moives</th>\n",
       "    </tr>\n",
       "  </thead>\n",
       "  <tbody>\n",
       "    <tr>\n",
       "      <th>Actual Books</th>\n",
       "      <td>170</td>\n",
       "      <td>26</td>\n",
       "    </tr>\n",
       "    <tr>\n",
       "      <th>Actual Movies</th>\n",
       "      <td>17</td>\n",
       "      <td>181</td>\n",
       "    </tr>\n",
       "  </tbody>\n",
       "</table>\n",
       "</div>"
      ],
      "text/plain": [
       "               Predicted Books  Predicted Moives\n",
       "Actual Books               170                26\n",
       "Actual Movies               17               181"
      ]
     },
     "execution_count": 107,
     "metadata": {},
     "output_type": "execute_result"
    }
   ],
   "source": [
    "#create a data frame for matrix\n",
    "pd.DataFrame(data = cm_3, \n",
    "             columns = ['Predicted Books', 'Predicted Moives'],\n",
    "             index = ['Actual Books', 'Actual Movies'])"
   ]
  },
  {
   "cell_type": "code",
   "execution_count": null,
   "id": "e1a0a75a-2b5b-4b71-b9a5-17f8457245c1",
   "metadata": {},
   "outputs": [],
   "source": []
  }
 ],
 "metadata": {
  "kernelspec": {
   "display_name": "Python 3 (ipykernel)",
   "language": "python",
   "name": "python3"
  },
  "language_info": {
   "codemirror_mode": {
    "name": "ipython",
    "version": 3
   },
   "file_extension": ".py",
   "mimetype": "text/x-python",
   "name": "python",
   "nbconvert_exporter": "python",
   "pygments_lexer": "ipython3",
   "version": "3.11.4"
  }
 },
 "nbformat": 4,
 "nbformat_minor": 5
}
