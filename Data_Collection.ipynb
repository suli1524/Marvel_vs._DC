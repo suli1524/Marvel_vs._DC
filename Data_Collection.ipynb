{
 "cells": [
  {
   "cell_type": "markdown",
   "id": "bc426077-0da2-49af-8e9f-e7a27ebaadd9",
   "metadata": {},
   "source": [
    "# **1. Install PRAW**"
   ]
  },
  {
   "cell_type": "code",
   "execution_count": 1,
   "id": "6a3e56be-a4bf-43d4-8c57-7f9954b44b46",
   "metadata": {
    "tags": []
   },
   "outputs": [],
   "source": [
    "#!pip install praw\n",
    "import praw\n"
   ]
  },
  {
   "cell_type": "markdown",
   "id": "78ecd0ed-d601-4b45-b545-639d4a1e7b49",
   "metadata": {},
   "source": [
    "# **2. Create a Reddit App**"
   ]
  },
  {
   "cell_type": "markdown",
   "id": "da49f3cc-1cec-4917-90f4-7b639d7a145a",
   "metadata": {},
   "source": [
    "To access the Reddit API, you'll need to create an application on Reddit and obtain your API credentials. Follow these steps:\n",
    "\n",
    "- Go to the Reddit website (https://www.reddit.com/) and log in to your account. Feel free to create a throwaway account for this project!\n",
    "- Navigate to the Reddit Apps page (https://www.reddit.com/prefs/apps).\n",
    "- Click the \"are you a developer? create an app...\" button in the top left.\n",
    "- Provide a name for your app (e.g., \"PRAW\"), select the app type ('script') , and optionally add a description. Use http://localhost:8080 as your redirect URI.\n",
    "- After submitting the form, you will reach a page that looks like the following image. You'll see your application's details, including the client ID and client secret. Keep these credentials handy for the next step.\n"
   ]
  },
  {
   "cell_type": "markdown",
   "id": "b3997780-adc4-4ee2-91e3-6a296587cdf8",
   "metadata": {},
   "source": [
    "![Praw](https://www.honchosearch.com/hubfs/Imported_Blog_Media/Client-ID-Client-Secret.png)"
   ]
  },
  {
   "cell_type": "markdown",
   "id": "2b71b52e-05db-4a47-8c8c-ec8f4fd9c283",
   "metadata": {},
   "source": [
    "# **3. Initialize PRAW**"
   ]
  },
  {
   "cell_type": "code",
   "execution_count": 2,
   "id": "103d7151-cf2e-47cb-82c2-578faa763888",
   "metadata": {
    "tags": []
   },
   "outputs": [],
   "source": [
    "reddit = praw.Reddit(\n",
    "    client_id='jjMYUBu4dyHMdpIYkCrsOQ',\n",
    "    client_secret='Sj3IYg7ZTOaM0XthXLfBIPq6AgfAqw',\n",
    "    user_agent='project_3',\n",
    "    username='suli1524',\n",
    "    password='Suli.1524'\n",
    ")"
   ]
  },
  {
   "cell_type": "markdown",
   "id": "204db51a-ee1d-4180-839b-67bdecea4fe5",
   "metadata": {},
   "source": [
    "Replace 'YOUR_CLIENT_ID', 'YOUR_CLIENT_SECRET', 'YOUR_USER_AGENT', 'YOUR_REDDIT_USERNAME', and 'YOUR_REDDIT_PASSWORD' with your actual Reddit API credentials."
   ]
  },
  {
   "cell_type": "markdown",
   "id": "95b298a6-1aa9-4690-8447-6f717c24e9cc",
   "metadata": {},
   "source": [
    "Your user agent is an identifier used by reddit to identify the source of requests. You can make it whatever you want, but you'll want to choose something descriptive and unique, and it's recommended that your username is included."
   ]
  },
  {
   "cell_type": "markdown",
   "id": "d9006de6-d5ce-4537-a9c7-ca5bdd4ee630",
   "metadata": {},
   "source": [
    "**I have removed my own credentials from this workbook. We can show you how to hide your credentials before submitting the project! The following code will need your own credentials in order to successfully work.**"
   ]
  },
  {
   "cell_type": "code",
   "execution_count": 3,
   "id": "17aa261b-f63a-4437-ac41-242982cb546c",
   "metadata": {
    "tags": []
   },
   "outputs": [],
   "source": [
    "# Below is JUST an example of how you can use PRAW\n",
    "\n",
    "# Choose your subreddit\n",
    "subreddit = reddit.subreddit('marvel')\n",
    "\n",
    "# Adjust the limit as needed -- Note that this will grab the 25 most recent posts\n",
    "posts = subreddit.new(limit=1000)"
   ]
  },
  {
   "cell_type": "code",
   "execution_count": 4,
   "id": "ac502106-0439-458b-9216-f041f9d71869",
   "metadata": {
    "tags": []
   },
   "outputs": [],
   "source": [
    " #Below is JUST an example of how you can use PRAW\n",
    "\n",
    "# Choose your subreddit\n",
    "subreddit_1 = reddit.subreddit('DC_Cinematic')\n",
    "\n",
    "# Adjust the limit as needed -- Note that this will grab the 25 most recent posts\n",
    "posts_1 = subreddit_1.new(limit=1000)"
   ]
  },
  {
   "cell_type": "code",
   "execution_count": 5,
   "id": "a1b221e2-244d-42dc-9c89-1d04134fc7d2",
   "metadata": {
    "tags": []
   },
   "outputs": [
    {
     "data": {
      "text/html": [
       "<div>\n",
       "<style scoped>\n",
       "    .dataframe tbody tr th:only-of-type {\n",
       "        vertical-align: middle;\n",
       "    }\n",
       "\n",
       "    .dataframe tbody tr th {\n",
       "        vertical-align: top;\n",
       "    }\n",
       "\n",
       "    .dataframe thead th {\n",
       "        text-align: right;\n",
       "    }\n",
       "</style>\n",
       "<table border=\"1\" class=\"dataframe\">\n",
       "  <thead>\n",
       "    <tr style=\"text-align: right;\">\n",
       "      <th></th>\n",
       "      <th>created_utc</th>\n",
       "      <th>title</th>\n",
       "      <th>self_text</th>\n",
       "      <th>subreddit</th>\n",
       "    </tr>\n",
       "  </thead>\n",
       "  <tbody>\n",
       "    <tr>\n",
       "      <th>0</th>\n",
       "      <td>1.697693e+09</td>\n",
       "      <td>Do the MCU movies still have a continuous story?</td>\n",
       "      <td>I watched all of the movies up to Endgame and ...</td>\n",
       "      <td>Marvel</td>\n",
       "    </tr>\n",
       "    <tr>\n",
       "      <th>1</th>\n",
       "      <td>1.697693e+09</td>\n",
       "      <td>Stumbled across this sealed box while cleaning...</td>\n",
       "      <td></td>\n",
       "      <td>Marvel</td>\n",
       "    </tr>\n",
       "    <tr>\n",
       "      <th>2</th>\n",
       "      <td>1.697692e+09</td>\n",
       "      <td>Here's the first part of the roster for my Ave...</td>\n",
       "      <td></td>\n",
       "      <td>Marvel</td>\n",
       "    </tr>\n",
       "    <tr>\n",
       "      <th>3</th>\n",
       "      <td>1.697691e+09</td>\n",
       "      <td>Supreme Iron man / art by ktrew</td>\n",
       "      <td></td>\n",
       "      <td>Marvel</td>\n",
       "    </tr>\n",
       "    <tr>\n",
       "      <th>4</th>\n",
       "      <td>1.697688e+09</td>\n",
       "      <td>Why tf is he alive still?</td>\n",
       "      <td>Just saw the marvels trailer pop up on TV. Has...</td>\n",
       "      <td>Marvel</td>\n",
       "    </tr>\n",
       "    <tr>\n",
       "      <th>...</th>\n",
       "      <td>...</td>\n",
       "      <td>...</td>\n",
       "      <td>...</td>\n",
       "      <td>...</td>\n",
       "    </tr>\n",
       "    <tr>\n",
       "      <th>985</th>\n",
       "      <td>1.695995e+09</td>\n",
       "      <td>Wolverine's over clocked healing factor</td>\n",
       "      <td>A lot of time for the idea of healing factor s...</td>\n",
       "      <td>Marvel</td>\n",
       "    </tr>\n",
       "    <tr>\n",
       "      <th>986</th>\n",
       "      <td>1.695991e+09</td>\n",
       "      <td>Bow that Ultimate invasion has ended, how we f...</td>\n",
       "      <td>This probably one of my favorite looks for Doo...</td>\n",
       "      <td>Marvel</td>\n",
       "    </tr>\n",
       "    <tr>\n",
       "      <th>987</th>\n",
       "      <td>1.695950e+09</td>\n",
       "      <td>Can anyone help me find this ironman comic bar...</td>\n",
       "      <td>As the title suggests, i remember long ago rea...</td>\n",
       "      <td>Marvel</td>\n",
       "    </tr>\n",
       "    <tr>\n",
       "      <th>988</th>\n",
       "      <td>1.695988e+09</td>\n",
       "      <td>Bendis X-Men, thoughts and questions</td>\n",
       "      <td>Just finished the Bendis books and I have mixe...</td>\n",
       "      <td>Marvel</td>\n",
       "    </tr>\n",
       "    <tr>\n",
       "      <th>989</th>\n",
       "      <td>1.695988e+09</td>\n",
       "      <td>Inspiration for superhero-themed artwork?</td>\n",
       "      <td>\\n\\nI'm a huge Marvel fan and I've been looki...</td>\n",
       "      <td>Marvel</td>\n",
       "    </tr>\n",
       "  </tbody>\n",
       "</table>\n",
       "<p>990 rows × 4 columns</p>\n",
       "</div>"
      ],
      "text/plain": [
       "      created_utc                                              title  \\\n",
       "0    1.697693e+09   Do the MCU movies still have a continuous story?   \n",
       "1    1.697693e+09  Stumbled across this sealed box while cleaning...   \n",
       "2    1.697692e+09  Here's the first part of the roster for my Ave...   \n",
       "3    1.697691e+09                    Supreme Iron man / art by ktrew   \n",
       "4    1.697688e+09                          Why tf is he alive still?   \n",
       "..            ...                                                ...   \n",
       "985  1.695995e+09            Wolverine's over clocked healing factor   \n",
       "986  1.695991e+09  Bow that Ultimate invasion has ended, how we f...   \n",
       "987  1.695950e+09  Can anyone help me find this ironman comic bar...   \n",
       "988  1.695988e+09               Bendis X-Men, thoughts and questions   \n",
       "989  1.695988e+09          Inspiration for superhero-themed artwork?   \n",
       "\n",
       "                                             self_text subreddit  \n",
       "0    I watched all of the movies up to Endgame and ...    Marvel  \n",
       "1                                                         Marvel  \n",
       "2                                                         Marvel  \n",
       "3                                                         Marvel  \n",
       "4    Just saw the marvels trailer pop up on TV. Has...    Marvel  \n",
       "..                                                 ...       ...  \n",
       "985  A lot of time for the idea of healing factor s...    Marvel  \n",
       "986  This probably one of my favorite looks for Doo...    Marvel  \n",
       "987  As the title suggests, i remember long ago rea...    Marvel  \n",
       "988  Just finished the Bendis books and I have mixe...    Marvel  \n",
       "989   \\n\\nI'm a huge Marvel fan and I've been looki...    Marvel  \n",
       "\n",
       "[990 rows x 4 columns]"
      ]
     },
     "execution_count": 5,
     "metadata": {},
     "output_type": "execute_result"
    }
   ],
   "source": [
    "import pandas as pd\n",
    "\n",
    "data = []\n",
    "for post in posts:\n",
    "    data.append([post.created_utc, post.title, post.selftext, post.subreddit])\n",
    "\n",
    "# Turn into a dataframe\n",
    "marvel = pd.DataFrame(data, columns = ['created_utc', 'title', 'self_text', 'subreddit'])\n",
    "marvel"
   ]
  },
  {
   "cell_type": "code",
   "execution_count": 6,
   "id": "eb1100ac-4c73-4359-becc-52f33a71c59e",
   "metadata": {
    "tags": []
   },
   "outputs": [
    {
     "data": {
      "text/html": [
       "<div>\n",
       "<style scoped>\n",
       "    .dataframe tbody tr th:only-of-type {\n",
       "        vertical-align: middle;\n",
       "    }\n",
       "\n",
       "    .dataframe tbody tr th {\n",
       "        vertical-align: top;\n",
       "    }\n",
       "\n",
       "    .dataframe thead th {\n",
       "        text-align: right;\n",
       "    }\n",
       "</style>\n",
       "<table border=\"1\" class=\"dataframe\">\n",
       "  <thead>\n",
       "    <tr style=\"text-align: right;\">\n",
       "      <th></th>\n",
       "      <th>created_utc</th>\n",
       "      <th>title</th>\n",
       "      <th>self_text</th>\n",
       "      <th>subreddit</th>\n",
       "    </tr>\n",
       "  </thead>\n",
       "  <tbody>\n",
       "    <tr>\n",
       "      <th>0</th>\n",
       "      <td>1.697693e+09</td>\n",
       "      <td>Early idea for The Flash helmet. Art by Ed Nat...</td>\n",
       "      <td></td>\n",
       "      <td>DC_Cinematic</td>\n",
       "    </tr>\n",
       "    <tr>\n",
       "      <th>1</th>\n",
       "      <td>1.697690e+09</td>\n",
       "      <td>McFarlane Toys DC Multiverse Batman &amp; Robin wa...</td>\n",
       "      <td></td>\n",
       "      <td>DC_Cinematic</td>\n",
       "    </tr>\n",
       "    <tr>\n",
       "      <th>2</th>\n",
       "      <td>1.697684e+09</td>\n",
       "      <td>What style of suit should Corenswet have in Su...</td>\n",
       "      <td></td>\n",
       "      <td>DC_Cinematic</td>\n",
       "    </tr>\n",
       "    <tr>\n",
       "      <th>3</th>\n",
       "      <td>1.697678e+09</td>\n",
       "      <td>After the Crisis scene, and the events of the ...</td>\n",
       "      <td>How do you think a team up would play out, esp...</td>\n",
       "      <td>DC_Cinematic</td>\n",
       "    </tr>\n",
       "    <tr>\n",
       "      <th>4</th>\n",
       "      <td>1.697677e+09</td>\n",
       "      <td>Remember when Batman didn’t kill Two-face? Gra...</td>\n",
       "      <td></td>\n",
       "      <td>DC_Cinematic</td>\n",
       "    </tr>\n",
       "    <tr>\n",
       "      <th>...</th>\n",
       "      <td>...</td>\n",
       "      <td>...</td>\n",
       "      <td>...</td>\n",
       "      <td>...</td>\n",
       "    </tr>\n",
       "    <tr>\n",
       "      <th>972</th>\n",
       "      <td>1.692041e+09</td>\n",
       "      <td>Seinfeld’s Got An Interesting Theory</td>\n",
       "      <td>Wonder if Gunn had the same thought</td>\n",
       "      <td>DC_Cinematic</td>\n",
       "    </tr>\n",
       "    <tr>\n",
       "      <th>973</th>\n",
       "      <td>1.692041e+09</td>\n",
       "      <td>If Gal Gadot does not return as Diana for the ...</td>\n",
       "      <td></td>\n",
       "      <td>DC_Cinematic</td>\n",
       "    </tr>\n",
       "    <tr>\n",
       "      <th>974</th>\n",
       "      <td>1.692047e+09</td>\n",
       "      <td>Anyone else afraid James Gunn is going to turn...</td>\n",
       "      <td>I loved The Suicide Squad but honestly I wish ...</td>\n",
       "      <td>DC_Cinematic</td>\n",
       "    </tr>\n",
       "    <tr>\n",
       "      <th>975</th>\n",
       "      <td>1.692054e+09</td>\n",
       "      <td>May the Waller series deal with a timeline alt...</td>\n",
       "      <td>Like many of us, I’ve been thinking about how ...</td>\n",
       "      <td>DC_Cinematic</td>\n",
       "    </tr>\n",
       "    <tr>\n",
       "      <th>976</th>\n",
       "      <td>1.692057e+09</td>\n",
       "      <td>Blue Beetle Director Interview: Angel Manuel S...</td>\n",
       "      <td></td>\n",
       "      <td>DC_Cinematic</td>\n",
       "    </tr>\n",
       "  </tbody>\n",
       "</table>\n",
       "<p>977 rows × 4 columns</p>\n",
       "</div>"
      ],
      "text/plain": [
       "      created_utc                                              title  \\\n",
       "0    1.697693e+09  Early idea for The Flash helmet. Art by Ed Nat...   \n",
       "1    1.697690e+09  McFarlane Toys DC Multiverse Batman & Robin wa...   \n",
       "2    1.697684e+09  What style of suit should Corenswet have in Su...   \n",
       "3    1.697678e+09  After the Crisis scene, and the events of the ...   \n",
       "4    1.697677e+09  Remember when Batman didn’t kill Two-face? Gra...   \n",
       "..            ...                                                ...   \n",
       "972  1.692041e+09               Seinfeld’s Got An Interesting Theory   \n",
       "973  1.692041e+09  If Gal Gadot does not return as Diana for the ...   \n",
       "974  1.692047e+09  Anyone else afraid James Gunn is going to turn...   \n",
       "975  1.692054e+09  May the Waller series deal with a timeline alt...   \n",
       "976  1.692057e+09  Blue Beetle Director Interview: Angel Manuel S...   \n",
       "\n",
       "                                             self_text     subreddit  \n",
       "0                                                       DC_Cinematic  \n",
       "1                                                       DC_Cinematic  \n",
       "2                                                       DC_Cinematic  \n",
       "3    How do you think a team up would play out, esp...  DC_Cinematic  \n",
       "4                                                       DC_Cinematic  \n",
       "..                                                 ...           ...  \n",
       "972                Wonder if Gunn had the same thought  DC_Cinematic  \n",
       "973                                                     DC_Cinematic  \n",
       "974  I loved The Suicide Squad but honestly I wish ...  DC_Cinematic  \n",
       "975  Like many of us, I’ve been thinking about how ...  DC_Cinematic  \n",
       "976                                                     DC_Cinematic  \n",
       "\n",
       "[977 rows x 4 columns]"
      ]
     },
     "execution_count": 6,
     "metadata": {},
     "output_type": "execute_result"
    }
   ],
   "source": [
    "\n",
    "data = []\n",
    "for post in posts_1:\n",
    "    data.append([post.created_utc, post.title, post.selftext, post.subreddit])\n",
    "\n",
    "# Turn into a dataframe\n",
    "dc_cinematic = pd.DataFrame(data, columns = ['created_utc', 'title', 'self_text', 'subreddit'])\n",
    "dc_cinematic"
   ]
  },
  {
   "cell_type": "code",
   "execution_count": 7,
   "id": "36c5c1a9-de1d-48a6-9dc8-f21c2c15eeaf",
   "metadata": {
    "tags": []
   },
   "outputs": [
    {
     "name": "stdout",
     "output_type": "stream",
     "text": [
      "<class 'pandas.core.frame.DataFrame'>\n",
      "RangeIndex: 990 entries, 0 to 989\n",
      "Data columns (total 4 columns):\n",
      " #   Column       Non-Null Count  Dtype  \n",
      "---  ------       --------------  -----  \n",
      " 0   created_utc  990 non-null    float64\n",
      " 1   title        990 non-null    object \n",
      " 2   self_text    990 non-null    object \n",
      " 3   subreddit    990 non-null    object \n",
      "dtypes: float64(1), object(3)\n",
      "memory usage: 31.1+ KB\n"
     ]
    }
   ],
   "source": [
    "marvel.info()"
   ]
  },
  {
   "cell_type": "code",
   "execution_count": 8,
   "id": "375b445d-ed84-48c5-a302-98ce450f7b85",
   "metadata": {
    "tags": []
   },
   "outputs": [
    {
     "name": "stdout",
     "output_type": "stream",
     "text": [
      "<class 'pandas.core.frame.DataFrame'>\n",
      "RangeIndex: 977 entries, 0 to 976\n",
      "Data columns (total 4 columns):\n",
      " #   Column       Non-Null Count  Dtype  \n",
      "---  ------       --------------  -----  \n",
      " 0   created_utc  977 non-null    float64\n",
      " 1   title        977 non-null    object \n",
      " 2   self_text    977 non-null    object \n",
      " 3   subreddit    977 non-null    object \n",
      "dtypes: float64(1), object(3)\n",
      "memory usage: 30.7+ KB\n"
     ]
    }
   ],
   "source": [
    "dc_cinematic.info()"
   ]
  },
  {
   "cell_type": "code",
   "execution_count": 9,
   "id": "d28f5587-4c49-4156-a785-bea0698756a5",
   "metadata": {
    "tags": []
   },
   "outputs": [
    {
     "data": {
      "text/html": [
       "<div>\n",
       "<style scoped>\n",
       "    .dataframe tbody tr th:only-of-type {\n",
       "        vertical-align: middle;\n",
       "    }\n",
       "\n",
       "    .dataframe tbody tr th {\n",
       "        vertical-align: top;\n",
       "    }\n",
       "\n",
       "    .dataframe thead th {\n",
       "        text-align: right;\n",
       "    }\n",
       "</style>\n",
       "<table border=\"1\" class=\"dataframe\">\n",
       "  <thead>\n",
       "    <tr style=\"text-align: right;\">\n",
       "      <th></th>\n",
       "      <th>created_utc</th>\n",
       "      <th>title</th>\n",
       "      <th>self_text</th>\n",
       "      <th>subreddit</th>\n",
       "    </tr>\n",
       "  </thead>\n",
       "  <tbody>\n",
       "    <tr>\n",
       "      <th>0</th>\n",
       "      <td>1.697693e+09</td>\n",
       "      <td>Do the MCU movies still have a continuous story?</td>\n",
       "      <td>I watched all of the movies up to Endgame and ...</td>\n",
       "      <td>Marvel</td>\n",
       "    </tr>\n",
       "    <tr>\n",
       "      <th>1</th>\n",
       "      <td>1.697693e+09</td>\n",
       "      <td>Stumbled across this sealed box while cleaning...</td>\n",
       "      <td></td>\n",
       "      <td>Marvel</td>\n",
       "    </tr>\n",
       "    <tr>\n",
       "      <th>2</th>\n",
       "      <td>1.697692e+09</td>\n",
       "      <td>Here's the first part of the roster for my Ave...</td>\n",
       "      <td></td>\n",
       "      <td>Marvel</td>\n",
       "    </tr>\n",
       "    <tr>\n",
       "      <th>3</th>\n",
       "      <td>1.697691e+09</td>\n",
       "      <td>Supreme Iron man / art by ktrew</td>\n",
       "      <td></td>\n",
       "      <td>Marvel</td>\n",
       "    </tr>\n",
       "    <tr>\n",
       "      <th>4</th>\n",
       "      <td>1.697688e+09</td>\n",
       "      <td>Why tf is he alive still?</td>\n",
       "      <td>Just saw the marvels trailer pop up on TV. Has...</td>\n",
       "      <td>Marvel</td>\n",
       "    </tr>\n",
       "  </tbody>\n",
       "</table>\n",
       "</div>"
      ],
      "text/plain": [
       "    created_utc                                              title  \\\n",
       "0  1.697693e+09   Do the MCU movies still have a continuous story?   \n",
       "1  1.697693e+09  Stumbled across this sealed box while cleaning...   \n",
       "2  1.697692e+09  Here's the first part of the roster for my Ave...   \n",
       "3  1.697691e+09                    Supreme Iron man / art by ktrew   \n",
       "4  1.697688e+09                          Why tf is he alive still?   \n",
       "\n",
       "                                           self_text subreddit  \n",
       "0  I watched all of the movies up to Endgame and ...    Marvel  \n",
       "1                                                       Marvel  \n",
       "2                                                       Marvel  \n",
       "3                                                       Marvel  \n",
       "4  Just saw the marvels trailer pop up on TV. Has...    Marvel  "
      ]
     },
     "execution_count": 9,
     "metadata": {},
     "output_type": "execute_result"
    }
   ],
   "source": [
    "marvel.head()"
   ]
  },
  {
   "cell_type": "code",
   "execution_count": 10,
   "id": "5abe899c-2bd6-41f7-b561-639a727eb80b",
   "metadata": {
    "tags": []
   },
   "outputs": [
    {
     "data": {
      "text/plain": [
       "created_utc    0\n",
       "title          0\n",
       "self_text      0\n",
       "subreddit      0\n",
       "dtype: int64"
      ]
     },
     "execution_count": 10,
     "metadata": {},
     "output_type": "execute_result"
    }
   ],
   "source": [
    "marvel.isna().sum()"
   ]
  },
  {
   "cell_type": "code",
   "execution_count": 11,
   "id": "42091fa6-4b15-49ec-91fd-a4cba90ecb0c",
   "metadata": {
    "tags": []
   },
   "outputs": [
    {
     "data": {
      "text/html": [
       "<div>\n",
       "<style scoped>\n",
       "    .dataframe tbody tr th:only-of-type {\n",
       "        vertical-align: middle;\n",
       "    }\n",
       "\n",
       "    .dataframe tbody tr th {\n",
       "        vertical-align: top;\n",
       "    }\n",
       "\n",
       "    .dataframe thead th {\n",
       "        text-align: right;\n",
       "    }\n",
       "</style>\n",
       "<table border=\"1\" class=\"dataframe\">\n",
       "  <thead>\n",
       "    <tr style=\"text-align: right;\">\n",
       "      <th></th>\n",
       "      <th>created_utc</th>\n",
       "      <th>title</th>\n",
       "      <th>self_text</th>\n",
       "      <th>subreddit</th>\n",
       "    </tr>\n",
       "  </thead>\n",
       "  <tbody>\n",
       "    <tr>\n",
       "      <th>0</th>\n",
       "      <td>1.697693e+09</td>\n",
       "      <td>Early idea for The Flash helmet. Art by Ed Nat...</td>\n",
       "      <td></td>\n",
       "      <td>DC_Cinematic</td>\n",
       "    </tr>\n",
       "    <tr>\n",
       "      <th>1</th>\n",
       "      <td>1.697690e+09</td>\n",
       "      <td>McFarlane Toys DC Multiverse Batman &amp; Robin wa...</td>\n",
       "      <td></td>\n",
       "      <td>DC_Cinematic</td>\n",
       "    </tr>\n",
       "    <tr>\n",
       "      <th>2</th>\n",
       "      <td>1.697684e+09</td>\n",
       "      <td>What style of suit should Corenswet have in Su...</td>\n",
       "      <td></td>\n",
       "      <td>DC_Cinematic</td>\n",
       "    </tr>\n",
       "    <tr>\n",
       "      <th>3</th>\n",
       "      <td>1.697678e+09</td>\n",
       "      <td>After the Crisis scene, and the events of the ...</td>\n",
       "      <td>How do you think a team up would play out, esp...</td>\n",
       "      <td>DC_Cinematic</td>\n",
       "    </tr>\n",
       "    <tr>\n",
       "      <th>4</th>\n",
       "      <td>1.697677e+09</td>\n",
       "      <td>Remember when Batman didn’t kill Two-face? Gra...</td>\n",
       "      <td></td>\n",
       "      <td>DC_Cinematic</td>\n",
       "    </tr>\n",
       "  </tbody>\n",
       "</table>\n",
       "</div>"
      ],
      "text/plain": [
       "    created_utc                                              title  \\\n",
       "0  1.697693e+09  Early idea for The Flash helmet. Art by Ed Nat...   \n",
       "1  1.697690e+09  McFarlane Toys DC Multiverse Batman & Robin wa...   \n",
       "2  1.697684e+09  What style of suit should Corenswet have in Su...   \n",
       "3  1.697678e+09  After the Crisis scene, and the events of the ...   \n",
       "4  1.697677e+09  Remember when Batman didn’t kill Two-face? Gra...   \n",
       "\n",
       "                                           self_text     subreddit  \n",
       "0                                                     DC_Cinematic  \n",
       "1                                                     DC_Cinematic  \n",
       "2                                                     DC_Cinematic  \n",
       "3  How do you think a team up would play out, esp...  DC_Cinematic  \n",
       "4                                                     DC_Cinematic  "
      ]
     },
     "execution_count": 11,
     "metadata": {},
     "output_type": "execute_result"
    }
   ],
   "source": [
    "dc_cinematic.head()"
   ]
  },
  {
   "cell_type": "code",
   "execution_count": 12,
   "id": "8c1cf495-4cb9-4559-a41a-157576ea8873",
   "metadata": {
    "tags": []
   },
   "outputs": [
    {
     "data": {
      "text/plain": [
       "created_utc    0\n",
       "title          0\n",
       "self_text      0\n",
       "subreddit      0\n",
       "dtype: int64"
      ]
     },
     "execution_count": 12,
     "metadata": {},
     "output_type": "execute_result"
    }
   ],
   "source": [
    "dc_cinematic.isna().sum()"
   ]
  },
  {
   "cell_type": "code",
   "execution_count": 13,
   "id": "9fabc3bd-0b89-498c-91e1-59265e98cd16",
   "metadata": {
    "tags": []
   },
   "outputs": [],
   "source": [
    "# make it to CSV\n",
    "marvel = marvel.to_csv('marvel_post.csv',index=False)"
   ]
  },
  {
   "cell_type": "code",
   "execution_count": 14,
   "id": "0a2ed34d-cb39-4c4f-9871-a2d0d7a9feb9",
   "metadata": {
    "tags": []
   },
   "outputs": [],
   "source": [
    "dc_cinematic = dc_cinematic.to_csv('dc_cinematic_post.csv',index=False)"
   ]
  }
 ],
 "metadata": {
  "kernelspec": {
   "display_name": "Python 3 (ipykernel)",
   "language": "python",
   "name": "python3"
  },
  "language_info": {
   "codemirror_mode": {
    "name": "ipython",
    "version": 3
   },
   "file_extension": ".py",
   "mimetype": "text/x-python",
   "name": "python",
   "nbconvert_exporter": "python",
   "pygments_lexer": "ipython3",
   "version": "3.11.4"
  },
  "toc-autonumbering": false
 },
 "nbformat": 4,
 "nbformat_minor": 5
}
