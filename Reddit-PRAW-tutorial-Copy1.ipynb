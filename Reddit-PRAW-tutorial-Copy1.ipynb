{
 "cells": [
  {
   "cell_type": "markdown",
   "id": "bc426077-0da2-49af-8e9f-e7a27ebaadd9",
   "metadata": {},
   "source": [
    "# **1. Install PRAW**"
   ]
  },
  {
   "cell_type": "code",
   "execution_count": 1,
   "id": "6a3e56be-a4bf-43d4-8c57-7f9954b44b46",
   "metadata": {
    "tags": []
   },
   "outputs": [],
   "source": [
    "#!pip install praw\n",
    "import praw\n"
   ]
  },
  {
   "cell_type": "markdown",
   "id": "78ecd0ed-d601-4b45-b545-639d4a1e7b49",
   "metadata": {},
   "source": [
    "# **2. Create a Reddit App**"
   ]
  },
  {
   "cell_type": "markdown",
   "id": "da49f3cc-1cec-4917-90f4-7b639d7a145a",
   "metadata": {},
   "source": [
    "To access the Reddit API, you'll need to create an application on Reddit and obtain your API credentials. Follow these steps:\n",
    "\n",
    "- Go to the Reddit website (https://www.reddit.com/) and log in to your account. Feel free to create a throwaway account for this project!\n",
    "- Navigate to the Reddit Apps page (https://www.reddit.com/prefs/apps).\n",
    "- Click the \"are you a developer? create an app...\" button in the top left.\n",
    "- Provide a name for your app (e.g., \"PRAW\"), select the app type ('script') , and optionally add a description. Use http://localhost:8080 as your redirect URI.\n",
    "- After submitting the form, you will reach a page that looks like the following image. You'll see your application's details, including the client ID and client secret. Keep these credentials handy for the next step.\n"
   ]
  },
  {
   "cell_type": "markdown",
   "id": "b3997780-adc4-4ee2-91e3-6a296587cdf8",
   "metadata": {},
   "source": [
    "![Praw](https://www.honchosearch.com/hubfs/Imported_Blog_Media/Client-ID-Client-Secret.png)"
   ]
  },
  {
   "cell_type": "markdown",
   "id": "2b71b52e-05db-4a47-8c8c-ec8f4fd9c283",
   "metadata": {},
   "source": [
    "# **3. Initialize PRAW**"
   ]
  },
  {
   "cell_type": "code",
   "execution_count": 2,
   "id": "103d7151-cf2e-47cb-82c2-578faa763888",
   "metadata": {
    "tags": []
   },
   "outputs": [],
   "source": [
    "reddit = praw.Reddit(\n",
    "    client_id='jjMYUBu4dyHMdpIYkCrsOQ',\n",
    "    client_secret='Sj3IYg7ZTOaM0XthXLfBIPq6AgfAqw',\n",
    "    user_agent='project_3',\n",
    "    username='suli1524',\n",
    "    password='Suli.1524'\n",
    ")"
   ]
  },
  {
   "cell_type": "markdown",
   "id": "204db51a-ee1d-4180-839b-67bdecea4fe5",
   "metadata": {},
   "source": [
    "Replace 'YOUR_CLIENT_ID', 'YOUR_CLIENT_SECRET', 'YOUR_USER_AGENT', 'YOUR_REDDIT_USERNAME', and 'YOUR_REDDIT_PASSWORD' with your actual Reddit API credentials."
   ]
  },
  {
   "cell_type": "markdown",
   "id": "95b298a6-1aa9-4690-8447-6f717c24e9cc",
   "metadata": {},
   "source": [
    "Your user agent is an identifier used by reddit to identify the source of requests. You can make it whatever you want, but you'll want to choose something descriptive and unique, and it's recommended that your username is included."
   ]
  },
  {
   "cell_type": "markdown",
   "id": "d9006de6-d5ce-4537-a9c7-ca5bdd4ee630",
   "metadata": {},
   "source": [
    "**I have removed my own credentials from this workbook. We can show you how to hide your credentials before submitting the project! The following code will need your own credentials in order to successfully work.**"
   ]
  },
  {
   "cell_type": "markdown",
   "id": "072ea3ea-ab20-4fe5-8711-dbe220400fa3",
   "metadata": {},
   "source": [
    "# 4. Take a look at the documentation [here](https://praw.readthedocs.io/)!"
   ]
  },
  {
   "cell_type": "code",
   "execution_count": 3,
   "id": "17aa261b-f63a-4437-ac41-242982cb546c",
   "metadata": {
    "tags": []
   },
   "outputs": [],
   "source": [
    "# Below is JUST an example of how you can use PRAW\n",
    "\n",
    "# Choose your subreddit\n",
    "subreddit = reddit.subreddit('marvel')\n",
    "\n",
    "# Adjust the limit as needed -- Note that this will grab the 25 most recent posts\n",
    "posts = subreddit.new(limit=1000)"
   ]
  },
  {
   "cell_type": "code",
   "execution_count": 4,
   "id": "ac502106-0439-458b-9216-f041f9d71869",
   "metadata": {
    "tags": []
   },
   "outputs": [],
   "source": [
    " #Below is JUST an example of how you can use PRAW\n",
    "\n",
    "# Choose your subreddit\n",
    "subreddit_1 = reddit.subreddit('DC_Cinematic')\n",
    "\n",
    "# Adjust the limit as needed -- Note that this will grab the 25 most recent posts\n",
    "posts_1 = subreddit_1.new(limit=1000)"
   ]
  },
  {
   "cell_type": "markdown",
   "id": "ad8eb1f6-449f-4bc9-9d56-1fe03739ff50",
   "metadata": {},
   "source": [
    "## NOTE\n",
    "- Reddit API Limitations: The Reddit API imposes limitations on the number of posts you can retrieve in a single request. The maximum number of posts per request is typically 100. Therefore, if you set the limit parameter to a value greater than 100, PRAW will make multiple requests behind the scenes to fetch the desired number of posts.\n",
    "- Rate Limiting: The Reddit API also enforces rate limits to prevent abuse and ensure fair usage. The specific rate limits can vary depending on factors such as your Reddit account's age and karma. As a standard user, you're typically allowed to make 60 requests per minute. If you exceed the rate limit, you may receive an error response until the rate limit resets.\n",
    "- TIP: You can use the created_utc attribute of a post to keep track of the timestamp and ensure non-overlapping pulls. The created_utc attribute represents the post's creation time in UTC."
   ]
  },
  {
   "cell_type": "code",
   "execution_count": 5,
   "id": "a1b221e2-244d-42dc-9c89-1d04134fc7d2",
   "metadata": {
    "tags": []
   },
   "outputs": [
    {
     "data": {
      "text/html": [
       "<div>\n",
       "<style scoped>\n",
       "    .dataframe tbody tr th:only-of-type {\n",
       "        vertical-align: middle;\n",
       "    }\n",
       "\n",
       "    .dataframe tbody tr th {\n",
       "        vertical-align: top;\n",
       "    }\n",
       "\n",
       "    .dataframe thead th {\n",
       "        text-align: right;\n",
       "    }\n",
       "</style>\n",
       "<table border=\"1\" class=\"dataframe\">\n",
       "  <thead>\n",
       "    <tr style=\"text-align: right;\">\n",
       "      <th></th>\n",
       "      <th>created_utc</th>\n",
       "      <th>title</th>\n",
       "      <th>self_text</th>\n",
       "      <th>subreddit</th>\n",
       "    </tr>\n",
       "  </thead>\n",
       "  <tbody>\n",
       "    <tr>\n",
       "      <th>0</th>\n",
       "      <td>1.697500e+09</td>\n",
       "      <td>Ultimate Invasion suffered by having Bryan Hitch</td>\n",
       "      <td>I'd like to share my thoughts on Ultimate Inva...</td>\n",
       "      <td>Marvel</td>\n",
       "    </tr>\n",
       "    <tr>\n",
       "      <th>1</th>\n",
       "      <td>1.697497e+09</td>\n",
       "      <td>[Fan Art] Silver Surfer sketch</td>\n",
       "      <td></td>\n",
       "      <td>Marvel</td>\n",
       "    </tr>\n",
       "    <tr>\n",
       "      <th>2</th>\n",
       "      <td>1.697495e+09</td>\n",
       "      <td>Finally watched Doctor Strange in the Multiver...</td>\n",
       "      <td>I had fairly modest expectations because it se...</td>\n",
       "      <td>Marvel</td>\n",
       "    </tr>\n",
       "    <tr>\n",
       "      <th>3</th>\n",
       "      <td>1.697495e+09</td>\n",
       "      <td>Hickman Fantastic Four after Secret Wars</td>\n",
       "      <td>Hi folks, \\n\\nI've read whole Hickman run on A...</td>\n",
       "      <td>Marvel</td>\n",
       "    </tr>\n",
       "    <tr>\n",
       "      <th>4</th>\n",
       "      <td>1.697493e+09</td>\n",
       "      <td>If they reboot Blade</td>\n",
       "      <td>Michael Jai White as Blade?\\n\\nEdit:\\n\\nOr oth...</td>\n",
       "      <td>Marvel</td>\n",
       "    </tr>\n",
       "    <tr>\n",
       "      <th>...</th>\n",
       "      <td>...</td>\n",
       "      <td>...</td>\n",
       "      <td>...</td>\n",
       "      <td>...</td>\n",
       "    </tr>\n",
       "    <tr>\n",
       "      <th>983</th>\n",
       "      <td>1.695701e+09</td>\n",
       "      <td>I don't know about you guys, but for some reas...</td>\n",
       "      <td></td>\n",
       "      <td>Marvel</td>\n",
       "    </tr>\n",
       "    <tr>\n",
       "      <th>984</th>\n",
       "      <td>1.695700e+09</td>\n",
       "      <td>Marvel vs. Capcom Origins turns 11 years old t...</td>\n",
       "      <td></td>\n",
       "      <td>Marvel</td>\n",
       "    </tr>\n",
       "    <tr>\n",
       "      <th>985</th>\n",
       "      <td>1.695700e+09</td>\n",
       "      <td>Here's a selfie from our fellow Marvel edgy bo...</td>\n",
       "      <td>Omg he just like me fr</td>\n",
       "      <td>Marvel</td>\n",
       "    </tr>\n",
       "    <tr>\n",
       "      <th>986</th>\n",
       "      <td>1.695697e+09</td>\n",
       "      <td>What are you top 10 Marvel video games</td>\n",
       "      <td>Mines:\\n10) Ghost Rider (2007)\\n9) The Punishe...</td>\n",
       "      <td>Marvel</td>\n",
       "    </tr>\n",
       "    <tr>\n",
       "      <th>987</th>\n",
       "      <td>1.695696e+09</td>\n",
       "      <td>[Artwork] Dr. Fate and Moon Knight crossover b...</td>\n",
       "      <td></td>\n",
       "      <td>Marvel</td>\n",
       "    </tr>\n",
       "  </tbody>\n",
       "</table>\n",
       "<p>988 rows × 4 columns</p>\n",
       "</div>"
      ],
      "text/plain": [
       "      created_utc                                              title  \\\n",
       "0    1.697500e+09   Ultimate Invasion suffered by having Bryan Hitch   \n",
       "1    1.697497e+09                     [Fan Art] Silver Surfer sketch   \n",
       "2    1.697495e+09  Finally watched Doctor Strange in the Multiver...   \n",
       "3    1.697495e+09           Hickman Fantastic Four after Secret Wars   \n",
       "4    1.697493e+09                               If they reboot Blade   \n",
       "..            ...                                                ...   \n",
       "983  1.695701e+09  I don't know about you guys, but for some reas...   \n",
       "984  1.695700e+09  Marvel vs. Capcom Origins turns 11 years old t...   \n",
       "985  1.695700e+09  Here's a selfie from our fellow Marvel edgy bo...   \n",
       "986  1.695697e+09             What are you top 10 Marvel video games   \n",
       "987  1.695696e+09  [Artwork] Dr. Fate and Moon Knight crossover b...   \n",
       "\n",
       "                                             self_text subreddit  \n",
       "0    I'd like to share my thoughts on Ultimate Inva...    Marvel  \n",
       "1                                                         Marvel  \n",
       "2    I had fairly modest expectations because it se...    Marvel  \n",
       "3    Hi folks, \\n\\nI've read whole Hickman run on A...    Marvel  \n",
       "4    Michael Jai White as Blade?\\n\\nEdit:\\n\\nOr oth...    Marvel  \n",
       "..                                                 ...       ...  \n",
       "983                                                       Marvel  \n",
       "984                                                       Marvel  \n",
       "985                             Omg he just like me fr    Marvel  \n",
       "986  Mines:\\n10) Ghost Rider (2007)\\n9) The Punishe...    Marvel  \n",
       "987                                                       Marvel  \n",
       "\n",
       "[988 rows x 4 columns]"
      ]
     },
     "execution_count": 5,
     "metadata": {},
     "output_type": "execute_result"
    }
   ],
   "source": [
    "import pandas as pd\n",
    "\n",
    "data = []\n",
    "for post in posts:\n",
    "    data.append([post.created_utc, post.title, post.selftext, post.subreddit])\n",
    "\n",
    "# Turn into a dataframe\n",
    "marvel = pd.DataFrame(data, columns = ['created_utc', 'title', 'self_text', 'subreddit'])\n",
    "marvel"
   ]
  },
  {
   "cell_type": "code",
   "execution_count": 6,
   "id": "eb1100ac-4c73-4359-becc-52f33a71c59e",
   "metadata": {
    "tags": []
   },
   "outputs": [
    {
     "data": {
      "text/html": [
       "<div>\n",
       "<style scoped>\n",
       "    .dataframe tbody tr th:only-of-type {\n",
       "        vertical-align: middle;\n",
       "    }\n",
       "\n",
       "    .dataframe tbody tr th {\n",
       "        vertical-align: top;\n",
       "    }\n",
       "\n",
       "    .dataframe thead th {\n",
       "        text-align: right;\n",
       "    }\n",
       "</style>\n",
       "<table border=\"1\" class=\"dataframe\">\n",
       "  <thead>\n",
       "    <tr style=\"text-align: right;\">\n",
       "      <th></th>\n",
       "      <th>created_utc</th>\n",
       "      <th>title</th>\n",
       "      <th>self_text</th>\n",
       "      <th>subreddit</th>\n",
       "    </tr>\n",
       "  </thead>\n",
       "  <tbody>\n",
       "    <tr>\n",
       "      <th>0</th>\n",
       "      <td>1.697491e+09</td>\n",
       "      <td>Who should be the main Flash of the DCU?</td>\n",
       "      <td>The new DCU will most likely have the Flash in...</td>\n",
       "      <td>DC_Cinematic</td>\n",
       "    </tr>\n",
       "    <tr>\n",
       "      <th>1</th>\n",
       "      <td>1.697477e+09</td>\n",
       "      <td>My cosplay Catwoman from Batman Returns</td>\n",
       "      <td></td>\n",
       "      <td>DC_Cinematic</td>\n",
       "    </tr>\n",
       "    <tr>\n",
       "      <th>2</th>\n",
       "      <td>1.697464e+09</td>\n",
       "      <td>Which DC movie will cross 400 million first?</td>\n",
       "      <td>Which movie in the DCU coming up will be the f...</td>\n",
       "      <td>DC_Cinematic</td>\n",
       "    </tr>\n",
       "    <tr>\n",
       "      <th>3</th>\n",
       "      <td>1.697462e+09</td>\n",
       "      <td>Where would you prefer the DCU to establish as...</td>\n",
       "      <td>I personally prefer some type of off planet ba...</td>\n",
       "      <td>DC_Cinematic</td>\n",
       "    </tr>\n",
       "    <tr>\n",
       "      <th>4</th>\n",
       "      <td>1.697437e+09</td>\n",
       "      <td>\"Batman has comic fans uneasy\" - an 80s newspa...</td>\n",
       "      <td></td>\n",
       "      <td>DC_Cinematic</td>\n",
       "    </tr>\n",
       "    <tr>\n",
       "      <th>...</th>\n",
       "      <td>...</td>\n",
       "      <td>...</td>\n",
       "      <td>...</td>\n",
       "      <td>...</td>\n",
       "    </tr>\n",
       "    <tr>\n",
       "      <th>970</th>\n",
       "      <td>1.691987e+09</td>\n",
       "      <td>Seeing Blue Beetle?</td>\n",
       "      <td></td>\n",
       "      <td>DC_Cinematic</td>\n",
       "    </tr>\n",
       "    <tr>\n",
       "      <th>971</th>\n",
       "      <td>1.691988e+09</td>\n",
       "      <td>Scarab protecting Jaime. Blue Beetle Movie clip</td>\n",
       "      <td></td>\n",
       "      <td>DC_Cinematic</td>\n",
       "    </tr>\n",
       "    <tr>\n",
       "      <th>972</th>\n",
       "      <td>1.691980e+09</td>\n",
       "      <td>I could make an excellent TV series about Mart...</td>\n",
       "      <td>The show would be called Manhunter (Real origi...</td>\n",
       "      <td>DC_Cinematic</td>\n",
       "    </tr>\n",
       "    <tr>\n",
       "      <th>973</th>\n",
       "      <td>1.691975e+09</td>\n",
       "      <td>Blue Beetle 3D Model Fan Art</td>\n",
       "      <td>Hello everyone, hope you all like this model. ...</td>\n",
       "      <td>DC_Cinematic</td>\n",
       "    </tr>\n",
       "    <tr>\n",
       "      <th>974</th>\n",
       "      <td>1.691902e+09</td>\n",
       "      <td>What villains do you believe are long overdue ...</td>\n",
       "      <td></td>\n",
       "      <td>DC_Cinematic</td>\n",
       "    </tr>\n",
       "  </tbody>\n",
       "</table>\n",
       "<p>975 rows × 4 columns</p>\n",
       "</div>"
      ],
      "text/plain": [
       "      created_utc                                              title  \\\n",
       "0    1.697491e+09           Who should be the main Flash of the DCU?   \n",
       "1    1.697477e+09            My cosplay Catwoman from Batman Returns   \n",
       "2    1.697464e+09       Which DC movie will cross 400 million first?   \n",
       "3    1.697462e+09  Where would you prefer the DCU to establish as...   \n",
       "4    1.697437e+09  \"Batman has comic fans uneasy\" - an 80s newspa...   \n",
       "..            ...                                                ...   \n",
       "970  1.691987e+09                                Seeing Blue Beetle?   \n",
       "971  1.691988e+09    Scarab protecting Jaime. Blue Beetle Movie clip   \n",
       "972  1.691980e+09  I could make an excellent TV series about Mart...   \n",
       "973  1.691975e+09                       Blue Beetle 3D Model Fan Art   \n",
       "974  1.691902e+09  What villains do you believe are long overdue ...   \n",
       "\n",
       "                                             self_text     subreddit  \n",
       "0    The new DCU will most likely have the Flash in...  DC_Cinematic  \n",
       "1                                                       DC_Cinematic  \n",
       "2    Which movie in the DCU coming up will be the f...  DC_Cinematic  \n",
       "3    I personally prefer some type of off planet ba...  DC_Cinematic  \n",
       "4                                                       DC_Cinematic  \n",
       "..                                                 ...           ...  \n",
       "970                                                     DC_Cinematic  \n",
       "971                                                     DC_Cinematic  \n",
       "972  The show would be called Manhunter (Real origi...  DC_Cinematic  \n",
       "973  Hello everyone, hope you all like this model. ...  DC_Cinematic  \n",
       "974                                                     DC_Cinematic  \n",
       "\n",
       "[975 rows x 4 columns]"
      ]
     },
     "execution_count": 6,
     "metadata": {},
     "output_type": "execute_result"
    }
   ],
   "source": [
    "\n",
    "data = []\n",
    "for post in posts_1:\n",
    "    data.append([post.created_utc, post.title, post.selftext, post.subreddit])\n",
    "\n",
    "# Turn into a dataframe\n",
    "dc_cinematic = pd.DataFrame(data, columns = ['created_utc', 'title', 'self_text', 'subreddit'])\n",
    "dc_cinematic"
   ]
  },
  {
   "cell_type": "code",
   "execution_count": 7,
   "id": "36c5c1a9-de1d-48a6-9dc8-f21c2c15eeaf",
   "metadata": {
    "tags": []
   },
   "outputs": [
    {
     "name": "stdout",
     "output_type": "stream",
     "text": [
      "<class 'pandas.core.frame.DataFrame'>\n",
      "RangeIndex: 988 entries, 0 to 987\n",
      "Data columns (total 4 columns):\n",
      " #   Column       Non-Null Count  Dtype  \n",
      "---  ------       --------------  -----  \n",
      " 0   created_utc  988 non-null    float64\n",
      " 1   title        988 non-null    object \n",
      " 2   self_text    988 non-null    object \n",
      " 3   subreddit    988 non-null    object \n",
      "dtypes: float64(1), object(3)\n",
      "memory usage: 31.0+ KB\n"
     ]
    }
   ],
   "source": [
    "marvel.info()"
   ]
  },
  {
   "cell_type": "code",
   "execution_count": 8,
   "id": "375b445d-ed84-48c5-a302-98ce450f7b85",
   "metadata": {
    "tags": []
   },
   "outputs": [
    {
     "name": "stdout",
     "output_type": "stream",
     "text": [
      "<class 'pandas.core.frame.DataFrame'>\n",
      "RangeIndex: 975 entries, 0 to 974\n",
      "Data columns (total 4 columns):\n",
      " #   Column       Non-Null Count  Dtype  \n",
      "---  ------       --------------  -----  \n",
      " 0   created_utc  975 non-null    float64\n",
      " 1   title        975 non-null    object \n",
      " 2   self_text    975 non-null    object \n",
      " 3   subreddit    975 non-null    object \n",
      "dtypes: float64(1), object(3)\n",
      "memory usage: 30.6+ KB\n"
     ]
    }
   ],
   "source": [
    "dc_cinematic.info()"
   ]
  },
  {
   "cell_type": "code",
   "execution_count": 9,
   "id": "d28f5587-4c49-4156-a785-bea0698756a5",
   "metadata": {
    "tags": []
   },
   "outputs": [
    {
     "data": {
      "text/html": [
       "<div>\n",
       "<style scoped>\n",
       "    .dataframe tbody tr th:only-of-type {\n",
       "        vertical-align: middle;\n",
       "    }\n",
       "\n",
       "    .dataframe tbody tr th {\n",
       "        vertical-align: top;\n",
       "    }\n",
       "\n",
       "    .dataframe thead th {\n",
       "        text-align: right;\n",
       "    }\n",
       "</style>\n",
       "<table border=\"1\" class=\"dataframe\">\n",
       "  <thead>\n",
       "    <tr style=\"text-align: right;\">\n",
       "      <th></th>\n",
       "      <th>created_utc</th>\n",
       "      <th>title</th>\n",
       "      <th>self_text</th>\n",
       "      <th>subreddit</th>\n",
       "    </tr>\n",
       "  </thead>\n",
       "  <tbody>\n",
       "    <tr>\n",
       "      <th>0</th>\n",
       "      <td>1.697500e+09</td>\n",
       "      <td>Ultimate Invasion suffered by having Bryan Hitch</td>\n",
       "      <td>I'd like to share my thoughts on Ultimate Inva...</td>\n",
       "      <td>Marvel</td>\n",
       "    </tr>\n",
       "    <tr>\n",
       "      <th>1</th>\n",
       "      <td>1.697497e+09</td>\n",
       "      <td>[Fan Art] Silver Surfer sketch</td>\n",
       "      <td></td>\n",
       "      <td>Marvel</td>\n",
       "    </tr>\n",
       "    <tr>\n",
       "      <th>2</th>\n",
       "      <td>1.697495e+09</td>\n",
       "      <td>Finally watched Doctor Strange in the Multiver...</td>\n",
       "      <td>I had fairly modest expectations because it se...</td>\n",
       "      <td>Marvel</td>\n",
       "    </tr>\n",
       "    <tr>\n",
       "      <th>3</th>\n",
       "      <td>1.697495e+09</td>\n",
       "      <td>Hickman Fantastic Four after Secret Wars</td>\n",
       "      <td>Hi folks, \\n\\nI've read whole Hickman run on A...</td>\n",
       "      <td>Marvel</td>\n",
       "    </tr>\n",
       "    <tr>\n",
       "      <th>4</th>\n",
       "      <td>1.697493e+09</td>\n",
       "      <td>If they reboot Blade</td>\n",
       "      <td>Michael Jai White as Blade?\\n\\nEdit:\\n\\nOr oth...</td>\n",
       "      <td>Marvel</td>\n",
       "    </tr>\n",
       "  </tbody>\n",
       "</table>\n",
       "</div>"
      ],
      "text/plain": [
       "    created_utc                                              title  \\\n",
       "0  1.697500e+09   Ultimate Invasion suffered by having Bryan Hitch   \n",
       "1  1.697497e+09                     [Fan Art] Silver Surfer sketch   \n",
       "2  1.697495e+09  Finally watched Doctor Strange in the Multiver...   \n",
       "3  1.697495e+09           Hickman Fantastic Four after Secret Wars   \n",
       "4  1.697493e+09                               If they reboot Blade   \n",
       "\n",
       "                                           self_text subreddit  \n",
       "0  I'd like to share my thoughts on Ultimate Inva...    Marvel  \n",
       "1                                                       Marvel  \n",
       "2  I had fairly modest expectations because it se...    Marvel  \n",
       "3  Hi folks, \\n\\nI've read whole Hickman run on A...    Marvel  \n",
       "4  Michael Jai White as Blade?\\n\\nEdit:\\n\\nOr oth...    Marvel  "
      ]
     },
     "execution_count": 9,
     "metadata": {},
     "output_type": "execute_result"
    }
   ],
   "source": [
    "marvel.head()"
   ]
  },
  {
   "cell_type": "code",
   "execution_count": 10,
   "id": "5abe899c-2bd6-41f7-b561-639a727eb80b",
   "metadata": {
    "tags": []
   },
   "outputs": [
    {
     "data": {
      "text/plain": [
       "created_utc    0\n",
       "title          0\n",
       "self_text      0\n",
       "subreddit      0\n",
       "dtype: int64"
      ]
     },
     "execution_count": 10,
     "metadata": {},
     "output_type": "execute_result"
    }
   ],
   "source": [
    "marvel.isna().sum()"
   ]
  },
  {
   "cell_type": "code",
   "execution_count": 11,
   "id": "42091fa6-4b15-49ec-91fd-a4cba90ecb0c",
   "metadata": {
    "tags": []
   },
   "outputs": [
    {
     "data": {
      "text/html": [
       "<div>\n",
       "<style scoped>\n",
       "    .dataframe tbody tr th:only-of-type {\n",
       "        vertical-align: middle;\n",
       "    }\n",
       "\n",
       "    .dataframe tbody tr th {\n",
       "        vertical-align: top;\n",
       "    }\n",
       "\n",
       "    .dataframe thead th {\n",
       "        text-align: right;\n",
       "    }\n",
       "</style>\n",
       "<table border=\"1\" class=\"dataframe\">\n",
       "  <thead>\n",
       "    <tr style=\"text-align: right;\">\n",
       "      <th></th>\n",
       "      <th>created_utc</th>\n",
       "      <th>title</th>\n",
       "      <th>self_text</th>\n",
       "      <th>subreddit</th>\n",
       "    </tr>\n",
       "  </thead>\n",
       "  <tbody>\n",
       "    <tr>\n",
       "      <th>0</th>\n",
       "      <td>1.697491e+09</td>\n",
       "      <td>Who should be the main Flash of the DCU?</td>\n",
       "      <td>The new DCU will most likely have the Flash in...</td>\n",
       "      <td>DC_Cinematic</td>\n",
       "    </tr>\n",
       "    <tr>\n",
       "      <th>1</th>\n",
       "      <td>1.697477e+09</td>\n",
       "      <td>My cosplay Catwoman from Batman Returns</td>\n",
       "      <td></td>\n",
       "      <td>DC_Cinematic</td>\n",
       "    </tr>\n",
       "    <tr>\n",
       "      <th>2</th>\n",
       "      <td>1.697464e+09</td>\n",
       "      <td>Which DC movie will cross 400 million first?</td>\n",
       "      <td>Which movie in the DCU coming up will be the f...</td>\n",
       "      <td>DC_Cinematic</td>\n",
       "    </tr>\n",
       "    <tr>\n",
       "      <th>3</th>\n",
       "      <td>1.697462e+09</td>\n",
       "      <td>Where would you prefer the DCU to establish as...</td>\n",
       "      <td>I personally prefer some type of off planet ba...</td>\n",
       "      <td>DC_Cinematic</td>\n",
       "    </tr>\n",
       "    <tr>\n",
       "      <th>4</th>\n",
       "      <td>1.697437e+09</td>\n",
       "      <td>\"Batman has comic fans uneasy\" - an 80s newspa...</td>\n",
       "      <td></td>\n",
       "      <td>DC_Cinematic</td>\n",
       "    </tr>\n",
       "  </tbody>\n",
       "</table>\n",
       "</div>"
      ],
      "text/plain": [
       "    created_utc                                              title  \\\n",
       "0  1.697491e+09           Who should be the main Flash of the DCU?   \n",
       "1  1.697477e+09            My cosplay Catwoman from Batman Returns   \n",
       "2  1.697464e+09       Which DC movie will cross 400 million first?   \n",
       "3  1.697462e+09  Where would you prefer the DCU to establish as...   \n",
       "4  1.697437e+09  \"Batman has comic fans uneasy\" - an 80s newspa...   \n",
       "\n",
       "                                           self_text     subreddit  \n",
       "0  The new DCU will most likely have the Flash in...  DC_Cinematic  \n",
       "1                                                     DC_Cinematic  \n",
       "2  Which movie in the DCU coming up will be the f...  DC_Cinematic  \n",
       "3  I personally prefer some type of off planet ba...  DC_Cinematic  \n",
       "4                                                     DC_Cinematic  "
      ]
     },
     "execution_count": 11,
     "metadata": {},
     "output_type": "execute_result"
    }
   ],
   "source": [
    "dc_cinematic.head()"
   ]
  },
  {
   "cell_type": "code",
   "execution_count": 12,
   "id": "8c1cf495-4cb9-4559-a41a-157576ea8873",
   "metadata": {
    "tags": []
   },
   "outputs": [
    {
     "data": {
      "text/plain": [
       "created_utc    0\n",
       "title          0\n",
       "self_text      0\n",
       "subreddit      0\n",
       "dtype: int64"
      ]
     },
     "execution_count": 12,
     "metadata": {},
     "output_type": "execute_result"
    }
   ],
   "source": [
    "dc_cinematic.isna().sum()"
   ]
  },
  {
   "cell_type": "code",
   "execution_count": 13,
   "id": "9fabc3bd-0b89-498c-91e1-59265e98cd16",
   "metadata": {
    "tags": []
   },
   "outputs": [],
   "source": [
    "# make it to CSV\n",
    "marvel = marvel.to_csv('marvel_post.csv',index=False)"
   ]
  },
  {
   "cell_type": "code",
   "execution_count": 14,
   "id": "0a2ed34d-cb39-4c4f-9871-a2d0d7a9feb9",
   "metadata": {
    "tags": []
   },
   "outputs": [],
   "source": [
    "dc_cinematic = dc_cinematic.to_csv('dc_cinematic_post.csv',index=False)"
   ]
  },
  {
   "cell_type": "code",
   "execution_count": 15,
   "id": "205fbeae-6c8e-48c7-9ad7-f2e704d5f1e8",
   "metadata": {
    "tags": []
   },
   "outputs": [],
   "source": [
    "#get df for both subreddits\n",
    "#concat both df\n",
    "#EDA -lem,countvectori\n",
    " "
   ]
  },
  {
   "cell_type": "markdown",
   "id": "2eb4c19d-f9d9-4be8-9ca5-5ecbbde48970",
   "metadata": {},
   "source": [
    "Remember, you will need to pull *at least* 1000 posts from each subreddit, not just 25. Like I mentioned above, you can use the created_utc attribute of a post to keep track of the timestamp and ensure non-overlapping pulls. We will leave this work for you all to complete.\n",
    "\n",
    "Once you have at least 1000 posts from each subreddit, you can do some EDA (perhaps maybe the most common words in each subreddit..?) Eventually, you will want to combine your two dataframes together to do modeling."
   ]
  },
  {
   "cell_type": "markdown",
   "id": "d0785dc1-075d-4bd4-8c34-4dd2978d7dfb",
   "metadata": {},
   "source": [
    "### Hopefully this is enough of a tutorial to help get you started! If you have any questions, let us know!"
   ]
  },
  {
   "cell_type": "markdown",
   "id": "8f942833-8fdb-46d1-9182-b672e49434a5",
   "metadata": {},
   "source": [
    "### Note: Rather than working in this template notebook, make a brand new \"scraping\" notebook (or script), with your own comments, so you can use this project in a portfolio!"
   ]
  }
 ],
 "metadata": {
  "kernelspec": {
   "display_name": "Python 3 (ipykernel)",
   "language": "python",
   "name": "python3"
  },
  "language_info": {
   "codemirror_mode": {
    "name": "ipython",
    "version": 3
   },
   "file_extension": ".py",
   "mimetype": "text/x-python",
   "name": "python",
   "nbconvert_exporter": "python",
   "pygments_lexer": "ipython3",
   "version": "3.11.4"
  }
 },
 "nbformat": 4,
 "nbformat_minor": 5
}
